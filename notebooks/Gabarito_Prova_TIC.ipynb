{
  "cells": [
    {
      "cell_type": "code",
      "execution_count": 1,
      "metadata": {
        "id": "F3Kccq712xym"
      },
      "outputs": [],
      "source": [
        "  # Importar bibliotecas\n",
        "\n",
        "import pandas as pd\n",
        "import seaborn as sns\n",
        "import matplotlib.pyplot as plt\n",
        "import statsmodels.formula.api as sm\n",
        "\n",
        "from sklearn.model_selection import train_test_split\n",
        "from sklearn import neighbors\n",
        "from sklearn import metrics\n",
        "\n",
        "from sklearn.metrics import confusion_matrix, accuracy_score, classification_report #esta linha é particularmente importante neste notebook!!!\n",
        "\n",
        "import warnings\n",
        "warnings.filterwarnings(\"ignore\")"
      ]
    },
    {
      "cell_type": "markdown",
      "metadata": {
        "id": "Eac4sX6w1aFA"
      },
      "source": [
        "## Exercício 1. Case: Cantões suíços\n",
        "Aqui, a ideia é fazer um modelo de regressão linear para analisar a relação entre a Taxa de natalidade e variáveis socioeconômicas sobre os cantões suíços no século 19.\n",
        "\n",
        "- Natalidade: Taxa de natalidade por 1.000 habitantes.\n",
        "\n",
        "- Agricultura: Porcentagem da população envolvida na agricultura.\n",
        "\n",
        "- Examination (Exame): Porcentagem da população no serviço militar.\n",
        "\n",
        "- Educação: Porcentagem da população com educação além do nível primário.\n",
        "\n",
        "- Religião: Alta/baixa, em relação à porcentagem de habitantes católicos.\n",
        "\n",
        "- Mortalidade Infantil: Taxa de mortalidade infantil (por mil nascidos vivos)."
      ]
    },
    {
      "cell_type": "code",
      "execution_count": 2,
      "metadata": {
        "colab": {
          "base_uri": "https://localhost:8080/",
          "height": 206
        },
        "id": "v-CwMrRPq_Td",
        "outputId": "069a99f9-3f0c-4258-b4c9-1656901c689a"
      },
      "outputs": [
        {
          "data": {
            "text/html": [
              "<div>\n",
              "<style scoped>\n",
              "    .dataframe tbody tr th:only-of-type {\n",
              "        vertical-align: middle;\n",
              "    }\n",
              "\n",
              "    .dataframe tbody tr th {\n",
              "        vertical-align: top;\n",
              "    }\n",
              "\n",
              "    .dataframe thead th {\n",
              "        text-align: right;\n",
              "    }\n",
              "</style>\n",
              "<table border=\"1\" class=\"dataframe\">\n",
              "  <thead>\n",
              "    <tr style=\"text-align: right;\">\n",
              "      <th></th>\n",
              "      <th>id</th>\n",
              "      <th>Distrito</th>\n",
              "      <th>Natalidade</th>\n",
              "      <th>Agricultura</th>\n",
              "      <th>Militar</th>\n",
              "      <th>Educação</th>\n",
              "      <th>Religião</th>\n",
              "      <th>Mortalidade_Infantil</th>\n",
              "    </tr>\n",
              "  </thead>\n",
              "  <tbody>\n",
              "    <tr>\n",
              "      <th>0</th>\n",
              "      <td>1</td>\n",
              "      <td>Courtelary</td>\n",
              "      <td>80.2</td>\n",
              "      <td>17.0</td>\n",
              "      <td>15.0</td>\n",
              "      <td>12</td>\n",
              "      <td>baixa</td>\n",
              "      <td>22.2</td>\n",
              "    </tr>\n",
              "    <tr>\n",
              "      <th>1</th>\n",
              "      <td>2</td>\n",
              "      <td>Delemont</td>\n",
              "      <td>83.1</td>\n",
              "      <td>45.1</td>\n",
              "      <td>6.0</td>\n",
              "      <td>9</td>\n",
              "      <td>alta</td>\n",
              "      <td>22.2</td>\n",
              "    </tr>\n",
              "    <tr>\n",
              "      <th>2</th>\n",
              "      <td>3</td>\n",
              "      <td>Franches-Mnt</td>\n",
              "      <td>92.5</td>\n",
              "      <td>39.7</td>\n",
              "      <td>5.0</td>\n",
              "      <td>5</td>\n",
              "      <td>alta</td>\n",
              "      <td>20.2</td>\n",
              "    </tr>\n",
              "    <tr>\n",
              "      <th>3</th>\n",
              "      <td>4</td>\n",
              "      <td>Moutier</td>\n",
              "      <td>85.8</td>\n",
              "      <td>36.5</td>\n",
              "      <td>12.0</td>\n",
              "      <td>7</td>\n",
              "      <td>baixa</td>\n",
              "      <td>20.3</td>\n",
              "    </tr>\n",
              "    <tr>\n",
              "      <th>4</th>\n",
              "      <td>5</td>\n",
              "      <td>Neuveville</td>\n",
              "      <td>76.9</td>\n",
              "      <td>43.5</td>\n",
              "      <td>17.0</td>\n",
              "      <td>15</td>\n",
              "      <td>baixa</td>\n",
              "      <td>20.6</td>\n",
              "    </tr>\n",
              "  </tbody>\n",
              "</table>\n",
              "</div>"
            ],
            "text/plain": [
              "   id      Distrito  Natalidade  Agricultura  Militar  Educação Religião  \\\n",
              "0   1    Courtelary        80.2         17.0     15.0        12    baixa   \n",
              "1   2      Delemont        83.1         45.1      6.0         9     alta   \n",
              "2   3  Franches-Mnt        92.5         39.7      5.0         5     alta   \n",
              "3   4       Moutier        85.8         36.5     12.0         7    baixa   \n",
              "4   5    Neuveville        76.9         43.5     17.0        15    baixa   \n",
              "\n",
              "   Mortalidade_Infantil  \n",
              "0                  22.2  \n",
              "1                  22.2  \n",
              "2                  20.2  \n",
              "3                  20.3  \n",
              "4                  20.6  "
            ]
          },
          "execution_count": 2,
          "metadata": {},
          "output_type": "execute_result"
        }
      ],
      "source": [
        "# Seu código\n",
        "df=pd.read_excel(\"http://www.orlandoalbarracin.com.br/phyton/Data_Swit.xlsx\")\n",
        "df.head()"
      ]
    },
    {
      "cell_type": "markdown",
      "metadata": {
        "id": "-csgDmWX3BlO"
      },
      "source": [
        "### Questão 1. Explorar os dados, verificar se há valores nulos."
      ]
    },
    {
      "cell_type": "code",
      "execution_count": 3,
      "metadata": {
        "colab": {
          "base_uri": "https://localhost:8080/"
        },
        "id": "uWATCjKnr5p2",
        "outputId": "302fd393-0396-4d69-ee58-07fc72e172b7"
      },
      "outputs": [
        {
          "data": {
            "text/plain": [
              "id                      0\n",
              "Distrito                0\n",
              "Natalidade              0\n",
              "Agricultura             1\n",
              "Militar                 1\n",
              "Educação                0\n",
              "Religião                1\n",
              "Mortalidade_Infantil    1\n",
              "dtype: int64"
            ]
          },
          "execution_count": 3,
          "metadata": {},
          "output_type": "execute_result"
        }
      ],
      "source": [
        "# Seu código\n",
        "df.isnull().sum()"
      ]
    },
    {
      "cell_type": "code",
      "execution_count": 4,
      "metadata": {
        "colab": {
          "base_uri": "https://localhost:8080/"
        },
        "id": "eAMVIEKt3pXx",
        "outputId": "b841622f-f772-43a0-91c4-186b8039f855"
      },
      "outputs": [
        {
          "data": {
            "text/plain": [
              "id                      0\n",
              "Distrito                0\n",
              "Natalidade              0\n",
              "Agricultura             0\n",
              "Militar                 0\n",
              "Educação                0\n",
              "Religião                0\n",
              "Mortalidade_Infantil    0\n",
              "dtype: int64"
            ]
          },
          "execution_count": 4,
          "metadata": {},
          "output_type": "execute_result"
        }
      ],
      "source": [
        "df=df.dropna()\n",
        "df.isnull().sum()"
      ]
    },
    {
      "cell_type": "markdown",
      "metadata": {
        "id": "46zxWYpd19Bx"
      },
      "source": [
        "### Questão 2. Fazer um gráfico de dispersão para visualizar a possível relação linear entre as variáveis: fertilidade e Militar / fertilidade e Agricultura / fertilidade e Educação."
      ]
    },
    {
      "cell_type": "code",
      "execution_count": 5,
      "metadata": {
        "colab": {
          "base_uri": "https://localhost:8080/"
        },
        "id": "o8PoaOHtredx",
        "outputId": "21abf7d3-8022-4626-9980-66b131663aeb"
      },
      "outputs": [
        {
          "data": {
            "image/png": "[encoded data removed]",
            "text/plain": [
              "<Figure size 1250x250 with 5 Axes>"
            ]
          },
          "metadata": {},
          "output_type": "display_data"
        }
      ],
      "source": [
        "# Seu código\n",
        "\n",
        "sns.pairplot(df,\n",
        "             x_vars=['Agricultura', 'Militar', 'Educação','Religião','Mortalidade_Infantil'],\n",
        "             y_vars='Natalidade',\n",
        "             kind='scatter')\n",
        "plt.show()"
      ]
    },
    {
      "cell_type": "markdown",
      "metadata": {
        "id": "HwLYyUPA3EME"
      },
      "source": [
        "### Questão 3. Ajustar um modelo de regressão linear para prever a taxa de natalidade (`Natalidade`) usando como variáveis explicativas: `Agricultura`, `Militar`, `Educação` e `Mortalidade_Infantil`.\n",
        "\n",
        "- Qual é o valor do R ao quadrado?\n",
        "- Qual variável não é significativa ao nível de significância de 0.05."
      ]
    },
    {
      "cell_type": "code",
      "execution_count": 6,
      "metadata": {
        "colab": {
          "base_uri": "https://localhost:8080/"
        },
        "id": "U8AbKMQr3EMF",
        "outputId": "3133698c-0d73-4d37-cd87-cbdcad94cae9"
      },
      "outputs": [
        {
          "name": "stdout",
          "output_type": "stream",
          "text": [
            "                            OLS Regression Results                            \n",
            "==============================================================================\n",
            "Dep. Variable:             Natalidade   R-squared:                       0.644\n",
            "Model:                            OLS   Adj. R-squared:                  0.610\n",
            "Method:                 Least Squares   F-statistic:                     19.02\n",
            "Date:                Sun, 05 Nov 2023   Prob (F-statistic):           5.41e-09\n",
            "Time:                        19:19:03   Log-Likelihood:                -160.57\n",
            "No. Observations:                  47   AIC:                             331.1\n",
            "Df Residuals:                      42   BIC:                             340.4\n",
            "Df Model:                           4                                         \n",
            "Covariance Type:            nonrobust                                         \n",
            "========================================================================================\n",
            "                           coef    std err          t      P>|t|      [0.025      0.975]\n",
            "----------------------------------------------------------------------------------------\n",
            "Intercept               68.7731     11.628      5.914      0.000      45.306      92.240\n",
            "Agricultura             -0.1293      0.075     -1.727      0.091      -0.280       0.022\n",
            "Militar                 -0.6880      0.226     -3.040      0.004      -1.145      -0.231\n",
            "Educação                -0.6196      0.176     -3.515      0.001      -0.975      -0.264\n",
            "Mortalidade_Infantil     1.3071      0.407      3.215      0.003       0.487       2.128\n",
            "==============================================================================\n",
            "Omnibus:                        0.209   Durbin-Watson:                   1.202\n",
            "Prob(Omnibus):                  0.901   Jarque-Bera (JB):                0.394\n",
            "Skew:                           0.109   Prob(JB):                        0.821\n",
            "Kurtosis:                       2.608   Cond. No.                         620.\n",
            "==============================================================================\n",
            "\n",
            "Notes:\n",
            "[1] Standard Errors assume that the covariance matrix of the errors is correctly specified.\n"
          ]
        }
      ],
      "source": [
        "# Seu código\n",
        "\n",
        "model = sm.ols(formula='Natalidade ~Agricultura+ Militar + Educação +Mortalidade_Infantil',\n",
        "               data=df).fit()\n",
        "print(model.summary())"
      ]
    },
    {
      "cell_type": "markdown",
      "metadata": {
        "id": "b9T4CWu-1llP"
      },
      "source": [
        "## Exercício 2 Case: Wine Segmentation"
      ]
    },
    {
      "cell_type": "markdown",
      "metadata": {
        "id": "Kh5Dhgw5_Upr"
      },
      "source": [
        "O objetivo aqui é usar um modelo de **k-vizinhos** próximos para classificar o tipo de vinho `(Type)` considerando como variáveis explicativas **todas** as características químicas apresentadas na base de dados.\n",
        "\n",
        "**Observação:** `Use 70% dos dados` para treinar o modelo. No código `train_test_split`, use `random_state = 1984` e considere `stratify=y`"
      ]
    },
    {
      "cell_type": "markdown",
      "metadata": {
        "id": "bolTGKtW5lGG"
      },
      "source": [
        "Lembre-se de verificar a qualidade dos dados (valores ausentes por exemplo), a necessidade de normalizações e encodes, remoção de atributos etc. justificando, nos casos que julgar necessário, as tranformações que você optar por fazer.\n"
      ]
    },
    {
      "cell_type": "code",
      "execution_count": 7,
      "metadata": {
        "colab": {
          "base_uri": "https://localhost:8080/",
          "height": 206
        },
        "id": "3T3W2T7Oqvtn",
        "outputId": "c12ddaaf-cac6-43ad-d9e9-0d96539ec87f"
      },
      "outputs": [
        {
          "data": {
            "text/html": [
              "<div>\n",
              "<style scoped>\n",
              "    .dataframe tbody tr th:only-of-type {\n",
              "        vertical-align: middle;\n",
              "    }\n",
              "\n",
              "    .dataframe tbody tr th {\n",
              "        vertical-align: top;\n",
              "    }\n",
              "\n",
              "    .dataframe thead th {\n",
              "        text-align: right;\n",
              "    }\n",
              "</style>\n",
              "<table border=\"1\" class=\"dataframe\">\n",
              "  <thead>\n",
              "    <tr style=\"text-align: right;\">\n",
              "      <th></th>\n",
              "      <th>Alcohol</th>\n",
              "      <th>Malic_Acid</th>\n",
              "      <th>Ash</th>\n",
              "      <th>Ash_Alcanity</th>\n",
              "      <th>Magnesium</th>\n",
              "      <th>Total_Phenols</th>\n",
              "      <th>Flavanoids</th>\n",
              "      <th>Nonflavanoid_Phenols</th>\n",
              "      <th>Proanthocyanins</th>\n",
              "      <th>Color_Intensity</th>\n",
              "      <th>Type</th>\n",
              "    </tr>\n",
              "  </thead>\n",
              "  <tbody>\n",
              "    <tr>\n",
              "      <th>0</th>\n",
              "      <td>14.83</td>\n",
              "      <td>1.64</td>\n",
              "      <td>LOW</td>\n",
              "      <td>14.0</td>\n",
              "      <td>97</td>\n",
              "      <td>2.80</td>\n",
              "      <td>2.98</td>\n",
              "      <td>0.29</td>\n",
              "      <td>1.98</td>\n",
              "      <td>5.20</td>\n",
              "      <td>type A</td>\n",
              "    </tr>\n",
              "    <tr>\n",
              "      <th>1</th>\n",
              "      <td>14.75</td>\n",
              "      <td>1.73</td>\n",
              "      <td>HIGH</td>\n",
              "      <td>11.4</td>\n",
              "      <td>91</td>\n",
              "      <td>3.10</td>\n",
              "      <td>3.69</td>\n",
              "      <td>0.43</td>\n",
              "      <td>2.81</td>\n",
              "      <td>5.40</td>\n",
              "      <td>type A</td>\n",
              "    </tr>\n",
              "    <tr>\n",
              "      <th>2</th>\n",
              "      <td>14.39</td>\n",
              "      <td>1.87</td>\n",
              "      <td>HIGH</td>\n",
              "      <td>14.6</td>\n",
              "      <td>96</td>\n",
              "      <td>2.50</td>\n",
              "      <td>2.52</td>\n",
              "      <td>0.30</td>\n",
              "      <td>1.98</td>\n",
              "      <td>5.25</td>\n",
              "      <td>type A</td>\n",
              "    </tr>\n",
              "    <tr>\n",
              "      <th>3</th>\n",
              "      <td>14.38</td>\n",
              "      <td>3.59</td>\n",
              "      <td>LOW</td>\n",
              "      <td>16.0</td>\n",
              "      <td>102</td>\n",
              "      <td>3.25</td>\n",
              "      <td>3.17</td>\n",
              "      <td>0.27</td>\n",
              "      <td>2.19</td>\n",
              "      <td>4.90</td>\n",
              "      <td>type A</td>\n",
              "    </tr>\n",
              "    <tr>\n",
              "      <th>4</th>\n",
              "      <td>14.38</td>\n",
              "      <td>1.87</td>\n",
              "      <td>HIGH</td>\n",
              "      <td>12.0</td>\n",
              "      <td>102</td>\n",
              "      <td>3.30</td>\n",
              "      <td>3.64</td>\n",
              "      <td>0.29</td>\n",
              "      <td>2.96</td>\n",
              "      <td>7.50</td>\n",
              "      <td>type A</td>\n",
              "    </tr>\n",
              "  </tbody>\n",
              "</table>\n",
              "</div>"
            ],
            "text/plain": [
              "   Alcohol  Malic_Acid   Ash  Ash_Alcanity  Magnesium  Total_Phenols  \\\n",
              "0    14.83        1.64   LOW          14.0         97           2.80   \n",
              "1    14.75        1.73  HIGH          11.4         91           3.10   \n",
              "2    14.39        1.87  HIGH          14.6         96           2.50   \n",
              "3    14.38        3.59   LOW          16.0        102           3.25   \n",
              "4    14.38        1.87  HIGH          12.0        102           3.30   \n",
              "\n",
              "   Flavanoids  Nonflavanoid_Phenols  Proanthocyanins  Color_Intensity    Type  \n",
              "0        2.98                  0.29             1.98             5.20  type A  \n",
              "1        3.69                  0.43             2.81             5.40  type A  \n",
              "2        2.52                  0.30             1.98             5.25  type A  \n",
              "3        3.17                  0.27             2.19             4.90  type A  \n",
              "4        3.64                  0.29             2.96             7.50  type A  "
            ]
          },
          "execution_count": 7,
          "metadata": {},
          "output_type": "execute_result"
        }
      ],
      "source": [
        "df=pd.read_excel(\"http://www.orlandoalbarracin.com.br/phyton/wine.xlsx\")\n",
        "df.head()"
      ]
    },
    {
      "cell_type": "code",
      "execution_count": 8,
      "metadata": {
        "colab": {
          "base_uri": "https://localhost:8080/"
        },
        "id": "2KdC_eT13WoX",
        "outputId": "bcc21b09-67ea-4a69-9915-69a81ec20de6"
      },
      "outputs": [
        {
          "data": {
            "text/plain": [
              "array(['type A', 'type C', 'type B'], dtype=object)"
            ]
          },
          "execution_count": 8,
          "metadata": {},
          "output_type": "execute_result"
        }
      ],
      "source": [
        "df.Type.unique()"
      ]
    },
    {
      "cell_type": "markdown",
      "metadata": {
        "id": "LhiMbMHDDWx9"
      },
      "source": [
        "### Questão 1. Use um modelo k-vizinhos considerando k =3 e 4. Qual apresentou maior porcentagem de acertos?"
      ]
    },
    {
      "cell_type": "code",
      "execution_count": 9,
      "metadata": {
        "colab": {
          "base_uri": "https://localhost:8080/"
        },
        "id": "BWiUTDE6Q3Dw",
        "outputId": "a3b57c12-5f70-4eb5-f3a6-96aa347cfb69"
      },
      "outputs": [
        {
          "data": {
            "text/plain": [
              "array([[ 3,  5,  0],\n",
              "       [ 5, 10,  5],\n",
              "       [ 3,  3, 20]])"
            ]
          },
          "execution_count": 9,
          "metadata": {},
          "output_type": "execute_result"
        }
      ],
      "source": [
        "# Dados de entrada/saída\n",
        "X = df[['Alcohol', 'Malic_Acid', 'Ash_Alcanity', 'Magnesium',\n",
        "       'Total_Phenols', 'Flavanoids', 'Nonflavanoid_Phenols',\n",
        "       'Proanthocyanins', 'Color_Intensity']]\n",
        "y = df[[\"Type\"]]\n",
        "\n",
        "#Criando dummies\n",
        "dummies = pd.get_dummies(df[\"Ash\"])\n",
        "\n",
        "# Normalizando os dados\n",
        "X_padronizados = (X-X.mean())/X.std()\n",
        "X_padronizados = pd.concat([X_padronizados, dummies],axis=1) #adicionando dummies\n",
        "\n",
        "# Treinamento/teste\n",
        "X_train, X_test, y_train, y_test = train_test_split(X_padronizados,y,test_size=0.3, random_state = 1984,stratify=y)\n",
        "\n",
        "# Definindo ou declarando o modelo\n",
        "k=3\n",
        "clf = neighbors.KNeighborsClassifier(k)\n",
        "\n",
        "\n",
        "# Aprendizado (Emprega o conjunto de treinamento)\n",
        "clf.fit(X_train, y_train)\n",
        "\n",
        "# Testando o modelo\n",
        "y_pred = clf.predict(X_test)\n",
        "\n",
        "# Avaliando o modelo\n",
        "cnf_matrix = metrics.confusion_matrix(y_test, y_pred)\n",
        "cnf_matrix"
      ]
    },
    {
      "cell_type": "code",
      "execution_count": 10,
      "metadata": {
        "colab": {
          "base_uri": "https://localhost:8080/"
        },
        "id": "RFZImEb69gl5",
        "outputId": "4a52839e-d074-40c3-838c-f90a13eb356a"
      },
      "outputs": [
        {
          "name": "stdout",
          "output_type": "stream",
          "text": [
            "Erros   :  21\n",
            "Acertos :  33\n",
            "--------\n",
            "Porcentagem de acertos :  61.111111111111114 %\n"
          ]
        }
      ],
      "source": [
        "# Avaliando a acuracia do modelo\n",
        "\n",
        "verdadeiro = cnf_matrix[0][0]+cnf_matrix[1][1]+cnf_matrix[2][2]\n",
        "\n",
        "falso = sum(cnf_matrix).sum()-verdadeiro\n",
        "\n",
        "acertos = verdadeiro\n",
        "erros = falso\n",
        "\n",
        "print('Erros   : ', erros)\n",
        "print('Acertos : ',acertos)\n",
        "print('--------')\n",
        "print('Porcentagem de acertos : ', acertos/(sum(cnf_matrix).sum())*100, \"%\")"
      ]
    },
    {
      "cell_type": "code",
      "execution_count": 11,
      "metadata": {
        "id": "SuzGPlZq-FDC"
      },
      "outputs": [],
      "source": [
        "#3: 61,11 %\n",
        "#4: 59,29 %"
      ]
    },
    {
      "cell_type": "markdown",
      "metadata": {
        "id": "oNnnwftRHUfl"
      },
      "source": [
        "### Questão 2.  Considerando o modelo k-vizinho com maior % de acertos, calcule o F1- score"
      ]
    },
    {
      "cell_type": "code",
      "execution_count": 12,
      "metadata": {
        "colab": {
          "base_uri": "https://localhost:8080/"
        },
        "id": "bfaBUIEAHXHm",
        "outputId": "c2d1e739-2e43-4c11-8a55-63f6d58dd401"
      },
      "outputs": [
        {
          "name": "stdout",
          "output_type": "stream",
          "text": [
            "              precision    recall  f1-score   support\n",
            "\n",
            "      type A       0.27      0.38      0.32         8\n",
            "      type B       0.56      0.50      0.53        20\n",
            "      type C       0.80      0.77      0.78        26\n",
            "\n",
            "    accuracy                           0.61        54\n",
            "   macro avg       0.54      0.55      0.54        54\n",
            "weighted avg       0.63      0.61      0.62        54\n",
            "\n"
          ]
        }
      ],
      "source": [
        "report = classification_report(y_test, y_pred)\n",
        "print(report)"
      ]
    },
    {
      "cell_type": "markdown",
      "metadata": {
        "id": "-6F9m30xD75g"
      },
      "source": [
        "### Questão 3. Considerando o modelo k-vizinho com maior % de acertos, classifique um vinho com as seguintes características:"
      ]
    },
    {
      "cell_type": "code",
      "execution_count": 13,
      "metadata": {
        "colab": {
          "base_uri": "https://localhost:8080/",
          "height": 81
        },
        "id": "fh8j6TwiEMlU",
        "outputId": "145c2516-3d68-4430-e46c-d758866125dd"
      },
      "outputs": [
        {
          "data": {
            "text/html": [
              "<div>\n",
              "<style scoped>\n",
              "    .dataframe tbody tr th:only-of-type {\n",
              "        vertical-align: middle;\n",
              "    }\n",
              "\n",
              "    .dataframe tbody tr th {\n",
              "        vertical-align: top;\n",
              "    }\n",
              "\n",
              "    .dataframe thead th {\n",
              "        text-align: right;\n",
              "    }\n",
              "</style>\n",
              "<table border=\"1\" class=\"dataframe\">\n",
              "  <thead>\n",
              "    <tr style=\"text-align: right;\">\n",
              "      <th></th>\n",
              "      <th>Alcohol</th>\n",
              "      <th>Malic_Acid</th>\n",
              "      <th>Ash</th>\n",
              "      <th>Ash_Alcanity</th>\n",
              "      <th>Magnesium</th>\n",
              "      <th>Total_Phenols</th>\n",
              "      <th>Flavanoids</th>\n",
              "      <th>Nonflavanoid_Phenols</th>\n",
              "      <th>Proanthocyanins</th>\n",
              "      <th>Color_Intensity</th>\n",
              "    </tr>\n",
              "  </thead>\n",
              "  <tbody>\n",
              "    <tr>\n",
              "      <th>0</th>\n",
              "      <td>12.83</td>\n",
              "      <td>1.14</td>\n",
              "      <td>LOW</td>\n",
              "      <td>11.0</td>\n",
              "      <td>94</td>\n",
              "      <td>3.8</td>\n",
              "      <td>1.98</td>\n",
              "      <td>0.29</td>\n",
              "      <td>1.98</td>\n",
              "      <td>7.2</td>\n",
              "    </tr>\n",
              "  </tbody>\n",
              "</table>\n",
              "</div>"
            ],
            "text/plain": [
              "   Alcohol  Malic_Acid  Ash  Ash_Alcanity  Magnesium  Total_Phenols  \\\n",
              "0    12.83        1.14  LOW          11.0         94            3.8   \n",
              "\n",
              "   Flavanoids  Nonflavanoid_Phenols  Proanthocyanins  Color_Intensity  \n",
              "0        1.98                  0.29             1.98              7.2  "
            ]
          },
          "execution_count": 13,
          "metadata": {},
          "output_type": "execute_result"
        }
      ],
      "source": [
        "df=pd.read_excel(\"http://www.orlandoalbarracin.com.br/phyton/wine.xlsx\")\n",
        "\n",
        "dado_novo=pd.DataFrame([[12.83,\t1.14, \"LOW\",11.0,\t94,\t3.80,\t1.98,\t0.29,\t1.98,\t7.20]], columns=df.drop(\"Type\", axis=1).columns)\n",
        "dado_novo"
      ]
    },
    {
      "cell_type": "code",
      "execution_count": 14,
      "metadata": {
        "id": "GWG56aWYsRVg"
      },
      "outputs": [],
      "source": [
        "dado_novo[\"LOW\"]=1\n",
        "dado_novo[\"HIGH\"]=0"
      ]
    },
    {
      "cell_type": "code",
      "execution_count": 15,
      "metadata": {
        "colab": {
          "base_uri": "https://localhost:8080/"
        },
        "id": "cSYsn7pFFtHp",
        "outputId": "a59d1c08-63fc-46b9-ac69-4312b4ecedb1"
      },
      "outputs": [
        {
          "name": "stdout",
          "output_type": "stream",
          "text": [
            "Classificação Knn, k= 3  para o novo empréstimo  é \n",
            "['type B']\n"
          ]
        }
      ],
      "source": [
        "# Fazendo a predição\n",
        "X_new_case=dado_novo[['Alcohol', 'Malic_Acid', 'Ash_Alcanity', 'Magnesium',\n",
        "       'Total_Phenols', 'Flavanoids', 'Nonflavanoid_Phenols',\n",
        "       'Proanthocyanins', 'Color_Intensity']]\n",
        "X_new_case_padr=(X_new_case-X.mean())/X.std()\n",
        "\n",
        "X_new_case_padr=pd.concat([X_new_case_padr, dado_novo[[\"HIGH\",\"LOW\"]]],axis=1)\n",
        "\n",
        "Loan_type_pred = clf.predict(X_new_case_padr)\n",
        "\n",
        "print('Classificação Knn, k=', k ,' para o novo empréstimo ', 'é ')\n",
        "print(Loan_type_pred)"
      ]
    }
  ],
  "metadata": {
    "colab": {
      "collapsed_sections": [
        "-csgDmWX3BlO",
        "46zxWYpd19Bx",
        "HwLYyUPA3EME"
      ],
      "provenance": []
    },
    "kernelspec": {
      "display_name": "Python 3",
      "name": "python3"
    },
    "language_info": {
      "codemirror_mode": {
        "name": "ipython",
        "version": 3
      },
      "file_extension": ".py",
      "mimetype": "text/x-python",
      "name": "python",
      "nbconvert_exporter": "python",
      "pygments_lexer": "ipython3",
      "version": "3.11.4"
    }
  },
  "nbformat": 4,
  "nbformat_minor": 0
}

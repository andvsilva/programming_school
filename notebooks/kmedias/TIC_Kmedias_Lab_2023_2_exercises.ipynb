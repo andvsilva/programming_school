{
  "cells": [
    {
      "cell_type": "markdown",
      "metadata": {
        "id": "gglUriLmo1sR"
      },
      "source": [
        "<head>\n",
        "  <meta name=\"author\" content=\"Rogério de Oliveira\">\n",
        "  <meta institution=\"author\" content=\"Universidade Presbiteriana Mackenzie\">\n",
        "</head>\n",
        "\n",
        "<img src=\"http://meusite.mackenzie.br/rogerio/mackenzie_logo/UPM.2_horizontal_vermelho.jpg\" width=300, align=\"left\"></a>\n",
        "<!-- <h1 align=left><font size = 6, style=\"color:rgb(200,0,0)\"> optional title </font></h1> -->"
      ]
    },
    {
      "cell_type": "code",
      "execution_count": 1,
      "metadata": {
        "id": "1srfzIVBqv7y"
      },
      "outputs": [],
      "source": [
        "# imports\n",
        "\n",
        "import pandas                  as pd\n",
        "import numpy                   as np\n",
        "import matplotlib.pyplot       as plt\n",
        "import seaborn as sns\n",
        "\n",
        "import warnings\n",
        "warnings.filterwarnings(\"ignore\")\n",
        "\n",
        "# acrescente seus imports aqui\n"
      ]
    },
    {
      "cell_type": "markdown",
      "metadata": {
        "id": "-G7aCMh4r9y1"
      },
      "source": [
        "<h1 align=left><font size = 6, style=\"color:rgb(200,0,0)\">Lab Kmeans </font></h1>\n",
        "<hr>"
      ]
    },
    {
      "cell_type": "markdown",
      "metadata": {
        "_uuid": "9dd9e07c590ca22f0c525222f60f0ebff4e092c6",
        "id": "kIr_4QzOlOOo"
      },
      "source": [
        "##Caso: **Segmentando Clientes de um Mall**\n",
        "\n",
        "Aqui você encontrará dados de 200 clientes de uma loja de Shopping com dados de idade, renda, sexo e score de gastos na loja. Você seguimentará esses clientes tentando obter e caracterizar grupos distintos de clientes para poder tomar decisões sobre como atuar sobre esses grupos (campanhas, ofertas de produtos etc.).\n",
        "\n",
        "\n"
      ]
    },
    {
      "cell_type": "code",
      "execution_count": 2,
      "metadata": {
        "colab": {
          "base_uri": "https://localhost:8080/",
          "height": 206
        },
        "id": "6mNBDvj2myoC",
        "outputId": "ff6693d7-3cda-4e17-ca42-01e2ca8a0ca8"
      },
      "outputs": [
        {
          "data": {
            "text/html": [
              "<div>\n",
              "<style scoped>\n",
              "    .dataframe tbody tr th:only-of-type {\n",
              "        vertical-align: middle;\n",
              "    }\n",
              "\n",
              "    .dataframe tbody tr th {\n",
              "        vertical-align: top;\n",
              "    }\n",
              "\n",
              "    .dataframe thead th {\n",
              "        text-align: right;\n",
              "    }\n",
              "</style>\n",
              "<table border=\"1\" class=\"dataframe\">\n",
              "  <thead>\n",
              "    <tr style=\"text-align: right;\">\n",
              "      <th></th>\n",
              "      <th>CustomerID</th>\n",
              "      <th>Gender</th>\n",
              "      <th>Age</th>\n",
              "      <th>Annual Income (k$)</th>\n",
              "      <th>Spending Score (1-100)</th>\n",
              "    </tr>\n",
              "  </thead>\n",
              "  <tbody>\n",
              "    <tr>\n",
              "      <th>0</th>\n",
              "      <td>1</td>\n",
              "      <td>Male</td>\n",
              "      <td>19</td>\n",
              "      <td>15</td>\n",
              "      <td>39</td>\n",
              "    </tr>\n",
              "    <tr>\n",
              "      <th>1</th>\n",
              "      <td>2</td>\n",
              "      <td>Male</td>\n",
              "      <td>21</td>\n",
              "      <td>15</td>\n",
              "      <td>81</td>\n",
              "    </tr>\n",
              "    <tr>\n",
              "      <th>2</th>\n",
              "      <td>3</td>\n",
              "      <td>Female</td>\n",
              "      <td>20</td>\n",
              "      <td>16</td>\n",
              "      <td>6</td>\n",
              "    </tr>\n",
              "    <tr>\n",
              "      <th>3</th>\n",
              "      <td>4</td>\n",
              "      <td>Female</td>\n",
              "      <td>23</td>\n",
              "      <td>16</td>\n",
              "      <td>77</td>\n",
              "    </tr>\n",
              "    <tr>\n",
              "      <th>4</th>\n",
              "      <td>5</td>\n",
              "      <td>Female</td>\n",
              "      <td>31</td>\n",
              "      <td>17</td>\n",
              "      <td>40</td>\n",
              "    </tr>\n",
              "  </tbody>\n",
              "</table>\n",
              "</div>"
            ],
            "text/plain": [
              "   CustomerID  Gender  Age  Annual Income (k$)  Spending Score (1-100)\n",
              "0           1    Male   19                  15                      39\n",
              "1           2    Male   21                  15                      81\n",
              "2           3  Female   20                  16                       6\n",
              "3           4  Female   23                  16                      77\n",
              "4           5  Female   31                  17                      40"
            ]
          },
          "execution_count": 2,
          "metadata": {},
          "output_type": "execute_result"
        }
      ],
      "source": [
        "# Seu código\n",
        "df1=pd.read_csv('http://meusite.mackenzie.br/rogerio/TIC/Mall_Customers.csv')\n",
        "df1.head()"
      ]
    },
    {
      "cell_type": "markdown",
      "metadata": {
        "id": "1Du-jsoQ1IRY"
      },
      "source": [
        "## Exercício. Explore os dados\n",
        "\n",
        "Note que existe um atributo nos dados que não faz sentido ser incluído no modelo. Exclua esse atributo. Chame a nova base de dados de `df`"
      ]
    },
    {
      "cell_type": "code",
      "execution_count": 3,
      "metadata": {
        "id": "ZXMnf4UR1MKD"
      },
      "outputs": [],
      "source": [
        "# Seu código\n"
      ]
    },
    {
      "cell_type": "markdown",
      "metadata": {
        "id": "hFxyggo552J7"
      },
      "source": [
        "## Exercício. Definindo a entrada `X`\n",
        "\n",
        "As entradas `X` do `kmeans` precisam ser numéricas pois ele emprega a média das distâncias dos elementos. Converta o atributo `Gender` numérico, com 'Male' = 1 e 'Female' = 0."
      ]
    },
    {
      "cell_type": "code",
      "execution_count": 4,
      "metadata": {
        "id": "cKqbsZ1vn5Bo"
      },
      "outputs": [],
      "source": [
        "# Seu código\n"
      ]
    },
    {
      "cell_type": "code",
      "execution_count": 5,
      "metadata": {
        "id": "B_JhwQokHyDp"
      },
      "outputs": [],
      "source": [
        "# seu código\n"
      ]
    },
    {
      "cell_type": "markdown",
      "metadata": {
        "id": "rJmxJpb1t_1H"
      },
      "source": [
        "## Exercício. Normalize os dados `Scaling`\n",
        "\n",
        "O `kmeans` emprega distâncias e, portanto, é sensível à escala dos dados. Normalize os dados de `X` com o método `StandardScaler()` ou a função `scale( )` (solução mais simples)\\*.\n"
      ]
    },
    {
      "cell_type": "code",
      "execution_count": 6,
      "metadata": {
        "id": "oFfQBGJyeeEF"
      },
      "outputs": [],
      "source": [
        "# Seu código\n",
        "from sklearn.preprocessing import scale\n"
      ]
    },
    {
      "cell_type": "markdown",
      "metadata": {
        "id": "0DIg50rgkH8S"
      },
      "source": [
        "Ótimo, seus dados agora devem aparecer todos com média 0 e desvio padrão 1."
      ]
    },
    {
      "cell_type": "markdown",
      "metadata": {
        "id": "PA0a-38QudWG"
      },
      "source": [
        "## Exercício. Determine o número *ideal* de Clusters\n",
        "\n",
        "O método da inércia ou regra do cotovelo, permite determinar o melhor número de cluster. Determine o número de cluster executando o código apresentado na teoria. Ele não precisa ser modificado se os dados de entradas estão corretamente em `X`.\n",
        "\n",
        "\\*nota: existem outras métricas e critérios para decidir o número de Clusters, por exemplo, o `Silhouette`. Para os nossos propósitos, entretanto, será suficiente empregarmos a regra do cotovelo com base na inércia dos grupos."
      ]
    },
    {
      "cell_type": "code",
      "execution_count": 7,
      "metadata": {
        "id": "g5ZlWkKMuGug"
      },
      "outputs": [],
      "source": [
        "# Seu código\n",
        "# Dados\n"
      ]
    },
    {
      "cell_type": "markdown",
      "metadata": {
        "id": "VfmU_cDZk-Kj"
      },
      "source": [
        "## Exercício. Declarando o modelo\n",
        "\n",
        "Vamos segmentar nossos clientes em 3 grupos (na dúvida usar 3). Não deixe de empregar o `random_state= 123` na função `KMeans` para obter as mesmas respostas."
      ]
    },
    {
      "cell_type": "code",
      "execution_count": 8,
      "metadata": {
        "id": "ZKYFfbP-vJvO"
      },
      "outputs": [],
      "source": [
        "# Seu código\n"
      ]
    },
    {
      "cell_type": "code",
      "execution_count": null,
      "metadata": {
        "id": "kMimDCXiIWmn"
      },
      "outputs": [],
      "source": []
    },
    {
      "cell_type": "markdown",
      "metadata": {
        "id": "5zSRJswck9Th"
      },
      "source": [
        "## Exercício. Identificando na base de dados os grupos\n",
        "\n",
        "Adicione uma nova coluna ao dataframe (nome: `cluster`) atribuindo os grupos `labels` obtidos acima para facilitar a identificação do grupo de cada cliente."
      ]
    },
    {
      "cell_type": "code",
      "execution_count": 9,
      "metadata": {
        "id": "n48vhIBVmI4j"
      },
      "outputs": [],
      "source": [
        "# seu código aqui\n"
      ]
    },
    {
      "cell_type": "markdown",
      "metadata": {
        "id": "s9JWcNahmRwy"
      },
      "source": [
        "### A quais grupos pertencem os clientes de ID 8 e 11?"
      ]
    },
    {
      "cell_type": "code",
      "execution_count": 10,
      "metadata": {
        "id": "BKaHa4jLmSiw"
      },
      "outputs": [],
      "source": [
        "# seu código aqui\n"
      ]
    },
    {
      "cell_type": "markdown",
      "metadata": {
        "id": "YnAQY3-gv1cS"
      },
      "source": [
        "## Exercício. Caracterizando os grupos\n",
        "\n",
        "O que exatamente representam esses grupos de clientes numerados 0, 1 e 2? Quais são as distinções que podem ser identificadas entre eles?\n",
        "\n",
        "Uma maneira de abordar essa questão é examinar as médias dos valores associados a cada grupo e identificar as características que diferenciam um cliente médio de um grupo dos outros.\n",
        "\n",
        "Empregue o modelo da teoria para exibir as médias dos valores de cada grupo e tente identificar que grupos de clientes estão sendo formados."
      ]
    },
    {
      "cell_type": "code",
      "execution_count": 11,
      "metadata": {
        "id": "UOomfmEDiptt"
      },
      "outputs": [],
      "source": [
        "# Seu código\n"
      ]
    },
    {
      "cell_type": "code",
      "execution_count": null,
      "metadata": {
        "id": "F2T_Jnr6SARp"
      },
      "outputs": [],
      "source": []
    },
    {
      "cell_type": "markdown",
      "metadata": {
        "id": "1UYMbBPh629m"
      },
      "source": [
        "#### Utilizando os grupos\n",
        "\n",
        "* Cenário **A**. A loja, em uma campanha de marketing, quer então presentear aluguns clientes com algo score com produtos para cabelos brancos. Para qual grupo/grupos ela deveria enviar os produtos?\n",
        "\n",
        "* Cenário **B**. Ela ainda quer fazer uma oferta de produtos de celulares modernos e de luxo. Para qual grupo/grupos ela deveria ofertar esses produtos para maximizar sua chance de vendas?\n"
      ]
    }
  ],
  "metadata": {
    "anaconda-cloud": {},
    "colab": {
      "provenance": []
    },
    "kernelspec": {
      "display_name": "Python 3",
      "language": "python",
      "name": "python3"
    },
    "language_info": {
      "codemirror_mode": {
        "name": "ipython",
        "version": 3
      },
      "file_extension": ".py",
      "mimetype": "text/x-python",
      "name": "python",
      "nbconvert_exporter": "python",
      "pygments_lexer": "ipython3",
      "version": "3.8.10"
    }
  },
  "nbformat": 4,
  "nbformat_minor": 0
}

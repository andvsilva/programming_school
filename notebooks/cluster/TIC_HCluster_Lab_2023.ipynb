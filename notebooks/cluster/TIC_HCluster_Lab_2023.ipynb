{
  "cells": [
    {
      "cell_type": "markdown",
      "metadata": {
        "id": "gglUriLmo1sR"
      },
      "source": [
        "<head>\n",
        "  <meta name=\"author\" content=\"Rogério de Oliveira\">\n",
        "  <meta institution=\"author\" content=\"Universidade Presbiteriana Mackenzie\">\n",
        "</head>\n",
        "\n",
        "<img src=\"http://meusite.mackenzie.br/rogerio/mackenzie_logo/UPM.2_horizontal_vermelho.jpg\" width=300, align=\"left\">\n",
        "<!-- <h1 align=left><font size = 6, style=\"color:rgb(200,0,0)\"> optional title </font></h1> -->"
      ]
    },
    {
      "cell_type": "code",
      "execution_count": 126,
      "metadata": {
        "id": "reK5idGuLDaP"
      },
      "outputs": [],
      "source": [
        "from sklearn.preprocessing import Normalizer\n",
        "\n",
        "import warnings\n",
        "warnings.filterwarnings('ignore')"
      ]
    },
    {
      "cell_type": "markdown",
      "metadata": {
        "id": "-G7aCMh4r9y1"
      },
      "source": [
        "<h1 align=left><font size = 6, style=\"color:rgb(200,0,0)\">Lab</font></h1>\n",
        "<hr>\n",
        "<font size = 5> Clusterização Hierárquica</font>"
      ]
    },
    {
      "cell_type": "markdown",
      "metadata": {
        "id": "Nwc841zCi51L"
      },
      "source": [
        "# Recordando a Teoria\n",
        "\n",
        "Reveja aqui o processo complete o Clusterização Hierárquica.\n",
        "\n",
        "```\n",
        "Importar os dados\n",
        "df= pd.read_csv(\"..../ .csv\")\n",
        "\n",
        "1.   # Definir os dados (culunas) do modelo\n",
        "X = df[...]\n",
        "\n",
        "2.   # Normalização e outras preparações dos dados\n",
        "from sklearn.preprocessing import normalize\n",
        "X = normalize(X)\n",
        "\n",
        "3.   # Avalia o número de agrupamentos desejado\n",
        "from sklearn.cluster import AgglomerativeClustering\n",
        "from sklearn.metrics import silhouette_score\n",
        "\n",
        "for n_clusters in range(2,8):\n",
        "  clf = AgglomerativeClustering(n_clusters=n_clusters, affinity='euclidean', linkage='ward')  \n",
        "  clf.fit_predict(X)\n",
        "  labels = clf.labels_\n",
        "  print('Média do valor de Silhouette para ', n_clusters , ' clusters: ',silhouette_score(X, labels, metric='euclidean'))\n",
        "\n",
        "4.   ## Declarar e treinar o modelo - considerando o número de cluster apontado no item anterior\n",
        "clf = AgglomerativeClustering(n_clusters=2, affinity='euclidean', linkage='ward')  \n",
        "clf.fit(X)\n",
        "\n",
        "5.   # Resultados\n",
        "labels = clf.labels_\n",
        "print(labels)\n",
        "\n",
        "6.   # Associando os dados\n",
        "df['cluster'] = labels\n",
        "print(df.head())\n",
        "```"
      ]
    },
    {
      "cell_type": "markdown",
      "metadata": {
        "id": "fPr6XIcT6kSZ"
      },
      "source": [
        "# Exemplo.  **E-commerce**"
      ]
    },
    {
      "cell_type": "markdown",
      "metadata": {
        "id": "3dCVgKBhM-Qx"
      },
      "source": [
        "Este é um conjunto de dados transacionais que contém todas as transações ocorridas entre 01/12/2010 e 09/12/2011 para uma loja virtual no Reino Unido. A empresa vende principalmente presentes únicos para todas as ocasiões. Muitos clientes da empresa são atacadistas.\n",
        "\n",
        "*   **CustomerID:** número inteiro de 5 dígitos atribuído exclusivamente a cada cliente.\n",
        "*   **Recency**: Número de dias desde a última compra.\n",
        "*   **Frequency**: Número de compras realizadas pelo cliente\n",
        "*   **Amount**: Valor total das compras (receita contribuída)"
      ]
    },
    {
      "cell_type": "code",
      "execution_count": 127,
      "metadata": {
        "colab": {
          "base_uri": "https://localhost:8080/",
          "height": 206
        },
        "id": "lQkxC3FrB_vI",
        "outputId": "2758c8b3-2c08-45e5-fd48-6f3697694825"
      },
      "outputs": [
        {
          "data": {
            "text/html": [
              "<div>\n",
              "<style scoped>\n",
              "    .dataframe tbody tr th:only-of-type {\n",
              "        vertical-align: middle;\n",
              "    }\n",
              "\n",
              "    .dataframe tbody tr th {\n",
              "        vertical-align: top;\n",
              "    }\n",
              "\n",
              "    .dataframe thead th {\n",
              "        text-align: right;\n",
              "    }\n",
              "</style>\n",
              "<table border=\"1\" class=\"dataframe\">\n",
              "  <thead>\n",
              "    <tr style=\"text-align: right;\">\n",
              "      <th></th>\n",
              "      <th>CustomerID</th>\n",
              "      <th>Amount</th>\n",
              "      <th>Frequency</th>\n",
              "      <th>Recency</th>\n",
              "    </tr>\n",
              "  </thead>\n",
              "  <tbody>\n",
              "    <tr>\n",
              "      <th>0</th>\n",
              "      <td>12347.0</td>\n",
              "      <td>4310.00</td>\n",
              "      <td>182</td>\n",
              "      <td>1</td>\n",
              "    </tr>\n",
              "    <tr>\n",
              "      <th>1</th>\n",
              "      <td>12348.0</td>\n",
              "      <td>1797.24</td>\n",
              "      <td>31</td>\n",
              "      <td>74</td>\n",
              "    </tr>\n",
              "    <tr>\n",
              "      <th>2</th>\n",
              "      <td>12349.0</td>\n",
              "      <td>1757.55</td>\n",
              "      <td>73</td>\n",
              "      <td>18</td>\n",
              "    </tr>\n",
              "    <tr>\n",
              "      <th>3</th>\n",
              "      <td>12350.0</td>\n",
              "      <td>334.40</td>\n",
              "      <td>17</td>\n",
              "      <td>309</td>\n",
              "    </tr>\n",
              "    <tr>\n",
              "      <th>4</th>\n",
              "      <td>12352.0</td>\n",
              "      <td>1545.41</td>\n",
              "      <td>95</td>\n",
              "      <td>35</td>\n",
              "    </tr>\n",
              "  </tbody>\n",
              "</table>\n",
              "</div>"
            ],
            "text/plain": [
              "   CustomerID   Amount  Frequency  Recency\n",
              "0     12347.0  4310.00        182        1\n",
              "1     12348.0  1797.24         31       74\n",
              "2     12349.0  1757.55         73       18\n",
              "3     12350.0   334.40         17      309\n",
              "4     12352.0  1545.41         95       35"
            ]
          },
          "execution_count": 127,
          "metadata": {},
          "output_type": "execute_result"
        }
      ],
      "source": [
        "import pandas as pd\n",
        "df=pd.read_csv(\"http://www.orlandoalbarracin.com.br/phyton/retail_dataset_.csv\", index_col=[0])\n",
        "df.head()"
      ]
    },
    {
      "cell_type": "code",
      "execution_count": 128,
      "metadata": {
        "id": "hEPwkw0yhnh7"
      },
      "outputs": [],
      "source": [
        "# Explore a base de dados!\n"
      ]
    },
    {
      "cell_type": "code",
      "execution_count": 129,
      "metadata": {
        "colab": {
          "base_uri": "https://localhost:8080/",
          "height": 424
        },
        "id": "ikgOy8npCf4d",
        "outputId": "d7542020-8ba9-42d5-f12d-b5f847bcdede"
      },
      "outputs": [
        {
          "data": {
            "text/html": [
              "<div>\n",
              "<style scoped>\n",
              "    .dataframe tbody tr th:only-of-type {\n",
              "        vertical-align: middle;\n",
              "    }\n",
              "\n",
              "    .dataframe tbody tr th {\n",
              "        vertical-align: top;\n",
              "    }\n",
              "\n",
              "    .dataframe thead th {\n",
              "        text-align: right;\n",
              "    }\n",
              "</style>\n",
              "<table border=\"1\" class=\"dataframe\">\n",
              "  <thead>\n",
              "    <tr style=\"text-align: right;\">\n",
              "      <th></th>\n",
              "      <th>Amount</th>\n",
              "      <th>Frequency</th>\n",
              "      <th>Recency</th>\n",
              "    </tr>\n",
              "  </thead>\n",
              "  <tbody>\n",
              "    <tr>\n",
              "      <th>0</th>\n",
              "      <td>4310.00</td>\n",
              "      <td>182</td>\n",
              "      <td>1</td>\n",
              "    </tr>\n",
              "    <tr>\n",
              "      <th>1</th>\n",
              "      <td>1797.24</td>\n",
              "      <td>31</td>\n",
              "      <td>74</td>\n",
              "    </tr>\n",
              "    <tr>\n",
              "      <th>2</th>\n",
              "      <td>1757.55</td>\n",
              "      <td>73</td>\n",
              "      <td>18</td>\n",
              "    </tr>\n",
              "    <tr>\n",
              "      <th>3</th>\n",
              "      <td>334.40</td>\n",
              "      <td>17</td>\n",
              "      <td>309</td>\n",
              "    </tr>\n",
              "    <tr>\n",
              "      <th>4</th>\n",
              "      <td>1545.41</td>\n",
              "      <td>95</td>\n",
              "      <td>35</td>\n",
              "    </tr>\n",
              "    <tr>\n",
              "      <th>...</th>\n",
              "      <td>...</td>\n",
              "      <td>...</td>\n",
              "      <td>...</td>\n",
              "    </tr>\n",
              "    <tr>\n",
              "      <th>4317</th>\n",
              "      <td>180.60</td>\n",
              "      <td>10</td>\n",
              "      <td>277</td>\n",
              "    </tr>\n",
              "    <tr>\n",
              "      <th>4318</th>\n",
              "      <td>80.82</td>\n",
              "      <td>7</td>\n",
              "      <td>180</td>\n",
              "    </tr>\n",
              "    <tr>\n",
              "      <th>4319</th>\n",
              "      <td>176.60</td>\n",
              "      <td>13</td>\n",
              "      <td>7</td>\n",
              "    </tr>\n",
              "    <tr>\n",
              "      <th>4320</th>\n",
              "      <td>2094.88</td>\n",
              "      <td>756</td>\n",
              "      <td>3</td>\n",
              "    </tr>\n",
              "    <tr>\n",
              "      <th>4321</th>\n",
              "      <td>1837.28</td>\n",
              "      <td>70</td>\n",
              "      <td>42</td>\n",
              "    </tr>\n",
              "  </tbody>\n",
              "</table>\n",
              "<p>4322 rows × 3 columns</p>\n",
              "</div>"
            ],
            "text/plain": [
              "       Amount  Frequency  Recency\n",
              "0     4310.00        182        1\n",
              "1     1797.24         31       74\n",
              "2     1757.55         73       18\n",
              "3      334.40         17      309\n",
              "4     1545.41         95       35\n",
              "...       ...        ...      ...\n",
              "4317   180.60         10      277\n",
              "4318    80.82          7      180\n",
              "4319   176.60         13        7\n",
              "4320  2094.88        756        3\n",
              "4321  1837.28         70       42\n",
              "\n",
              "[4322 rows x 3 columns]"
            ]
          },
          "execution_count": 129,
          "metadata": {},
          "output_type": "execute_result"
        }
      ],
      "source": [
        "X = df[['Amount', 'Frequency', 'Recency']]\n",
        "X"
      ]
    },
    {
      "cell_type": "code",
      "execution_count": 130,
      "metadata": {
        "id": "ZVqvUPmqDPqP"
      },
      "outputs": [],
      "source": [
        "#Normalizando os dados\n",
        "\n",
        "from sklearn.preprocessing import normalize\n",
        "X = normalize(X)"
      ]
    },
    {
      "cell_type": "code",
      "execution_count": 131,
      "metadata": {
        "colab": {
          "base_uri": "https://localhost:8080/"
        },
        "id": "GR3YID-VLMWR",
        "outputId": "bd76c47e-354f-459a-e819-61b65c443107"
      },
      "outputs": [
        {
          "name": "stdout",
          "output_type": "stream",
          "text": [
            "Média do valor de Silhouette para  2  clusters:  0.7382121184741594\n",
            "Média do valor de Silhouette para  3  clusters:  0.6525249251163979\n",
            "Média do valor de Silhouette para  4  clusters:  0.5450074113526773\n",
            "Média do valor de Silhouette para  5  clusters:  0.545881302504618\n",
            "Média do valor de Silhouette para  6  clusters:  0.5367858999838558\n",
            "Média do valor de Silhouette para  7  clusters:  0.5395401112134732\n"
          ]
        }
      ],
      "source": [
        "# Avaliando o número de agrupamentos usando a silhouette\n",
        "\n",
        "from sklearn.cluster import AgglomerativeClustering\n",
        "from sklearn.metrics import silhouette_score\n",
        "\n",
        "for n_clusters in range(2,8):\n",
        "  clf = AgglomerativeClustering(n_clusters=n_clusters, affinity='euclidean', linkage='ward')\n",
        "  clf.fit_predict(X)\n",
        "  labels = clf.labels_\n",
        "  print('Média do valor de Silhouette para ', n_clusters , ' clusters: ', silhouette_score(X, labels, metric='euclidean'))\n"
      ]
    },
    {
      "cell_type": "code",
      "execution_count": 132,
      "metadata": {
        "colab": {
          "base_uri": "https://localhost:8080/",
          "height": 206
        },
        "id": "lRTfwI3bE4pO",
        "outputId": "8984aaf1-4b9d-4c0a-b250-83d6b1a1a750"
      },
      "outputs": [
        {
          "data": {
            "text/html": [
              "<div>\n",
              "<style scoped>\n",
              "    .dataframe tbody tr th:only-of-type {\n",
              "        vertical-align: middle;\n",
              "    }\n",
              "\n",
              "    .dataframe tbody tr th {\n",
              "        vertical-align: top;\n",
              "    }\n",
              "\n",
              "    .dataframe thead th {\n",
              "        text-align: right;\n",
              "    }\n",
              "</style>\n",
              "<table border=\"1\" class=\"dataframe\">\n",
              "  <thead>\n",
              "    <tr style=\"text-align: right;\">\n",
              "      <th></th>\n",
              "      <th>CustomerID</th>\n",
              "      <th>Amount</th>\n",
              "      <th>Frequency</th>\n",
              "      <th>Recency</th>\n",
              "      <th>cluster</th>\n",
              "    </tr>\n",
              "  </thead>\n",
              "  <tbody>\n",
              "    <tr>\n",
              "      <th>0</th>\n",
              "      <td>12347.0</td>\n",
              "      <td>4310.00</td>\n",
              "      <td>182</td>\n",
              "      <td>1</td>\n",
              "      <td>1</td>\n",
              "    </tr>\n",
              "    <tr>\n",
              "      <th>1</th>\n",
              "      <td>12348.0</td>\n",
              "      <td>1797.24</td>\n",
              "      <td>31</td>\n",
              "      <td>74</td>\n",
              "      <td>1</td>\n",
              "    </tr>\n",
              "    <tr>\n",
              "      <th>2</th>\n",
              "      <td>12349.0</td>\n",
              "      <td>1757.55</td>\n",
              "      <td>73</td>\n",
              "      <td>18</td>\n",
              "      <td>1</td>\n",
              "    </tr>\n",
              "    <tr>\n",
              "      <th>3</th>\n",
              "      <td>12350.0</td>\n",
              "      <td>334.40</td>\n",
              "      <td>17</td>\n",
              "      <td>309</td>\n",
              "      <td>0</td>\n",
              "    </tr>\n",
              "    <tr>\n",
              "      <th>4</th>\n",
              "      <td>12352.0</td>\n",
              "      <td>1545.41</td>\n",
              "      <td>95</td>\n",
              "      <td>35</td>\n",
              "      <td>1</td>\n",
              "    </tr>\n",
              "  </tbody>\n",
              "</table>\n",
              "</div>"
            ],
            "text/plain": [
              "   CustomerID   Amount  Frequency  Recency  cluster\n",
              "0     12347.0  4310.00        182        1        1\n",
              "1     12348.0  1797.24         31       74        1\n",
              "2     12349.0  1757.55         73       18        1\n",
              "3     12350.0   334.40         17      309        0\n",
              "4     12352.0  1545.41         95       35        1"
            ]
          },
          "execution_count": 132,
          "metadata": {},
          "output_type": "execute_result"
        }
      ],
      "source": [
        "#Declarando e treinando o modelo. Associando os clusters\n",
        "\n",
        "clf = AgglomerativeClustering(n_clusters=2, affinity='euclidean', linkage='ward')\n",
        "clf.fit(X)\n",
        "labels = clf.labels_\n",
        "\n",
        "df['cluster'] = labels\n",
        "df.head()"
      ]
    },
    {
      "cell_type": "code",
      "execution_count": 133,
      "metadata": {
        "colab": {
          "base_uri": "https://localhost:8080/",
          "height": 472
        },
        "id": "kMBoGqxhFKhJ",
        "outputId": "b5527d0e-759a-4585-9ffc-d7bd4b8ce029"
      },
      "outputs": [
        {
          "data": {
            "image/png": "[encoded data removed]",
            "text/plain": [
              "<Figure size 1000x500 with 1 Axes>"
            ]
          },
          "metadata": {},
          "output_type": "display_data"
        }
      ],
      "source": [
        "# Fazendo dendograma\n",
        "\n",
        "import scipy.cluster.hierarchy as shc\n",
        "import matplotlib.pyplot as plt\n",
        "\n",
        "plt.figure(figsize=(10, 5))\n",
        "plt.title(\"Dendrogram\")\n",
        "plt.xticks(rotation=90)\n",
        "\n",
        "dendrogram = shc.dendrogram(shc.linkage(X, method='ward')) # cuidado com o nome\n",
        "plt.axhline(y=12, color='r', linestyle='--')\n",
        "\n",
        "plt.show()\n"
      ]
    },
    {
      "cell_type": "code",
      "execution_count": 134,
      "metadata": {
        "colab": {
          "base_uri": "https://localhost:8080/",
          "height": 307
        },
        "id": "2962yha2Ggpf",
        "outputId": "bddf9f6b-288f-4e4e-a54f-cb54f8e7bb89"
      },
      "outputs": [
        {
          "data": {
            "image/png": "[encoded data removed]",
            "text/plain": [
              "<Figure size 600x300 with 3 Axes>"
            ]
          },
          "metadata": {},
          "output_type": "display_data"
        }
      ],
      "source": [
        "# Analisando os grupos!\n",
        "\n",
        "import seaborn as sns\n",
        "\n",
        "f, axis = plt.subplots(1,3, figsize=(6,3))\n",
        "sns.boxplot(x='cluster', y='Amount', data=df, showfliers = False,ax=axis[0])\n",
        "sns.boxplot(x='cluster', y='Frequency', data=df, showfliers = False,ax=axis[1])\n",
        "sns.boxplot(x='cluster', y='Recency', data=df, showfliers = False,ax=axis[2])\n",
        "\n",
        "plt.tight_layout()"
      ]
    },
    {
      "cell_type": "markdown",
      "metadata": {
        "id": "KhmwLdd5MTvt"
      },
      "source": [
        "Note que o Cluster 1 se refere aos clientes com maior renda e que fazem compras com maior frequência."
      ]
    },
    {
      "cell_type": "markdown",
      "metadata": {
        "_uuid": "9dd9e07c590ca22f0c525222f60f0ebff4e092c6",
        "id": "kIr_4QzOlOOo"
      },
      "source": [
        "# Exercício: **Airbnb NYC 2019**\n",
        "\n"
      ]
    },
    {
      "cell_type": "markdown",
      "metadata": {
        "id": "aTV_IPiaM8Np"
      },
      "source": [
        "Neste data set você encontra dados do Airbnb de NYC de 2019. Explore os dados e em seguida faça uma clusterização dos imóveis com base nos atributos numérico e o tipo de apartamento (`room_type`).\n",
        "\n",
        "Durante a aula vamos usar a versão reduzida da base de dados:\n",
        "*   https://meusite.mackenzie.br/rogerio/TIC/AB_NYC_2019_TIC.csv\n",
        "\n",
        "Para responder o questionário use:\n",
        "*   https://meusite.mackenzie.br/rogerio/TIC/AB_NYC_2019.csv"
      ]
    },
    {
      "cell_type": "markdown",
      "metadata": {
        "id": "QT-VfSUZjmlG"
      },
      "source": [
        "## Exercício. Acesse e Explore os dados"
      ]
    },
    {
      "cell_type": "code",
      "execution_count": 135,
      "metadata": {
        "colab": {
          "base_uri": "https://localhost:8080/",
          "height": 381
        },
        "id": "zPYeoP83sXy7",
        "outputId": "c31e466c-33ad-4c76-f47c-40cf5a1e94c7"
      },
      "outputs": [
        {
          "data": {
            "text/html": [
              "<div>\n",
              "<style scoped>\n",
              "    .dataframe tbody tr th:only-of-type {\n",
              "        vertical-align: middle;\n",
              "    }\n",
              "\n",
              "    .dataframe tbody tr th {\n",
              "        vertical-align: top;\n",
              "    }\n",
              "\n",
              "    .dataframe thead th {\n",
              "        text-align: right;\n",
              "    }\n",
              "</style>\n",
              "<table border=\"1\" class=\"dataframe\">\n",
              "  <thead>\n",
              "    <tr style=\"text-align: right;\">\n",
              "      <th></th>\n",
              "      <th>id</th>\n",
              "      <th>name</th>\n",
              "      <th>host_id</th>\n",
              "      <th>host_name</th>\n",
              "      <th>neighbourhood_group</th>\n",
              "      <th>neighbourhood</th>\n",
              "      <th>latitude</th>\n",
              "      <th>longitude</th>\n",
              "      <th>room_type</th>\n",
              "      <th>price</th>\n",
              "      <th>minimum_nights</th>\n",
              "      <th>number_of_reviews</th>\n",
              "      <th>last_review</th>\n",
              "      <th>reviews_per_month</th>\n",
              "      <th>calculated_host_listings_count</th>\n",
              "      <th>availability_365</th>\n",
              "    </tr>\n",
              "  </thead>\n",
              "  <tbody>\n",
              "    <tr>\n",
              "      <th>0</th>\n",
              "      <td>20913</td>\n",
              "      <td>Charming 1 bed GR8 WBurg LOCATION!</td>\n",
              "      <td>79402</td>\n",
              "      <td>Christiana</td>\n",
              "      <td>Brooklyn</td>\n",
              "      <td>Williamsburg</td>\n",
              "      <td>40.70984</td>\n",
              "      <td>-73.95775</td>\n",
              "      <td>Entire home/apt</td>\n",
              "      <td>100</td>\n",
              "      <td>5</td>\n",
              "      <td>168</td>\n",
              "      <td>2018-07-22</td>\n",
              "      <td>1.57</td>\n",
              "      <td>1</td>\n",
              "      <td>0</td>\n",
              "    </tr>\n",
              "    <tr>\n",
              "      <th>1</th>\n",
              "      <td>25235</td>\n",
              "      <td>Large 2 Bedroom Great for Groups!</td>\n",
              "      <td>87773</td>\n",
              "      <td>Shelly</td>\n",
              "      <td>Brooklyn</td>\n",
              "      <td>Bedford-Stuyvesant</td>\n",
              "      <td>40.68373</td>\n",
              "      <td>-73.92377</td>\n",
              "      <td>Entire home/apt</td>\n",
              "      <td>125</td>\n",
              "      <td>90</td>\n",
              "      <td>162</td>\n",
              "      <td>2019-06-28</td>\n",
              "      <td>1.46</td>\n",
              "      <td>2</td>\n",
              "      <td>137</td>\n",
              "    </tr>\n",
              "    <tr>\n",
              "      <th>2</th>\n",
              "      <td>76761</td>\n",
              "      <td>Eveland the Place to Stay &amp; Enjoy a 5-⭐️ 2bdrm</td>\n",
              "      <td>118971</td>\n",
              "      <td>Evelyn</td>\n",
              "      <td>Brooklyn</td>\n",
              "      <td>South Slope</td>\n",
              "      <td>40.66552</td>\n",
              "      <td>-73.99019</td>\n",
              "      <td>Entire home/apt</td>\n",
              "      <td>169</td>\n",
              "      <td>2</td>\n",
              "      <td>398</td>\n",
              "      <td>2019-06-28</td>\n",
              "      <td>3.97</td>\n",
              "      <td>3</td>\n",
              "      <td>182</td>\n",
              "    </tr>\n",
              "  </tbody>\n",
              "</table>\n",
              "</div>"
            ],
            "text/plain": [
              "      id                                            name  host_id   host_name  \\\n",
              "0  20913              Charming 1 bed GR8 WBurg LOCATION!    79402  Christiana   \n",
              "1  25235               Large 2 Bedroom Great for Groups!    87773      Shelly   \n",
              "2  76761  Eveland the Place to Stay & Enjoy a 5-⭐️ 2bdrm   118971      Evelyn   \n",
              "\n",
              "  neighbourhood_group       neighbourhood  latitude  longitude  \\\n",
              "0            Brooklyn        Williamsburg  40.70984  -73.95775   \n",
              "1            Brooklyn  Bedford-Stuyvesant  40.68373  -73.92377   \n",
              "2            Brooklyn         South Slope  40.66552  -73.99019   \n",
              "\n",
              "         room_type  price  minimum_nights  number_of_reviews last_review  \\\n",
              "0  Entire home/apt    100               5                168  2018-07-22   \n",
              "1  Entire home/apt    125              90                162  2019-06-28   \n",
              "2  Entire home/apt    169               2                398  2019-06-28   \n",
              "\n",
              "   reviews_per_month  calculated_host_listings_count  availability_365  \n",
              "0               1.57                               1                 0  \n",
              "1               1.46                               2               137  \n",
              "2               3.97                               3               182  "
            ]
          },
          "execution_count": 135,
          "metadata": {},
          "output_type": "execute_result"
        }
      ],
      "source": [
        "# Seu Código\n",
        "import pandas as pd\n",
        "df=pd.read_csv(\"https://meusite.mackenzie.br/rogerio/TIC/AB_NYC_2019_TIC.csv\")\n",
        "df.head(3)"
      ]
    },
    {
      "cell_type": "code",
      "execution_count": 136,
      "metadata": {},
      "outputs": [
        {
          "name": "stdout",
          "output_type": "stream",
          "text": [
            "shape dataset rows: 804 and columns: 16\n"
          ]
        }
      ],
      "source": [
        "# shape dataset (before drop)\n",
        "print(f'shape dataset rows: {df.shape[0]} and columns: {df.shape[1]}')"
      ]
    },
    {
      "cell_type": "markdown",
      "metadata": {
        "id": "ritfez27juHZ"
      },
      "source": [
        "##  Verifique a presença de Nulos\n",
        "Verifique se existem dados nulas e, se houver, escolha eliminar esses casos.\n",
        "\n",
        "DICA: `isna()`, `dropna()`"
      ]
    },
    {
      "cell_type": "code",
      "execution_count": 137,
      "metadata": {
        "id": "MwUiygvBbz9N"
      },
      "outputs": [
        {
          "data": {
            "text/plain": [
              "id                                  0\n",
              "name                                1\n",
              "host_id                             0\n",
              "host_name                           0\n",
              "neighbourhood_group                 0\n",
              "neighbourhood                       0\n",
              "latitude                            0\n",
              "longitude                           0\n",
              "room_type                           0\n",
              "price                               0\n",
              "minimum_nights                      0\n",
              "number_of_reviews                   0\n",
              "last_review                       176\n",
              "reviews_per_month                 176\n",
              "calculated_host_listings_count      0\n",
              "availability_365                    0\n",
              "dtype: int64"
            ]
          },
          "execution_count": 137,
          "metadata": {},
          "output_type": "execute_result"
        }
      ],
      "source": [
        "# check for missing values.\n",
        "df.isna().sum()"
      ]
    },
    {
      "cell_type": "code",
      "execution_count": 138,
      "metadata": {},
      "outputs": [],
      "source": [
        "# drop line with missing values\n",
        "df = df.dropna()"
      ]
    },
    {
      "cell_type": "code",
      "execution_count": 139,
      "metadata": {},
      "outputs": [
        {
          "data": {
            "text/plain": [
              "id                                0\n",
              "name                              0\n",
              "host_id                           0\n",
              "host_name                         0\n",
              "neighbourhood_group               0\n",
              "neighbourhood                     0\n",
              "latitude                          0\n",
              "longitude                         0\n",
              "room_type                         0\n",
              "price                             0\n",
              "minimum_nights                    0\n",
              "number_of_reviews                 0\n",
              "last_review                       0\n",
              "reviews_per_month                 0\n",
              "calculated_host_listings_count    0\n",
              "availability_365                  0\n",
              "dtype: int64"
            ]
          },
          "execution_count": 139,
          "metadata": {},
          "output_type": "execute_result"
        }
      ],
      "source": [
        "df.isna().sum()"
      ]
    },
    {
      "cell_type": "code",
      "execution_count": 140,
      "metadata": {},
      "outputs": [
        {
          "name": "stdout",
          "output_type": "stream",
          "text": [
            "shape dataset after drop NaN, rows: 628 and columns: 16\n"
          ]
        }
      ],
      "source": [
        "print(f'shape dataset after drop NaN, rows: {df.shape[0]} and columns: {df.shape[1]}')"
      ]
    },
    {
      "cell_type": "code",
      "execution_count": 141,
      "metadata": {},
      "outputs": [
        {
          "data": {
            "text/plain": [
              "id                                  int64\n",
              "name                               object\n",
              "host_id                             int64\n",
              "host_name                          object\n",
              "neighbourhood_group                object\n",
              "neighbourhood                      object\n",
              "latitude                          float64\n",
              "longitude                         float64\n",
              "room_type                          object\n",
              "price                               int64\n",
              "minimum_nights                      int64\n",
              "number_of_reviews                   int64\n",
              "last_review                        object\n",
              "reviews_per_month                 float64\n",
              "calculated_host_listings_count      int64\n",
              "availability_365                    int64\n",
              "dtype: object"
            ]
          },
          "execution_count": 141,
          "metadata": {},
          "output_type": "execute_result"
        }
      ],
      "source": [
        "df.dtypes"
      ]
    },
    {
      "cell_type": "code",
      "execution_count": 142,
      "metadata": {},
      "outputs": [
        {
          "data": {
            "text/plain": [
              "Entire home/apt    53.66%\n",
              "Private room       43.95%\n",
              "Shared room         2.39%\n",
              "Name: room_type, dtype: object"
            ]
          },
          "execution_count": 142,
          "metadata": {},
          "output_type": "execute_result"
        }
      ],
      "source": [
        "df['room_type'].value_counts(normalize=True).map('{:.2%}'.format)"
      ]
    },
    {
      "cell_type": "markdown",
      "metadata": {
        "id": "slIypTLEj_rV"
      },
      "source": [
        "## Faça o Hot Encode da variável `room_type`\n",
        "\n",
        "Verifique os valores de `room_type` e faça o *Hot Encode*. Você pode  mudar o nome dos atributos ao final usando `rename`.\n",
        "\n",
        "DICAS:\n",
        "```\n",
        "# Hot encode\n",
        "dummies = pd.get_dummies(df.<atributo>,prefix='<prefix>')\n",
        "df = pd.concat([df, dummies],axis=1)\n",
        "\n",
        "# Rename Columns\n",
        "df.rename(columns={'antes1':'depois1', 'antes2':'depois'},inplace=True)\n",
        "```"
      ]
    },
    {
      "cell_type": "code",
      "execution_count": 143,
      "metadata": {
        "id": "FsMyLNPIchPo"
      },
      "outputs": [
        {
          "data": {
            "text/html": [
              "<div>\n",
              "<style scoped>\n",
              "    .dataframe tbody tr th:only-of-type {\n",
              "        vertical-align: middle;\n",
              "    }\n",
              "\n",
              "    .dataframe tbody tr th {\n",
              "        vertical-align: top;\n",
              "    }\n",
              "\n",
              "    .dataframe thead th {\n",
              "        text-align: right;\n",
              "    }\n",
              "</style>\n",
              "<table border=\"1\" class=\"dataframe\">\n",
              "  <thead>\n",
              "    <tr style=\"text-align: right;\">\n",
              "      <th></th>\n",
              "      <th>id</th>\n",
              "      <th>name</th>\n",
              "      <th>host_id</th>\n",
              "      <th>host_name</th>\n",
              "      <th>neighbourhood_group</th>\n",
              "      <th>neighbourhood</th>\n",
              "      <th>latitude</th>\n",
              "      <th>longitude</th>\n",
              "      <th>room_type</th>\n",
              "      <th>price</th>\n",
              "      <th>minimum_nights</th>\n",
              "      <th>number_of_reviews</th>\n",
              "      <th>last_review</th>\n",
              "      <th>reviews_per_month</th>\n",
              "      <th>calculated_host_listings_count</th>\n",
              "      <th>availability_365</th>\n",
              "      <th>room_type_Entire home/apt</th>\n",
              "      <th>room_type_Private room</th>\n",
              "      <th>room_type_Shared room</th>\n",
              "    </tr>\n",
              "  </thead>\n",
              "  <tbody>\n",
              "    <tr>\n",
              "      <th>0</th>\n",
              "      <td>20913</td>\n",
              "      <td>Charming 1 bed GR8 WBurg LOCATION!</td>\n",
              "      <td>79402</td>\n",
              "      <td>Christiana</td>\n",
              "      <td>Brooklyn</td>\n",
              "      <td>Williamsburg</td>\n",
              "      <td>40.70984</td>\n",
              "      <td>-73.95775</td>\n",
              "      <td>Entire home/apt</td>\n",
              "      <td>100</td>\n",
              "      <td>5</td>\n",
              "      <td>168</td>\n",
              "      <td>2018-07-22</td>\n",
              "      <td>1.57</td>\n",
              "      <td>1</td>\n",
              "      <td>0</td>\n",
              "      <td>1</td>\n",
              "      <td>0</td>\n",
              "      <td>0</td>\n",
              "    </tr>\n",
              "    <tr>\n",
              "      <th>1</th>\n",
              "      <td>25235</td>\n",
              "      <td>Large 2 Bedroom Great for Groups!</td>\n",
              "      <td>87773</td>\n",
              "      <td>Shelly</td>\n",
              "      <td>Brooklyn</td>\n",
              "      <td>Bedford-Stuyvesant</td>\n",
              "      <td>40.68373</td>\n",
              "      <td>-73.92377</td>\n",
              "      <td>Entire home/apt</td>\n",
              "      <td>125</td>\n",
              "      <td>90</td>\n",
              "      <td>162</td>\n",
              "      <td>2019-06-28</td>\n",
              "      <td>1.46</td>\n",
              "      <td>2</td>\n",
              "      <td>137</td>\n",
              "      <td>1</td>\n",
              "      <td>0</td>\n",
              "      <td>0</td>\n",
              "    </tr>\n",
              "    <tr>\n",
              "      <th>2</th>\n",
              "      <td>76761</td>\n",
              "      <td>Eveland the Place to Stay &amp; Enjoy a 5-⭐️ 2bdrm</td>\n",
              "      <td>118971</td>\n",
              "      <td>Evelyn</td>\n",
              "      <td>Brooklyn</td>\n",
              "      <td>South Slope</td>\n",
              "      <td>40.66552</td>\n",
              "      <td>-73.99019</td>\n",
              "      <td>Entire home/apt</td>\n",
              "      <td>169</td>\n",
              "      <td>2</td>\n",
              "      <td>398</td>\n",
              "      <td>2019-06-28</td>\n",
              "      <td>3.97</td>\n",
              "      <td>3</td>\n",
              "      <td>182</td>\n",
              "      <td>1</td>\n",
              "      <td>0</td>\n",
              "      <td>0</td>\n",
              "    </tr>\n",
              "  </tbody>\n",
              "</table>\n",
              "</div>"
            ],
            "text/plain": [
              "      id                                            name  host_id   host_name  \\\n",
              "0  20913              Charming 1 bed GR8 WBurg LOCATION!    79402  Christiana   \n",
              "1  25235               Large 2 Bedroom Great for Groups!    87773      Shelly   \n",
              "2  76761  Eveland the Place to Stay & Enjoy a 5-⭐️ 2bdrm   118971      Evelyn   \n",
              "\n",
              "  neighbourhood_group       neighbourhood  latitude  longitude  \\\n",
              "0            Brooklyn        Williamsburg  40.70984  -73.95775   \n",
              "1            Brooklyn  Bedford-Stuyvesant  40.68373  -73.92377   \n",
              "2            Brooklyn         South Slope  40.66552  -73.99019   \n",
              "\n",
              "         room_type  price  minimum_nights  number_of_reviews last_review  \\\n",
              "0  Entire home/apt    100               5                168  2018-07-22   \n",
              "1  Entire home/apt    125              90                162  2019-06-28   \n",
              "2  Entire home/apt    169               2                398  2019-06-28   \n",
              "\n",
              "   reviews_per_month  calculated_host_listings_count  availability_365  \\\n",
              "0               1.57                               1                 0   \n",
              "1               1.46                               2               137   \n",
              "2               3.97                               3               182   \n",
              "\n",
              "   room_type_Entire home/apt  room_type_Private room  room_type_Shared room  \n",
              "0                          1                       0                      0  \n",
              "1                          1                       0                      0  \n",
              "2                          1                       0                      0  "
            ]
          },
          "execution_count": 143,
          "metadata": {},
          "output_type": "execute_result"
        }
      ],
      "source": [
        "# Hot encode\n",
        "dummies = pd.get_dummies(df.room_type,prefix='room_type')\n",
        "\n",
        "# list columns from dummies(HE)\n",
        "lcols = list(dummies.columns)\n",
        "\n",
        "# concatenate\n",
        "df = pd.concat([df, dummies],axis=1)\n",
        "df.head(3)"
      ]
    },
    {
      "cell_type": "code",
      "execution_count": 144,
      "metadata": {},
      "outputs": [
        {
          "data": {
            "text/plain": [
              "['room_type_Entire home/apt',\n",
              " 'room_type_Private room',\n",
              " 'room_type_Shared room']"
            ]
          },
          "execution_count": 144,
          "metadata": {},
          "output_type": "execute_result"
        }
      ],
      "source": [
        "lcols"
      ]
    },
    {
      "cell_type": "code",
      "execution_count": 145,
      "metadata": {},
      "outputs": [],
      "source": [
        "# Rename Columns\n",
        "for lcol in lcols:\n",
        "    newcol = lcol.replace('room_type', 'rt')\n",
        "    df.rename(columns={f'{lcol}':f'{newcol}'},inplace=True)"
      ]
    },
    {
      "cell_type": "code",
      "execution_count": 146,
      "metadata": {},
      "outputs": [
        {
          "data": {
            "text/plain": [
              "['id',\n",
              " 'name',\n",
              " 'host_id',\n",
              " 'host_name',\n",
              " 'neighbourhood_group',\n",
              " 'neighbourhood',\n",
              " 'latitude',\n",
              " 'longitude',\n",
              " 'room_type',\n",
              " 'price',\n",
              " 'minimum_nights',\n",
              " 'number_of_reviews',\n",
              " 'last_review',\n",
              " 'reviews_per_month',\n",
              " 'calculated_host_listings_count',\n",
              " 'availability_365',\n",
              " 'rt_Entire home/apt',\n",
              " 'rt_Private room',\n",
              " 'rt_Shared room']"
            ]
          },
          "execution_count": 146,
          "metadata": {},
          "output_type": "execute_result"
        }
      ],
      "source": [
        "list(df.columns)"
      ]
    },
    {
      "cell_type": "code",
      "execution_count": 147,
      "metadata": {},
      "outputs": [
        {
          "data": {
            "text/plain": [
              "id                                  int64\n",
              "name                               object\n",
              "host_id                             int64\n",
              "host_name                          object\n",
              "neighbourhood_group                object\n",
              "neighbourhood                      object\n",
              "latitude                          float64\n",
              "longitude                         float64\n",
              "room_type                          object\n",
              "price                               int64\n",
              "minimum_nights                      int64\n",
              "number_of_reviews                   int64\n",
              "last_review                        object\n",
              "reviews_per_month                 float64\n",
              "calculated_host_listings_count      int64\n",
              "availability_365                    int64\n",
              "rt_Entire home/apt                  uint8\n",
              "rt_Private room                     uint8\n",
              "rt_Shared room                      uint8\n",
              "dtype: object"
            ]
          },
          "execution_count": 147,
          "metadata": {},
          "output_type": "execute_result"
        }
      ],
      "source": [
        "df.dtypes"
      ]
    },
    {
      "cell_type": "code",
      "execution_count": 148,
      "metadata": {},
      "outputs": [
        {
          "data": {
            "text/html": [
              "<div>\n",
              "<style scoped>\n",
              "    .dataframe tbody tr th:only-of-type {\n",
              "        vertical-align: middle;\n",
              "    }\n",
              "\n",
              "    .dataframe tbody tr th {\n",
              "        vertical-align: top;\n",
              "    }\n",
              "\n",
              "    .dataframe thead th {\n",
              "        text-align: right;\n",
              "    }\n",
              "</style>\n",
              "<table border=\"1\" class=\"dataframe\">\n",
              "  <thead>\n",
              "    <tr style=\"text-align: right;\">\n",
              "      <th></th>\n",
              "      <th>id</th>\n",
              "      <th>name</th>\n",
              "      <th>host_id</th>\n",
              "      <th>host_name</th>\n",
              "      <th>neighbourhood_group</th>\n",
              "      <th>neighbourhood</th>\n",
              "      <th>latitude</th>\n",
              "      <th>longitude</th>\n",
              "      <th>room_type</th>\n",
              "      <th>price</th>\n",
              "      <th>minimum_nights</th>\n",
              "      <th>number_of_reviews</th>\n",
              "      <th>last_review</th>\n",
              "      <th>reviews_per_month</th>\n",
              "      <th>calculated_host_listings_count</th>\n",
              "      <th>availability_365</th>\n",
              "      <th>rt_Entire home/apt</th>\n",
              "      <th>rt_Private room</th>\n",
              "      <th>rt_Shared room</th>\n",
              "    </tr>\n",
              "  </thead>\n",
              "  <tbody>\n",
              "    <tr>\n",
              "      <th>0</th>\n",
              "      <td>20913</td>\n",
              "      <td>Charming 1 bed GR8 WBurg LOCATION!</td>\n",
              "      <td>79402</td>\n",
              "      <td>Christiana</td>\n",
              "      <td>Brooklyn</td>\n",
              "      <td>Williamsburg</td>\n",
              "      <td>40.70984</td>\n",
              "      <td>-73.95775</td>\n",
              "      <td>Entire home/apt</td>\n",
              "      <td>100</td>\n",
              "      <td>5</td>\n",
              "      <td>168</td>\n",
              "      <td>2018-07-22</td>\n",
              "      <td>1.57</td>\n",
              "      <td>1</td>\n",
              "      <td>0</td>\n",
              "      <td>1</td>\n",
              "      <td>0</td>\n",
              "      <td>0</td>\n",
              "    </tr>\n",
              "    <tr>\n",
              "      <th>1</th>\n",
              "      <td>25235</td>\n",
              "      <td>Large 2 Bedroom Great for Groups!</td>\n",
              "      <td>87773</td>\n",
              "      <td>Shelly</td>\n",
              "      <td>Brooklyn</td>\n",
              "      <td>Bedford-Stuyvesant</td>\n",
              "      <td>40.68373</td>\n",
              "      <td>-73.92377</td>\n",
              "      <td>Entire home/apt</td>\n",
              "      <td>125</td>\n",
              "      <td>90</td>\n",
              "      <td>162</td>\n",
              "      <td>2019-06-28</td>\n",
              "      <td>1.46</td>\n",
              "      <td>2</td>\n",
              "      <td>137</td>\n",
              "      <td>1</td>\n",
              "      <td>0</td>\n",
              "      <td>0</td>\n",
              "    </tr>\n",
              "    <tr>\n",
              "      <th>2</th>\n",
              "      <td>76761</td>\n",
              "      <td>Eveland the Place to Stay &amp; Enjoy a 5-⭐️ 2bdrm</td>\n",
              "      <td>118971</td>\n",
              "      <td>Evelyn</td>\n",
              "      <td>Brooklyn</td>\n",
              "      <td>South Slope</td>\n",
              "      <td>40.66552</td>\n",
              "      <td>-73.99019</td>\n",
              "      <td>Entire home/apt</td>\n",
              "      <td>169</td>\n",
              "      <td>2</td>\n",
              "      <td>398</td>\n",
              "      <td>2019-06-28</td>\n",
              "      <td>3.97</td>\n",
              "      <td>3</td>\n",
              "      <td>182</td>\n",
              "      <td>1</td>\n",
              "      <td>0</td>\n",
              "      <td>0</td>\n",
              "    </tr>\n",
              "  </tbody>\n",
              "</table>\n",
              "</div>"
            ],
            "text/plain": [
              "      id                                            name  host_id   host_name  \\\n",
              "0  20913              Charming 1 bed GR8 WBurg LOCATION!    79402  Christiana   \n",
              "1  25235               Large 2 Bedroom Great for Groups!    87773      Shelly   \n",
              "2  76761  Eveland the Place to Stay & Enjoy a 5-⭐️ 2bdrm   118971      Evelyn   \n",
              "\n",
              "  neighbourhood_group       neighbourhood  latitude  longitude  \\\n",
              "0            Brooklyn        Williamsburg  40.70984  -73.95775   \n",
              "1            Brooklyn  Bedford-Stuyvesant  40.68373  -73.92377   \n",
              "2            Brooklyn         South Slope  40.66552  -73.99019   \n",
              "\n",
              "         room_type  price  minimum_nights  number_of_reviews last_review  \\\n",
              "0  Entire home/apt    100               5                168  2018-07-22   \n",
              "1  Entire home/apt    125              90                162  2019-06-28   \n",
              "2  Entire home/apt    169               2                398  2019-06-28   \n",
              "\n",
              "   reviews_per_month  calculated_host_listings_count  availability_365  \\\n",
              "0               1.57                               1                 0   \n",
              "1               1.46                               2               137   \n",
              "2               3.97                               3               182   \n",
              "\n",
              "   rt_Entire home/apt  rt_Private room  rt_Shared room  \n",
              "0                   1                0               0  \n",
              "1                   1                0               0  \n",
              "2                   1                0               0  "
            ]
          },
          "execution_count": 148,
          "metadata": {},
          "output_type": "execute_result"
        }
      ],
      "source": [
        "df.head(3)"
      ]
    },
    {
      "cell_type": "markdown",
      "metadata": {
        "id": "kTCWwJ8WlMKx"
      },
      "source": [
        "## Defina a entrada `X` selecionando as variáveis de interesse\n",
        "\n",
        "Considere somente as variáveis numéricas e o *hot encode* de `room_type`"
      ]
    },
    {
      "cell_type": "code",
      "execution_count": 149,
      "metadata": {
        "id": "z9ssPeB7ehWc"
      },
      "outputs": [
        {
          "data": {
            "text/plain": [
              "id                                  int64\n",
              "host_id                             int64\n",
              "latitude                          float64\n",
              "longitude                         float64\n",
              "price                               int64\n",
              "minimum_nights                      int64\n",
              "number_of_reviews                   int64\n",
              "reviews_per_month                 float64\n",
              "calculated_host_listings_count      int64\n",
              "availability_365                    int64\n",
              "dtype: object"
            ]
          },
          "execution_count": 149,
          "metadata": {},
          "output_type": "execute_result"
        }
      ],
      "source": [
        "X = df.select_dtypes(include=['float64', 'int64'])\n",
        "X.dtypes\n"
      ]
    },
    {
      "cell_type": "code",
      "execution_count": 150,
      "metadata": {},
      "outputs": [],
      "source": [
        "#columns numerical variables"
      ]
    },
    {
      "cell_type": "markdown",
      "metadata": {
        "id": "ZBX27Gews1Di"
      },
      "source": [
        "## Normalize os dados\n",
        "\n",
        "Use a função `normalize` da biblioteca `sklearn.preprocessing`."
      ]
    },
    {
      "cell_type": "code",
      "execution_count": 156,
      "metadata": {
        "id": "itkiet2bszun"
      },
      "outputs": [],
      "source": [
        "# normalize\n",
        "scaler = Normalizer() \n",
        "scaler.fit(X)\n",
        "\n",
        "# fit transform\n",
        "X_norm = scaler.fit_transform(X)\n"
      ]
    },
    {
      "cell_type": "code",
      "execution_count": 158,
      "metadata": {},
      "outputs": [
        {
          "data": {
            "text/html": [
              "<div>\n",
              "<style scoped>\n",
              "    .dataframe tbody tr th:only-of-type {\n",
              "        vertical-align: middle;\n",
              "    }\n",
              "\n",
              "    .dataframe tbody tr th {\n",
              "        vertical-align: top;\n",
              "    }\n",
              "\n",
              "    .dataframe thead th {\n",
              "        text-align: right;\n",
              "    }\n",
              "</style>\n",
              "<table border=\"1\" class=\"dataframe\">\n",
              "  <thead>\n",
              "    <tr style=\"text-align: right;\">\n",
              "      <th></th>\n",
              "      <th>id</th>\n",
              "      <th>host_id</th>\n",
              "      <th>latitude</th>\n",
              "      <th>longitude</th>\n",
              "      <th>price</th>\n",
              "      <th>minimum_nights</th>\n",
              "      <th>number_of_reviews</th>\n",
              "      <th>reviews_per_month</th>\n",
              "      <th>calculated_host_listings_count</th>\n",
              "      <th>availability_365</th>\n",
              "    </tr>\n",
              "  </thead>\n",
              "  <tbody>\n",
              "    <tr>\n",
              "      <th>0</th>\n",
              "      <td>0.254694</td>\n",
              "      <td>0.967018</td>\n",
              "      <td>0.000496</td>\n",
              "      <td>-0.000901</td>\n",
              "      <td>0.001218</td>\n",
              "      <td>0.000061</td>\n",
              "      <td>0.002046</td>\n",
              "      <td>0.000019</td>\n",
              "      <td>0.000012</td>\n",
              "      <td>0.000000</td>\n",
              "    </tr>\n",
              "    <tr>\n",
              "      <th>1</th>\n",
              "      <td>0.276309</td>\n",
              "      <td>0.961064</td>\n",
              "      <td>0.000445</td>\n",
              "      <td>-0.000809</td>\n",
              "      <td>0.001369</td>\n",
              "      <td>0.000985</td>\n",
              "      <td>0.001774</td>\n",
              "      <td>0.000016</td>\n",
              "      <td>0.000022</td>\n",
              "      <td>0.001500</td>\n",
              "    </tr>\n",
              "    <tr>\n",
              "      <th>2</th>\n",
              "      <td>0.542151</td>\n",
              "      <td>0.840274</td>\n",
              "      <td>0.000287</td>\n",
              "      <td>-0.000523</td>\n",
              "      <td>0.001194</td>\n",
              "      <td>0.000014</td>\n",
              "      <td>0.002811</td>\n",
              "      <td>0.000028</td>\n",
              "      <td>0.000021</td>\n",
              "      <td>0.001285</td>\n",
              "    </tr>\n",
              "  </tbody>\n",
              "</table>\n",
              "</div>"
            ],
            "text/plain": [
              "         id   host_id  latitude  longitude     price  minimum_nights  \\\n",
              "0  0.254694  0.967018  0.000496  -0.000901  0.001218        0.000061   \n",
              "1  0.276309  0.961064  0.000445  -0.000809  0.001369        0.000985   \n",
              "2  0.542151  0.840274  0.000287  -0.000523  0.001194        0.000014   \n",
              "\n",
              "   number_of_reviews  reviews_per_month  calculated_host_listings_count  \\\n",
              "0           0.002046           0.000019                        0.000012   \n",
              "1           0.001774           0.000016                        0.000022   \n",
              "2           0.002811           0.000028                        0.000021   \n",
              "\n",
              "   availability_365  \n",
              "0          0.000000  \n",
              "1          0.001500  \n",
              "2          0.001285  "
            ]
          },
          "execution_count": 158,
          "metadata": {},
          "output_type": "execute_result"
        }
      ],
      "source": [
        "# dataframe from X normalized.\n",
        "data_normalized = pd.DataFrame(X_norm, columns=X.columns)\n",
        "data_normalized.head(3)"
      ]
    },
    {
      "cell_type": "markdown",
      "metadata": {
        "id": "YeiT9oXumyn8"
      },
      "source": [
        "## Selecione o número de Clusters\n",
        "\n",
        "Empregando a Clusterização Hierárquica Aglomerativa, com distência Euclidiana e `linkage='ward'` determine o número de clusters usando a métrica `Siclhouette`.\n",
        "\n",
        "\n"
      ]
    },
    {
      "cell_type": "code",
      "execution_count": 160,
      "metadata": {
        "id": "9VXrPRA7mQGl"
      },
      "outputs": [
        {
          "name": "stdout",
          "output_type": "stream",
          "text": [
            "average value for - Silhouette ...: 2  clusters:  0.6885850085468022\n",
            "average value for - Silhouette ...: 3  clusters:  0.6681898896960717\n",
            "average value for - Silhouette ...: 4  clusters:  0.6465791830372666\n",
            "average value for - Silhouette ...: 5  clusters:  0.6485463213733534\n",
            "average value for - Silhouette ...: 6  clusters:  0.6417397887521722\n",
            "average value for - Silhouette ...: 7  clusters:  0.655573123071331\n"
          ]
        }
      ],
      "source": [
        "from sklearn.cluster import AgglomerativeClustering\n",
        "from sklearn.metrics import silhouette_score\n",
        "\n",
        "for n_clusters in range(2,8):\n",
        "  clf = AgglomerativeClustering(n_clusters=n_clusters, affinity='euclidean', linkage='ward')\n",
        "  clf.fit_predict(data_normalized)\n",
        "  labels = clf.labels_\n",
        "  print('average value for - Silhouette ...:', n_clusters , ' clusters: ', silhouette_score(data_normalized, labels, metric='euclidean'))\n"
      ]
    },
    {
      "cell_type": "markdown",
      "metadata": {
        "id": "-GtunBXWnF1P"
      },
      "source": [
        "## Clusterize os dados\n",
        "\n",
        "Exiba os rótulos (labels) gerados. Adicione então os labels ao dataframe original em uma nova coluna `cluster`."
      ]
    },
    {
      "cell_type": "code",
      "execution_count": 164,
      "metadata": {
        "id": "1srfzIVBqv7y"
      },
      "outputs": [
        {
          "name": "stdout",
          "output_type": "stream",
          "text": [
            "[0 0 0 0 0 0 0 0 0 0 0 0 0 0 0 0 0 0 0 0 0 1 0 0 0 0 0 1 0 0 0 1 0 0 0 0 0\n",
            " 0 0 0 1 0 0 0 0 0 0 0 0 0 0 1 0 0 0 0 0 0 0 0 0 0 0 0 0 0 1 0 0 0 0 0 0 0\n",
            " 0 0 0 1 0 0 0 0 0 0 0 1 0 0 0 0 0 0 0 0 1 0 0 1 0 0 0 0 0 1 0 1 1 0 0 0 0\n",
            " 0 0 1 0 0 0 0 1 1 0 0 0 0 0 0 0 0 0 0 0 0 1 0 1 1 0 0 1 0 1 0 0 0 0 0 0 0\n",
            " 0 1 0 1 0 0 0 1 0 0 0 0 0 0 0 0 1 1 0 0 0 0 0 0 1 1 0 0 0 1 0 0 0 0 0 1 0\n",
            " 0 1 1 1 0 1 0 0 1 0 0 1 0 1 0 0 0 0 0 0 0 1 0 0 0 0 1 0 1 0 1 0 0 0 1 0 0\n",
            " 0 1 0 0 0 1 0 0 1 1 0 0 0 0 0 0 0 0 0 0 1 1 0 0 0 0 0 0 1 0 0 0 0 0 1 0 0\n",
            " 0 0 0 0 0 0 0 0 0 0 0 0 0 0 0 1 1 0 0 0 0 1 0 0 0 0 0 0 1 0 1 1 0 1 0 0 0\n",
            " 0 0 0 0 0 0 1 0 1 1 0 0 0 0 1 0 0 0 0 0 0 0 1 0 0 0 0 1 1 0 0 1 0 0 1 0 0\n",
            " 0 0 0 0 1 0 0 0 0 0 0 0 0 0 0 1 1 0 0 0 1 1 0 0 0 0 0 1 0 0 0 0 0 0 0 0 0\n",
            " 0 1 0 0 0 1 0 1 0 0 1 0 0 0 0 0 1 1 0 1 0 0 0 0 0 0 0 0 0 0 0 1 0 0 1 1 0\n",
            " 0 0 1 1 0 0 0 1 1 0 1 0 0 0 1 0 0 1 0 0 0 0 0 0 0 1 1 0 0 0 0 0 0 0 0 0 0\n",
            " 0 0 0 1 0 0 0 1 0 1 0 0 1 0 0 0 0 1 0 0 1 0 0 0 0 0 0 0 0 0 1 0 0 1 0 1 0\n",
            " 1 0 0 1 0 0 0 0 0 0 1 0 1 0 0 0 0 1 1 0 0 0 1 0 0 0 0 1 0 0 1 1 0 0 0 0 0\n",
            " 1 1 1 0 0 0 0 1 0 0 1 0 0 0 0 0 1 0 0 0 0 0 0 1 1 1 0 0 0 0 0 0 0 0 0 1 0\n",
            " 0 0 0 1 0 0 0 0 0 0 0 0 0 1 0 0 1 0 0 0 0 0 0 1 0 1 0 0 0 0 0 0 0 0 0 0 0\n",
            " 0 1 0 0 0 0 0 0 0 0 0 0 1 1 0 0 0 0 0 0 0 0 0 0 1 0 0 0 0 0 0 0 0 0 0 0]\n"
          ]
        },
        {
          "data": {
            "text/html": [
              "<div>\n",
              "<style scoped>\n",
              "    .dataframe tbody tr th:only-of-type {\n",
              "        vertical-align: middle;\n",
              "    }\n",
              "\n",
              "    .dataframe tbody tr th {\n",
              "        vertical-align: top;\n",
              "    }\n",
              "\n",
              "    .dataframe thead th {\n",
              "        text-align: right;\n",
              "    }\n",
              "</style>\n",
              "<table border=\"1\" class=\"dataframe\">\n",
              "  <thead>\n",
              "    <tr style=\"text-align: right;\">\n",
              "      <th></th>\n",
              "      <th>id</th>\n",
              "      <th>name</th>\n",
              "      <th>host_id</th>\n",
              "      <th>host_name</th>\n",
              "      <th>neighbourhood_group</th>\n",
              "      <th>neighbourhood</th>\n",
              "      <th>latitude</th>\n",
              "      <th>longitude</th>\n",
              "      <th>room_type</th>\n",
              "      <th>price</th>\n",
              "      <th>minimum_nights</th>\n",
              "      <th>number_of_reviews</th>\n",
              "      <th>last_review</th>\n",
              "      <th>reviews_per_month</th>\n",
              "      <th>calculated_host_listings_count</th>\n",
              "      <th>availability_365</th>\n",
              "      <th>rt_Entire home/apt</th>\n",
              "      <th>rt_Private room</th>\n",
              "      <th>rt_Shared room</th>\n",
              "      <th>cluster</th>\n",
              "    </tr>\n",
              "  </thead>\n",
              "  <tbody>\n",
              "    <tr>\n",
              "      <th>0</th>\n",
              "      <td>20913</td>\n",
              "      <td>Charming 1 bed GR8 WBurg LOCATION!</td>\n",
              "      <td>79402</td>\n",
              "      <td>Christiana</td>\n",
              "      <td>Brooklyn</td>\n",
              "      <td>Williamsburg</td>\n",
              "      <td>40.70984</td>\n",
              "      <td>-73.95775</td>\n",
              "      <td>Entire home/apt</td>\n",
              "      <td>100</td>\n",
              "      <td>5</td>\n",
              "      <td>168</td>\n",
              "      <td>2018-07-22</td>\n",
              "      <td>1.57</td>\n",
              "      <td>1</td>\n",
              "      <td>0</td>\n",
              "      <td>1</td>\n",
              "      <td>0</td>\n",
              "      <td>0</td>\n",
              "      <td>0</td>\n",
              "    </tr>\n",
              "    <tr>\n",
              "      <th>1</th>\n",
              "      <td>25235</td>\n",
              "      <td>Large 2 Bedroom Great for Groups!</td>\n",
              "      <td>87773</td>\n",
              "      <td>Shelly</td>\n",
              "      <td>Brooklyn</td>\n",
              "      <td>Bedford-Stuyvesant</td>\n",
              "      <td>40.68373</td>\n",
              "      <td>-73.92377</td>\n",
              "      <td>Entire home/apt</td>\n",
              "      <td>125</td>\n",
              "      <td>90</td>\n",
              "      <td>162</td>\n",
              "      <td>2019-06-28</td>\n",
              "      <td>1.46</td>\n",
              "      <td>2</td>\n",
              "      <td>137</td>\n",
              "      <td>1</td>\n",
              "      <td>0</td>\n",
              "      <td>0</td>\n",
              "      <td>0</td>\n",
              "    </tr>\n",
              "    <tr>\n",
              "      <th>2</th>\n",
              "      <td>76761</td>\n",
              "      <td>Eveland the Place to Stay &amp; Enjoy a 5-⭐️ 2bdrm</td>\n",
              "      <td>118971</td>\n",
              "      <td>Evelyn</td>\n",
              "      <td>Brooklyn</td>\n",
              "      <td>South Slope</td>\n",
              "      <td>40.66552</td>\n",
              "      <td>-73.99019</td>\n",
              "      <td>Entire home/apt</td>\n",
              "      <td>169</td>\n",
              "      <td>2</td>\n",
              "      <td>398</td>\n",
              "      <td>2019-06-28</td>\n",
              "      <td>3.97</td>\n",
              "      <td>3</td>\n",
              "      <td>182</td>\n",
              "      <td>1</td>\n",
              "      <td>0</td>\n",
              "      <td>0</td>\n",
              "      <td>0</td>\n",
              "    </tr>\n",
              "    <tr>\n",
              "      <th>3</th>\n",
              "      <td>135465</td>\n",
              "      <td>Garden apartment close to Manhattan</td>\n",
              "      <td>663879</td>\n",
              "      <td>Christopher</td>\n",
              "      <td>Brooklyn</td>\n",
              "      <td>Fort Greene</td>\n",
              "      <td>40.68626</td>\n",
              "      <td>-73.97598</td>\n",
              "      <td>Entire home/apt</td>\n",
              "      <td>170</td>\n",
              "      <td>3</td>\n",
              "      <td>86</td>\n",
              "      <td>2019-06-20</td>\n",
              "      <td>0.91</td>\n",
              "      <td>2</td>\n",
              "      <td>286</td>\n",
              "      <td>1</td>\n",
              "      <td>0</td>\n",
              "      <td>0</td>\n",
              "      <td>0</td>\n",
              "    </tr>\n",
              "    <tr>\n",
              "      <th>4</th>\n",
              "      <td>169002</td>\n",
              "      <td>Modern Space in Charming Pre-war</td>\n",
              "      <td>805344</td>\n",
              "      <td>Alec</td>\n",
              "      <td>Manhattan</td>\n",
              "      <td>Harlem</td>\n",
              "      <td>40.82411</td>\n",
              "      <td>-73.94934</td>\n",
              "      <td>Private room</td>\n",
              "      <td>65</td>\n",
              "      <td>2</td>\n",
              "      <td>41</td>\n",
              "      <td>2019-06-16</td>\n",
              "      <td>0.43</td>\n",
              "      <td>2</td>\n",
              "      <td>59</td>\n",
              "      <td>0</td>\n",
              "      <td>1</td>\n",
              "      <td>0</td>\n",
              "      <td>0</td>\n",
              "    </tr>\n",
              "  </tbody>\n",
              "</table>\n",
              "</div>"
            ],
            "text/plain": [
              "       id                                            name  host_id  \\\n",
              "0   20913              Charming 1 bed GR8 WBurg LOCATION!    79402   \n",
              "1   25235               Large 2 Bedroom Great for Groups!    87773   \n",
              "2   76761  Eveland the Place to Stay & Enjoy a 5-⭐️ 2bdrm   118971   \n",
              "3  135465             Garden apartment close to Manhattan   663879   \n",
              "4  169002                Modern Space in Charming Pre-war   805344   \n",
              "\n",
              "     host_name neighbourhood_group       neighbourhood  latitude  longitude  \\\n",
              "0   Christiana            Brooklyn        Williamsburg  40.70984  -73.95775   \n",
              "1       Shelly            Brooklyn  Bedford-Stuyvesant  40.68373  -73.92377   \n",
              "2       Evelyn            Brooklyn         South Slope  40.66552  -73.99019   \n",
              "3  Christopher            Brooklyn         Fort Greene  40.68626  -73.97598   \n",
              "4         Alec           Manhattan              Harlem  40.82411  -73.94934   \n",
              "\n",
              "         room_type  price  minimum_nights  number_of_reviews last_review  \\\n",
              "0  Entire home/apt    100               5                168  2018-07-22   \n",
              "1  Entire home/apt    125              90                162  2019-06-28   \n",
              "2  Entire home/apt    169               2                398  2019-06-28   \n",
              "3  Entire home/apt    170               3                 86  2019-06-20   \n",
              "4     Private room     65               2                 41  2019-06-16   \n",
              "\n",
              "   reviews_per_month  calculated_host_listings_count  availability_365  \\\n",
              "0               1.57                               1                 0   \n",
              "1               1.46                               2               137   \n",
              "2               3.97                               3               182   \n",
              "3               0.91                               2               286   \n",
              "4               0.43                               2                59   \n",
              "\n",
              "   rt_Entire home/apt  rt_Private room  rt_Shared room  cluster  \n",
              "0                   1                0               0        0  \n",
              "1                   1                0               0        0  \n",
              "2                   1                0               0        0  \n",
              "3                   1                0               0        0  \n",
              "4                   0                1               0        0  "
            ]
          },
          "execution_count": 164,
          "metadata": {},
          "output_type": "execute_result"
        }
      ],
      "source": [
        "from sklearn.cluster import AgglomerativeClustering\n",
        "\n",
        "# Selection 2 Cluster.\n",
        "\n",
        "## define model\n",
        "clf = AgglomerativeClustering(n_clusters=2, affinity='euclidean', linkage='ward')\n",
        "\n",
        "## trainning\n",
        "clf.fit(data_normalized)\n",
        "\n",
        "# results\n",
        "labels = clf.labels_\n",
        "print(labels)\n",
        "\n",
        "# associating the data\n",
        "df['cluster'] = labels\n",
        "df.head()"
      ]
    },
    {
      "cell_type": "markdown",
      "metadata": {
        "id": "CfSskAEIUNl5"
      },
      "source": [
        "##  Exiba o Dendograma"
      ]
    },
    {
      "cell_type": "code",
      "execution_count": 165,
      "metadata": {
        "id": "6mNBDvj2myoC"
      },
      "outputs": [
        {
          "data": {
            "image/png": "[encoded data removed]",
            "text/plain": [
              "<Figure size 1200x500 with 1 Axes>"
            ]
          },
          "metadata": {},
          "output_type": "display_data"
        }
      ],
      "source": [
        "# Seu código\n",
        "import scipy.cluster.hierarchy as shc\n",
        "import matplotlib.pyplot as plt\n",
        "\n",
        "plt.figure(figsize=(12, 5))\n",
        "plt.title(\"Dendrogram\")\n",
        "plt.xticks(rotation=90)\n",
        "\n",
        "dendrogram = shc.dendrogram(shc.linkage(data_normalized, method='ward')) # cuidado com o nome\n",
        "plt.axhline(y=6, color='r', linestyle='--')\n",
        "\n",
        "plt.show()\n"
      ]
    },
    {
      "cell_type": "markdown",
      "metadata": {
        "id": "b-_tBv7ZXpPT"
      },
      "source": [
        "## Caracterizando os grupos (**RESOLVIDO**)\n",
        "\n",
        "Verificando os valores médios de cada grupo."
      ]
    },
    {
      "cell_type": "code",
      "execution_count": 169,
      "metadata": {},
      "outputs": [
        {
          "data": {
            "text/plain": [
              "Index(['id', 'host_id', 'latitude', 'longitude', 'price', 'minimum_nights',\n",
              "       'number_of_reviews', 'reviews_per_month',\n",
              "       'calculated_host_listings_count', 'availability_365'],\n",
              "      dtype='object')"
            ]
          },
          "execution_count": 169,
          "metadata": {},
          "output_type": "execute_result"
        }
      ],
      "source": [
        "data_normalized.columns"
      ]
    },
    {
      "cell_type": "code",
      "execution_count": 171,
      "metadata": {
        "colab": {
          "base_uri": "https://localhost:8080/",
          "height": 251
        },
        "id": "S6jyO5goGHz6",
        "outputId": "0bd3a795-6fdb-485c-d6b7-51c757abe2ea"
      },
      "outputs": [
        {
          "data": {
            "image/png": "[encoded data removed]",
            "text/plain": [
              "<Figure size 1200x500 with 1 Axes>"
            ]
          },
          "metadata": {},
          "output_type": "display_data"
        },
        {
          "data": {
            "image/png": "[encoded data removed]",
            "text/plain": [
              "<Figure size 1200x500 with 1 Axes>"
            ]
          },
          "metadata": {},
          "output_type": "display_data"
        }
      ],
      "source": [
        "import matplotlib.pyplot as plt\n",
        "import seaborn as sns\n",
        "\n",
        "g = df[['latitude', 'longitude','price',\n",
        "       'minimum_nights', 'number_of_reviews',\n",
        "       'reviews_per_month', 'calculated_host_listings_count',\n",
        "       'availability_365', 'rt_Entire home/apt', 'rt_Private room', 'rt_Shared room',\n",
        "        'cluster']]\n",
        "\n",
        "f = plt.figure(figsize=(12,5))\n",
        "sns.barplot(data=g[g.cluster==0].drop(columns='cluster'))\n",
        "plt.xticks(rotation=45)\n",
        "plt.title('...')\n",
        "plt.show()\n",
        "\n",
        "f = plt.figure(figsize=(12,5))\n",
        "sns.barplot(data=g[g.cluster==1].drop(columns='cluster'))\n",
        "plt.xticks(rotation=45)\n",
        "plt.title('...')\n",
        "plt.show()"
      ]
    }
  ],
  "metadata": {
    "anaconda-cloud": {},
    "colab": {
      "collapsed_sections": [
        "fPr6XIcT6kSZ",
        "XvVuBspNByGd"
      ],
      "provenance": []
    },
    "kernelspec": {
      "display_name": "Python 3",
      "language": "python",
      "name": "python3"
    },
    "language_info": {
      "codemirror_mode": {
        "name": "ipython",
        "version": 3
      },
      "file_extension": ".py",
      "mimetype": "text/x-python",
      "name": "python",
      "nbconvert_exporter": "python",
      "pygments_lexer": "ipython3",
      "version": "3.8.10"
    }
  },
  "nbformat": 4,
  "nbformat_minor": 0
}

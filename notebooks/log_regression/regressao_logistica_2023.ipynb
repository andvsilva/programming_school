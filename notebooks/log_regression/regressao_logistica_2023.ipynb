{
  "cells": [
    {
      "cell_type": "markdown",
      "metadata": {
        "id": "gglUriLmo1sR"
      },
      "source": [
        "<head>\n",
        "  <meta name=\"author\" content=\"Rogério de Oliveira\">\n",
        "  <meta institution=\"author\" content=\"Universidade Presbiteriana Mackenzie\">\n",
        "</head>\n",
        "\n",
        "<img src=\"http://meusite.mackenzie.br/rogerio/mackenzie_logo/UPM.2_horizontal_vermelho.jpg\" width=300, align=\"right\"></a>\n",
        "<!-- <h1 align=left><font size = 6, style=\"color:rgb(200,0,0)\"> optional title </font></h1> -->"
      ]
    },
    {
      "cell_type": "markdown",
      "metadata": {
        "id": "x3RSAcU_o1sU"
      },
      "source": [
        "# **Regressão Logística**\n",
        "---"
      ]
    },
    {
      "cell_type": "markdown",
      "metadata": {
        "id": "Li1FPlObIQAh"
      },
      "source": [
        "## Regressão Logística\n",
        "\n",
        "A regressão logística é um modelo estatístico utilizado para modelar a probabilidade de ocorrência de um evento ou resultado, especialmente em situações binárias, onde a variável de saída pode ter apenas dois valores possíveis.\n",
        "\n",
        "As variáveis explicativas em um modelo de regressão logística são aquelas que são usadas para prever a variável de saída binária. Elas são chamadas de variáveis independentes ou preditoras. No contexto da regressão logística, essas variáveis podem ser numéricas ou categóricas e são utilizadas para calcular a probabilidade de ocorrência do evento de interesse.\n",
        "\n",
        "Por exemplo, se estivermos analisando a probabilidade de um cliente comprar um produto (evento = compra), as variáveis explicativas podem incluir informações como idade, sexo, renda, histórico de compras anteriores, entre outros. Essas variáveis ajudarão a modelar como cada uma delas influencia a probabilidade de compr\n",
        "\n",
        "\n",
        "Os modelos de regressão logística são particularmente úteis em problemas de classificação, onde se deseja estimar em qual categoria os dados devem ser classificados. Como possíveis aplicações pode-se citar as seguintes áreas:\n",
        "<br>\n",
        "<br>\n",
        "\n",
        "**Médica:** Determinar as chances de se desenvolver uma determinada doença, baseado em caracteristicas gerais do paciente.\n",
        "\n",
        "**Financeira:** Determinar se um emprestimo pode ser concedido a um cliente ou não.\n",
        "\n",
        "**Social:** Estimar as chances de uma pessoa votar em um candidato ou não.\n",
        "\n",
        "**Industrial:** Estimar as chances de falhas em processos produtivos.\n",
        "\n",
        "**Marketing:** Estimar as chances de um cliente adquirir um determinado protudo ou pacote de serviços.\n",
        "\n",
        "\n",
        "\n",
        "\n",
        "\n",
        "\n",
        "\n",
        "\n"
      ]
    },
    {
      "cell_type": "markdown",
      "metadata": {
        "id": "mGhb-8atV0E-"
      },
      "source": [
        "## Exemplo\n",
        "\n",
        "Suponha que se deseja analisar as chances de um indivíduo ter problemas com pressão alta. Existem diversos fatores que influenciam este problema, mas para este exemplo vamos considerar apenas dois: idade e peso. Considere que um determinado hospital possui uma base de dados com 100 pessoas, suas idades e pesos, e também se sofrem de pressão alta ou não.\n",
        "\n",
        "A variável dependente é a ocorrencia de pressão alta. Ter pressão alta é igual a 1 e não ter é igual a 0.\n",
        "\n",
        "As variáveis independentes são idade e peso. Nesse exemplo, o que a regressão logistica se propõe, é a criação de um modelo logístico que possa estimar a probabilidade de um individuo ter problemas de pressão, baseado em sua idade e seu peso.\n",
        "<br>\n",
        "\n",
        "Então, suponha que se deseja estimar a probabilidade de um individuo de 50 anos e com 98Kg ter problemas de pressão alta. Ao inserir os dados no modelo, o resultado vai ser um número entre 0 e 1, representando a probabilidade daquela pessoa ter problemas de pressão.\n"
      ]
    },
    {
      "cell_type": "markdown",
      "metadata": {
        "id": "_LZsmTAEYpHo"
      },
      "source": [
        "##Chance\n",
        "\n",
        "Com a probabilidade calculada, pode-se calcular também as chances de ocorrência de um evento.\n",
        "\n",
        "No exemplo anterior, se o modelo preve que uma pessoa de 50 anos e 98Kg tem a probabilidade de **p= 0,8** (80%) de desenvolver problemas de pressão alta então podemos dizer que essa pessoa tem a probabilidade de **1-p = 0,2** (20%) de não ter esse problema.\n",
        "\n",
        "A chance é definida como:\n",
        "<br>\n",
        "<br>\n",
        "$$ Chance = p/(1-p)$$ nesse caso, $$Chance = 0,8/0,2$$ $$Chance = 4$$\n",
        "<br>\n",
        "O que significa uma pessoa nessas condições tem 4x mais chances de desenvolver pressão alta do que de não desenvolver."
      ]
    },
    {
      "cell_type": "markdown",
      "metadata": {
        "id": "FNVg8nxS0Bas"
      },
      "source": [
        "## Modelo"
      ]
    },
    {
      "cell_type": "markdown",
      "metadata": {
        "id": "wiNNYsrP0Icc"
      },
      "source": [
        "$$\\dfrac{p}{1-p} = e^{a_0 + a_{1} X_{1} + a_{2} X_{2} + ... + a_{n} X_{n}},$$\n",
        "\n",
        "em que $X_1,...,X_n$ são variáveis explicativas e $a_0, a_1,...,a_n$ os coeficientes a serem estimados. Isolando P (probabilidade de ter um \"sucesso\") temos que:"
      ]
    },
    {
      "cell_type": "markdown",
      "metadata": {
        "id": "9gu7B_Kx0rU4"
      },
      "source": [
        "$$P(Y=1)=P= \\dfrac{e^{a_0 + a_{1} X_{1} + a_{2} X_{2} + ... + a_{n} X_{n}}}{1+e^{a_0 + a_{1} X_{1} + a_{2} X_{2} + ... + a_{n} X_{n}}}$$"
      ]
    },
    {
      "cell_type": "markdown",
      "metadata": {
        "id": "NQ5vcNdj09YA"
      },
      "source": [
        "Nestes modelos é estimada a probabilidade de ter um \"sucesso\", por exemplo, a probabilidade de uma pessoa desenvolver problemas de tensão alta."
      ]
    },
    {
      "cell_type": "markdown",
      "metadata": {
        "id": "IRed5j3hBH3r"
      },
      "source": [
        "## Comparativo\n",
        "\n",
        "**Regressão linear**\n",
        "\n",
        "\n",
        "*   Variáveis contínuas\n",
        "*   Resolve problemas de regressão\n",
        "*   Função é uma reta\n",
        "\n",
        "**Regressão logistica**\n",
        "\n",
        "\n",
        "*   Variável resposta categórica\n",
        "*   Resolve problemas de classificação\n",
        "*   Função S-Curve\n"
      ]
    },
    {
      "cell_type": "markdown",
      "metadata": {
        "deletable": true,
        "editable": true,
        "id": "qK4Wi5vshpPc"
      },
      "source": [
        "## Uma regressão logística simples\n",
        "\n",
        "Vamos começar com uma regressão simples de valores aleatórios apenas para você se familiarizar com a construção do modelo."
      ]
    },
    {
      "cell_type": "code",
      "execution_count": 1,
      "metadata": {
        "id": "UPVeFK3a5i6d"
      },
      "outputs": [],
      "source": [
        "import pandas                  as pd\n",
        "import numpy                   as np\n",
        "import matplotlib.pyplot       as plt\n",
        "import seaborn                 as sns\n",
        "import statsmodels.formula.api as sm\n",
        "import warnings\n",
        "warnings.filterwarnings(\"ignore\")"
      ]
    },
    {
      "cell_type": "markdown",
      "metadata": {
        "id": "hsCr050-MUNR"
      },
      "source": [
        "Gerando uma amostra de 5 valores \"aleatórios\" a partir de uma função linear.    "
      ]
    },
    {
      "cell_type": "code",
      "execution_count": 2,
      "metadata": {
        "colab": {
          "base_uri": "https://localhost:8080/"
        },
        "id": "sznpJTvdo5ku",
        "outputId": "f6ff71b0-46fb-48ca-de3a-3e7d76710bb5"
      },
      "outputs": [
        {
          "name": "stdout",
          "output_type": "stream",
          "text": [
            "[5.5, 7.2, 6.0, 5.4, 4.2]\n"
          ]
        }
      ],
      "source": [
        "rng = np.random.RandomState(0)\n",
        "notas = []\n",
        "for nota in rng.rand(5)*10:    #gera 5 números aleatórios entre 0 e 1, e multiplica por 10\n",
        "    notas.append(round(nota,1)) #arredonda o resultado para 1 casa deciamal\n",
        "\n",
        "print(notas)"
      ]
    },
    {
      "cell_type": "markdown",
      "metadata": {
        "id": "p1DVCm6eypCh"
      },
      "source": [
        "Vamos definir o critério de aprovação/reprovação em 6, mas o modelo **não** vai ter acesso a esse número.\n",
        "Na verdade, o modelo deve ser capaz de observar os dados e entender o critério que foi adotado."
      ]
    },
    {
      "cell_type": "code",
      "execution_count": 3,
      "metadata": {
        "colab": {
          "base_uri": "https://localhost:8080/"
        },
        "id": "guN6Czznylm9",
        "outputId": "3fc964e8-62cc-4e92-d26e-0fc5a4e9ccb6"
      },
      "outputs": [
        {
          "name": "stdout",
          "output_type": "stream",
          "text": [
            "['reprovado', 'aprovado', 'aprovado', 'reprovado', 'reprovado']\n"
          ]
        }
      ],
      "source": [
        "situacao = []\n",
        "for nota in notas:\n",
        "    if nota>=6.0:\n",
        "        situacao.append('aprovado')\n",
        "    else:\n",
        "        situacao.append('reprovado')\n",
        "\n",
        "print(situacao)"
      ]
    },
    {
      "cell_type": "code",
      "execution_count": 4,
      "metadata": {
        "id": "58ZX12zsrbv6"
      },
      "outputs": [],
      "source": [
        "df_notas = pd.DataFrame({'nota':notas})\n",
        "df_situacao = pd.DataFrame({'situacao':situacao})"
      ]
    },
    {
      "cell_type": "code",
      "execution_count": 5,
      "metadata": {
        "colab": {
          "base_uri": "https://localhost:8080/"
        },
        "id": "mbIFKrpiuN6a",
        "outputId": "7a862ec8-9082-4fea-9704-44a9d6afa32e"
      },
      "outputs": [
        {
          "data": {
            "text/html": [
              "<style>#sk-container-id-1 {color: black;background-color: white;}#sk-container-id-1 pre{padding: 0;}#sk-container-id-1 div.sk-toggleable {background-color: white;}#sk-container-id-1 label.sk-toggleable__label {cursor: pointer;display: block;width: 100%;margin-bottom: 0;padding: 0.3em;box-sizing: border-box;text-align: center;}#sk-container-id-1 label.sk-toggleable__label-arrow:before {content: \"▸\";float: left;margin-right: 0.25em;color: #696969;}#sk-container-id-1 label.sk-toggleable__label-arrow:hover:before {color: black;}#sk-container-id-1 div.sk-estimator:hover label.sk-toggleable__label-arrow:before {color: black;}#sk-container-id-1 div.sk-toggleable__content {max-height: 0;max-width: 0;overflow: hidden;text-align: left;background-color: #f0f8ff;}#sk-container-id-1 div.sk-toggleable__content pre {margin: 0.2em;color: black;border-radius: 0.25em;background-color: #f0f8ff;}#sk-container-id-1 input.sk-toggleable__control:checked~div.sk-toggleable__content {max-height: 200px;max-width: 100%;overflow: auto;}#sk-container-id-1 input.sk-toggleable__control:checked~label.sk-toggleable__label-arrow:before {content: \"▾\";}#sk-container-id-1 div.sk-estimator input.sk-toggleable__control:checked~label.sk-toggleable__label {background-color: #d4ebff;}#sk-container-id-1 div.sk-label input.sk-toggleable__control:checked~label.sk-toggleable__label {background-color: #d4ebff;}#sk-container-id-1 input.sk-hidden--visually {border: 0;clip: rect(1px 1px 1px 1px);clip: rect(1px, 1px, 1px, 1px);height: 1px;margin: -1px;overflow: hidden;padding: 0;position: absolute;width: 1px;}#sk-container-id-1 div.sk-estimator {font-family: monospace;background-color: #f0f8ff;border: 1px dotted black;border-radius: 0.25em;box-sizing: border-box;margin-bottom: 0.5em;}#sk-container-id-1 div.sk-estimator:hover {background-color: #d4ebff;}#sk-container-id-1 div.sk-parallel-item::after {content: \"\";width: 100%;border-bottom: 1px solid gray;flex-grow: 1;}#sk-container-id-1 div.sk-label:hover label.sk-toggleable__label {background-color: #d4ebff;}#sk-container-id-1 div.sk-serial::before {content: \"\";position: absolute;border-left: 1px solid gray;box-sizing: border-box;top: 0;bottom: 0;left: 50%;z-index: 0;}#sk-container-id-1 div.sk-serial {display: flex;flex-direction: column;align-items: center;background-color: white;padding-right: 0.2em;padding-left: 0.2em;position: relative;}#sk-container-id-1 div.sk-item {position: relative;z-index: 1;}#sk-container-id-1 div.sk-parallel {display: flex;align-items: stretch;justify-content: center;background-color: white;position: relative;}#sk-container-id-1 div.sk-item::before, #sk-container-id-1 div.sk-parallel-item::before {content: \"\";position: absolute;border-left: 1px solid gray;box-sizing: border-box;top: 0;bottom: 0;left: 50%;z-index: -1;}#sk-container-id-1 div.sk-parallel-item {display: flex;flex-direction: column;z-index: 1;position: relative;background-color: white;}#sk-container-id-1 div.sk-parallel-item:first-child::after {align-self: flex-end;width: 50%;}#sk-container-id-1 div.sk-parallel-item:last-child::after {align-self: flex-start;width: 50%;}#sk-container-id-1 div.sk-parallel-item:only-child::after {width: 0;}#sk-container-id-1 div.sk-dashed-wrapped {border: 1px dashed gray;margin: 0 0.4em 0.5em 0.4em;box-sizing: border-box;padding-bottom: 0.4em;background-color: white;}#sk-container-id-1 div.sk-label label {font-family: monospace;font-weight: bold;display: inline-block;line-height: 1.2em;}#sk-container-id-1 div.sk-label-container {text-align: center;}#sk-container-id-1 div.sk-container {/* jupyter's `normalize.less` sets `[hidden] { display: none; }` but bootstrap.min.css set `[hidden] { display: none !important; }` so we also need the `!important` here to be able to override the default hidden behavior on the sphinx rendered scikit-learn.org. See: https://github.com/scikit-learn/scikit-learn/issues/21755 */display: inline-block !important;position: relative;}#sk-container-id-1 div.sk-text-repr-fallback {display: none;}</style><div id=\"sk-container-id-1\" class=\"sk-top-container\"><div class=\"sk-text-repr-fallback\"><pre>LogisticRegression()</pre><b>In a Jupyter environment, please rerun this cell to show the HTML representation or trust the notebook. <br />On GitHub, the HTML representation is unable to render, please try loading this page with nbviewer.org.</b></div><div class=\"sk-container\" hidden><div class=\"sk-item\"><div class=\"sk-estimator sk-toggleable\"><input class=\"sk-toggleable__control sk-hidden--visually\" id=\"sk-estimator-id-1\" type=\"checkbox\" checked><label for=\"sk-estimator-id-1\" class=\"sk-toggleable__label sk-toggleable__label-arrow\">LogisticRegression</label><div class=\"sk-toggleable__content\"><pre>LogisticRegression()</pre></div></div></div></div></div>"
            ],
            "text/plain": [
              "LogisticRegression()"
            ]
          },
          "execution_count": 5,
          "metadata": {},
          "output_type": "execute_result"
        }
      ],
      "source": [
        "# import da ferramenta\n",
        "from sklearn.linear_model import LogisticRegression\n",
        "\n",
        "# Inicializar o modelo com parametros padrão\n",
        "logreg = LogisticRegression()\n",
        "\n",
        "# ajusta o modelo com as informacoes\n",
        "logreg.fit(df_notas,df_situacao)\n"
      ]
    },
    {
      "cell_type": "markdown",
      "metadata": {
        "id": "TCBIxm1G0ux8"
      },
      "source": [
        "Vamos agora gerar 100 notas aleatórias, e verificar se o nosso modelo é capaz de determinar quais alunos devem ser aprovados e quais não.."
      ]
    },
    {
      "cell_type": "code",
      "execution_count": 6,
      "metadata": {
        "id": "UN-AZY0zvEXJ"
      },
      "outputs": [],
      "source": [
        "novosAlunos = []\n",
        "for item in rng.rand(100)*10:    #gera 100 números aleatórios entre 0 e 1, e multiplica por 10\n",
        "    novosAlunos.append(round(item,1)) #arredonda o resultado para 1 casa deciamal\n",
        "\n",
        "\n",
        "#cria um df para os novos alunos, contento inicialmente apenas as notas.\n",
        "df_novosAlunos = pd.DataFrame({'nota':novosAlunos})"
      ]
    },
    {
      "cell_type": "code",
      "execution_count": 7,
      "metadata": {
        "id": "ZlttfW7avUm3"
      },
      "outputs": [],
      "source": [
        "#utiliza o modelo para prever a situação dos novos alunos\n",
        "y_pred=logreg.predict(df_novosAlunos)\n",
        "\n",
        "#acrescenta uma coluna no df, para representar a situacao prevista dos novos alunos\n",
        "df_novosAlunos['Previsao'] = y_pred"
      ]
    },
    {
      "cell_type": "code",
      "execution_count": 8,
      "metadata": {
        "colab": {
          "base_uri": "https://localhost:8080/",
          "height": 424
        },
        "id": "fOX_qKSU0Qfk",
        "outputId": "836cf2e3-e5e1-4f35-ba3f-5568fba37c08"
      },
      "outputs": [
        {
          "data": {
            "text/html": [
              "<div>\n",
              "<style scoped>\n",
              "    .dataframe tbody tr th:only-of-type {\n",
              "        vertical-align: middle;\n",
              "    }\n",
              "\n",
              "    .dataframe tbody tr th {\n",
              "        vertical-align: top;\n",
              "    }\n",
              "\n",
              "    .dataframe thead th {\n",
              "        text-align: right;\n",
              "    }\n",
              "</style>\n",
              "<table border=\"1\" class=\"dataframe\">\n",
              "  <thead>\n",
              "    <tr style=\"text-align: right;\">\n",
              "      <th></th>\n",
              "      <th>nota</th>\n",
              "      <th>Previsao</th>\n",
              "    </tr>\n",
              "  </thead>\n",
              "  <tbody>\n",
              "    <tr>\n",
              "      <th>0</th>\n",
              "      <td>6.5</td>\n",
              "      <td>aprovado</td>\n",
              "    </tr>\n",
              "    <tr>\n",
              "      <th>1</th>\n",
              "      <td>4.4</td>\n",
              "      <td>reprovado</td>\n",
              "    </tr>\n",
              "    <tr>\n",
              "      <th>2</th>\n",
              "      <td>8.9</td>\n",
              "      <td>aprovado</td>\n",
              "    </tr>\n",
              "    <tr>\n",
              "      <th>3</th>\n",
              "      <td>9.6</td>\n",
              "      <td>aprovado</td>\n",
              "    </tr>\n",
              "    <tr>\n",
              "      <th>4</th>\n",
              "      <td>3.8</td>\n",
              "      <td>reprovado</td>\n",
              "    </tr>\n",
              "    <tr>\n",
              "      <th>...</th>\n",
              "      <td>...</td>\n",
              "      <td>...</td>\n",
              "    </tr>\n",
              "    <tr>\n",
              "      <th>95</th>\n",
              "      <td>6.8</td>\n",
              "      <td>aprovado</td>\n",
              "    </tr>\n",
              "    <tr>\n",
              "      <th>96</th>\n",
              "      <td>2.7</td>\n",
              "      <td>reprovado</td>\n",
              "    </tr>\n",
              "    <tr>\n",
              "      <th>97</th>\n",
              "      <td>7.4</td>\n",
              "      <td>aprovado</td>\n",
              "    </tr>\n",
              "    <tr>\n",
              "      <th>98</th>\n",
              "      <td>9.6</td>\n",
              "      <td>aprovado</td>\n",
              "    </tr>\n",
              "    <tr>\n",
              "      <th>99</th>\n",
              "      <td>2.5</td>\n",
              "      <td>reprovado</td>\n",
              "    </tr>\n",
              "  </tbody>\n",
              "</table>\n",
              "<p>100 rows × 2 columns</p>\n",
              "</div>"
            ],
            "text/plain": [
              "    nota   Previsao\n",
              "0    6.5   aprovado\n",
              "1    4.4  reprovado\n",
              "2    8.9   aprovado\n",
              "3    9.6   aprovado\n",
              "4    3.8  reprovado\n",
              "..   ...        ...\n",
              "95   6.8   aprovado\n",
              "96   2.7  reprovado\n",
              "97   7.4   aprovado\n",
              "98   9.6   aprovado\n",
              "99   2.5  reprovado\n",
              "\n",
              "[100 rows x 2 columns]"
            ]
          },
          "execution_count": 8,
          "metadata": {},
          "output_type": "execute_result"
        }
      ],
      "source": [
        "df_novosAlunos"
      ]
    },
    {
      "cell_type": "markdown",
      "metadata": {
        "id": "-kb0Y9zm12Zx"
      },
      "source": [
        "Mas será que o modelo funcionou bem? Vamos contar quantas vezes ele errou.."
      ]
    },
    {
      "cell_type": "code",
      "execution_count": 9,
      "metadata": {
        "colab": {
          "base_uri": "https://localhost:8080/"
        },
        "id": "H4mUI5FP2DEG",
        "outputId": "3cfb8d91-b6a7-47f8-b451-a68911bb758e"
      },
      "outputs": [
        {
          "name": "stdout",
          "output_type": "stream",
          "text": [
            "Erros   :  2\n",
            "Acertos :  98\n",
            "--------\n",
            "Porcentagem de acertos :  0.98\n"
          ]
        }
      ],
      "source": [
        "# erro tipo 1\n",
        "falso_positivo = len(df_novosAlunos[(df_novosAlunos['nota']<6) & (df_novosAlunos['Previsao']=='aprovado') ])\n",
        "\n",
        "# erro tipo 2\n",
        "falso_negativo = len(df_novosAlunos[(df_novosAlunos['nota']>=6) & (df_novosAlunos['Previsao']=='reprovado') ])\n",
        "\n",
        "verdadeiro_positivo = len(df_novosAlunos[(df_novosAlunos['nota']>=6) & (df_novosAlunos['Previsao']=='aprovado') ])\n",
        "verdadeiro_negativo = len(df_novosAlunos[(df_novosAlunos['nota']<6) & (df_novosAlunos['Previsao']=='reprovado') ])\n",
        "\n",
        "acertos = verdadeiro_positivo + verdadeiro_negativo\n",
        "erros = falso_positivo + falso_negativo\n",
        "\n",
        "print('Erros   : ', erros)\n",
        "print('Acertos : ',acertos)\n",
        "print('--------')\n",
        "print('Porcentagem de acertos : ', acertos/(acertos+erros))"
      ]
    },
    {
      "cell_type": "markdown",
      "metadata": {
        "id": "YnlApHv46rbb"
      },
      "source": [
        "Lembre-se, tudo o que modelo tinha para tomar a decisão, eram 5 valores apenas!\n",
        "<br>\n",
        "<br>\n",
        "Mas **Cuidado**, os modelos de regressão logística podem não ser assim tão eficientes...\n",
        "No caso, utilizamos um exemplo simples onde a variável dependente ('situação') é determinada com base em uma única variável independente ('nota'), e o critério é o de que essa variável deve ser maior que um determinado valor.\n",
        "Esse exemplo, além de simples, também beneficia o modelo já que este utiliza por padrão, uma equação que se encaixa perfeitamente nesse tipo de situação."
      ]
    },
    {
      "cell_type": "markdown",
      "metadata": {
        "id": "TLiiWTir_tFS"
      },
      "source": [
        "##Uma regressão logística 'menos simples'\n",
        "Vamos incrementar o nosso exemplo, considerando agora as notas de duas provas, com pesos diferentes, e mais uma nota de participação (entre 0 e 1).\n",
        "<br>\n",
        "<br>\n",
        "A fórmula da média seria:\n",
        "$$média = (0,4*N1 + 0,6*N2) + Part$$\n",
        "<br>\n",
        "Vamos criar 105 conjuntos de dados aleatórios.."
      ]
    },
    {
      "cell_type": "code",
      "execution_count": 10,
      "metadata": {
        "id": "qLUFggvoAgEl"
      },
      "outputs": [],
      "source": [
        "rng = np.random.RandomState(0)\n",
        "\n",
        "n1 = []\n",
        "for nota in rng.rand(105)*10:    #gera 105 números aleatórios entre 0 e 1, e multiplica por 10\n",
        "    n1.append(round(nota,1))     #arredonda o resultado para 1 casa decimal\n",
        "\n",
        "n2 = []\n",
        "for nota in rng.rand(105)*10:\n",
        "    n2.append(round(nota,1))\n",
        "\n",
        "part = []\n",
        "for nota in rng.rand(105)*1:\n",
        "    part.append(round(nota,1))"
      ]
    },
    {
      "cell_type": "markdown",
      "metadata": {
        "id": "nzhVoZi3BnE7"
      },
      "source": [
        "Vamos verificar 'manualmente' se os alunos estão aprovados ou não. Vamos utilizar o critério da média que foi definida, mas novamente o modelo não vai ter acesso a fórmula!\n",
        "O modelo deverá utilizar as notas de 5 alunos para tentar prever os outros 100."
      ]
    },
    {
      "cell_type": "code",
      "execution_count": 11,
      "metadata": {
        "id": "o42UYYEJBljx"
      },
      "outputs": [],
      "source": [
        "situacao = []\n",
        "\n",
        "for i in range(len(n1)):\n",
        "    avg = (n1[i]*0.4 + n2[i]*0.6) + part[i]\n",
        "    if avg >=6.0:\n",
        "        situacao.append('aprovado')\n",
        "    else:\n",
        "        situacao.append('reprovado')"
      ]
    },
    {
      "cell_type": "markdown",
      "metadata": {
        "id": "Di2rqWXfDMgU"
      },
      "source": [
        "A próxima célula vai construir o data frame com os 105 alunos em questão. Mas Dessa vez vamos adotar um método mais 'profissional' e ao invés de utilizar 2 dataframes ('df_notas' e 'df_situacao'), um para notas e outro para situação, vamos deixar tudo em um dataframe apenas, chamado de 'df_alunos'"
      ]
    },
    {
      "cell_type": "code",
      "execution_count": 12,
      "metadata": {
        "colab": {
          "base_uri": "https://localhost:8080/",
          "height": 424
        },
        "id": "UnDlzK6eDtLN",
        "outputId": "f4f53e37-1d2e-4274-f5d7-914bd9a26d22"
      },
      "outputs": [
        {
          "data": {
            "text/html": [
              "<div>\n",
              "<style scoped>\n",
              "    .dataframe tbody tr th:only-of-type {\n",
              "        vertical-align: middle;\n",
              "    }\n",
              "\n",
              "    .dataframe tbody tr th {\n",
              "        vertical-align: top;\n",
              "    }\n",
              "\n",
              "    .dataframe thead th {\n",
              "        text-align: right;\n",
              "    }\n",
              "</style>\n",
              "<table border=\"1\" class=\"dataframe\">\n",
              "  <thead>\n",
              "    <tr style=\"text-align: right;\">\n",
              "      <th></th>\n",
              "      <th>n1</th>\n",
              "      <th>n2</th>\n",
              "      <th>part</th>\n",
              "      <th>situacao</th>\n",
              "    </tr>\n",
              "  </thead>\n",
              "  <tbody>\n",
              "    <tr>\n",
              "      <th>0</th>\n",
              "      <td>5.5</td>\n",
              "      <td>5.8</td>\n",
              "      <td>1.0</td>\n",
              "      <td>aprovado</td>\n",
              "    </tr>\n",
              "    <tr>\n",
              "      <th>1</th>\n",
              "      <td>7.2</td>\n",
              "      <td>5.9</td>\n",
              "      <td>0.2</td>\n",
              "      <td>aprovado</td>\n",
              "    </tr>\n",
              "    <tr>\n",
              "      <th>2</th>\n",
              "      <td>6.0</td>\n",
              "      <td>5.7</td>\n",
              "      <td>0.7</td>\n",
              "      <td>aprovado</td>\n",
              "    </tr>\n",
              "    <tr>\n",
              "      <th>3</th>\n",
              "      <td>5.4</td>\n",
              "      <td>2.2</td>\n",
              "      <td>0.3</td>\n",
              "      <td>reprovado</td>\n",
              "    </tr>\n",
              "    <tr>\n",
              "      <th>4</th>\n",
              "      <td>4.2</td>\n",
              "      <td>9.5</td>\n",
              "      <td>0.0</td>\n",
              "      <td>aprovado</td>\n",
              "    </tr>\n",
              "    <tr>\n",
              "      <th>...</th>\n",
              "      <td>...</td>\n",
              "      <td>...</td>\n",
              "      <td>...</td>\n",
              "      <td>...</td>\n",
              "    </tr>\n",
              "    <tr>\n",
              "      <th>100</th>\n",
              "      <td>6.8</td>\n",
              "      <td>0.7</td>\n",
              "      <td>0.8</td>\n",
              "      <td>reprovado</td>\n",
              "    </tr>\n",
              "    <tr>\n",
              "      <th>101</th>\n",
              "      <td>2.7</td>\n",
              "      <td>6.8</td>\n",
              "      <td>0.1</td>\n",
              "      <td>reprovado</td>\n",
              "    </tr>\n",
              "    <tr>\n",
              "      <th>102</th>\n",
              "      <td>7.4</td>\n",
              "      <td>4.5</td>\n",
              "      <td>0.1</td>\n",
              "      <td>reprovado</td>\n",
              "    </tr>\n",
              "    <tr>\n",
              "      <th>103</th>\n",
              "      <td>9.6</td>\n",
              "      <td>5.4</td>\n",
              "      <td>0.1</td>\n",
              "      <td>aprovado</td>\n",
              "    </tr>\n",
              "    <tr>\n",
              "      <th>104</th>\n",
              "      <td>2.5</td>\n",
              "      <td>9.0</td>\n",
              "      <td>0.7</td>\n",
              "      <td>aprovado</td>\n",
              "    </tr>\n",
              "  </tbody>\n",
              "</table>\n",
              "<p>105 rows × 4 columns</p>\n",
              "</div>"
            ],
            "text/plain": [
              "      n1   n2  part   situacao\n",
              "0    5.5  5.8   1.0   aprovado\n",
              "1    7.2  5.9   0.2   aprovado\n",
              "2    6.0  5.7   0.7   aprovado\n",
              "3    5.4  2.2   0.3  reprovado\n",
              "4    4.2  9.5   0.0   aprovado\n",
              "..   ...  ...   ...        ...\n",
              "100  6.8  0.7   0.8  reprovado\n",
              "101  2.7  6.8   0.1  reprovado\n",
              "102  7.4  4.5   0.1  reprovado\n",
              "103  9.6  5.4   0.1   aprovado\n",
              "104  2.5  9.0   0.7   aprovado\n",
              "\n",
              "[105 rows x 4 columns]"
            ]
          },
          "execution_count": 12,
          "metadata": {},
          "output_type": "execute_result"
        }
      ],
      "source": [
        "df_alunos = pd.DataFrame({'n1':n1,'n2':n2,'part':part,'situacao':situacao})\n",
        "df_alunos"
      ]
    },
    {
      "cell_type": "markdown",
      "metadata": {
        "id": "O0MkDgLLG-Y-"
      },
      "source": [
        "A próxima célula emprega a função 'train_test_split', que vai dividir o nosso dataframe em 4 partes, são elas:\n",
        "\n",
        "1.   **X_train**: um df contento as notas n1, n2 e part de 5 dos 105 alunos\n",
        "2.   **X_test**: um df contento as notas n1, n2 e part de 5 dos 105 alunos\n",
        "<br>\n",
        "<br>\n",
        "3.   **y_train**: um df contento a situação de 100 dos 105 alunos\n",
        "4.   **y_test**: um df contento a situacao de 100 dos 105 alunos\n",
        "\n",
        "A ideia aqui é separar uma parte dos dados para construírmos o modelo, e outra parte para testarmos o modelo. O parâmetro **`test_size = 100`** é que está determinando a quantidade de dados que vai ser utilizada para testes.\n",
        "<br>\n",
        "<br>\n",
        "Na prática, se utiliza uma porcentagem maior dos dados para realizar a função 'fit' e uma parte menor para realizar os teste. Aqui estamos deixando 100 valores para teste e 5 para o fit, apenas para ficar iqual ao exemplo anterior.\n"
      ]
    },
    {
      "cell_type": "code",
      "execution_count": 13,
      "metadata": {
        "id": "9_7mcJXbFnyU"
      },
      "outputs": [],
      "source": [
        "from sklearn.model_selection import train_test_split\n",
        "x = df_alunos.drop('situacao',axis=1)\n",
        "y = df_alunos['situacao']\n",
        "\n",
        "X_train, X_test, y_train, y_test = train_test_split(x, y, test_size=100, random_state=101)\n"
      ]
    },
    {
      "cell_type": "markdown",
      "metadata": {
        "id": "ETl9whdZIrV7"
      },
      "source": [
        "Agora podemos contruir o modelo.."
      ]
    },
    {
      "cell_type": "code",
      "execution_count": 14,
      "metadata": {
        "colab": {
          "base_uri": "https://localhost:8080/"
        },
        "id": "583OKUgAIe_E",
        "outputId": "d760697f-9f7f-45fc-e2c1-940ace5f517e"
      },
      "outputs": [
        {
          "data": {
            "text/html": [
              "<style>#sk-container-id-2 {color: black;background-color: white;}#sk-container-id-2 pre{padding: 0;}#sk-container-id-2 div.sk-toggleable {background-color: white;}#sk-container-id-2 label.sk-toggleable__label {cursor: pointer;display: block;width: 100%;margin-bottom: 0;padding: 0.3em;box-sizing: border-box;text-align: center;}#sk-container-id-2 label.sk-toggleable__label-arrow:before {content: \"▸\";float: left;margin-right: 0.25em;color: #696969;}#sk-container-id-2 label.sk-toggleable__label-arrow:hover:before {color: black;}#sk-container-id-2 div.sk-estimator:hover label.sk-toggleable__label-arrow:before {color: black;}#sk-container-id-2 div.sk-toggleable__content {max-height: 0;max-width: 0;overflow: hidden;text-align: left;background-color: #f0f8ff;}#sk-container-id-2 div.sk-toggleable__content pre {margin: 0.2em;color: black;border-radius: 0.25em;background-color: #f0f8ff;}#sk-container-id-2 input.sk-toggleable__control:checked~div.sk-toggleable__content {max-height: 200px;max-width: 100%;overflow: auto;}#sk-container-id-2 input.sk-toggleable__control:checked~label.sk-toggleable__label-arrow:before {content: \"▾\";}#sk-container-id-2 div.sk-estimator input.sk-toggleable__control:checked~label.sk-toggleable__label {background-color: #d4ebff;}#sk-container-id-2 div.sk-label input.sk-toggleable__control:checked~label.sk-toggleable__label {background-color: #d4ebff;}#sk-container-id-2 input.sk-hidden--visually {border: 0;clip: rect(1px 1px 1px 1px);clip: rect(1px, 1px, 1px, 1px);height: 1px;margin: -1px;overflow: hidden;padding: 0;position: absolute;width: 1px;}#sk-container-id-2 div.sk-estimator {font-family: monospace;background-color: #f0f8ff;border: 1px dotted black;border-radius: 0.25em;box-sizing: border-box;margin-bottom: 0.5em;}#sk-container-id-2 div.sk-estimator:hover {background-color: #d4ebff;}#sk-container-id-2 div.sk-parallel-item::after {content: \"\";width: 100%;border-bottom: 1px solid gray;flex-grow: 1;}#sk-container-id-2 div.sk-label:hover label.sk-toggleable__label {background-color: #d4ebff;}#sk-container-id-2 div.sk-serial::before {content: \"\";position: absolute;border-left: 1px solid gray;box-sizing: border-box;top: 0;bottom: 0;left: 50%;z-index: 0;}#sk-container-id-2 div.sk-serial {display: flex;flex-direction: column;align-items: center;background-color: white;padding-right: 0.2em;padding-left: 0.2em;position: relative;}#sk-container-id-2 div.sk-item {position: relative;z-index: 1;}#sk-container-id-2 div.sk-parallel {display: flex;align-items: stretch;justify-content: center;background-color: white;position: relative;}#sk-container-id-2 div.sk-item::before, #sk-container-id-2 div.sk-parallel-item::before {content: \"\";position: absolute;border-left: 1px solid gray;box-sizing: border-box;top: 0;bottom: 0;left: 50%;z-index: -1;}#sk-container-id-2 div.sk-parallel-item {display: flex;flex-direction: column;z-index: 1;position: relative;background-color: white;}#sk-container-id-2 div.sk-parallel-item:first-child::after {align-self: flex-end;width: 50%;}#sk-container-id-2 div.sk-parallel-item:last-child::after {align-self: flex-start;width: 50%;}#sk-container-id-2 div.sk-parallel-item:only-child::after {width: 0;}#sk-container-id-2 div.sk-dashed-wrapped {border: 1px dashed gray;margin: 0 0.4em 0.5em 0.4em;box-sizing: border-box;padding-bottom: 0.4em;background-color: white;}#sk-container-id-2 div.sk-label label {font-family: monospace;font-weight: bold;display: inline-block;line-height: 1.2em;}#sk-container-id-2 div.sk-label-container {text-align: center;}#sk-container-id-2 div.sk-container {/* jupyter's `normalize.less` sets `[hidden] { display: none; }` but bootstrap.min.css set `[hidden] { display: none !important; }` so we also need the `!important` here to be able to override the default hidden behavior on the sphinx rendered scikit-learn.org. See: https://github.com/scikit-learn/scikit-learn/issues/21755 */display: inline-block !important;position: relative;}#sk-container-id-2 div.sk-text-repr-fallback {display: none;}</style><div id=\"sk-container-id-2\" class=\"sk-top-container\"><div class=\"sk-text-repr-fallback\"><pre>LogisticRegression()</pre><b>In a Jupyter environment, please rerun this cell to show the HTML representation or trust the notebook. <br />On GitHub, the HTML representation is unable to render, please try loading this page with nbviewer.org.</b></div><div class=\"sk-container\" hidden><div class=\"sk-item\"><div class=\"sk-estimator sk-toggleable\"><input class=\"sk-toggleable__control sk-hidden--visually\" id=\"sk-estimator-id-2\" type=\"checkbox\" checked><label for=\"sk-estimator-id-2\" class=\"sk-toggleable__label sk-toggleable__label-arrow\">LogisticRegression</label><div class=\"sk-toggleable__content\"><pre>LogisticRegression()</pre></div></div></div></div></div>"
            ],
            "text/plain": [
              "LogisticRegression()"
            ]
          },
          "execution_count": 14,
          "metadata": {},
          "output_type": "execute_result"
        }
      ],
      "source": [
        "from sklearn.linear_model import LogisticRegression\n",
        "\n",
        "logreg = LogisticRegression()\n",
        "logreg.fit(X_train,y_train)"
      ]
    },
    {
      "cell_type": "markdown",
      "metadata": {
        "id": "Gy6JADctI8V0"
      },
      "source": [
        "Agora aplicamos o modelo nos dados que foram separados para teste.."
      ]
    },
    {
      "cell_type": "code",
      "execution_count": 15,
      "metadata": {
        "id": "nh2V15-aJAEe"
      },
      "outputs": [],
      "source": [
        "y_pred=logreg.predict(X_test)"
      ]
    },
    {
      "cell_type": "markdown",
      "metadata": {
        "id": "CfNQ1h8aJoPS"
      },
      "source": [
        "Agora vamos verificar a qualidade do modelo. Dessa vez, ao invés de contar 'manualmente' a quantidade de erros dos tipos 1 e 2, vamos utilizar uma ferramenta pronta!"
      ]
    },
    {
      "cell_type": "code",
      "execution_count": 16,
      "metadata": {
        "colab": {
          "base_uri": "https://localhost:8080/"
        },
        "id": "rHEkrPB8KFsU",
        "outputId": "6e743732-55eb-4339-b677-cd4082d2035d"
      },
      "outputs": [
        {
          "data": {
            "text/plain": [
              "array([[21, 24],\n",
              "       [ 0, 55]])"
            ]
          },
          "execution_count": 16,
          "metadata": {},
          "output_type": "execute_result"
        }
      ],
      "source": [
        "from sklearn import metrics\n",
        "\n",
        "cnf_matrix = metrics.confusion_matrix(y_test, y_pred)\n",
        "cnf_matrix"
      ]
    },
    {
      "cell_type": "markdown",
      "metadata": {
        "id": "THGaIIiNKeIW"
      },
      "source": [
        "A célula anterior calculou e apresentou a matrix de confusão, que pode ser interpretada como:![picture](https://diegonogare.net/wp-content/uploads/2020/04/matrizConfusao-600x381.png)\n"
      ]
    },
    {
      "cell_type": "code",
      "execution_count": 17,
      "metadata": {
        "colab": {
          "base_uri": "https://localhost:8080/"
        },
        "id": "eAQHGXZnLOzv",
        "outputId": "92e6d1b9-4c0b-41b1-c410-2ace41850751"
      },
      "outputs": [
        {
          "name": "stdout",
          "output_type": "stream",
          "text": [
            "Erros   :  24\n",
            "Acertos :  76\n",
            "--------\n",
            "Porcentagem de acertos :  0.76\n"
          ]
        }
      ],
      "source": [
        "verdadeiro_positivo = cnf_matrix[0][0]\n",
        "verdadeiro_negativo = cnf_matrix[1][1]\n",
        "\n",
        "falso_positivo = cnf_matrix[0][1] # erro tipo 1\n",
        "falso_negativo = cnf_matrix[1][0] # erro tipo 2\n",
        "\n",
        "acertos = verdadeiro_positivo + verdadeiro_negativo\n",
        "erros = falso_positivo + falso_negativo\n",
        "\n",
        "print('Erros   : ', erros)\n",
        "print('Acertos : ',acertos)\n",
        "print('--------')\n",
        "print('Porcentagem de acertos : ', acertos/(acertos+erros))"
      ]
    },
    {
      "cell_type": "code",
      "execution_count": 18,
      "metadata": {
        "colab": {
          "base_uri": "https://localhost:8080/",
          "height": 424
        },
        "id": "wZMfH20DNhGt",
        "outputId": "50873670-76c4-4a0c-c5d9-81e35f2aaa19"
      },
      "outputs": [
        {
          "data": {
            "text/html": [
              "<div>\n",
              "<style scoped>\n",
              "    .dataframe tbody tr th:only-of-type {\n",
              "        vertical-align: middle;\n",
              "    }\n",
              "\n",
              "    .dataframe tbody tr th {\n",
              "        vertical-align: top;\n",
              "    }\n",
              "\n",
              "    .dataframe thead th {\n",
              "        text-align: right;\n",
              "    }\n",
              "</style>\n",
              "<table border=\"1\" class=\"dataframe\">\n",
              "  <thead>\n",
              "    <tr style=\"text-align: right;\">\n",
              "      <th></th>\n",
              "      <th>n1</th>\n",
              "      <th>n2</th>\n",
              "      <th>part</th>\n",
              "      <th>situacao</th>\n",
              "    </tr>\n",
              "  </thead>\n",
              "  <tbody>\n",
              "    <tr>\n",
              "      <th>0</th>\n",
              "      <td>5.5</td>\n",
              "      <td>5.8</td>\n",
              "      <td>1.0</td>\n",
              "      <td>aprovado</td>\n",
              "    </tr>\n",
              "    <tr>\n",
              "      <th>1</th>\n",
              "      <td>7.2</td>\n",
              "      <td>5.9</td>\n",
              "      <td>0.2</td>\n",
              "      <td>aprovado</td>\n",
              "    </tr>\n",
              "    <tr>\n",
              "      <th>2</th>\n",
              "      <td>6.0</td>\n",
              "      <td>5.7</td>\n",
              "      <td>0.7</td>\n",
              "      <td>aprovado</td>\n",
              "    </tr>\n",
              "    <tr>\n",
              "      <th>3</th>\n",
              "      <td>5.4</td>\n",
              "      <td>2.2</td>\n",
              "      <td>0.3</td>\n",
              "      <td>reprovado</td>\n",
              "    </tr>\n",
              "    <tr>\n",
              "      <th>4</th>\n",
              "      <td>4.2</td>\n",
              "      <td>9.5</td>\n",
              "      <td>0.0</td>\n",
              "      <td>aprovado</td>\n",
              "    </tr>\n",
              "    <tr>\n",
              "      <th>...</th>\n",
              "      <td>...</td>\n",
              "      <td>...</td>\n",
              "      <td>...</td>\n",
              "      <td>...</td>\n",
              "    </tr>\n",
              "    <tr>\n",
              "      <th>100</th>\n",
              "      <td>6.8</td>\n",
              "      <td>0.7</td>\n",
              "      <td>0.8</td>\n",
              "      <td>reprovado</td>\n",
              "    </tr>\n",
              "    <tr>\n",
              "      <th>101</th>\n",
              "      <td>2.7</td>\n",
              "      <td>6.8</td>\n",
              "      <td>0.1</td>\n",
              "      <td>reprovado</td>\n",
              "    </tr>\n",
              "    <tr>\n",
              "      <th>102</th>\n",
              "      <td>7.4</td>\n",
              "      <td>4.5</td>\n",
              "      <td>0.1</td>\n",
              "      <td>reprovado</td>\n",
              "    </tr>\n",
              "    <tr>\n",
              "      <th>103</th>\n",
              "      <td>9.6</td>\n",
              "      <td>5.4</td>\n",
              "      <td>0.1</td>\n",
              "      <td>aprovado</td>\n",
              "    </tr>\n",
              "    <tr>\n",
              "      <th>104</th>\n",
              "      <td>2.5</td>\n",
              "      <td>9.0</td>\n",
              "      <td>0.7</td>\n",
              "      <td>aprovado</td>\n",
              "    </tr>\n",
              "  </tbody>\n",
              "</table>\n",
              "<p>105 rows × 4 columns</p>\n",
              "</div>"
            ],
            "text/plain": [
              "      n1   n2  part   situacao\n",
              "0    5.5  5.8   1.0   aprovado\n",
              "1    7.2  5.9   0.2   aprovado\n",
              "2    6.0  5.7   0.7   aprovado\n",
              "3    5.4  2.2   0.3  reprovado\n",
              "4    4.2  9.5   0.0   aprovado\n",
              "..   ...  ...   ...        ...\n",
              "100  6.8  0.7   0.8  reprovado\n",
              "101  2.7  6.8   0.1  reprovado\n",
              "102  7.4  4.5   0.1  reprovado\n",
              "103  9.6  5.4   0.1   aprovado\n",
              "104  2.5  9.0   0.7   aprovado\n",
              "\n",
              "[105 rows x 4 columns]"
            ]
          },
          "execution_count": 18,
          "metadata": {},
          "output_type": "execute_result"
        }
      ],
      "source": [
        "df_alunos.head(105)"
      ]
    },
    {
      "cell_type": "markdown",
      "metadata": {
        "id": "j3WkgTU5dWnO"
      },
      "source": [
        "##Probabilidade da classificação\n",
        "Também podemos utilizar o modelo para consultar a probabilidade de um aluno estar 'aprovado' ou 'reprovado', utilizando `logmodel.predict_proba`."
      ]
    },
    {
      "cell_type": "code",
      "execution_count": 19,
      "metadata": {
        "id": "fPpmUa7udt4_"
      },
      "outputs": [],
      "source": [
        "y_pred_prob = logreg.predict_proba(df_alunos.drop('situacao',axis=1))\n",
        "\n",
        "p_aprovado = []\n",
        "p_reprovado = []\n",
        "\n",
        "for linha in y_pred_prob:\n",
        "    p_reprovado.append(linha[0])\n",
        "    p_aprovado.append(linha[1])\n",
        "\n",
        "\n",
        "df_alunos['p_aprovado'] = p_aprovado\n",
        "df_alunos['p_reprovado'] = p_reprovado"
      ]
    },
    {
      "cell_type": "code",
      "execution_count": 20,
      "metadata": {
        "colab": {
          "base_uri": "https://localhost:8080/",
          "height": 206
        },
        "id": "y3EqXsbnjRGO",
        "outputId": "3b94c775-f646-4e36-9723-340a75e9b785"
      },
      "outputs": [
        {
          "data": {
            "text/html": [
              "<div>\n",
              "<style scoped>\n",
              "    .dataframe tbody tr th:only-of-type {\n",
              "        vertical-align: middle;\n",
              "    }\n",
              "\n",
              "    .dataframe tbody tr th {\n",
              "        vertical-align: top;\n",
              "    }\n",
              "\n",
              "    .dataframe thead th {\n",
              "        text-align: right;\n",
              "    }\n",
              "</style>\n",
              "<table border=\"1\" class=\"dataframe\">\n",
              "  <thead>\n",
              "    <tr style=\"text-align: right;\">\n",
              "      <th></th>\n",
              "      <th>n1</th>\n",
              "      <th>n2</th>\n",
              "      <th>part</th>\n",
              "      <th>situacao</th>\n",
              "      <th>p_aprovado</th>\n",
              "      <th>p_reprovado</th>\n",
              "    </tr>\n",
              "  </thead>\n",
              "  <tbody>\n",
              "    <tr>\n",
              "      <th>0</th>\n",
              "      <td>5.5</td>\n",
              "      <td>5.8</td>\n",
              "      <td>1.0</td>\n",
              "      <td>aprovado</td>\n",
              "      <td>0.814798</td>\n",
              "      <td>0.185202</td>\n",
              "    </tr>\n",
              "    <tr>\n",
              "      <th>1</th>\n",
              "      <td>7.2</td>\n",
              "      <td>5.9</td>\n",
              "      <td>0.2</td>\n",
              "      <td>aprovado</td>\n",
              "      <td>0.686154</td>\n",
              "      <td>0.313846</td>\n",
              "    </tr>\n",
              "    <tr>\n",
              "      <th>2</th>\n",
              "      <td>6.0</td>\n",
              "      <td>5.7</td>\n",
              "      <td>0.7</td>\n",
              "      <td>aprovado</td>\n",
              "      <td>0.800811</td>\n",
              "      <td>0.199189</td>\n",
              "    </tr>\n",
              "    <tr>\n",
              "      <th>3</th>\n",
              "      <td>5.4</td>\n",
              "      <td>2.2</td>\n",
              "      <td>0.3</td>\n",
              "      <td>reprovado</td>\n",
              "      <td>0.990461</td>\n",
              "      <td>0.009539</td>\n",
              "    </tr>\n",
              "    <tr>\n",
              "      <th>4</th>\n",
              "      <td>4.2</td>\n",
              "      <td>9.5</td>\n",
              "      <td>0.0</td>\n",
              "      <td>aprovado</td>\n",
              "      <td>0.257489</td>\n",
              "      <td>0.742511</td>\n",
              "    </tr>\n",
              "  </tbody>\n",
              "</table>\n",
              "</div>"
            ],
            "text/plain": [
              "    n1   n2  part   situacao  p_aprovado  p_reprovado\n",
              "0  5.5  5.8   1.0   aprovado    0.814798     0.185202\n",
              "1  7.2  5.9   0.2   aprovado    0.686154     0.313846\n",
              "2  6.0  5.7   0.7   aprovado    0.800811     0.199189\n",
              "3  5.4  2.2   0.3  reprovado    0.990461     0.009539\n",
              "4  4.2  9.5   0.0   aprovado    0.257489     0.742511"
            ]
          },
          "execution_count": 20,
          "metadata": {},
          "output_type": "execute_result"
        }
      ],
      "source": [
        "df_alunos.head()"
      ]
    },
    {
      "cell_type": "markdown",
      "metadata": {
        "id": "MXgvkuIeQ9Vw"
      },
      "source": [
        "###**Exercício**\n",
        "Repita o exemplo anterior deixanto 80% dos dados para treinamento do modelo e 20% para realização de testes. Qual a nova porcentagem de acertos do modelo?\n",
        "<br>\n",
        "*dica:* se o parâmetro 'test_size' for definido com um número do tipo 'float', a função entende isso como a porcentagem dos dados que devem ser utilizados para testes."
      ]
    },
    {
      "cell_type": "markdown",
      "metadata": {
        "id": "RUkrHCJKSYn3"
      },
      "source": [
        "## CASO: Estimando diagnósticos de câncer de mama\n",
        "\n",
        "Resumo: Informações sobre o resultado da analise de um exame médico realizado em mais de 500 pacientes, com informações sobre o lauso de biópsia realizada em tumores de seio.\n",
        "\n",
        "Para descrição completa dos dados acesse https://archive.ics.uci.edu/ml/datasets/Breast+Cancer+Wisconsin+(Diagnostic).\n",
        "\n"
      ]
    },
    {
      "cell_type": "code",
      "execution_count": 21,
      "metadata": {
        "colab": {
          "base_uri": "https://localhost:8080/",
          "height": 317
        },
        "id": "LZ9CxKfOrtSy",
        "outputId": "1728e730-fc85-48bb-c94a-c18917151558"
      },
      "outputs": [
        {
          "data": {
            "text/html": [
              "<div>\n",
              "<style scoped>\n",
              "    .dataframe tbody tr th:only-of-type {\n",
              "        vertical-align: middle;\n",
              "    }\n",
              "\n",
              "    .dataframe tbody tr th {\n",
              "        vertical-align: top;\n",
              "    }\n",
              "\n",
              "    .dataframe thead th {\n",
              "        text-align: right;\n",
              "    }\n",
              "</style>\n",
              "<table border=\"1\" class=\"dataframe\">\n",
              "  <thead>\n",
              "    <tr style=\"text-align: right;\">\n",
              "      <th></th>\n",
              "      <th>id</th>\n",
              "      <th>diagnosis</th>\n",
              "      <th>radius_mean</th>\n",
              "      <th>texture_mean</th>\n",
              "      <th>perimeter_mean</th>\n",
              "      <th>area_mean</th>\n",
              "      <th>smoothness_mean</th>\n",
              "      <th>compactness_mean</th>\n",
              "      <th>concavity_mean</th>\n",
              "      <th>concave points_mean</th>\n",
              "      <th>...</th>\n",
              "      <th>texture_worst</th>\n",
              "      <th>perimeter_worst</th>\n",
              "      <th>area_worst</th>\n",
              "      <th>smoothness_worst</th>\n",
              "      <th>compactness_worst</th>\n",
              "      <th>concavity_worst</th>\n",
              "      <th>concave points_worst</th>\n",
              "      <th>symmetry_worst</th>\n",
              "      <th>fractal_dimension_worst</th>\n",
              "      <th>Unnamed: 32</th>\n",
              "    </tr>\n",
              "  </thead>\n",
              "  <tbody>\n",
              "    <tr>\n",
              "      <th>0</th>\n",
              "      <td>842302</td>\n",
              "      <td>M</td>\n",
              "      <td>17.99</td>\n",
              "      <td>10.38</td>\n",
              "      <td>122.80</td>\n",
              "      <td>1001.0</td>\n",
              "      <td>0.11840</td>\n",
              "      <td>0.27760</td>\n",
              "      <td>0.3001</td>\n",
              "      <td>0.14710</td>\n",
              "      <td>...</td>\n",
              "      <td>17.33</td>\n",
              "      <td>184.60</td>\n",
              "      <td>2019.0</td>\n",
              "      <td>0.1622</td>\n",
              "      <td>0.6656</td>\n",
              "      <td>0.7119</td>\n",
              "      <td>0.2654</td>\n",
              "      <td>0.4601</td>\n",
              "      <td>0.11890</td>\n",
              "      <td>NaN</td>\n",
              "    </tr>\n",
              "    <tr>\n",
              "      <th>1</th>\n",
              "      <td>842517</td>\n",
              "      <td>M</td>\n",
              "      <td>20.57</td>\n",
              "      <td>17.77</td>\n",
              "      <td>132.90</td>\n",
              "      <td>1326.0</td>\n",
              "      <td>0.08474</td>\n",
              "      <td>0.07864</td>\n",
              "      <td>0.0869</td>\n",
              "      <td>0.07017</td>\n",
              "      <td>...</td>\n",
              "      <td>23.41</td>\n",
              "      <td>158.80</td>\n",
              "      <td>1956.0</td>\n",
              "      <td>0.1238</td>\n",
              "      <td>0.1866</td>\n",
              "      <td>0.2416</td>\n",
              "      <td>0.1860</td>\n",
              "      <td>0.2750</td>\n",
              "      <td>0.08902</td>\n",
              "      <td>NaN</td>\n",
              "    </tr>\n",
              "    <tr>\n",
              "      <th>2</th>\n",
              "      <td>84300903</td>\n",
              "      <td>M</td>\n",
              "      <td>19.69</td>\n",
              "      <td>21.25</td>\n",
              "      <td>130.00</td>\n",
              "      <td>1203.0</td>\n",
              "      <td>0.10960</td>\n",
              "      <td>0.15990</td>\n",
              "      <td>0.1974</td>\n",
              "      <td>0.12790</td>\n",
              "      <td>...</td>\n",
              "      <td>25.53</td>\n",
              "      <td>152.50</td>\n",
              "      <td>1709.0</td>\n",
              "      <td>0.1444</td>\n",
              "      <td>0.4245</td>\n",
              "      <td>0.4504</td>\n",
              "      <td>0.2430</td>\n",
              "      <td>0.3613</td>\n",
              "      <td>0.08758</td>\n",
              "      <td>NaN</td>\n",
              "    </tr>\n",
              "    <tr>\n",
              "      <th>3</th>\n",
              "      <td>84348301</td>\n",
              "      <td>M</td>\n",
              "      <td>11.42</td>\n",
              "      <td>20.38</td>\n",
              "      <td>77.58</td>\n",
              "      <td>386.1</td>\n",
              "      <td>0.14250</td>\n",
              "      <td>0.28390</td>\n",
              "      <td>0.2414</td>\n",
              "      <td>0.10520</td>\n",
              "      <td>...</td>\n",
              "      <td>26.50</td>\n",
              "      <td>98.87</td>\n",
              "      <td>567.7</td>\n",
              "      <td>0.2098</td>\n",
              "      <td>0.8663</td>\n",
              "      <td>0.6869</td>\n",
              "      <td>0.2575</td>\n",
              "      <td>0.6638</td>\n",
              "      <td>0.17300</td>\n",
              "      <td>NaN</td>\n",
              "    </tr>\n",
              "    <tr>\n",
              "      <th>4</th>\n",
              "      <td>84358402</td>\n",
              "      <td>M</td>\n",
              "      <td>20.29</td>\n",
              "      <td>14.34</td>\n",
              "      <td>135.10</td>\n",
              "      <td>1297.0</td>\n",
              "      <td>0.10030</td>\n",
              "      <td>0.13280</td>\n",
              "      <td>0.1980</td>\n",
              "      <td>0.10430</td>\n",
              "      <td>...</td>\n",
              "      <td>16.67</td>\n",
              "      <td>152.20</td>\n",
              "      <td>1575.0</td>\n",
              "      <td>0.1374</td>\n",
              "      <td>0.2050</td>\n",
              "      <td>0.4000</td>\n",
              "      <td>0.1625</td>\n",
              "      <td>0.2364</td>\n",
              "      <td>0.07678</td>\n",
              "      <td>NaN</td>\n",
              "    </tr>\n",
              "  </tbody>\n",
              "</table>\n",
              "<p>5 rows × 33 columns</p>\n",
              "</div>"
            ],
            "text/plain": [
              "         id diagnosis  radius_mean  texture_mean  perimeter_mean  area_mean  \\\n",
              "0    842302         M        17.99         10.38          122.80     1001.0   \n",
              "1    842517         M        20.57         17.77          132.90     1326.0   \n",
              "2  84300903         M        19.69         21.25          130.00     1203.0   \n",
              "3  84348301         M        11.42         20.38           77.58      386.1   \n",
              "4  84358402         M        20.29         14.34          135.10     1297.0   \n",
              "\n",
              "   smoothness_mean  compactness_mean  concavity_mean  concave points_mean  \\\n",
              "0          0.11840           0.27760          0.3001              0.14710   \n",
              "1          0.08474           0.07864          0.0869              0.07017   \n",
              "2          0.10960           0.15990          0.1974              0.12790   \n",
              "3          0.14250           0.28390          0.2414              0.10520   \n",
              "4          0.10030           0.13280          0.1980              0.10430   \n",
              "\n",
              "   ...  texture_worst  perimeter_worst  area_worst  smoothness_worst  \\\n",
              "0  ...          17.33           184.60      2019.0            0.1622   \n",
              "1  ...          23.41           158.80      1956.0            0.1238   \n",
              "2  ...          25.53           152.50      1709.0            0.1444   \n",
              "3  ...          26.50            98.87       567.7            0.2098   \n",
              "4  ...          16.67           152.20      1575.0            0.1374   \n",
              "\n",
              "   compactness_worst  concavity_worst  concave points_worst  symmetry_worst  \\\n",
              "0             0.6656           0.7119                0.2654          0.4601   \n",
              "1             0.1866           0.2416                0.1860          0.2750   \n",
              "2             0.4245           0.4504                0.2430          0.3613   \n",
              "3             0.8663           0.6869                0.2575          0.6638   \n",
              "4             0.2050           0.4000                0.1625          0.2364   \n",
              "\n",
              "   fractal_dimension_worst  Unnamed: 32  \n",
              "0                  0.11890          NaN  \n",
              "1                  0.08902          NaN  \n",
              "2                  0.08758          NaN  \n",
              "3                  0.17300          NaN  \n",
              "4                  0.07678          NaN  \n",
              "\n",
              "[5 rows x 33 columns]"
            ]
          },
          "execution_count": 21,
          "metadata": {},
          "output_type": "execute_result"
        }
      ],
      "source": [
        "import pandas as pd\n",
        "df = pd.read_csv('http://meusite.mackenzie.br/rogerio/TIC/breast-cancer-wisconsin.csv')\n",
        "\n",
        "df.head()\n"
      ]
    },
    {
      "cell_type": "markdown",
      "metadata": {
        "id": "4W2zptsMu0Kr"
      },
      "source": [
        "Observem que a última coluna não traz informação nehuma. Devemos remove-la do df."
      ]
    },
    {
      "cell_type": "code",
      "execution_count": 22,
      "metadata": {
        "colab": {
          "base_uri": "https://localhost:8080/",
          "height": 317
        },
        "id": "gDkqaaeku--q",
        "outputId": "54e4da42-8d71-495d-8420-77dba3354ac2"
      },
      "outputs": [
        {
          "data": {
            "text/html": [
              "<div>\n",
              "<style scoped>\n",
              "    .dataframe tbody tr th:only-of-type {\n",
              "        vertical-align: middle;\n",
              "    }\n",
              "\n",
              "    .dataframe tbody tr th {\n",
              "        vertical-align: top;\n",
              "    }\n",
              "\n",
              "    .dataframe thead th {\n",
              "        text-align: right;\n",
              "    }\n",
              "</style>\n",
              "<table border=\"1\" class=\"dataframe\">\n",
              "  <thead>\n",
              "    <tr style=\"text-align: right;\">\n",
              "      <th></th>\n",
              "      <th>id</th>\n",
              "      <th>diagnosis</th>\n",
              "      <th>radius_mean</th>\n",
              "      <th>texture_mean</th>\n",
              "      <th>perimeter_mean</th>\n",
              "      <th>area_mean</th>\n",
              "      <th>smoothness_mean</th>\n",
              "      <th>compactness_mean</th>\n",
              "      <th>concavity_mean</th>\n",
              "      <th>concave points_mean</th>\n",
              "      <th>...</th>\n",
              "      <th>radius_worst</th>\n",
              "      <th>texture_worst</th>\n",
              "      <th>perimeter_worst</th>\n",
              "      <th>area_worst</th>\n",
              "      <th>smoothness_worst</th>\n",
              "      <th>compactness_worst</th>\n",
              "      <th>concavity_worst</th>\n",
              "      <th>concave points_worst</th>\n",
              "      <th>symmetry_worst</th>\n",
              "      <th>fractal_dimension_worst</th>\n",
              "    </tr>\n",
              "  </thead>\n",
              "  <tbody>\n",
              "    <tr>\n",
              "      <th>0</th>\n",
              "      <td>842302</td>\n",
              "      <td>M</td>\n",
              "      <td>17.99</td>\n",
              "      <td>10.38</td>\n",
              "      <td>122.80</td>\n",
              "      <td>1001.0</td>\n",
              "      <td>0.11840</td>\n",
              "      <td>0.27760</td>\n",
              "      <td>0.3001</td>\n",
              "      <td>0.14710</td>\n",
              "      <td>...</td>\n",
              "      <td>25.38</td>\n",
              "      <td>17.33</td>\n",
              "      <td>184.60</td>\n",
              "      <td>2019.0</td>\n",
              "      <td>0.1622</td>\n",
              "      <td>0.6656</td>\n",
              "      <td>0.7119</td>\n",
              "      <td>0.2654</td>\n",
              "      <td>0.4601</td>\n",
              "      <td>0.11890</td>\n",
              "    </tr>\n",
              "    <tr>\n",
              "      <th>1</th>\n",
              "      <td>842517</td>\n",
              "      <td>M</td>\n",
              "      <td>20.57</td>\n",
              "      <td>17.77</td>\n",
              "      <td>132.90</td>\n",
              "      <td>1326.0</td>\n",
              "      <td>0.08474</td>\n",
              "      <td>0.07864</td>\n",
              "      <td>0.0869</td>\n",
              "      <td>0.07017</td>\n",
              "      <td>...</td>\n",
              "      <td>24.99</td>\n",
              "      <td>23.41</td>\n",
              "      <td>158.80</td>\n",
              "      <td>1956.0</td>\n",
              "      <td>0.1238</td>\n",
              "      <td>0.1866</td>\n",
              "      <td>0.2416</td>\n",
              "      <td>0.1860</td>\n",
              "      <td>0.2750</td>\n",
              "      <td>0.08902</td>\n",
              "    </tr>\n",
              "    <tr>\n",
              "      <th>2</th>\n",
              "      <td>84300903</td>\n",
              "      <td>M</td>\n",
              "      <td>19.69</td>\n",
              "      <td>21.25</td>\n",
              "      <td>130.00</td>\n",
              "      <td>1203.0</td>\n",
              "      <td>0.10960</td>\n",
              "      <td>0.15990</td>\n",
              "      <td>0.1974</td>\n",
              "      <td>0.12790</td>\n",
              "      <td>...</td>\n",
              "      <td>23.57</td>\n",
              "      <td>25.53</td>\n",
              "      <td>152.50</td>\n",
              "      <td>1709.0</td>\n",
              "      <td>0.1444</td>\n",
              "      <td>0.4245</td>\n",
              "      <td>0.4504</td>\n",
              "      <td>0.2430</td>\n",
              "      <td>0.3613</td>\n",
              "      <td>0.08758</td>\n",
              "    </tr>\n",
              "    <tr>\n",
              "      <th>3</th>\n",
              "      <td>84348301</td>\n",
              "      <td>M</td>\n",
              "      <td>11.42</td>\n",
              "      <td>20.38</td>\n",
              "      <td>77.58</td>\n",
              "      <td>386.1</td>\n",
              "      <td>0.14250</td>\n",
              "      <td>0.28390</td>\n",
              "      <td>0.2414</td>\n",
              "      <td>0.10520</td>\n",
              "      <td>...</td>\n",
              "      <td>14.91</td>\n",
              "      <td>26.50</td>\n",
              "      <td>98.87</td>\n",
              "      <td>567.7</td>\n",
              "      <td>0.2098</td>\n",
              "      <td>0.8663</td>\n",
              "      <td>0.6869</td>\n",
              "      <td>0.2575</td>\n",
              "      <td>0.6638</td>\n",
              "      <td>0.17300</td>\n",
              "    </tr>\n",
              "    <tr>\n",
              "      <th>4</th>\n",
              "      <td>84358402</td>\n",
              "      <td>M</td>\n",
              "      <td>20.29</td>\n",
              "      <td>14.34</td>\n",
              "      <td>135.10</td>\n",
              "      <td>1297.0</td>\n",
              "      <td>0.10030</td>\n",
              "      <td>0.13280</td>\n",
              "      <td>0.1980</td>\n",
              "      <td>0.10430</td>\n",
              "      <td>...</td>\n",
              "      <td>22.54</td>\n",
              "      <td>16.67</td>\n",
              "      <td>152.20</td>\n",
              "      <td>1575.0</td>\n",
              "      <td>0.1374</td>\n",
              "      <td>0.2050</td>\n",
              "      <td>0.4000</td>\n",
              "      <td>0.1625</td>\n",
              "      <td>0.2364</td>\n",
              "      <td>0.07678</td>\n",
              "    </tr>\n",
              "  </tbody>\n",
              "</table>\n",
              "<p>5 rows × 32 columns</p>\n",
              "</div>"
            ],
            "text/plain": [
              "         id diagnosis  radius_mean  texture_mean  perimeter_mean  area_mean  \\\n",
              "0    842302         M        17.99         10.38          122.80     1001.0   \n",
              "1    842517         M        20.57         17.77          132.90     1326.0   \n",
              "2  84300903         M        19.69         21.25          130.00     1203.0   \n",
              "3  84348301         M        11.42         20.38           77.58      386.1   \n",
              "4  84358402         M        20.29         14.34          135.10     1297.0   \n",
              "\n",
              "   smoothness_mean  compactness_mean  concavity_mean  concave points_mean  \\\n",
              "0          0.11840           0.27760          0.3001              0.14710   \n",
              "1          0.08474           0.07864          0.0869              0.07017   \n",
              "2          0.10960           0.15990          0.1974              0.12790   \n",
              "3          0.14250           0.28390          0.2414              0.10520   \n",
              "4          0.10030           0.13280          0.1980              0.10430   \n",
              "\n",
              "   ...  radius_worst  texture_worst  perimeter_worst  area_worst  \\\n",
              "0  ...         25.38          17.33           184.60      2019.0   \n",
              "1  ...         24.99          23.41           158.80      1956.0   \n",
              "2  ...         23.57          25.53           152.50      1709.0   \n",
              "3  ...         14.91          26.50            98.87       567.7   \n",
              "4  ...         22.54          16.67           152.20      1575.0   \n",
              "\n",
              "   smoothness_worst  compactness_worst  concavity_worst  concave points_worst  \\\n",
              "0            0.1622             0.6656           0.7119                0.2654   \n",
              "1            0.1238             0.1866           0.2416                0.1860   \n",
              "2            0.1444             0.4245           0.4504                0.2430   \n",
              "3            0.2098             0.8663           0.6869                0.2575   \n",
              "4            0.1374             0.2050           0.4000                0.1625   \n",
              "\n",
              "   symmetry_worst  fractal_dimension_worst  \n",
              "0          0.4601                  0.11890  \n",
              "1          0.2750                  0.08902  \n",
              "2          0.3613                  0.08758  \n",
              "3          0.6638                  0.17300  \n",
              "4          0.2364                  0.07678  \n",
              "\n",
              "[5 rows x 32 columns]"
            ]
          },
          "execution_count": 22,
          "metadata": {},
          "output_type": "execute_result"
        }
      ],
      "source": [
        "df = df.drop(columns='Unnamed: 32')\n",
        "df.head()"
      ]
    },
    {
      "cell_type": "markdown",
      "metadata": {
        "id": "WAyBLe4m2spp"
      },
      "source": [
        "##Exercício\n",
        "Como podemos construir um modelo para determinar se os resultados de uma amostra, representam um tumor maligno ou benigno?"
      ]
    },
    {
      "cell_type": "code",
      "execution_count": 23,
      "metadata": {
        "id": "Fdu0Bx3-29YZ"
      },
      "outputs": [],
      "source": [
        "#preparando os dados..\n",
        "x = df.drop(columns=['id','diagnosis'])\n",
        "y = df['diagnosis']\n",
        "X_train, X_test, y_train, y_test = train_test_split(x, y, test_size=0.3, random_state=1)"
      ]
    },
    {
      "cell_type": "code",
      "execution_count": 24,
      "metadata": {
        "id": "oAeJWxJL4f5Q"
      },
      "outputs": [],
      "source": [
        "#construindo e ajustando o modelo..\n",
        "logreg = LogisticRegression()\n",
        "logreg.fit(X_train,y_train)\n",
        "\n",
        "X_train, X_test, y_train, y_test = train_test_split(x,y,test_size=0.3, random_state = 1)"
      ]
    },
    {
      "cell_type": "code",
      "execution_count": 25,
      "metadata": {
        "id": "BYNnHnuL4x8s"
      },
      "outputs": [],
      "source": [
        "#estimando os valores de teste\n",
        "y_pred=logreg.predict(X_test)"
      ]
    },
    {
      "cell_type": "code",
      "execution_count": 26,
      "metadata": {
        "colab": {
          "base_uri": "https://localhost:8080/"
        },
        "id": "1Fc9g21d5CsC",
        "outputId": "ffe35321-5f0e-4da4-a9d4-4cda0571d407"
      },
      "outputs": [
        {
          "data": {
            "text/plain": [
              "array([[102,   6],\n",
              "       [  6,  57]])"
            ]
          },
          "execution_count": 26,
          "metadata": {},
          "output_type": "execute_result"
        }
      ],
      "source": [
        "#avaliando o modelo\n",
        "cnf_matrix = metrics.confusion_matrix(y_test, y_pred)\n",
        "cnf_matrix"
      ]
    },
    {
      "cell_type": "code",
      "execution_count": 27,
      "metadata": {
        "colab": {
          "base_uri": "https://localhost:8080/"
        },
        "id": "LacZYuqE5NRe",
        "outputId": "d54c0e30-c0fa-4400-cc43-a16f50502f8d"
      },
      "outputs": [
        {
          "name": "stdout",
          "output_type": "stream",
          "text": [
            "Erros   :  12\n",
            "Acertos :  159\n",
            "--------\n",
            "Porcentagem de acertos :  0.9298245614035088\n"
          ]
        }
      ],
      "source": [
        "#contabilizando os erros.. (essa célula poderia virar uma função...)\n",
        "verdadeiro_positivo = cnf_matrix[0][0]\n",
        "verdadeiro_negativo = cnf_matrix[1][1]\n",
        "\n",
        "falso_positivo = cnf_matrix[0][1] # erro tipo 1\n",
        "falso_negativo = cnf_matrix[1][0] # erro tipo 2\n",
        "\n",
        "acertos = verdadeiro_positivo + verdadeiro_negativo\n",
        "erros = falso_positivo + falso_negativo\n",
        "\n",
        "print('Erros   : ', erros)\n",
        "print('Acertos : ',acertos)\n",
        "print('--------')\n",
        "print('Porcentagem de acertos : ', acertos/(acertos+erros))\n",
        "\n",
        "#dica..teste o comando:\n",
        "#accuracy_score(y_test,y_pred)"
      ]
    },
    {
      "cell_type": "markdown",
      "metadata": {
        "id": "za0A5iryIN6B"
      },
      "source": [
        "## Conclusão\n",
        "\n",
        "1. Modelos de Regressão Logistica simples são bem definidos (determinísticos).\n",
        "1. Funcionam para quaisquer dimensões.\n",
        "1. Podem ser aplicados a quaisquer conjunto de dados, desde que a variável dependente seja dicotômica.\n",
        "1. São muito empregados em problemas de classificação."
      ]
    }
  ],
  "metadata": {
    "anaconda-cloud": {},
    "colab": {
      "collapsed_sections": [
        "mGhb-8atV0E-",
        "_LZsmTAEYpHo",
        "IRed5j3hBH3r"
      ],
      "provenance": []
    },
    "kernelspec": {
      "display_name": "Python 3",
      "language": "python",
      "name": "python3"
    },
    "language_info": {
      "codemirror_mode": {
        "name": "ipython",
        "version": 3
      },
      "file_extension": ".py",
      "mimetype": "text/x-python",
      "name": "python",
      "nbconvert_exporter": "python",
      "pygments_lexer": "ipython3",
      "version": "3.8.10"
    }
  },
  "nbformat": 4,
  "nbformat_minor": 0
}

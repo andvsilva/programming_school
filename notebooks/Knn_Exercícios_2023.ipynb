{
  "cells": [
    {
      "cell_type": "markdown",
      "metadata": {
        "id": "gglUriLmo1sR"
      },
      "source": [
        "<head>\n",
        "  <meta name=\"author\" content=\"Rogério de Oliveira\">\n",
        "  <meta institution=\"author\" content=\"Universidade Presbiteriana Mackenzie\">\n",
        "</head>\n",
        "\n",
        "<img src=\"http://meusite.mackenzie.br/rogerio/mackenzie_logo/UPM.2_horizontal_vermelho.jpg\" width=300, align=\"left\"></a>\n",
        "<!-- <h1 align=left><font size = 6, style=\"color:rgb(200,0,0)\"> optional title </font></h1> -->"
      ]
    },
    {
      "cell_type": "code",
      "execution_count": 1,
      "metadata": {
        "id": "NYCRqwFdf4Ci"
      },
      "outputs": [],
      "source": [
        "import pandas                  as pd\n",
        "import numpy                   as np\n",
        "import matplotlib.pyplot       as plt\n",
        "import seaborn                 as sns\n",
        "from sklearn.model_selection import train_test_split\n",
        "from sklearn import neighbors\n",
        "from sklearn import metrics\n",
        "import statsmodels.formula.api as sm\n",
        "\n",
        "import warnings\n",
        "warnings.simplefilter('ignore')"
      ]
    },
    {
      "cell_type": "markdown",
      "metadata": {
        "id": "GpxAuEuifzCj"
      },
      "source": [
        "# Modelo K-Nearest Neighbor (KNN)"
      ]
    },
    {
      "cell_type": "markdown",
      "metadata": {
        "id": "HL7lrcXszfEj"
      },
      "source": [
        "O algoritmo dos k-vizinhos mais próximos (k-NN) é um algoritmo de aprendizado de máquina usado para classificação. O KNN classifica cada valor de um conjunto de dados avaliando sua distância em relação aos k vizinhos mais próximos. Se os k vizinhos mais próximos forem majoritariamente de uma classe, a amostra em questão será classificada nesta categoria. A ideia é a seguinte:\n",
        "\n"
      ]
    },
    {
      "cell_type": "markdown",
      "metadata": {
        "id": "oyimPO4w35X1"
      },
      "source": [
        "<img src=\"http://www.orlandoalbarracin.com.br/phyton/knn.png\" width=850, align=\"left\">"
      ]
    },
    {
      "cell_type": "markdown",
      "metadata": {
        "id": "b9WYDU0C0Ji-"
      },
      "source": [
        "<font size =5 > Algoritmo KNN </font>\n",
        "\n",
        "1.   Selecione o dado a ser classifica, meça sua distância (euclidiana) em relação a cada um dos outros dados que já estão classificados;\n",
        "1.   Selecione os primeros k dados com menores distâncias;\n",
        "1.   Verifique as classes (ou categorias) dos dados que tiveram as k menores distâncias e conte a quantidade de vezes que cada classe que apareceu;\n",
        "1.   Classifique esse novo dado como pertencente à classe que mais apareceu."
      ]
    },
    {
      "cell_type": "markdown",
      "metadata": {
        "id": "YJlvRMT733Tj"
      },
      "source": [
        "# Exemplo\n",
        "Utilizaremos um exemplo bastante simples com o objetivo de facilitar a compreensão do modelo. Neste exemplo, a classificação do 'Tipo de Taxa de Empréstimo', que pode ser Padrão ou Não, é determinada com base em apenas dois atributos: a idade do cliente e o valor do empréstimo"
      ]
    },
    {
      "cell_type": "code",
      "execution_count": 2,
      "metadata": {
        "colab": {
          "base_uri": "https://localhost:8080/",
          "height": 206
        },
        "id": "Z9XoXwaR5l_0",
        "outputId": "f43efd47-4ba9-4231-fa53-ebe73929b381"
      },
      "outputs": [
        {
          "data": {
            "text/html": [
              "<div>\n",
              "<style scoped>\n",
              "    .dataframe tbody tr th:only-of-type {\n",
              "        vertical-align: middle;\n",
              "    }\n",
              "\n",
              "    .dataframe tbody tr th {\n",
              "        vertical-align: top;\n",
              "    }\n",
              "\n",
              "    .dataframe thead th {\n",
              "        text-align: right;\n",
              "    }\n",
              "</style>\n",
              "<table border=\"1\" class=\"dataframe\">\n",
              "  <thead>\n",
              "    <tr style=\"text-align: right;\">\n",
              "      <th></th>\n",
              "      <th>Age</th>\n",
              "      <th>Loan</th>\n",
              "      <th>Duration</th>\n",
              "      <th>Type_loan</th>\n",
              "    </tr>\n",
              "  </thead>\n",
              "  <tbody>\n",
              "    <tr>\n",
              "      <th>0</th>\n",
              "      <td>50</td>\n",
              "      <td>49584</td>\n",
              "      <td>Long</td>\n",
              "      <td>0</td>\n",
              "    </tr>\n",
              "    <tr>\n",
              "      <th>1</th>\n",
              "      <td>48</td>\n",
              "      <td>49809</td>\n",
              "      <td>Short</td>\n",
              "      <td>0</td>\n",
              "    </tr>\n",
              "    <tr>\n",
              "      <th>2</th>\n",
              "      <td>36</td>\n",
              "      <td>50070</td>\n",
              "      <td>Long</td>\n",
              "      <td>0</td>\n",
              "    </tr>\n",
              "    <tr>\n",
              "      <th>3</th>\n",
              "      <td>44</td>\n",
              "      <td>51155</td>\n",
              "      <td>Undefined</td>\n",
              "      <td>0</td>\n",
              "    </tr>\n",
              "    <tr>\n",
              "      <th>4</th>\n",
              "      <td>53</td>\n",
              "      <td>50595</td>\n",
              "      <td>Short</td>\n",
              "      <td>0</td>\n",
              "    </tr>\n",
              "  </tbody>\n",
              "</table>\n",
              "</div>"
            ],
            "text/plain": [
              "   Age   Loan   Duration  Type_loan\n",
              "0   50  49584       Long          0\n",
              "1   48  49809      Short          0\n",
              "2   36  50070       Long          0\n",
              "3   44  51155  Undefined          0\n",
              "4   53  50595      Short          0"
            ]
          },
          "execution_count": 2,
          "metadata": {},
          "output_type": "execute_result"
        }
      ],
      "source": [
        "Loans=pd.read_excel(\"http://www.orlandoalbarracin.com.br/phyton/Loan.xlsx\")\n",
        "Loans.head()"
      ]
    },
    {
      "cell_type": "code",
      "execution_count": 3,
      "metadata": {
        "colab": {
          "base_uri": "https://localhost:8080/"
        },
        "id": "i1bnkSOYeCAW",
        "outputId": "63e04047-d756-4947-d114-c735f71ab252"
      },
      "outputs": [
        {
          "data": {
            "text/plain": [
              "(100, 4)"
            ]
          },
          "execution_count": 3,
          "metadata": {},
          "output_type": "execute_result"
        }
      ],
      "source": [
        "Loans.shape"
      ]
    },
    {
      "cell_type": "code",
      "execution_count": 4,
      "metadata": {
        "colab": {
          "base_uri": "https://localhost:8080/"
        },
        "id": "lBJ-CDO46PEq",
        "outputId": "34e91a8e-8f0c-4e9c-a26f-64d1d974d6ff"
      },
      "outputs": [
        {
          "data": {
            "text/plain": [
              "array([[18,  1],\n",
              "       [ 2,  9]])"
            ]
          },
          "execution_count": 4,
          "metadata": {},
          "output_type": "execute_result"
        }
      ],
      "source": [
        "# Dados de entrada/saída\n",
        "X = Loans[['Age','Loan']]\n",
        "y = Loans[[\"Type_loan\"]]\n",
        "\n",
        "#Criando dummies\n",
        "dummies = pd.get_dummies(Loans[\"Duration\"])\n",
        "\n",
        "# Normalizando os dados\n",
        "X_padronizados = (X-X.mean())/X.std()\n",
        "X_padronizados = pd.concat([X, dummies],axis=1) #adicionando dummies\n",
        "\n",
        "# Treinamento/teste\n",
        "X_train, X_test, y_train, y_test = train_test_split(X_padronizados,y,test_size=0.3, random_state = 1)\n",
        "\n",
        "# Definindo ou declarando o modelo\n",
        "k=3\n",
        "clf = neighbors.KNeighborsClassifier(k)\n",
        "\n",
        "\n",
        "# Aprendizado (Emprega o conjunto de treinamento)\n",
        "clf.fit(X_train, y_train)\n",
        "\n",
        "# Testando o modelo\n",
        "y_pred = clf.predict(X_test)\n",
        "\n",
        "# Avaliando o modelo\n",
        "cnf_matrix = metrics.confusion_matrix(y_test, y_pred)\n",
        "cnf_matrix"
      ]
    },
    {
      "cell_type": "code",
      "execution_count": 5,
      "metadata": {
        "colab": {
          "base_uri": "https://localhost:8080/"
        },
        "id": "gplBUu-W8TX5",
        "outputId": "86c850f6-da6c-4c99-d254-f554fd698f0f"
      },
      "outputs": [
        {
          "name": "stdout",
          "output_type": "stream",
          "text": [
            "Erros   :  3\n",
            "Acertos :  27\n",
            "--------\n",
            "Porcentagem de acertos :  90.0 %\n"
          ]
        }
      ],
      "source": [
        "# Avaliando a acuracia do modelo\n",
        "\n",
        "verdadeiro_positivo = cnf_matrix[0][0]\n",
        "verdadeiro_negativo = cnf_matrix[1][1]\n",
        "\n",
        "falso_positivo = cnf_matrix[0][1] # erro tipo 1\n",
        "falso_negativo = cnf_matrix[1][0] # erro tipo 2\n",
        "\n",
        "acertos = verdadeiro_positivo + verdadeiro_negativo\n",
        "erros = falso_positivo + falso_negativo\n",
        "\n",
        "print('Erros   : ', erros)\n",
        "print('Acertos : ',acertos)\n",
        "print('--------')\n",
        "print('Porcentagem de acertos : ', acertos/(acertos+erros)*100, \"%\")"
      ]
    },
    {
      "cell_type": "markdown",
      "metadata": {
        "id": "JJsyN6k1fO6N"
      },
      "source": [
        "# Exercícios Palmer Penguins!\n"
      ]
    },
    {
      "cell_type": "markdown",
      "metadata": {
        "id": "OQ3WRCHJh8yi"
      },
      "source": [
        "A base de dados \"Palmer Penguins\" contém informações sobre pinguins coletadas na Península de Palmer, na Antártica. Aqui está uma descrição das colunas presentes neste conjunto de dados:\n",
        "\n",
        "- species: A espécie do pinguim\n",
        "- island: A ilha onde o pinguim foi observado\n",
        "- bill_length_mm: O comprimento do bico do pinguim em milímetros.\n",
        "- bill_depth_mm: A profundidade do bico do pinguim em milímetros.\n",
        "- flipper_length_mm: O comprimento da nadadeira do pinguim em milímetros.\n",
        "- body_mass_g: A massa corporal do pinguim em gramas.\n",
        "- sex: O sexo do pinguim."
      ]
    },
    {
      "cell_type": "code",
      "execution_count": 6,
      "metadata": {
        "colab": {
          "base_uri": "https://localhost:8080/",
          "height": 206
        },
        "id": "97RVu_cDfkAD",
        "outputId": "26619ce1-848c-48d1-869c-cb7f49e8b3aa"
      },
      "outputs": [
        {
          "data": {
            "text/html": [
              "<div>\n",
              "<style scoped>\n",
              "    .dataframe tbody tr th:only-of-type {\n",
              "        vertical-align: middle;\n",
              "    }\n",
              "\n",
              "    .dataframe tbody tr th {\n",
              "        vertical-align: top;\n",
              "    }\n",
              "\n",
              "    .dataframe thead th {\n",
              "        text-align: right;\n",
              "    }\n",
              "</style>\n",
              "<table border=\"1\" class=\"dataframe\">\n",
              "  <thead>\n",
              "    <tr style=\"text-align: right;\">\n",
              "      <th></th>\n",
              "      <th>species</th>\n",
              "      <th>island</th>\n",
              "      <th>bill_length_mm</th>\n",
              "      <th>bill_depth_mm</th>\n",
              "      <th>flipper_length_mm</th>\n",
              "      <th>body_mass_g</th>\n",
              "      <th>sex</th>\n",
              "      <th>year</th>\n",
              "    </tr>\n",
              "  </thead>\n",
              "  <tbody>\n",
              "    <tr>\n",
              "      <th>0</th>\n",
              "      <td>Adelie</td>\n",
              "      <td>Torgersen</td>\n",
              "      <td>39.1</td>\n",
              "      <td>18.7</td>\n",
              "      <td>181.0</td>\n",
              "      <td>3750.0</td>\n",
              "      <td>male</td>\n",
              "      <td>2007</td>\n",
              "    </tr>\n",
              "    <tr>\n",
              "      <th>1</th>\n",
              "      <td>Adelie</td>\n",
              "      <td>Torgersen</td>\n",
              "      <td>39.5</td>\n",
              "      <td>17.4</td>\n",
              "      <td>186.0</td>\n",
              "      <td>3800.0</td>\n",
              "      <td>female</td>\n",
              "      <td>2007</td>\n",
              "    </tr>\n",
              "    <tr>\n",
              "      <th>2</th>\n",
              "      <td>Adelie</td>\n",
              "      <td>Torgersen</td>\n",
              "      <td>40.3</td>\n",
              "      <td>18.0</td>\n",
              "      <td>195.0</td>\n",
              "      <td>3250.0</td>\n",
              "      <td>female</td>\n",
              "      <td>2007</td>\n",
              "    </tr>\n",
              "    <tr>\n",
              "      <th>3</th>\n",
              "      <td>Adelie</td>\n",
              "      <td>Torgersen</td>\n",
              "      <td>NaN</td>\n",
              "      <td>NaN</td>\n",
              "      <td>NaN</td>\n",
              "      <td>NaN</td>\n",
              "      <td>NaN</td>\n",
              "      <td>2007</td>\n",
              "    </tr>\n",
              "    <tr>\n",
              "      <th>4</th>\n",
              "      <td>Adelie</td>\n",
              "      <td>Torgersen</td>\n",
              "      <td>36.7</td>\n",
              "      <td>19.3</td>\n",
              "      <td>193.0</td>\n",
              "      <td>3450.0</td>\n",
              "      <td>female</td>\n",
              "      <td>2007</td>\n",
              "    </tr>\n",
              "  </tbody>\n",
              "</table>\n",
              "</div>"
            ],
            "text/plain": [
              "  species     island  bill_length_mm  bill_depth_mm  flipper_length_mm  \\\n",
              "0  Adelie  Torgersen            39.1           18.7              181.0   \n",
              "1  Adelie  Torgersen            39.5           17.4              186.0   \n",
              "2  Adelie  Torgersen            40.3           18.0              195.0   \n",
              "3  Adelie  Torgersen             NaN            NaN                NaN   \n",
              "4  Adelie  Torgersen            36.7           19.3              193.0   \n",
              "\n",
              "   body_mass_g     sex  year  \n",
              "0       3750.0    male  2007  \n",
              "1       3800.0  female  2007  \n",
              "2       3250.0  female  2007  \n",
              "3          NaN     NaN  2007  \n",
              "4       3450.0  female  2007  "
            ]
          },
          "execution_count": 6,
          "metadata": {},
          "output_type": "execute_result"
        }
      ],
      "source": [
        "df = pd.read_csv(\"https://pos.it/palmer-penguins-github-csv\")\n",
        "df.head()"
      ]
    },
    {
      "cell_type": "code",
      "execution_count": 7,
      "metadata": {
        "colab": {
          "base_uri": "https://localhost:8080/"
        },
        "id": "DJKSZEavfmQD",
        "outputId": "576f32bf-08d0-48f1-dd93-577f93bf5ad6"
      },
      "outputs": [
        {
          "data": {
            "text/plain": [
              "species               0\n",
              "island                0\n",
              "bill_length_mm        2\n",
              "bill_depth_mm         2\n",
              "flipper_length_mm     2\n",
              "body_mass_g           2\n",
              "sex                  11\n",
              "year                  0\n",
              "dtype: int64"
            ]
          },
          "execution_count": 7,
          "metadata": {},
          "output_type": "execute_result"
        }
      ],
      "source": [
        "# Valores nulos\n",
        "df.isnull().sum()"
      ]
    },
    {
      "cell_type": "code",
      "execution_count": 8,
      "metadata": {
        "colab": {
          "base_uri": "https://localhost:8080/",
          "height": 206
        },
        "id": "ykVENyK1foyX",
        "outputId": "56e07e75-74b1-427c-c851-6e3798545175"
      },
      "outputs": [
        {
          "data": {
            "text/html": [
              "<div>\n",
              "<style scoped>\n",
              "    .dataframe tbody tr th:only-of-type {\n",
              "        vertical-align: middle;\n",
              "    }\n",
              "\n",
              "    .dataframe tbody tr th {\n",
              "        vertical-align: top;\n",
              "    }\n",
              "\n",
              "    .dataframe thead th {\n",
              "        text-align: right;\n",
              "    }\n",
              "</style>\n",
              "<table border=\"1\" class=\"dataframe\">\n",
              "  <thead>\n",
              "    <tr style=\"text-align: right;\">\n",
              "      <th></th>\n",
              "      <th>species</th>\n",
              "      <th>island</th>\n",
              "      <th>bill_length_mm</th>\n",
              "      <th>bill_depth_mm</th>\n",
              "      <th>flipper_length_mm</th>\n",
              "      <th>body_mass_g</th>\n",
              "      <th>sex</th>\n",
              "      <th>year</th>\n",
              "    </tr>\n",
              "  </thead>\n",
              "  <tbody>\n",
              "    <tr>\n",
              "      <th>0</th>\n",
              "      <td>Adelie</td>\n",
              "      <td>Torgersen</td>\n",
              "      <td>39.1</td>\n",
              "      <td>18.7</td>\n",
              "      <td>181.0</td>\n",
              "      <td>3750.0</td>\n",
              "      <td>male</td>\n",
              "      <td>2007</td>\n",
              "    </tr>\n",
              "    <tr>\n",
              "      <th>1</th>\n",
              "      <td>Adelie</td>\n",
              "      <td>Torgersen</td>\n",
              "      <td>39.5</td>\n",
              "      <td>17.4</td>\n",
              "      <td>186.0</td>\n",
              "      <td>3800.0</td>\n",
              "      <td>female</td>\n",
              "      <td>2007</td>\n",
              "    </tr>\n",
              "    <tr>\n",
              "      <th>2</th>\n",
              "      <td>Adelie</td>\n",
              "      <td>Torgersen</td>\n",
              "      <td>40.3</td>\n",
              "      <td>18.0</td>\n",
              "      <td>195.0</td>\n",
              "      <td>3250.0</td>\n",
              "      <td>female</td>\n",
              "      <td>2007</td>\n",
              "    </tr>\n",
              "    <tr>\n",
              "      <th>4</th>\n",
              "      <td>Adelie</td>\n",
              "      <td>Torgersen</td>\n",
              "      <td>36.7</td>\n",
              "      <td>19.3</td>\n",
              "      <td>193.0</td>\n",
              "      <td>3450.0</td>\n",
              "      <td>female</td>\n",
              "      <td>2007</td>\n",
              "    </tr>\n",
              "    <tr>\n",
              "      <th>5</th>\n",
              "      <td>Adelie</td>\n",
              "      <td>Torgersen</td>\n",
              "      <td>39.3</td>\n",
              "      <td>20.6</td>\n",
              "      <td>190.0</td>\n",
              "      <td>3650.0</td>\n",
              "      <td>male</td>\n",
              "      <td>2007</td>\n",
              "    </tr>\n",
              "  </tbody>\n",
              "</table>\n",
              "</div>"
            ],
            "text/plain": [
              "  species     island  bill_length_mm  bill_depth_mm  flipper_length_mm  \\\n",
              "0  Adelie  Torgersen            39.1           18.7              181.0   \n",
              "1  Adelie  Torgersen            39.5           17.4              186.0   \n",
              "2  Adelie  Torgersen            40.3           18.0              195.0   \n",
              "4  Adelie  Torgersen            36.7           19.3              193.0   \n",
              "5  Adelie  Torgersen            39.3           20.6              190.0   \n",
              "\n",
              "   body_mass_g     sex  year  \n",
              "0       3750.0    male  2007  \n",
              "1       3800.0  female  2007  \n",
              "2       3250.0  female  2007  \n",
              "4       3450.0  female  2007  \n",
              "5       3650.0    male  2007  "
            ]
          },
          "execution_count": 8,
          "metadata": {},
          "output_type": "execute_result"
        }
      ],
      "source": [
        "# Dados sem valores nulos\n",
        "df = df.dropna()\n",
        "df.head()"
      ]
    },
    {
      "cell_type": "code",
      "execution_count": 9,
      "metadata": {},
      "outputs": [
        {
          "name": "stdout",
          "output_type": "stream",
          "text": [
            "shape dataframe: rows = 333 and columns = 8\n"
          ]
        }
      ],
      "source": [
        "print(f\"shape dataframe: rows = {df.shape[0]} and columns = {df.shape[1]}\")"
      ]
    },
    {
      "cell_type": "markdown",
      "metadata": {
        "id": "RdL4da7egKL8"
      },
      "source": [
        "### 1. Na base de dados, podemos identificar quantos e quais tipos de espécies diferentes de pinguins?"
      ]
    },
    {
      "cell_type": "code",
      "execution_count": 10,
      "metadata": {
        "id": "iDFRXlxEgQyK"
      },
      "outputs": [
        {
          "data": {
            "text/plain": [
              "Adelie       146\n",
              "Gentoo       119\n",
              "Chinstrap     68\n",
              "Name: species, dtype: int64"
            ]
          },
          "execution_count": 10,
          "metadata": {},
          "output_type": "execute_result"
        }
      ],
      "source": [
        "df['species'].value_counts()\n"
      ]
    },
    {
      "cell_type": "markdown",
      "metadata": {
        "id": "cg1bR62VgUxL"
      },
      "source": [
        "### 2. Quais são as características do pinguim com a maior massa corporal (body mass)? E quais são as características do pinguim com a menor massa corporal (body mass)?"
      ]
    },
    {
      "cell_type": "code",
      "execution_count": 11,
      "metadata": {
        "id": "3L1ufFjIgUxW"
      },
      "outputs": [
        {
          "data": {
            "text/html": [
              "<div>\n",
              "<style scoped>\n",
              "    .dataframe tbody tr th:only-of-type {\n",
              "        vertical-align: middle;\n",
              "    }\n",
              "\n",
              "    .dataframe tbody tr th {\n",
              "        vertical-align: top;\n",
              "    }\n",
              "\n",
              "    .dataframe thead th {\n",
              "        text-align: right;\n",
              "    }\n",
              "</style>\n",
              "<table border=\"1\" class=\"dataframe\">\n",
              "  <thead>\n",
              "    <tr style=\"text-align: right;\">\n",
              "      <th></th>\n",
              "      <th>species</th>\n",
              "      <th>island</th>\n",
              "      <th>bill_length_mm</th>\n",
              "      <th>bill_depth_mm</th>\n",
              "      <th>flipper_length_mm</th>\n",
              "      <th>body_mass_g</th>\n",
              "      <th>sex</th>\n",
              "      <th>year</th>\n",
              "    </tr>\n",
              "  </thead>\n",
              "  <tbody>\n",
              "    <tr>\n",
              "      <th>169</th>\n",
              "      <td>Gentoo</td>\n",
              "      <td>Biscoe</td>\n",
              "      <td>49.2</td>\n",
              "      <td>15.2</td>\n",
              "      <td>221.0</td>\n",
              "      <td>6300.0</td>\n",
              "      <td>male</td>\n",
              "      <td>2007</td>\n",
              "    </tr>\n",
              "  </tbody>\n",
              "</table>\n",
              "</div>"
            ],
            "text/plain": [
              "    species  island  bill_length_mm  bill_depth_mm  flipper_length_mm  \\\n",
              "169  Gentoo  Biscoe            49.2           15.2              221.0   \n",
              "\n",
              "     body_mass_g   sex  year  \n",
              "169       6300.0  male  2007  "
            ]
          },
          "execution_count": 11,
          "metadata": {},
          "output_type": "execute_result"
        }
      ],
      "source": [
        "# Pingium with body mass maximum\n",
        "df[df['body_mass_g']==df['body_mass_g'].max()]\n"
      ]
    },
    {
      "cell_type": "code",
      "execution_count": 12,
      "metadata": {
        "id": "m9fLBejdj3L5"
      },
      "outputs": [
        {
          "data": {
            "text/html": [
              "<div>\n",
              "<style scoped>\n",
              "    .dataframe tbody tr th:only-of-type {\n",
              "        vertical-align: middle;\n",
              "    }\n",
              "\n",
              "    .dataframe tbody tr th {\n",
              "        vertical-align: top;\n",
              "    }\n",
              "\n",
              "    .dataframe thead th {\n",
              "        text-align: right;\n",
              "    }\n",
              "</style>\n",
              "<table border=\"1\" class=\"dataframe\">\n",
              "  <thead>\n",
              "    <tr style=\"text-align: right;\">\n",
              "      <th></th>\n",
              "      <th>species</th>\n",
              "      <th>island</th>\n",
              "      <th>bill_length_mm</th>\n",
              "      <th>bill_depth_mm</th>\n",
              "      <th>flipper_length_mm</th>\n",
              "      <th>body_mass_g</th>\n",
              "      <th>sex</th>\n",
              "      <th>year</th>\n",
              "    </tr>\n",
              "  </thead>\n",
              "  <tbody>\n",
              "    <tr>\n",
              "      <th>314</th>\n",
              "      <td>Chinstrap</td>\n",
              "      <td>Dream</td>\n",
              "      <td>46.9</td>\n",
              "      <td>16.6</td>\n",
              "      <td>192.0</td>\n",
              "      <td>2700.0</td>\n",
              "      <td>female</td>\n",
              "      <td>2008</td>\n",
              "    </tr>\n",
              "  </tbody>\n",
              "</table>\n",
              "</div>"
            ],
            "text/plain": [
              "       species island  bill_length_mm  bill_depth_mm  flipper_length_mm  \\\n",
              "314  Chinstrap  Dream            46.9           16.6              192.0   \n",
              "\n",
              "     body_mass_g     sex  year  \n",
              "314       2700.0  female  2008  "
            ]
          },
          "execution_count": 12,
          "metadata": {},
          "output_type": "execute_result"
        }
      ],
      "source": [
        "# Pingium with body mass minimum\n",
        "df[df['body_mass_g']==df['body_mass_g'].min()]\n"
      ]
    },
    {
      "cell_type": "markdown",
      "metadata": {
        "id": "cLWDUH21gU-Q"
      },
      "source": [
        "### 3. Considerando apenas os pinguins do ano de 2008, quantos exemplares existem de cada espécie? E quantos deles são machos e quantos são fêmeas?"
      ]
    },
    {
      "cell_type": "code",
      "execution_count": 13,
      "metadata": {
        "id": "7aNZ0ayYgU-R"
      },
      "outputs": [
        {
          "data": {
            "text/html": [
              "<div>\n",
              "<style scoped>\n",
              "    .dataframe tbody tr th:only-of-type {\n",
              "        vertical-align: middle;\n",
              "    }\n",
              "\n",
              "    .dataframe tbody tr th {\n",
              "        vertical-align: top;\n",
              "    }\n",
              "\n",
              "    .dataframe thead th {\n",
              "        text-align: right;\n",
              "    }\n",
              "</style>\n",
              "<table border=\"1\" class=\"dataframe\">\n",
              "  <thead>\n",
              "    <tr style=\"text-align: right;\">\n",
              "      <th></th>\n",
              "      <th>species</th>\n",
              "      <th>island</th>\n",
              "      <th>bill_length_mm</th>\n",
              "      <th>bill_depth_mm</th>\n",
              "      <th>flipper_length_mm</th>\n",
              "      <th>body_mass_g</th>\n",
              "      <th>sex</th>\n",
              "      <th>year</th>\n",
              "    </tr>\n",
              "  </thead>\n",
              "  <tbody>\n",
              "    <tr>\n",
              "      <th>50</th>\n",
              "      <td>Adelie</td>\n",
              "      <td>Biscoe</td>\n",
              "      <td>39.6</td>\n",
              "      <td>17.7</td>\n",
              "      <td>186.0</td>\n",
              "      <td>3500.0</td>\n",
              "      <td>female</td>\n",
              "      <td>2008</td>\n",
              "    </tr>\n",
              "    <tr>\n",
              "      <th>51</th>\n",
              "      <td>Adelie</td>\n",
              "      <td>Biscoe</td>\n",
              "      <td>40.1</td>\n",
              "      <td>18.9</td>\n",
              "      <td>188.0</td>\n",
              "      <td>4300.0</td>\n",
              "      <td>male</td>\n",
              "      <td>2008</td>\n",
              "    </tr>\n",
              "    <tr>\n",
              "      <th>52</th>\n",
              "      <td>Adelie</td>\n",
              "      <td>Biscoe</td>\n",
              "      <td>35.0</td>\n",
              "      <td>17.9</td>\n",
              "      <td>190.0</td>\n",
              "      <td>3450.0</td>\n",
              "      <td>female</td>\n",
              "      <td>2008</td>\n",
              "    </tr>\n",
              "    <tr>\n",
              "      <th>53</th>\n",
              "      <td>Adelie</td>\n",
              "      <td>Biscoe</td>\n",
              "      <td>42.0</td>\n",
              "      <td>19.5</td>\n",
              "      <td>200.0</td>\n",
              "      <td>4050.0</td>\n",
              "      <td>male</td>\n",
              "      <td>2008</td>\n",
              "    </tr>\n",
              "    <tr>\n",
              "      <th>54</th>\n",
              "      <td>Adelie</td>\n",
              "      <td>Biscoe</td>\n",
              "      <td>34.5</td>\n",
              "      <td>18.1</td>\n",
              "      <td>187.0</td>\n",
              "      <td>2900.0</td>\n",
              "      <td>female</td>\n",
              "      <td>2008</td>\n",
              "    </tr>\n",
              "  </tbody>\n",
              "</table>\n",
              "</div>"
            ],
            "text/plain": [
              "   species  island  bill_length_mm  bill_depth_mm  flipper_length_mm  \\\n",
              "50  Adelie  Biscoe            39.6           17.7              186.0   \n",
              "51  Adelie  Biscoe            40.1           18.9              188.0   \n",
              "52  Adelie  Biscoe            35.0           17.9              190.0   \n",
              "53  Adelie  Biscoe            42.0           19.5              200.0   \n",
              "54  Adelie  Biscoe            34.5           18.1              187.0   \n",
              "\n",
              "    body_mass_g     sex  year  \n",
              "50       3500.0  female  2008  \n",
              "51       4300.0    male  2008  \n",
              "52       3450.0  female  2008  \n",
              "53       4050.0    male  2008  \n",
              "54       2900.0  female  2008  "
            ]
          },
          "execution_count": 13,
          "metadata": {},
          "output_type": "execute_result"
        }
      ],
      "source": [
        "pinguins_2008 = df[df['year'] == 2008]\n",
        "pinguins_2008.head()\n"
      ]
    },
    {
      "cell_type": "code",
      "execution_count": 14,
      "metadata": {
        "id": "V6yQW8dDkYeF"
      },
      "outputs": [
        {
          "data": {
            "text/plain": [
              "Adelie       50\n",
              "Gentoo       45\n",
              "Chinstrap    18\n",
              "Name: species, dtype: int64"
            ]
          },
          "execution_count": 14,
          "metadata": {},
          "output_type": "execute_result"
        }
      ],
      "source": [
        "pinguins_2008['species'].value_counts()"
      ]
    },
    {
      "cell_type": "code",
      "execution_count": 15,
      "metadata": {},
      "outputs": [
        {
          "data": {
            "text/plain": [
              "male      57\n",
              "female    56\n",
              "Name: sex, dtype: int64"
            ]
          },
          "execution_count": 15,
          "metadata": {},
          "output_type": "execute_result"
        }
      ],
      "source": [
        "pinguins_2008['sex'].value_counts()"
      ]
    },
    {
      "cell_type": "markdown",
      "metadata": {
        "id": "yOedFkT0gVIL"
      },
      "source": [
        "### 4. Faça um gráfico scatterplot a relação entre as variáveis bill_length_mm e\tbill_depth_mm, mostre com cores diferentes as especies."
      ]
    },
    {
      "cell_type": "code",
      "execution_count": 16,
      "metadata": {
        "id": "juk3zSS1gVIM"
      },
      "outputs": [
        {
          "data": {
            "text/plain": [
              "<Axes: xlabel='bill_length_mm', ylabel='bill_depth_mm'>"
            ]
          },
          "execution_count": 16,
          "metadata": {},
          "output_type": "execute_result"
        },
        {
          "data": {
            "image/png": "[encoded data removed]",
            "text/plain": [
              "<Figure size 640x480 with 1 Axes>"
            ]
          },
          "metadata": {},
          "output_type": "display_data"
        }
      ],
      "source": [
        "sns.scatterplot(data=df, x='bill_length_mm', y='bill_depth_mm', hue='species')"
      ]
    },
    {
      "cell_type": "markdown",
      "metadata": {
        "id": "YAqoY8d-gVL4"
      },
      "source": [
        "### 5. Faça um gráfico scatterplot a relação entre as variáveis flipper_length_mm\tbody_mass_g, mostre com cores diferentes as especies."
      ]
    },
    {
      "cell_type": "code",
      "execution_count": 17,
      "metadata": {
        "id": "AKudtFhngVL4"
      },
      "outputs": [
        {
          "data": {
            "text/plain": [
              "<Axes: xlabel='flipper_length_mm', ylabel='body_mass_g'>"
            ]
          },
          "execution_count": 17,
          "metadata": {},
          "output_type": "execute_result"
        },
        {
          "data": {
            "image/png": "[encoded data removed]",
            "text/plain": [
              "<Figure size 640x480 with 1 Axes>"
            ]
          },
          "metadata": {},
          "output_type": "display_data"
        }
      ],
      "source": [
        "sns.scatterplot(data=df, x='flipper_length_mm', y='body_mass_g', hue='species')\n"
      ]
    },
    {
      "cell_type": "markdown",
      "metadata": {
        "id": "B4Yo2sBlhryk"
      },
      "source": [
        "### 6. Ajuste um modelo de k vizinhos próximos para classificar as especies dos pinguins considerando como variáveis explicativas: `bill_length_mm,\tbill_depth_mm,\tflipper_length_mm\t, body_mass_g e\tsex.` Use 70% dos dados para treinar o modelo. No código use random_state = 1.\n",
        "\n",
        "Considere 3 vizinhos próximos."
      ]
    },
    {
      "cell_type": "code",
      "execution_count": 18,
      "metadata": {
        "id": "4L1wfva-hryu"
      },
      "outputs": [],
      "source": [
        "from sklearn.neighbors import KNeighborsClassifier\n",
        "knn = KNeighborsClassifier(n_neighbors=3)\n",
        "from sklearn.model_selection import train_test_split\n",
        "from sklearn import metrics\n",
        "from sklearn import preprocessing"
      ]
    },
    {
      "cell_type": "code",
      "execution_count": 19,
      "metadata": {},
      "outputs": [],
      "source": [
        "X = df[['bill_length_mm','bill_depth_mm','flipper_length_mm','body_mass_g']]\n",
        "y = df['sex']"
      ]
    },
    {
      "cell_type": "code",
      "execution_count": 20,
      "metadata": {},
      "outputs": [],
      "source": [
        "# Normalization\n",
        "X = preprocessing.StandardScaler().fit(X).transform(X.astype(float))\n",
        "X_train, X_test, y_train, y_test = train_test_split(X, y, test_size=0.3, random_state=1)"
      ]
    },
    {
      "cell_type": "code",
      "execution_count": 21,
      "metadata": {},
      "outputs": [
        {
          "name": "stdout",
          "output_type": "stream",
          "text": [
            "Accuracy of model at K=3 is 0.88\n"
          ]
        }
      ],
      "source": [
        "#Train Model and Predict\n",
        "k = 3  \n",
        "knn = KNeighborsClassifier(n_neighbors = k).fit(X_train,y_train)\n",
        "y_pred = knn.predict(X_test)\n",
        "print(f\"Accuracy of model at K={k} is {metrics.accuracy_score(y_test, y_pred)}\")"
      ]
    },
    {
      "cell_type": "markdown",
      "metadata": {
        "id": "FRm5qBvMiInN"
      },
      "source": [
        "### 7. Com os dados selecionados para testar o modelo, determine a quantidade de acerto e erros?"
      ]
    },
    {
      "cell_type": "code",
      "execution_count": 22,
      "metadata": {
        "id": "F42g8y6wiHjm"
      },
      "outputs": [
        {
          "data": {
            "image/png": "[encoded data removed]",
            "text/plain": [
              "<Figure size 640x480 with 2 Axes>"
            ]
          },
          "metadata": {},
          "output_type": "display_data"
        }
      ],
      "source": [
        "import matplotlib.pyplot as plt\n",
        "from sklearn.metrics import confusion_matrix\n",
        "\n",
        "confusion_matrix = metrics.confusion_matrix(y_test, y_pred)\n",
        "\n",
        "cm_display = metrics.ConfusionMatrixDisplay(confusion_matrix = confusion_matrix, display_labels = [False, True])\n",
        "\n",
        "cm_display.plot()\n",
        "plt.grid(False)\n",
        "plt.show()\n"
      ]
    },
    {
      "cell_type": "markdown",
      "metadata": {
        "id": "6Z8SzKciiVgN"
      },
      "source": [
        "### 8. Repita o o modelo k-vizinhos considerando 4,  5 e 6 vizinhos próximos. Qual apresentou melhores resultados?"
      ]
    },
    {
      "cell_type": "code",
      "execution_count": 26,
      "metadata": {
        "id": "oiUoxSMbih9q"
      },
      "outputs": [
        {
          "name": "stdout",
          "output_type": "stream",
          "text": [
            "Accuracy of model at K=4 is 0.88\n",
            "Accuracy of model at K=5 is 0.92\n",
            "Accuracy of model at K=6 is 0.91\n"
          ]
        }
      ],
      "source": [
        "\n",
        "def knn_model(k=k):\n",
        "    knn = KNeighborsClassifier(n_neighbors = k).fit(X_train,y_train)\n",
        "    y_pred = knn.predict(X_test)\n",
        "    print(f\"Accuracy of model at K={k} is {metrics.accuracy_score(y_test, y_pred)}\")\n",
        "\n",
        "for k in range(4,7):\n",
        "    knn_model(k)"
      ]
    },
    {
      "cell_type": "markdown",
      "metadata": {
        "id": "cvu2obVRikGO"
      },
      "source": [
        "### 9. Usando o modelo k-vizinho com melhores resultados. classifique um pinguim com as seguintes características:\n",
        "\n",
        "bill_length_mm:41.7\n",
        "\n",
        "bill_depth_mm: 20.3\n",
        "\n",
        "flipper_length_mm:193.0\n",
        "\n",
        "body_mass_g:3100.0\n",
        "\n",
        "sex: male\n"
      ]
    },
    {
      "cell_type": "code",
      "execution_count": 27,
      "metadata": {
        "id": "-BqKTdAiijw_"
      },
      "outputs": [
        {
          "data": {
            "text/plain": [
              "array(['male'], dtype=object)"
            ]
          },
          "execution_count": 27,
          "metadata": {},
          "output_type": "execute_result"
        }
      ],
      "source": [
        "knn = KNeighborsClassifier(n_neighbors = 6).fit(X_train,y_train)\n",
        "y_pred = knn.predict(X_test)\n",
        "\n",
        "new_value=pd.DataFrame({'bill_length_mm':    [41.7],\n",
        "                        'bill_depth_mm':     [20.3],\n",
        "                        'flipper_length_mm': [193.0],\n",
        "                        'body_mass_g':       [3100.0]\n",
        "                        })\n",
        "\n",
        "knn.predict(new_value)\n"
      ]
    }
  ],
  "metadata": {
    "anaconda-cloud": {},
    "colab": {
      "collapsed_sections": [
        "YAqoY8d-gVL4"
      ],
      "provenance": []
    },
    "kernelspec": {
      "display_name": "Python 3",
      "language": "python",
      "name": "python3"
    },
    "language_info": {
      "codemirror_mode": {
        "name": "ipython",
        "version": 3
      },
      "file_extension": ".py",
      "mimetype": "text/x-python",
      "name": "python",
      "nbconvert_exporter": "python",
      "pygments_lexer": "ipython3",
      "version": "3.11.4"
    }
  },
  "nbformat": 4,
  "nbformat_minor": 0
}

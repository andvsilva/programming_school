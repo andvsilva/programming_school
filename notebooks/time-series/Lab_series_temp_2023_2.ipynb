{
  "nbformat": 4,
  "nbformat_minor": 0,
  "metadata": {
    "colab": {
      "provenance": [],
      "collapsed_sections": [
        "guKz4OjeakQz",
        "Xo9PAFO9ao2P",
        "KRY8rEFc0SsO",
        "F6t1FeCb5y8P",
        "wcimfV_t72Hg",
        "AMUA1CFNBp3l",
        "UUEu2I-vJhJN",
        "r-zfbiQJNmlI",
        "2V3l5pHseNd4"
      ]
    },
    "kernelspec": {
      "name": "python3",
      "display_name": "Python 3"
    },
    "language_info": {
      "name": "python"
    }
  },
  "cells": [
    {
      "cell_type": "markdown",
      "source": [
        "<head>\n",
        "  <meta name=\"author\" content=\"Rogério de Oliveira\">\n",
        "  <meta institution=\"author\" content=\"Universidade Presbiteriana Mackenzie\">\n",
        "</head>\n",
        "\n",
        "<img src=\"http://meusite.mackenzie.br/rogerio/mackenzie_logo/UPM.2_horizontal_vermelho.jpg\" width=300, align=\"left\"></a>\n",
        "<!-- <h1 align=left><font size = 6, style=\"color:rgb(200,0,0)\"> optional title </font></h1> -->\n"
      ],
      "metadata": {
        "id": "CvUUxRhgaxBp"
      }
    },
    {
      "cell_type": "code",
      "execution_count": null,
      "metadata": {
        "id": "IS1qBa1ubPSG"
      },
      "outputs": [],
      "source": [
        "# Bibliotecas\n"
      ]
    },
    {
      "cell_type": "markdown",
      "source": [
        "# Lab - Séries temporais"
      ],
      "metadata": {
        "id": "8XRwUs_Xa4xR"
      }
    },
    {
      "cell_type": "markdown",
      "source": [
        "### Responda as seguinte perguntas usando os dados Airline Passenger Numbers\n",
        "\n",
        "\n"
      ],
      "metadata": {
        "id": "Yxg2J0aWewZw"
      }
    },
    {
      "cell_type": "code",
      "source": [
        "import pandas as pd\n",
        "passenger = pd.read_csv(\"https://raw.githubusercontent.com/jbrownlee/Datasets/master/airline-passengers.csv\")\n",
        "passenger.head()"
      ],
      "metadata": {
        "id": "wL_xtF7WaPGB"
      },
      "execution_count": null,
      "outputs": []
    },
    {
      "cell_type": "markdown",
      "source": [
        "*   A série é estacionária?\n",
        "*   A amplitude do componente sazonal varia à medida que a tendência aumenta? Qual modelo deveria ser usado multiplicativo ou aditivo?\n",
        "*   Em quais meses vende-se, em média, mais (menos) passagens aereas?\n",
        "*   Agrupando os valores por meses, em algum mês observa-se um valor discrepante (outlier)?\n",
        "*   Determinar o aumento (ou diminuição) percentual das vendas médias registradas em janeiro em relação a dezembro.\n",
        "Dica: Calcula a diferença entre as vendas médias em janeiro e as vendas médias em dezembro, divide pelo valor das vendas médias em dezembro e multiplica por 100 .\n",
        "*   Ajuste um modelo de regressão (sem considerar os dados do último ano). Faça as previsões para o seguinte ano. Calcule o Erro médio de previsão: Média entre as diferenças absolutas do valor previsto e o valor real correspondente.\n",
        "*   Decompor a série em trend+saz+residuals. Qual o componente sazonal para os meses: janeiro, junho e dezembro.\n",
        "*   Analise como formam decompostos (tend+saz+resid) os valores observados no último trimestre.\n",
        "*   Faça um histograma dos residuals, eles seguem uma distribuição normal? Use a função shapiro da biblioteca scipy.stats para verificar a normalidade.\n",
        "*   Verifique estatísticamente se os resíduos são estacionários."
      ],
      "metadata": {
        "id": "g31M4yKhkkG3"
      }
    },
    {
      "cell_type": "code",
      "source": [
        "# Seu código\n"
      ],
      "metadata": {
        "id": "PZ-9zkXWaVMN"
      },
      "execution_count": null,
      "outputs": []
    }
  ]
}
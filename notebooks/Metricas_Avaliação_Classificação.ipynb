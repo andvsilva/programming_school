{
  "cells": [
    {
      "cell_type": "markdown",
      "metadata": {
        "id": "OuC70thkH-Mi"
      },
      "source": [
        "# Métricas de Avaliação de Modelos de Classificação"
      ]
    },
    {
      "cell_type": "code",
      "execution_count": 11,
      "metadata": {
        "id": "W6ux1LO2BI8z"
      },
      "outputs": [],
      "source": [
        "#imports necessários\n",
        "import numpy as np\n",
        "import matplotlib.pyplot as plt\n",
        "from sklearn.datasets import make_classification\n",
        "from sklearn.model_selection import train_test_split\n",
        "from sklearn.linear_model import LogisticRegression\n",
        "from sklearn.metrics import confusion_matrix, accuracy_score, classification_report #esta linha é particularmente importante neste notebook!!!"
      ]
    },
    {
      "cell_type": "code",
      "execution_count": 12,
      "metadata": {
        "id": "5SXy3iX1Ivd3"
      },
      "outputs": [],
      "source": [
        "# Criar um conjunto de dados de exemplo (não precisa conhecer esta linha de código!!!)\n",
        "# Serve apenas para gerarmos um conjunto de 1000 dados com 20 features e definir X e y\n",
        "X, y = make_classification(n_samples=1000, n_features=20, random_state=42)\n",
        "\n",
        "# Dividir o conjunto de dados em treinamento e teste\n",
        "X_train, X_test, y_train, y_test = train_test_split(X, y, test_size=0.2, random_state=42)"
      ]
    },
    {
      "cell_type": "markdown",
      "metadata": {
        "id": "LTtRYiDkBUJ5"
      },
      "source": [
        "Agora, vamos treinar um modelo de classificação simples, como a Regressão Logística:"
      ]
    },
    {
      "cell_type": "code",
      "execution_count": 13,
      "metadata": {
        "id": "LwNVqGL_BQwO"
      },
      "outputs": [],
      "source": [
        "# Treinar um modelo de Regressão Logística\n",
        "model = LogisticRegression()\n",
        "model.fit(X_train, y_train)\n",
        "\n",
        "# Fazer previsões no conjunto de teste\n",
        "y_pred = model.predict(X_test)"
      ]
    },
    {
      "cell_type": "markdown",
      "metadata": {
        "id": "AOhF3HVYJEjq"
      },
      "source": [
        "Se você chegou até aqui, significa que você treinou um modelo de regressão logística (machine learning) e o passo seguinte é verificar se esse modelo é razoável ou não. Para isso, você precisa de métricas bem definidas que te ajudem a estudar a capacidade preditiva deste modelo. De uma forma geral, você quer um modelo que acerte muitos dos casos de teste e que ao mesmo tempo erre de maneira equilibrada os diferentes casos possíveis. Existem muitas métricas viáveis para avaliar a capacidade de modelos preditivos de classificação, mas até o momento, para nós, essas métricas são:\n",
        "\n",
        "\n",
        "1.   Acurácia\n",
        "2.   Matriz de Confusão\n",
        "3.   Classification Report\n",
        "\n",
        "\n",
        "Vamos discutir cada uma em separado para entendermos um pouco mais os detalhes."
      ]
    },
    {
      "cell_type": "markdown",
      "metadata": {
        "id": "td1611UBBkRZ"
      },
      "source": [
        "# Accuracy Score:\n",
        "\n",
        "A pontuação de precisão (accuracy score) é uma métrica simples que mede a proporção de previsões corretas feitas pelo modelo. É a razão entre o número de previsões corretas e o número total de previsões, ou seja, a porcentagem de acertos."
      ]
    },
    {
      "cell_type": "code",
      "execution_count": 14,
      "metadata": {
        "colab": {
          "base_uri": "https://localhost:8080/"
        },
        "id": "PPmh4bpJBi29",
        "outputId": "02f8f733-a621-4fb9-8613-cfa1d26322c9"
      },
      "outputs": [
        {
          "name": "stdout",
          "output_type": "stream",
          "text": [
            "Accuracy Score: 0.855\n"
          ]
        }
      ],
      "source": [
        "# Calcular a accuracy score\n",
        "accuracy = accuracy_score(y_test, y_pred)\n",
        "print(\"Accuracy Score:\", accuracy)"
      ]
    },
    {
      "cell_type": "markdown",
      "metadata": {
        "id": "A5Sq5L0iLbI3"
      },
      "source": [
        "A acurácia, por si só, não é suficiente para verificar a capacidade preditiva de um modelo de classificação em muitos casos, especialmente quando os dados são desbalanceados ou quando as classes têm diferentes custos associados a erros de classificação. Existem várias razões pelas quais a acurácia isoladamente pode ser enganosa ou inadequada:\n",
        "\n",
        "1. **Desbalanceamento de Classes**: Em problemas em que as classes são\n",
        "desequilibradas, ou seja, uma classe tem muito mais exemplos do que a outra, a acurácia pode ser enganosa. O modelo pode atingir uma alta acurácia simplesmente prevendo a classe majoritária em quase todos os casos, enquanto falha em identificar a classe minoritária. Nesse caso, a acurácia não reflete a capacidade do modelo de identificar corretamente as amostras da classe minoritária.\n",
        "\n",
        "2. **Custo dos Erros**: Em muitos cenários, cometer um tipo específico de erro pode ser mais crítico do que outro. Por exemplo, em diagnósticos médicos, um falso negativo (não diagnosticar uma doença quando ela está presente) pode ter consequências mais graves do que um falso positivo (diagnosticar erroneamente uma doença). A acurácia não leva em consideração o custo associado a diferentes tipos de erros.\n",
        "\n",
        "3. **Contexto do Problema**: A escolha de métricas de avaliação deve ser guiada pelo contexto do problema. O que é mais importante: minimizar falsos positivos, minimizar falsos negativos, encontrar um equilíbrio entre ambos ou otimizar para outra métrica específica? A acurácia não leva em consideração as nuances do problema.\n",
        "\n",
        "4. **Métricas Personalizadas**: Em alguns casos, métricas personalizadas podem ser mais relevantes do que a acurácia. Por exemplo, em aplicações de detecção de fraudes, você pode criar uma métrica personalizada que leve em consideração o impacto financeiro dos erros de classificação.\n",
        "\n",
        "Portanto, a acurácia é uma métrica valiosa, mas não deve ser usada isoladamente. É importante considerar métricas adicionais que se alinhem com os objetivos e as peculiaridades do problema de classificação em questão, especialmente quando há desequilíbrio de classes ou custos desiguais associados a diferentes tipos de erros. Essas métricas proporcionarão uma compreensão mais completa do desempenho do modelo. A seguir vamos entender como a matriz de confusão pode ajudar neste processo.\n",
        "\n",
        "\n",
        "\n",
        "\n"
      ]
    },
    {
      "cell_type": "markdown",
      "metadata": {
        "id": "kY8CVz7VBePC"
      },
      "source": [
        "# Matriz de Confusão:\n",
        "\n",
        "## O que é:\n",
        "Matriz de confusão é uma visualização tabular dos rótulos da verdade versus previsões do modelo. Cada linha da matriz de confusão representa as instâncias de uma classe prevista e cada coluna representa as instâncias de uma classe real. A Matriz de Confusão não é exatamente uma métrica de desempenho, mas uma espécie de base sobre a qual outras métricas avaliam os resultados.\n",
        "\n",
        "## Como calcular?"
      ]
    },
    {
      "cell_type": "code",
      "execution_count": 15,
      "metadata": {
        "colab": {
          "base_uri": "https://localhost:8080/"
        },
        "id": "ERkMBWflBX_A",
        "outputId": "fc3e280e-2962-49f9-aca9-cdb32b8d4325"
      },
      "outputs": [
        {
          "name": "stdout",
          "output_type": "stream",
          "text": [
            "Matriz de Confusão:\n",
            "[[85  8]\n",
            " [21 86]]\n"
          ]
        }
      ],
      "source": [
        "# Calcular a matriz de confusão\n",
        "confusion = confusion_matrix(y_test, y_pred)\n",
        "print(\"Matriz de Confusão:\")\n",
        "print(confusion)\n"
      ]
    },
    {
      "cell_type": "markdown",
      "metadata": {
        "id": "RP6kVtUJND92"
      },
      "source": [
        "## Como interpretar?\n",
        "\n",
        "Essa matriz é comumente usada para avaliar o desempenho de um modelo de classificação binária. Vamos interpretar os resultados com base nos valores apresentados:\n",
        "\n",
        "![Performance-metrics-confusion-matrix.webp](data:image/webp;base64,UklGRuAYAABXRUJQVlA4INQYAADwagCdASrNAasAPm00lEgkIyIhIzWskIANiWdu3V7TPOOc5pd2vNdiN267b2hfN/4f9IPxJ84v65/R/x388fCR4Q9cP3u/xn5CfL2XPqd1FPk310+q/2D9tf8P+4v5C/ie+v30/wHqBfkP8R/sX5gf336MoC+c3+S9QX0++R/3v+4ftj/mflM9y/u345fv/8gfT3/b+4B/Ef5V/lP7b+3/+N///2F35X2L/H+wD/Lf6h/nP7x/cf2L+qP+e/53+K/zH7Re3f5t/33+I+AP+Rf0L/W/3P/Of/H/Kf///7/eb6+P2y//Huhfrz/8DWSj4cfcsceemtJAG3QuZOpWLVzDizaNXCJY1zco4+5Y4+5Y4YcJmWDxwSfpMz046DkRzAtCNkyZq0Sn74lIHSwc2bTDMamysfZ03GxQ//s27xgmo+5Y4+5RojdItUfpfS9XaXdKjZiqPuWOPuWFQKjrXTnSWNz7yyqLLk+hPcfjEuUS3kfDV3Rg5eRFbVWxw3hFoTpgviP4FbgSh0EvUXOySCRHSRWqqu012OPuWOPuWKDpLrub0sGqTri3xiaQDRJGvoAg5hl0YM23CIA8j32LHZ/aBpdMlKaHv+xqkxIi3mGYNlB2xSoW1PcDco16ZH7RUlW1cwiLCSheSIIKHFXi+4KgZc/i7DmdZU+9KcKFc1DUipUAgl92ylC997BRuV3n2z+BWTN+bAVIUfCfj+LsX61jzjhrFjdhGPXpxDPzAnFK5ptoSS5BYCfmRR+ilkPUUo04V4ITo1uspLpn3XOLdlrvWihMYyUHqge61o84+LFsyNQrm/JxunbeYPLDDK76o9pvHOrMq7lXT0H4+geoIJJzWKThqNcx0iZSX+jIsviV472CW7xeLBw50+7kkn8w2XuHG0L8gqQ3ch2dTzVpMXzMVik7C71NXj4zKVbB+rv1uVJmSzrutHvxwSMjVSpXTxq9GjA9V5IQTeF7srolLj/PGQNi93pBBv0uEKZmsROPCC+D/UZbMIMLtO33aW0BKFYPiKIy7OrYw7mHr2Aw2bLyCkiYE7jhOq12I9Tm+CNzyrh3ZtSafUciwIGtXYXV4XR4oIFaMXqLhY2HU76ToCEIR3IerrezZZ7+Mpn2ianQFEBktsJwgWQs2E5wEkErvAAA/vyoAABxnMzdNqeUE7+b4/AD3/cbAFj24BP05cfwm9HtHOZXJDII0ozBPP7AkjUy7knW1l/2h+mrAwgEf0Ij7YU/+fGmADTTuXiYlOWbwUgAIvRUteCEQg1gf713p11YTB7UUTY/QZGrEoy+Szd9gth9BEo302CtYSt7EmIaZW+g49pRm6z6y5K8maFKkftj21YD0bbZndbzd6379ER/JlkA3KzCc5GwPqR7uUbbXmEmrmdnLx5BZiSFQOf+UdZ2EtoLPWv73B4UrOIqR2J24mjiJYcidhApwpoweshmFT9sdpzjH+al+Nz6GiM/4SQQgrNSJwDvTrNsSngjykUds22l8ilLUC4pIgnld8sZotPzpM52iO/FAC1A9IJ+TTRNeUhQ9Ndajffk0msyw1KnVfCRUuENiUrMKu/Mo/Kv+K/9KcY/6BZt300JaMOrksAk/6sw6Mb885Bz6x+7leiRpYGMvnE1A0E4VNSwaPS3nsdBE1EvL8/IThYkvhhdy227LW09qs1SoW6ZubOkJ9GUFOfKGVMeWzm9sxJiEYh3FQmH0D6I5OQ2fw0PaV6xo1FKokWSGiF+CXt/HwqKT8+u7vzNW31u2IXZY+84Fs3qRqtj8kxXd+zZJvD7XQGniGbswvO84gGB8o7TYR+Qz60/PcIqESP+t74MIcr1L4fETljUETQdfP7NyQtHiZrJoYt+nL2rXI7rHB3XJhN/OPUYGgH/75nCp60nNaF2PfcJlXnAK52wj5Gzuw9UOsDW5aFY5UrCIJPNmsM4O315+XRhVirsba46a/tYpcDwRsX9QXUsGi+Ieqwj1cVFQ0dCvVttWO4TzyHc6/ggo2biVAH17NigfH1D+JM/LZqEAAAAABzQALWAAPJYg+bZSfL+9tLWLHmlndS4UY5IKhP88Mt/EGTjBJTYJEVoDVKuzWROKkKomxfluNBdX2Q8i0kGAT5Pju+cFxU90HLO35I+P0mxxYrzDi/wc/kuzyt9QoBvGgUAJRsH1Hlb16Swe08QzktUizfxMaG9pfdH+Jsiw7uGzCdgBL8MEi2lYTKm7vZSlbE7aNoUy1/9AcTxvajv3iit61oC77TAfGHwHbc0m3FT9OplZQXa0Oal7eXzIQ6IqlTKdAI/SlUKtTrHeOm36VrZq9sAsBT3p0ip0ge+LhjfO3LsBHWvWS877BsfU6Ss2VmMGnMCk/VcNUvYhxnJj3iBIq7xD1X4tg00WkDd8wWueTcggWgjiHhFgd2LpRn3fztHbeVjsk5xHWeJUCEsM6ll38x4al1raJOyRSfc52COatJviR2duwNFcGE2hwEsVRz4O5fXQrfm0CFJYSibsJDu4/I7sDQnVSQTlWZ3/OtF6kAAXoK1w+i3/JiD6GI7Q1IT0d4IpcXCfQ0atUtA33MdVen82xLcbhvXbIhJ0vGVIkoGEA34UJUjIEeVw9S/lHJaKGfqT1CkYA9ZJX4El2gXg8tg8rqkasp+HQAg5BxvqhZeq6bq8teyXmE+kzxcNZZLdQX1ISVNxiP8XPJZv5TA7b83dLAEMoxlXAsfUFPeD8KLRziFybZBSStVZQUKRQ2VvDInVg3/rLBIyJBfpYD/P9jyPSjs2Ju91FWJvfusw7efDP3LsQh/I6x/9sgAgm/on2mTnmAkQaiq8Dfg38hAApUzLJsXfruIm8CO4ZPrgFJM9KihSfwQ220hhaKzClmXAK8Dbh+kVhoU+uk9dvVWmhYnoLPN1N2pNLJ85UqeaufBu3GuuyR8ldK+CQz2vduf8p9htcXlGrAm8Q7Ycjbgbbd2Ytz8cGOWiAsS25T1pJ9kaFEy1av1nUqO7p4CwTndSyRMnARerKvHEyLOCFnYWEULuSh0oi8cD5clrY09o55vwTqq6eRu/QmBfktWkJsNj7IaziiNVfO50unz3NMBgxF0FI5pV7AxHrU+2ExeQsgfjzWKANaxOs1ltY5hWH9PMi0E9T7kWWAONZjq7aF8etH/q9M7H4vqB6gWVAsjqcywPth4uDcEy0g8G2yV8cx0gXXIRg4ZhmUwkuPyigxmJEXISfRv9NHyqRj7m1ogv5g5oSlWb+Y+9S6zhz6JbbDGEejcnDz1uQk/5qzeoMsBpvhLigAzjs4h5syCrUk1rc5TV4IpG19wugaJiw1Ip/2/NlZdGNIIYV2GQISmrQgdh3VqYTyaVuTqzcFjIioP+BsRdmdwcga8nGEHRYNl6nwtD1GBuC+tpam5Ma+fKAo0HYey1SFVQBusFAQpHyqD87yt0lE7SzGkh8U3FrzpD9EaMNvUSaWY2MGeCJOL3pPcnomskba1x+rBr7sWvpUBDlJJsVCdCJmJAgeJ+kS/JYhxdumPxLFq/ov6Pj8pzQSxAu0Q//j4MOSeJ/wbWpFsbOheehz6mU9HU++f6uDBgFGeLgSLw624JTDO1lXQHSI4X4cqNhyAhnrAPX7e9l5ekgZFa4uDsXP8aoxwefdvo3sDwIogRYDP6mL8X1iP7NN8GQfYTAaXl6ef3qRkZ2bTwR1kbklhJDKjXDjbhkYu2pDQiq0Pvnxi6chsgDhp1vB5tCIJA8cMPRx4/h6oNs3jUL2x+InB2fzZ8oLbNxbb8wfm+TrPiwUOIvgTJGyM+DxYR6+uvO8aCXp9zkE3ysvrHKwbfRbPqr1Yb+JP5Tvo3efAFwkTvI9Y4fwceBBwo19DLfhBltufueIxk+yYspsaxLsacRF4A36ezM9C2UB3Z+pGRlZqAZKh7spPA8fD4LXXh+KE+nX0AwvjXfM3Uy0V+JdWOwTNTMnxqiANnCayduZeo0x/zwPHwjlitVJAZicJXWke9o/sTVsocYMTg8mA0wb2WAfDHFfjk0n8KWBwUtjtBTgC4T6KqLL8UDVL0dty2qUAfmcDH9Dyb01RT+bTMImshOBjVnO08zS9RBRUVK4zvbZic0NjOqiPIiE9vAW6q+rkuXEtupIi0uhRocN85OyUC4zE1ZnmscD6590JqGxfupNWISBw/OFUuoXgyDL4P8balkBhHL8Y6O2jat4vg5FsMrD/BOW0CTboUfjD9Z0wZt9ZinlrDfR8SFQNygzf9lxeSM7k36Z7XEl7eed0tH/7uBvdwhLe0FB6gCEI3Cbw05gfC8XFkjEP5/ZeRsv8v1f1xhKqsicDKIjjR6wtUmJXI1GWdb5oNKjP2MjFv70KdHvxsjqeRlr4j1IvbdWdh7IV6fWAz8P7L3B0Ncq9rzo9si3owtzNvC/f5LOJeZVylnV3vhC/zzNkgAAEtgZqrvUANK994A/8vqHOfMULmv21B4LuzDyqAIwpFJhDpCeY3d/fS52wusx2QKNOBvv5F7JnX4GFRi7s97vmZvO8D3AKHdYgp1qXp/l/Oq5sZRgGZ1hKo7mHCQYBhwt7FyfsjmCqB4popwCWBEGnUMQd2DS5QkJp5X2D7QBWeNdpsrmWmUyJ+wyl0vd1f+H1xnF0Jl2zROpDoFrfKh7/AEcDauBq/kn6wBYsiLc+t5EYREVdbhUV2g9BJE43GkEmfvI3h3xLT1E4j+oI6kmsjuLlbhQ4R/DyWeuhHzhQFX18/b4gM/dJeuKRUBgvlyX3BMuKzKKGnuuGmT/zERn00gGXFpI8g802KE9dDt3hKVNgBh0C1KAF+RxpMXCHakG25q8pWEKiu7vl51O8hCjtFIzG1gO+2XXfZbfDBQEIiJQ+zhlz7HjuHPGacwl2UuAA3CP6FtjA/excwhG+wAMO518WVeShqVjzcPSw4Kjqpl/C/ktm99cWfKWtn+d8uLm5Px7bTyP7errP7BUfdpoADWBtsrOc/50UBHs9s9YDlcUgA6bSJFwxvLHprkjvzPaDp38shnmPSL2lK3OjPChXBhg0dfEy1Yx8pLMpYKnDmO0M1f1UWZOgE+KMbw1ruEkhg03nLV0OMxcPHZkbKZYubD+qecBhR4npdrZULEY+GRsyGqf0H7ENN3WuML4ZDmSzhw5gewTVA60qQE6Bj+t4Mbq7UHfWP05kOaz7FTdXGkfDlQEUFnRFkqQnbXnMcn1Jf1lQHX+ED2rl6gjcK0UlU7ox8codmIdvb7tjTlWgc0Dwqe1OylsUPhaPKflHJPPcXA7JwFt6pdwoQgLZAX3pCCdlDd2Hyj15vQWYXRlz49jdyP+0f8/hBfPVnwArX5M+XVvlR4AlDuM2u0kS6hpULl41OfCGVyrR7tkR9LnnubD3LM5ySecmq35FO4ehXgjfWA5NGP+/yHZn5eXlUcDvl3gW3ti6fQfvQd14VZGGoPk3Ve+SvDQmSNNn2H2Ub3jS0dPpg42lbPi/uAAnnKUXB+dOKD8ESU9wl+PMPZbtl1rmADY34VZEwjxRQ7ylx5Cm7LJ99xuMoymH1zzncTo1PenwoPuidZ1gFc9wBSVpiPAq4iZUh6OgZWr3OUONLDoYVw7LWtKdEaLKlxhTJmVZtF9zSkTSdxj5LAFIIwOZxiqb83mh4vYEZ6UWJQHj9Q5/aGMyMbuECrVTi9J/6HmU7JGVfCdvi/Eokw99gljAlO95k8HJNYOlhMiC5gWxiTHAnrBbY4wUmDSWiHFLgMseoyAz/wrx8at/PC81WGNQF+4QJhVe+qU2PIdIIj/5kSWP+GlRTHWvbdFSv68DztvKGfAroU3BedfAydJ9pJfwiZKx9tvCRwlI6f7gPa0nmFoJVDWQanBnNxNSHmm2/DXwsM9/nZJ4mt++52L2H+skUS+9fctnJ3vtqAkTiUwdeuaQqv5c5qr2DJneYYA3WBI3voZrbSqIXA3QVDA4s8ZGGMX/Ofm0mYaZesZcOXLnxB5xRJh4TUL9q8gfuS5tiVKSbMk2LivGNKwYQq+B74MYbcDZHiABU1EnB4H7QMlUYfJdDBvPJYN5Hha9hW+4zhemDnc+o3REq92JCUcm6rZ6qfPZHlcnoaPqaIxXcgKot7xYz7tiG6puDYKT79vfM+f/6K6glczSoYQkWlFNQR+uDdcHP5vh6O4sR5W/5BN/YPm1IwyxJsdZA8p5eLGxeNJmvfPEZ39sKZqgMlvHnc/oYw4oGxF5EbyFpl75pGr+5PYJNMfLj7//QEFKkwfAMXJ+eCo//3oJS3m4OkZORf0cPAnqnewuHYJUg2P1mNboUW2YWx2dL3aax0OhLUiNnzchSmDOlq8E8/EtAD5tb63KGvds4CbDDORPWpH5QB9oTj3okplJWpUGkVZTMvquI2mzrXb5llztkK3MqPsRTP7WBP/pf9WXDS0c6N6Kv5BFvaqb89pMOnWNg82XYb0GdBKAFUrE7g7TLcICM4+wwG5nLEzfxVgm8AYFYW5uL/o8FwfhLKWxQi5nqJsj0jYd+1wFIyG/FwtA3hX/apwA9jQp/3lWkvFMz77aypnBIIhUi4y6t/5n9EL1vfDcL2cj4Vd5P3KRzHAiVZ7Y5B4+w4cIyyr5PLXgqqNC0ONnKaN4IAlKOXU4k352hbtWMnvRGIr/q2E3RVE1p7mLzNlMGx5Ot7x5KGhUXpucssF2bAT/xzmXJyKlEejkH08i5DZJx1AwsRQLKal2nMY6sf0TudTads7bmlahlWXhzODW2gvwvnqazHQi4zIu+l2/0OVxh1+J8dum4tLJ1x4x0XIvHobqzJwsB9I0sIfYTnIsFiVcn57bzvthZtt2wA+vmYQXCOODCSy1IUGAL/z8CJBTwc9ykhMkFheNX8yMQWWvbRUXMFMCOb1aIGGiRVFTfkiACyJnUKUz8eiCOOJYVfhAQj0OE+/+D5e14D2y4iYiheJk+BPCsfL89Ef8R8NLwWBoaHkfBCLUXQF20hseJYVj5nGrxA4IUa0g3jo236CR9UfMHSY9f2swQKBEUr04D+S5bGB9ki/MqrrdNZhco4+m1Re4NyzGHo5vKte18gs8xpKxnjDDIRX8L34/xn+odO8fwq0VyqlhxQtjfBqJYEMNYE9SJoje2djeGPHlLtruEvNloQy1yrBfCIKfZIg17Jsp+I+pYholxZsycIKh0R4jWI/6TUymvm/phBxcloWNNplOb3OkKvNqzIy2WvfUtW/rAa2WejEx5rSHbxvduDqB7GVJRCtfM1n7JOxPQdOkPfRFV0L44cFF4r5BWPD7eVcE4uBBtQn1GqUux86N0GyXd0K6DuelPTOMvgRR6j9XASCLxKOzyAB5ck1zTQJrPJqIV4KjcTmCQ0zPtVlX0mHtfclFF6M64ZLCFWDRTFs+O0hl4yPeLK65/PbgB6IimVXGi5OlsZ1v3JPEVHOC6hubqgwJZZ1b/ZUMIukUEhfnMyiKp9s6sLr1yNtzhC1O2D4I5EmoQuFlYr2MzwEuNJj1kpcpfOictS44JwoILvFBdRwVDV6BRoaNDSvg13OvZXAfyKwJP+151AZ/mKcugps5uiphLeiJpz3GXCrJs8jlQu2FPUn/cF5ANcG0Z2xy9+1JPgXVhtWH301ZLIMN+wuu3CdwHaTmc7AjXANXd1ofG3Fk654oP4opfva2Yq+mJxEU3DvyfkLFtuCm8/ThHSVjz1579g3o2F9SAuFTsJPM2+IvJbPwlCDbb7ngQo/FFHZYlDlLtoocaeDJ5XtmthlIlSvThWLwnGiwHh1c1fG+AGLQeALaAmmZ3gtN/upjYEWcjgHhIdAVAtkfSw+6UUPJ2ieo+IuM0FlBl14uCcJWePMrV6Q3SegRsfWPvo1GRMnADQPhGqwOhtjxNOCFOlkaPpGCPR2B3DfGjDNxmZtn9CGkaih1oAVFbWPWvJ7SJQncYoMmyeBxMfZJpQfVLjY7fd2aT6OinaHeypd5uoNDXaXDmvo7aDu68OH0ep8XbhHiTXBefJvUOo9t9yuaDgA4fr5Yk18SwfLJWkjiRV6iy5x+Q7v5VVg+JRZHC8StTC0NCFhaHasAmprwAz8p7nedtSoWl9+m0deI9rdPLQMQUWV9e7oFpjEDQYvfJ9GCkLu3e15ULCkCk9B2Aewn6+TmuVYPWPA/mJ2yxed4wkoexCwcE6IfD4PK+mOhLOf2DZ0v7RyR4VCOC2aKzTiJH2lmkPeFEa2JstlrYBz0DjFrHyd+eYZ6+eNhx76AL/bVq6v7kJxSRRpuWPhpl2822zZnPEQ4gDDrf+Np8p8MRHtxCaYAhA6Smsbg6peASxCi10KzhOpvpb8gmuHVnhDh1I5xqCKc5UQoU9j9SYhAvgUKSIBwVv3Evs4ge4TWB+SOmm5JiUf8h5lX8T/5Vvi0HABYITu4bZ0aM85Yev2ADWUEAenSAJO77qp9uOITvLR9DqKUwpk1TejgW2e5vBfx31aGL2xDIpSFp9Y+C6ubaXeusd5bQlKAauIAtWxmHw3sNIzZfgMx1ewA6/gAAA==)\n",
        "\n",
        "A classe positiva é representada como \"1\" ou \"verdadeira\", e a classe negativa é representada como \"0\" ou \"falsa\".\n",
        "Os valores nas células da matriz representam a contagem de amostras que se enquadram em cada categoria.\n",
        "A interpretação dos resultados é a seguinte:\n",
        "\n",
        "1. Verdadeiros Positivos (True Positives - TP): Há 86 amostras que pertencem à classe positiva (1) e foram corretamente classificadas como positivas.\n",
        "\n",
        "2. Falsos Negativos (False Negatives - FN): Há 21 amostras que pertencem à classe positiva (1), mas foram erroneamente classificadas como negativas (0).\n",
        "\n",
        "3. Verdadeiros Negativos (True Negatives - TN): Há 85 amostras que pertencem à classe negativa (0) e foram corretamente classificadas como negativas.\n",
        "\n",
        "4. Falsos Positivos (False Positives - FP): Há 8 amostras que pertencem à classe negativa (0), mas foram erroneamente classificadas como positivas (1).\n",
        "\n",
        "Essa informação é útil para entender como o seu modelo de classificação está se saindo. Aqui está uma interpretação mais detalhada:\n",
        "\n",
        "O modelo acertou 86 casos positivos, o que é positivo.\n",
        "O modelo errou em 21 casos positivos, o que é negativo (essas são as classificações errôneas de amostras positivas).\n",
        "O modelo acertou 85 casos negativos, o que é positivo.\n",
        "O modelo errou em 8 casos negativos, o que é negativo (essas são as classificações errôneas de amostras negativas)."
      ]
    },
    {
      "cell_type": "markdown",
      "metadata": {
        "id": "trLm4SibPUOM"
      },
      "source": [
        "## Como deixar ela mais inteligível?"
      ]
    },
    {
      "cell_type": "code",
      "execution_count": 16,
      "metadata": {
        "colab": {
          "base_uri": "https://localhost:8080/",
          "height": 467
        },
        "id": "lCEZibRXP_EF",
        "outputId": "65e17ce8-58a1-4db9-9078-864fbb5ddf2d"
      },
      "outputs": [
        {
          "data": {
            "text/plain": [
              "<sklearn.metrics._plot.confusion_matrix.ConfusionMatrixDisplay at 0x7ff339132210>"
            ]
          },
          "execution_count": 16,
          "metadata": {},
          "output_type": "execute_result"
        },
        {
          "data": {
            "image/png": "[encoded data removed]",
            "text/plain": [
              "<Figure size 640x480 with 2 Axes>"
            ]
          },
          "metadata": {},
          "output_type": "display_data"
        }
      ],
      "source": [
        "from sklearn.metrics import confusion_matrix, ConfusionMatrixDisplay\n",
        "labels=[0,1]#substitua o seu aqui de acordo com o que houver na coluna que definiu como \"y\"\n",
        "cm = confusion_matrix(y_test, y_pred) #se preferir use , normalize='all' nos parênteses\n",
        "cmd = ConfusionMatrixDisplay(cm, display_labels=labels)\n",
        "cmd.plot()"
      ]
    },
    {
      "cell_type": "markdown",
      "metadata": {
        "id": "jHYLHY4VR-X-"
      },
      "source": [
        "Portanto, a matriz de confusão fornece uma visão detalhada do desempenho do seu modelo em relação às duas classes e é frequentemente usada para calcular métricas como precisão, recall, F1-Score e outras métricas de avaliação.\n",
        "\n",
        "Com base nesses valores, você pode avaliar o desempenho do seu modelo em relação a diferentes tipos de erros e acertos.Isso pode ser feito pelo classification report."
      ]
    },
    {
      "cell_type": "markdown",
      "metadata": {
        "id": "wfIq8I8aBux8"
      },
      "source": [
        "# Classification Report:\n",
        "\n",
        "O relatório de classificação (classification report) fornece uma visão mais detalhada do desempenho do modelo, incluindo métricas como precisão, recall, pontuação F1 e suporte para cada classe.\n",
        "\n"
      ]
    },
    {
      "cell_type": "markdown",
      "metadata": {
        "id": "G9QC0wiFSDHG"
      },
      "source": [
        "## Como calcular ?"
      ]
    },
    {
      "cell_type": "code",
      "execution_count": 17,
      "metadata": {
        "colab": {
          "base_uri": "https://localhost:8080/"
        },
        "id": "9kfSzncfBxjz",
        "outputId": "3eb7f83a-e38f-47c5-a8ee-37d0642d0b3e"
      },
      "outputs": [
        {
          "name": "stdout",
          "output_type": "stream",
          "text": [
            "              precision    recall  f1-score   support\n",
            "\n",
            "           0       0.80      0.91      0.85        93\n",
            "           1       0.91      0.80      0.86       107\n",
            "\n",
            "    accuracy                           0.85       200\n",
            "   macro avg       0.86      0.86      0.85       200\n",
            "weighted avg       0.86      0.85      0.86       200\n",
            "\n"
          ]
        }
      ],
      "source": [
        "# Gerar o relatório de classificação\n",
        "report = classification_report(y_test, y_pred)\n",
        "print(report)"
      ]
    },
    {
      "cell_type": "markdown",
      "metadata": {
        "id": "a8eElbDnC3yW"
      },
      "source": [
        "##Como interpretar?\n",
        "Vou explicar linha por linha o que o código do classification_report faz:"
      ]
    },
    {
      "cell_type": "markdown",
      "metadata": {
        "id": "PUsGiIhjDH3M"
      },
      "source": [
        "Classification_report: Esta é a função do scikit-learn que gera um relatório de classificação. Ele leva duas entradas obrigatórias: y_test (valores verdadeiros das classes dos dados que vc separou para treino) e y_pred (valores previstos pelo modelo).\n",
        "\n",
        "**Precisão (Precision)**: A precisão é a proporção de previsões positivas corretas em relação ao total de previsões positivas. É calculada como: $$TP / (TP + FP)$$ onde TP são os verdadeiros positivos e FP são os falsos positivos.\n",
        "\n",
        "**Recall (Revocação ou Sensibilidade)**: O recall é a proporção de previsões positivas corretas em relação ao total de amostras verdadeiramente positivas. É calculado como: $$TP / (TP + FN)$$ onde TP são os verdadeiros positivos e FN são os falsos negativos.\n",
        "\n",
        "**F1-Score**: O F1-Score é a média harmônica entre precisão e recall e fornece uma única métrica que leva em consideração tanto falsos positivos quanto falsos negativos. É calculado como 2 $×$ (Precisão * Recall) / (Precisão + Recall).\n",
        "\n",
        "**Suporte (Support)**: O suporte é o número de amostras verdadeiras de cada classe no conjunto de teste.\n",
        "\n",
        "A saída do classification_report é uma string formatada que exibe essas métricas para cada classe no problema de classificação. A saída inclui as métricas para cada classe, bem como a média ponderada dessas métricas, levando em consideração o número de amostras em cada classe."
      ]
    },
    {
      "cell_type": "markdown",
      "metadata": {
        "id": "LaBc277-UC8U"
      },
      "source": [
        "# Comparando dois modelos"
      ]
    },
    {
      "cell_type": "code",
      "execution_count": 18,
      "metadata": {
        "colab": {
          "base_uri": "https://localhost:8080/"
        },
        "id": "53PsqJOHCJ_W",
        "outputId": "a5856c65-818d-4283-9a03-169fb98b2efa"
      },
      "outputs": [
        {
          "name": "stdout",
          "output_type": "stream",
          "text": [
            "Classification Report - Regressão Logística:\n",
            "              precision    recall  f1-score   support\n",
            "\n",
            "           0       0.80      0.91      0.85        93\n",
            "           1       0.91      0.80      0.86       107\n",
            "\n",
            "    accuracy                           0.85       200\n",
            "   macro avg       0.86      0.86      0.85       200\n",
            "weighted avg       0.86      0.85      0.86       200\n",
            "\n",
            "Classification Report - KNN:\n",
            "              precision    recall  f1-score   support\n",
            "\n",
            "           0       0.75      0.88      0.81        93\n",
            "           1       0.88      0.75      0.81       107\n",
            "\n",
            "    accuracy                           0.81       200\n",
            "   macro avg       0.82      0.81      0.81       200\n",
            "weighted avg       0.82      0.81      0.81       200\n",
            "\n"
          ]
        }
      ],
      "source": [
        "from sklearn import neighbors\n",
        "import numpy as np\n",
        "import matplotlib.pyplot as plt\n",
        "import seaborn as sns\n",
        "from sklearn.datasets import make_classification\n",
        "from sklearn.model_selection import train_test_split\n",
        "from sklearn.linear_model import LogisticRegression\n",
        "from sklearn.neighbors import KNeighborsClassifier\n",
        "from sklearn.metrics import confusion_matrix, classification_report\n",
        "\n",
        "# Criar um conjunto de dados de exemplo\n",
        "X, y = make_classification(n_samples=1000, n_features=20, random_state=42)\n",
        "\n",
        "# Dividir o conjunto de dados em treinamento e teste\n",
        "X_train, X_test, y_train, y_test = train_test_split(X, y, test_size=0.2, random_state=42)\n",
        "\n",
        "# Treinar um modelo de Regressão Logística\n",
        "logistic_model = LogisticRegression()\n",
        "logistic_model.fit(X_train, y_train)\n",
        "y_pred_logistic = logistic_model.predict(X_test)\n",
        "\n",
        "# Treinar um modelo de KNN\n",
        "knn_model = neighbors.KNeighborsClassifier()\n",
        "knn_model.fit(X_train, y_train)\n",
        "y_pred_knn = knn_model.predict(X_test)\n",
        "\n",
        "# Comparar os modelos usando classification_report\n",
        "print(\"Classification Report - Regressão Logística:\")\n",
        "print(classification_report(y_test, y_pred_logistic))\n",
        "\n",
        "print(\"Classification Report - KNN:\")\n",
        "print(classification_report(y_test, y_pred_knn))\n"
      ]
    },
    {
      "cell_type": "code",
      "execution_count": 19,
      "metadata": {
        "colab": {
          "base_uri": "https://localhost:8080/",
          "height": 486
        },
        "id": "koUwlJn_EPZg",
        "outputId": "e2eedabd-3a13-4a14-a1f9-46f9c5e52b1c"
      },
      "outputs": [
        {
          "name": "stdout",
          "output_type": "stream",
          "text": [
            "Matriz de Confusão - Regressão Logística:\n"
          ]
        },
        {
          "data": {
            "text/plain": [
              "<sklearn.metrics._plot.confusion_matrix.ConfusionMatrixDisplay at 0x7ff33910c9d0>"
            ]
          },
          "execution_count": 19,
          "metadata": {},
          "output_type": "execute_result"
        },
        {
          "data": {
            "image/png": "[encoded data removed]",
            "text/plain": [
              "<Figure size 640x480 with 2 Axes>"
            ]
          },
          "metadata": {},
          "output_type": "display_data"
        }
      ],
      "source": [
        "# Comparar os modelos usando confusion_matrix\n",
        "#labels = [0, 1]  # Substitua pelos rótulos das suas classes\n",
        "\n",
        "print(\"Matriz de Confusão - Regressão Logística:\")\n",
        "from sklearn.metrics import confusion_matrix, ConfusionMatrixDisplay\n",
        "cm = confusion_matrix(y_test, y_pred_logistic) #se preferir use , normalize='all' nos parênteses\n",
        "cmd = ConfusionMatrixDisplay(cm, display_labels=logistic_model.classes_)\n",
        "cmd.plot()"
      ]
    },
    {
      "cell_type": "code",
      "execution_count": 20,
      "metadata": {
        "colab": {
          "base_uri": "https://localhost:8080/",
          "height": 486
        },
        "id": "F-kSxPvkZRIt",
        "outputId": "bd8ce2e4-a269-48a1-8761-f8a57028d57c"
      },
      "outputs": [
        {
          "name": "stdout",
          "output_type": "stream",
          "text": [
            "Matriz de Confusão - KNN:\n"
          ]
        },
        {
          "data": {
            "text/plain": [
              "<sklearn.metrics._plot.confusion_matrix.ConfusionMatrixDisplay at 0x7ff3390a6b10>"
            ]
          },
          "execution_count": 20,
          "metadata": {},
          "output_type": "execute_result"
        },
        {
          "data": {
            "image/png": "[encoded data removed]",
            "text/plain": [
              "<Figure size 640x480 with 2 Axes>"
            ]
          },
          "metadata": {},
          "output_type": "display_data"
        }
      ],
      "source": [
        "# Comparar os modelos usando confusion_matrix\n",
        "#labels = [1,0]  # Substitua pelos rótulos das suas classes\n",
        "\n",
        "print(\"Matriz de Confusão - KNN:\")\n",
        "from sklearn.metrics import confusion_matrix, ConfusionMatrixDisplay\n",
        "cm = confusion_matrix(y_test, y_pred_knn) #se preferir use , normalize='all' nos parênteses\n",
        "cmd = ConfusionMatrixDisplay(cm, display_labels=knn_model.classes_)\n",
        "cmd.plot()"
      ]
    },
    {
      "cell_type": "code",
      "execution_count": null,
      "metadata": {
        "id": "MpXzHP63Zx38"
      },
      "outputs": [],
      "source": []
    }
  ],
  "metadata": {
    "colab": {
      "provenance": []
    },
    "kernelspec": {
      "display_name": "Python 3",
      "name": "python3"
    },
    "language_info": {
      "codemirror_mode": {
        "name": "ipython",
        "version": 3
      },
      "file_extension": ".py",
      "mimetype": "text/x-python",
      "name": "python",
      "nbconvert_exporter": "python",
      "pygments_lexer": "ipython3",
      "version": "3.11.4"
    }
  },
  "nbformat": 4,
  "nbformat_minor": 0
}

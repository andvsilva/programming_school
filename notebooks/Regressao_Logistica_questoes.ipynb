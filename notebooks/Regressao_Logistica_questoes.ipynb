{
  "cells": [
    {
      "cell_type": "markdown",
      "metadata": {
        "id": "gglUriLmo1sR"
      },
      "source": [
        "<head>\n",
        "  <meta name=\"author\">\n",
        "  <meta institution=\"author\" content=\"Universidade Presbiteriana Mackenzie\">\n",
        "</head>\n",
        "\n",
        "<img src=\"http://meusite.mackenzie.br/rogerio/mackenzie_logo/UPM.2_horizontal_vermelho.jpg\" width=300, align=\"left\"></a>\n",
        "<!-- <h1 align=left><font size = 6, style=\"color:rgb(200,0,0)\"> optional title </font></h1> -->"
      ]
    },
    {
      "cell_type": "markdown",
      "metadata": {
        "id": "x3RSAcU_o1sU"
      },
      "source": [
        "# **Regressão Logística**\n",
        "# Exercício prático\n",
        "---"
      ]
    },
    {
      "cell_type": "code",
      "execution_count": 8,
      "metadata": {
        "id": "UPVeFK3a5i6d"
      },
      "outputs": [],
      "source": [
        "#imports necessários\n",
        "import pandas                  as pd\n",
        "import numpy                   as np\n",
        "import matplotlib.pyplot       as plt\n",
        "import seaborn                 as sns\n",
        "import statsmodels.formula.api as sm\n",
        "import warnings\n",
        "warnings.filterwarnings(\"ignore\")\n",
        "\n",
        "from sklearn.model_selection import train_test_split #para facilitar a separação dos dados..\n",
        "from sklearn.linear_model import LogisticRegression  #para configurar o modelo..\n",
        "from sklearn import metrics                          #para obter métricas de análise..\n"
      ]
    },
    {
      "cell_type": "markdown",
      "metadata": {
        "deletable": true,
        "editable": true,
        "id": "qK4Wi5vshpPc"
      },
      "source": [
        "## Relembrando a estrutura de Modelos de Classificação\n"
      ]
    },
    {
      "cell_type": "markdown",
      "metadata": {
        "id": "X55vXY1D8HjO"
      },
      "source": [
        "```\n",
        "#Separando variáveis independentes das dependentes\n",
        "x = df.drop('Y',axis=1)\n",
        "y = df['Y']\n",
        "\n",
        "#Separando em treino e Teste (30% para Teste)\n",
        "X_train, X_test, y_train, y_test = train_test_split(x, y, test_size=0.3, random_state=1)\n",
        "\n",
        "#Declarando o modelo\n",
        "model = LogisticRegression()\n",
        "\n",
        "#Treinando o modelo (com o conjunto de Treino)\n",
        "model.fit(X_train,y_train)\n",
        "\n",
        "#Utilizando o modelo para prever novos casos\n",
        "y_pred=model.predict(X_test)\n",
        "\n",
        "#Visualizando os resultados\n",
        "cnf_matrix = metrics.confusion_matrix(y_test, y_pred)\n",
        "cnf_matrix\n",
        "\n",
        "#Verificando com qual probabilidade os dados foram classificados\n",
        "y_pred_prob = model.predict_proba(df.drop('Y',axis=1))\n",
        "```"
      ]
    },
    {
      "cell_type": "markdown",
      "metadata": {
        "id": "RUkrHCJKSYn3"
      },
      "source": [
        "##CASO: Consumo de combustível em veículos ##\n",
        "\n",
        "Resumo: Informações sobre o consumo de combustível em veículos, medido em milhas por galão (mpg)\n",
        "\n",
        "Para descrição completa dos dados acesse https://archive.ics.uci.edu/ml/datasets/auto+mpg.\n",
        "\n"
      ]
    },
    {
      "cell_type": "code",
      "execution_count": 9,
      "metadata": {
        "colab": {
          "base_uri": "https://localhost:8080/",
          "height": 206
        },
        "id": "S4n19clB0fvg",
        "outputId": "99342088-15d4-4d4b-c7e2-32ac9dac12fc"
      },
      "outputs": [
        {
          "data": {
            "text/html": [
              "<div>\n",
              "<style scoped>\n",
              "    .dataframe tbody tr th:only-of-type {\n",
              "        vertical-align: middle;\n",
              "    }\n",
              "\n",
              "    .dataframe tbody tr th {\n",
              "        vertical-align: top;\n",
              "    }\n",
              "\n",
              "    .dataframe thead th {\n",
              "        text-align: right;\n",
              "    }\n",
              "</style>\n",
              "<table border=\"1\" class=\"dataframe\">\n",
              "  <thead>\n",
              "    <tr style=\"text-align: right;\">\n",
              "      <th></th>\n",
              "      <th>mpg</th>\n",
              "      <th>cylinders</th>\n",
              "      <th>displacement</th>\n",
              "      <th>horsepower</th>\n",
              "      <th>weight</th>\n",
              "      <th>acceleration</th>\n",
              "      <th>model_year</th>\n",
              "      <th>origin</th>\n",
              "      <th>name</th>\n",
              "    </tr>\n",
              "  </thead>\n",
              "  <tbody>\n",
              "    <tr>\n",
              "      <th>0</th>\n",
              "      <td>18.0</td>\n",
              "      <td>8</td>\n",
              "      <td>307.0</td>\n",
              "      <td>130.0</td>\n",
              "      <td>3504</td>\n",
              "      <td>12.0</td>\n",
              "      <td>70</td>\n",
              "      <td>usa</td>\n",
              "      <td>chevrolet chevelle malibu</td>\n",
              "    </tr>\n",
              "    <tr>\n",
              "      <th>1</th>\n",
              "      <td>15.0</td>\n",
              "      <td>8</td>\n",
              "      <td>350.0</td>\n",
              "      <td>165.0</td>\n",
              "      <td>3693</td>\n",
              "      <td>11.5</td>\n",
              "      <td>70</td>\n",
              "      <td>usa</td>\n",
              "      <td>buick skylark 320</td>\n",
              "    </tr>\n",
              "    <tr>\n",
              "      <th>2</th>\n",
              "      <td>18.0</td>\n",
              "      <td>8</td>\n",
              "      <td>318.0</td>\n",
              "      <td>150.0</td>\n",
              "      <td>3436</td>\n",
              "      <td>11.0</td>\n",
              "      <td>70</td>\n",
              "      <td>usa</td>\n",
              "      <td>plymouth satellite</td>\n",
              "    </tr>\n",
              "    <tr>\n",
              "      <th>3</th>\n",
              "      <td>16.0</td>\n",
              "      <td>8</td>\n",
              "      <td>304.0</td>\n",
              "      <td>150.0</td>\n",
              "      <td>3433</td>\n",
              "      <td>12.0</td>\n",
              "      <td>70</td>\n",
              "      <td>usa</td>\n",
              "      <td>amc rebel sst</td>\n",
              "    </tr>\n",
              "    <tr>\n",
              "      <th>4</th>\n",
              "      <td>17.0</td>\n",
              "      <td>8</td>\n",
              "      <td>302.0</td>\n",
              "      <td>140.0</td>\n",
              "      <td>3449</td>\n",
              "      <td>10.5</td>\n",
              "      <td>70</td>\n",
              "      <td>usa</td>\n",
              "      <td>ford torino</td>\n",
              "    </tr>\n",
              "  </tbody>\n",
              "</table>\n",
              "</div>"
            ],
            "text/plain": [
              "    mpg  cylinders  displacement  horsepower  weight  acceleration  \\\n",
              "0  18.0          8         307.0       130.0    3504          12.0   \n",
              "1  15.0          8         350.0       165.0    3693          11.5   \n",
              "2  18.0          8         318.0       150.0    3436          11.0   \n",
              "3  16.0          8         304.0       150.0    3433          12.0   \n",
              "4  17.0          8         302.0       140.0    3449          10.5   \n",
              "\n",
              "   model_year origin                       name  \n",
              "0          70    usa  chevrolet chevelle malibu  \n",
              "1          70    usa          buick skylark 320  \n",
              "2          70    usa         plymouth satellite  \n",
              "3          70    usa              amc rebel sst  \n",
              "4          70    usa                ford torino  "
            ]
          },
          "execution_count": 9,
          "metadata": {},
          "output_type": "execute_result"
        }
      ],
      "source": [
        "mpg = sns.load_dataset('mpg')\n",
        "\n",
        "mpg.head()\n"
      ]
    },
    {
      "cell_type": "markdown",
      "metadata": {
        "id": "VeuE9kbN9KCD"
      },
      "source": [
        "# Questão 1: Qual o tamanho do df? Linhas e Colunas?\n"
      ]
    },
    {
      "cell_type": "code",
      "execution_count": 10,
      "metadata": {
        "id": "yzrnYiUb3bmX"
      },
      "outputs": [
        {
          "name": "stdout",
          "output_type": "stream",
          "text": [
            "shape dataframe: rows = 398 and columns = 9\n"
          ]
        }
      ],
      "source": [
        "print(f\"shape dataframe: rows = {mpg.shape[0]} and columns = {mpg.shape[1]}\")"
      ]
    },
    {
      "cell_type": "markdown",
      "metadata": {
        "id": "7iFNOtyx9TdT"
      },
      "source": [
        "# Questão 2: Existem valores que devem ser excluídos? Quantos em cada coluna?\n"
      ]
    },
    {
      "cell_type": "code",
      "execution_count": 22,
      "metadata": {
        "id": "Xu8EdN50JXs6"
      },
      "outputs": [
        {
          "data": {
            "text/plain": [
              "mpg             0\n",
              "cylinders       0\n",
              "displacement    0\n",
              "horsepower      6\n",
              "weight          0\n",
              "acceleration    0\n",
              "model_year      0\n",
              "origin          0\n",
              "name            0\n",
              "dtype: int64"
            ]
          },
          "execution_count": 22,
          "metadata": {},
          "output_type": "execute_result"
        }
      ],
      "source": [
        "mpg.isna().sum()"
      ]
    },
    {
      "cell_type": "code",
      "execution_count": 25,
      "metadata": {
        "id": "kFmjn_xjJZmF"
      },
      "outputs": [
        {
          "data": {
            "text/plain": [
              "mpg             0\n",
              "cylinders       0\n",
              "displacement    0\n",
              "horsepower      0\n",
              "weight          0\n",
              "acceleration    0\n",
              "model_year      0\n",
              "origin          0\n",
              "name            0\n",
              "dtype: int64"
            ]
          },
          "execution_count": 25,
          "metadata": {},
          "output_type": "execute_result"
        }
      ],
      "source": [
        "mpg.dropna(subset = [\"horsepower\"], inplace=True)\n",
        "mpg.isna().sum()"
      ]
    },
    {
      "cell_type": "markdown",
      "metadata": {
        "id": "P6g5dyyJ9jfY"
      },
      "source": [
        "# Questão 3: Quantas configurações diferentes de cilindros existem?\n"
      ]
    },
    {
      "cell_type": "code",
      "execution_count": 26,
      "metadata": {
        "id": "jREmjq_JKX5l"
      },
      "outputs": [
        {
          "data": {
            "text/plain": [
              "4    199\n",
              "8    103\n",
              "6     83\n",
              "3      4\n",
              "5      3\n",
              "Name: cylinders, dtype: int64"
            ]
          },
          "execution_count": 26,
          "metadata": {},
          "output_type": "execute_result"
        }
      ],
      "source": [
        "mpg['cylinders'].value_counts()"
      ]
    },
    {
      "cell_type": "code",
      "execution_count": 27,
      "metadata": {},
      "outputs": [
        {
          "data": {
            "text/plain": [
              "4    50.77%\n",
              "8    26.28%\n",
              "6    21.17%\n",
              "3     1.02%\n",
              "5     0.77%\n",
              "Name: cylinders, dtype: object"
            ]
          },
          "execution_count": 27,
          "metadata": {},
          "output_type": "execute_result"
        }
      ],
      "source": [
        "mpg['cylinders'].value_counts(normalize=True).map('{:.2%}'.format)"
      ]
    },
    {
      "cell_type": "markdown",
      "metadata": {
        "id": "H7fku3GU9qqV"
      },
      "source": [
        "# Questão 4: Qual o percentual de veículos com mpg maior que 25?\n"
      ]
    },
    {
      "cell_type": "code",
      "execution_count": null,
      "metadata": {
        "id": "SSsG2Keih2rs"
      },
      "outputs": [],
      "source": []
    },
    {
      "cell_type": "markdown",
      "metadata": {
        "id": "L0yJri2P9x8P"
      },
      "source": [
        "#Questão 5: Quantos veículos foram produzidos nos EUA?"
      ]
    },
    {
      "cell_type": "code",
      "execution_count": null,
      "metadata": {
        "id": "ca-1fpjAEhQG"
      },
      "outputs": [],
      "source": []
    },
    {
      "cell_type": "markdown",
      "metadata": {
        "id": "SDOuWe1Ca9Gx"
      },
      "source": [
        "# Questão 6: Altere a coluna `origin` de modo que ela represente se um veículo foi ou não produzido nos EUA. Qual a porcentagem de veículos dos EUA?\n",
        "Dica: utilize:\n",
        "\n",
        "```\n",
        "# df.coluna.replace('antigo','novo')\n",
        "```\n",
        "\n"
      ]
    },
    {
      "cell_type": "code",
      "execution_count": 12,
      "metadata": {
        "id": "m6Mj132ha8dJ"
      },
      "outputs": [],
      "source": [
        "#trocando os dados\n"
      ]
    },
    {
      "cell_type": "code",
      "execution_count": 13,
      "metadata": {
        "id": "b5tAB5-Pc2Ja"
      },
      "outputs": [],
      "source": [
        "#quantos veículos da base foram produzidos nos EUA e quantos não?\n",
        "\n",
        "\n",
        "#qual a porcentagem de veículos dos EUA?\n"
      ]
    },
    {
      "cell_type": "markdown",
      "metadata": {
        "id": "b-kj9kcnZME4"
      },
      "source": [
        "#Questão 7: O consumo em mpg e o número de cilindros, conseguem classificar se um veículo foi produzido nos EUA ou não? Crie um modelo de regressão logística capaz de responder essa pergunta?"
      ]
    },
    {
      "cell_type": "code",
      "execution_count": 14,
      "metadata": {
        "id": "kRs7qY682YL-"
      },
      "outputs": [],
      "source": [
        "#Variáveis do modelo\n"
      ]
    },
    {
      "cell_type": "code",
      "execution_count": 15,
      "metadata": {
        "id": "570uz7Mk26jy"
      },
      "outputs": [],
      "source": [
        "#criando o modelo\n"
      ]
    },
    {
      "cell_type": "code",
      "execution_count": 16,
      "metadata": {
        "id": "IfYMdZTM_MM6"
      },
      "outputs": [],
      "source": [
        "#treinando o modelo\n"
      ]
    },
    {
      "cell_type": "code",
      "execution_count": 17,
      "metadata": {
        "id": "WqwRyV30_MBt"
      },
      "outputs": [],
      "source": [
        "#utilizando o modelo\n"
      ]
    },
    {
      "cell_type": "markdown",
      "metadata": {
        "id": "VxGkfMJr_SqL"
      },
      "source": [
        "# Questão 8: Qual a acurácia do modelo?"
      ]
    },
    {
      "cell_type": "code",
      "execution_count": 18,
      "metadata": {
        "id": "Zt4Cw-RQdGga"
      },
      "outputs": [],
      "source": [
        "from sklearn.metrics import accuracy_score\n"
      ]
    },
    {
      "cell_type": "markdown",
      "metadata": {
        "id": "Yhq2CWOLAhFO"
      },
      "source": [
        "# Faça a matriz de confusão e analise cada uma das classes. Analise os resultados."
      ]
    },
    {
      "cell_type": "code",
      "execution_count": 19,
      "metadata": {
        "id": "pab8llqm_LxR"
      },
      "outputs": [],
      "source": [
        "#visualizando os resultados\n"
      ]
    },
    {
      "cell_type": "markdown",
      "metadata": {
        "id": "9xln6ef0_Xxg"
      },
      "source": [
        "# O código abaixo serve para melhorar a visualização da Matriz de Confusão"
      ]
    },
    {
      "cell_type": "markdown",
      "metadata": {
        "id": "7wlrpyRDA_8b"
      },
      "source": [
        "```\n",
        "from sklearn.metrics import confusion_matrix, ConfusionMatrixDisplay\n",
        "\n",
        "cm = confusion_matrix(y_test, y_pred, labels=clf.classes_)\n",
        "\n",
        "disp = ConfusionMatrixDisplay(confusion_matrix=cm,\n",
        "                              display_labels=clf.classes_)\n",
        "disp.plot()\n",
        "\n",
        "plt.show()\n",
        "```"
      ]
    },
    {
      "cell_type": "markdown",
      "metadata": {
        "id": "0_n9V4bweRbV"
      },
      "source": [
        "# Questão 9: Agora que você já entende um modelo básico de regressão logística, proceda da seguinte forma:\n",
        "\n",
        "\n",
        "*   Carregue novamente os dados\n",
        "*   Exclua os valores nulos\n",
        "*   Crie uma coluna chamada 'high_efficiency' na qual os valores serão 0 no caso em que o valor de mpg da linha, for maior que a mediana de toda a base e 1 caso contrário.\n",
        "*   Construa um modelo usando:\n",
        "  \n",
        "\n",
        "  \n",
        "\n",
        "> a) X = X = mpg[['cylinders', 'displacement', 'horsepower', 'weight', 'acceleration', 'model_year']]\n",
        "\n",
        "\n",
        "\n",
        "\n",
        "> b) y = mpg['high_efficiency']\n",
        "\n",
        "para prever se a partir das variáveis X é possível prever se o carro é eficiente ou não (y).\n",
        "\n",
        "Dica: mpg['high_efficiency'] = (mpg['mpg'] > median_mpg).astype(int)"
      ]
    },
    {
      "cell_type": "code",
      "execution_count": 20,
      "metadata": {
        "id": "3eaQ42B4BbCR"
      },
      "outputs": [],
      "source": [
        "#"
      ]
    },
    {
      "cell_type": "markdown",
      "metadata": {
        "id": "GQx4Gha5IvF9"
      },
      "source": [
        "# Questão 10: Qual a acurácia do modelo? Quantos acertos?"
      ]
    },
    {
      "cell_type": "code",
      "execution_count": 21,
      "metadata": {
        "id": "XtA7J8cRCe8E"
      },
      "outputs": [],
      "source": [
        "#"
      ]
    }
  ],
  "metadata": {
    "anaconda-cloud": {},
    "colab": {
      "provenance": []
    },
    "kernelspec": {
      "display_name": "Python 3",
      "language": "python",
      "name": "python3"
    },
    "language_info": {
      "codemirror_mode": {
        "name": "ipython",
        "version": 3
      },
      "file_extension": ".py",
      "mimetype": "text/x-python",
      "name": "python",
      "nbconvert_exporter": "python",
      "pygments_lexer": "ipython3",
      "version": "3.8.10"
    }
  },
  "nbformat": 4,
  "nbformat_minor": 0
}

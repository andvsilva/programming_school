{
  "nbformat": 4,
  "nbformat_minor": 0,
  "metadata": {
    "anaconda-cloud": {},
    "kernelspec": {
      "display_name": "Python 3",
      "language": "python",
      "name": "python3"
    },
    "language_info": {
      "codemirror_mode": {
        "name": "ipython",
        "version": 3
      },
      "file_extension": ".py",
      "mimetype": "text/x-python",
      "name": "python",
      "nbconvert_exporter": "python",
      "pygments_lexer": "ipython3",
      "version": "3.7.4"
    },
    "colab": {
      "provenance": [],
      "collapsed_sections": [
        "Li1FPlObIQAh",
        "o1CIMJlP3XYi"
      ],
      "toc_visible": true
    }
  },
  "cells": [
    {
      "cell_type": "markdown",
      "metadata": {
        "id": "gglUriLmo1sR"
      },
      "source": [
        "<head>\n",
        "  <meta name=\"author\" content=\"Rogério de Oliveira\">\n",
        "  <meta institution=\"author\" content=\"Universidade Presbiteriana Mackenzie\">\n",
        "</head>\n",
        "\n",
        "<img src=\"http://meusite.mackenzie.br/rogerio/mackenzie_logo/UPM.2_horizontal_vermelho.jpg\" width=300, align=\"left\"></a>\n",
        "<!-- <h1 align=left><font size = 6, style=\"color:rgb(200,0,0)\"> optional title </font></h1> -->"
      ]
    },
    {
      "cell_type": "code",
      "source": [
        "import pandas as pd\n",
        "import seaborn as sns\n",
        "import matplotlib.pyplot as plt\n",
        "import statsmodels.formula.api as sm\n",
        "\n",
        "import warnings\n",
        "warnings.simplefilter('ignore')"
      ],
      "metadata": {
        "id": "6nnpIgKBX069"
      },
      "execution_count": null,
      "outputs": []
    },
    {
      "cell_type": "markdown",
      "metadata": {
        "id": "x3RSAcU_o1sU"
      },
      "source": [
        "# **Regressão Linear**"
      ]
    },
    {
      "cell_type": "markdown",
      "source": [
        "Em estatística, Regressão linear é uma equação para se usa para estimar o valor esperado de uma variável, $y$, em função dos valores de algumas outras variáveis $x_1, x_2,...,x_r$.\n",
        "Os modelos de regressão linear têm uma ampla gama de aplicações em diversas áreas.\n",
        "\n",
        "- Estudo da relação entre a renda e a educação.\n",
        "- Análise do impacto de tratamentos médicos em resultados de pacientes.\n",
        "- Estimativa de vendas com base em despesas com publicidade.\n",
        "- Análise da relação entre velocidade e consumo de combustível em veículos.\n",
        "- Previsão de níveis de água em rios com base em dados meteorológicos.\n",
        "\n",
        "Antes de utilizar um modelo de regressão linear, é importante avaliar a relação linear entre as variáveis de interesse. Para isso, é possível empregar gráficos de dispersão (scatterplots) e calcular o coeficiente de correlação."
      ],
      "metadata": {
        "id": "QAxJb3DGETU1"
      }
    },
    {
      "cell_type": "markdown",
      "source": [
        "**Gráficos de disperssão (scatterplots):** são uma ferramenta visual útil na análise de dados para explorar a relação entre duas variáveis."
      ],
      "metadata": {
        "id": "n2NI_TjfpFQN"
      }
    },
    {
      "cell_type": "markdown",
      "source": [
        "<img src=\"http://www.orlandoalbarracin.com.br/phyton/scatter.png\" width=400, align=\"left\">"
      ],
      "metadata": {
        "id": "HxdDgm1rpYhm"
      }
    },
    {
      "cell_type": "markdown",
      "source": [
        "**Coeficiente de correlação ($r$):** mede a força linear entre as variáveis independentes e dependentes. Seu valor varia de -1 a 1.\n",
        "\n",
        "- Um valor de $r$ próximo a 1 indica que à medida que uma variável aumenta, a outra também tende a aumentar.\n",
        "- Um valor de $r$ próximo a -1 indica que à medida que uma variável aumenta, a outra tende a diminuir.\n",
        "- Um valor de $r$ próximo a 0 indica uma correlação linear fraca ou inexistente entre as variáveis."
      ],
      "metadata": {
        "id": "itRcGNBOxHVH"
      }
    },
    {
      "cell_type": "markdown",
      "metadata": {
        "id": "Li1FPlObIQAh"
      },
      "source": [
        "## Regressão Linear Simples\n",
        "\n",
        "\n",
        "\n",
        "\n",
        "\n",
        "\n"
      ]
    },
    {
      "cell_type": "markdown",
      "source": [
        "Permite modelar a relação entre duas variáveis, uma sendo a variável resposta $y$ e a outra sendo preditora ou explicativa. Essa técnica assume que essa relação pode ser aproximada por uma linha reta."
      ],
      "metadata": {
        "id": "PEVAfYDrFc11"
      }
    },
    {
      "cell_type": "markdown",
      "source": [
        "$$y_i=\\beta_0 + \\beta_1 x_i + ϵ_i,$$\n"
      ],
      "metadata": {
        "id": "ZIGlNIsxGwiD"
      }
    },
    {
      "cell_type": "markdown",
      "source": [
        "em que, y é a variável que tentamos prever; x é variável explicativa; $\\beta_0$ é o intercepto; $\\beta_1$ é o coeficiente angular e $\\epsilon$ o erro."
      ],
      "metadata": {
        "id": "L6ersIcnHEQy"
      }
    },
    {
      "cell_type": "markdown",
      "source": [
        "\n",
        "<img src=\"http://www.orlandoalbarracin.com.br/phyton/reg.png\" width=400, align=\"left\">\n"
      ],
      "metadata": {
        "id": "LIGaBRA_U9M2"
      }
    },
    {
      "cell_type": "markdown",
      "source": [
        "O objetivo da regressão linear simples é encontrar os valores ideais para $\\beta_0$ e $\\beta_1$ que minimizam o erro total. Assim,"
      ],
      "metadata": {
        "id": "5FEY9dm1HzGv"
      }
    },
    {
      "cell_type": "markdown",
      "source": [
        "$$\\epsilon_i = y_i -(\\beta_0 + \\beta_1 x_i )$$"
      ],
      "metadata": {
        "id": "HCTqugy7H_jb"
      }
    },
    {
      "cell_type": "markdown",
      "source": [
        "Os valores de $\\beta_0$ e $\\beta_1$ podem ser encontrados (estimados) por meio do método de  Mínimos Quadrados Ordinários (MQO) ou OLS (do inglês Ordinary Least Squares)\n",
        "\n",
        "$$OLS(\\beta_0, \\beta_1)=\\sum_{i=1}^{n} \\widehat{\\epsilon}^2_i= \\sum_{i=1}^{n}(y_i -\\beta_0 - \\beta_1 x_i )^2,$$\n",
        "\n",
        "\n",
        "em que $\\widehat{\\epsilon}_i$ é a diferença entre os valor observado e previstos da variável y.\n",
        "\n",
        "\n",
        "\n",
        "Derivando em relação a $\\beta_0$ e $\\beta_1$ utilizando a regra da cadeia e então igualar a zero podemos encontrar os valores de $\\beta_0$ e $\\beta_1$ que minimizam $OLS(\\beta_0, \\beta_1)$, isto é, a soma do quadrados dos erros. Aqui usaremos a biblioteca `statsmodels` para estimar os parâmetros."
      ],
      "metadata": {
        "id": "EwjE3rMwJAFI"
      }
    },
    {
      "cell_type": "markdown",
      "source": [
        "### Exemplo - Sales/Marketing\n",
        "\n",
        "Construa um modelo de regressão linear para analisar a relação entre as vendas de um produto e o orçamento destinado à publicidade para três mídias: TV, rádio e jornal."
      ],
      "metadata": {
        "id": "oyl7Yj3zWOYS"
      }
    },
    {
      "cell_type": "code",
      "source": [
        "df=pd.read_csv(\"http://www.orlandoalbarracin.com.br/phyton/advertising.csv\")\n",
        "df.head()"
      ],
      "metadata": {
        "colab": {
          "base_uri": "https://localhost:8080/",
          "height": 206
        },
        "id": "oUfxqBeLWQvC",
        "outputId": "6bd9f784-6cbb-4a09-cc5e-396fe986119a"
      },
      "execution_count": null,
      "outputs": [
        {
          "output_type": "execute_result",
          "data": {
            "text/plain": [
              "      TV  Radio  Newspaper  Sales\n",
              "0  230.1   37.8       69.2   22.1\n",
              "1   44.5   39.3       45.1   10.4\n",
              "2   17.2   45.9       69.3   12.0\n",
              "3  151.5   41.3       58.5   16.5\n",
              "4  180.8   10.8       58.4   17.9"
            ],
            "text/html": [
              "\n",
              "\n",
              "  <div id=\"df-603ea6fc-f6ff-41dd-b136-b3007be19fc1\">\n",
              "    <div class=\"colab-df-container\">\n",
              "      <div>\n",
              "<style scoped>\n",
              "    .dataframe tbody tr th:only-of-type {\n",
              "        vertical-align: middle;\n",
              "    }\n",
              "\n",
              "    .dataframe tbody tr th {\n",
              "        vertical-align: top;\n",
              "    }\n",
              "\n",
              "    .dataframe thead th {\n",
              "        text-align: right;\n",
              "    }\n",
              "</style>\n",
              "<table border=\"1\" class=\"dataframe\">\n",
              "  <thead>\n",
              "    <tr style=\"text-align: right;\">\n",
              "      <th></th>\n",
              "      <th>TV</th>\n",
              "      <th>Radio</th>\n",
              "      <th>Newspaper</th>\n",
              "      <th>Sales</th>\n",
              "    </tr>\n",
              "  </thead>\n",
              "  <tbody>\n",
              "    <tr>\n",
              "      <th>0</th>\n",
              "      <td>230.1</td>\n",
              "      <td>37.8</td>\n",
              "      <td>69.2</td>\n",
              "      <td>22.1</td>\n",
              "    </tr>\n",
              "    <tr>\n",
              "      <th>1</th>\n",
              "      <td>44.5</td>\n",
              "      <td>39.3</td>\n",
              "      <td>45.1</td>\n",
              "      <td>10.4</td>\n",
              "    </tr>\n",
              "    <tr>\n",
              "      <th>2</th>\n",
              "      <td>17.2</td>\n",
              "      <td>45.9</td>\n",
              "      <td>69.3</td>\n",
              "      <td>12.0</td>\n",
              "    </tr>\n",
              "    <tr>\n",
              "      <th>3</th>\n",
              "      <td>151.5</td>\n",
              "      <td>41.3</td>\n",
              "      <td>58.5</td>\n",
              "      <td>16.5</td>\n",
              "    </tr>\n",
              "    <tr>\n",
              "      <th>4</th>\n",
              "      <td>180.8</td>\n",
              "      <td>10.8</td>\n",
              "      <td>58.4</td>\n",
              "      <td>17.9</td>\n",
              "    </tr>\n",
              "  </tbody>\n",
              "</table>\n",
              "</div>\n",
              "      <button class=\"colab-df-convert\" onclick=\"convertToInteractive('df-603ea6fc-f6ff-41dd-b136-b3007be19fc1')\"\n",
              "              title=\"Convert this dataframe to an interactive table.\"\n",
              "              style=\"display:none;\">\n",
              "\n",
              "  <svg xmlns=\"http://www.w3.org/2000/svg\" height=\"24px\"viewBox=\"0 0 24 24\"\n",
              "       width=\"24px\">\n",
              "    <path d=\"M0 0h24v24H0V0z\" fill=\"none\"/>\n",
              "    <path d=\"M18.56 5.44l.94 2.06.94-2.06 2.06-.94-2.06-.94-.94-2.06-.94 2.06-2.06.94zm-11 1L8.5 8.5l.94-2.06 2.06-.94-2.06-.94L8.5 2.5l-.94 2.06-2.06.94zm10 10l.94 2.06.94-2.06 2.06-.94-2.06-.94-.94-2.06-.94 2.06-2.06.94z\"/><path d=\"M17.41 7.96l-1.37-1.37c-.4-.4-.92-.59-1.43-.59-.52 0-1.04.2-1.43.59L10.3 9.45l-7.72 7.72c-.78.78-.78 2.05 0 2.83L4 21.41c.39.39.9.59 1.41.59.51 0 1.02-.2 1.41-.59l7.78-7.78 2.81-2.81c.8-.78.8-2.07 0-2.86zM5.41 20L4 18.59l7.72-7.72 1.47 1.35L5.41 20z\"/>\n",
              "  </svg>\n",
              "      </button>\n",
              "\n",
              "\n",
              "\n",
              "    <div id=\"df-94325564-e8c7-436a-a9ce-12987b98c1ac\">\n",
              "      <button class=\"colab-df-quickchart\" onclick=\"quickchart('df-94325564-e8c7-436a-a9ce-12987b98c1ac')\"\n",
              "              title=\"Suggest charts.\"\n",
              "              style=\"display:none;\">\n",
              "\n",
              "<svg xmlns=\"http://www.w3.org/2000/svg\" height=\"24px\"viewBox=\"0 0 24 24\"\n",
              "     width=\"24px\">\n",
              "    <g>\n",
              "        <path d=\"M19 3H5c-1.1 0-2 .9-2 2v14c0 1.1.9 2 2 2h14c1.1 0 2-.9 2-2V5c0-1.1-.9-2-2-2zM9 17H7v-7h2v7zm4 0h-2V7h2v10zm4 0h-2v-4h2v4z\"/>\n",
              "    </g>\n",
              "</svg>\n",
              "      </button>\n",
              "    </div>\n",
              "\n",
              "<style>\n",
              "  .colab-df-quickchart {\n",
              "    background-color: #E8F0FE;\n",
              "    border: none;\n",
              "    border-radius: 50%;\n",
              "    cursor: pointer;\n",
              "    display: none;\n",
              "    fill: #1967D2;\n",
              "    height: 32px;\n",
              "    padding: 0 0 0 0;\n",
              "    width: 32px;\n",
              "  }\n",
              "\n",
              "  .colab-df-quickchart:hover {\n",
              "    background-color: #E2EBFA;\n",
              "    box-shadow: 0px 1px 2px rgba(60, 64, 67, 0.3), 0px 1px 3px 1px rgba(60, 64, 67, 0.15);\n",
              "    fill: #174EA6;\n",
              "  }\n",
              "\n",
              "  [theme=dark] .colab-df-quickchart {\n",
              "    background-color: #3B4455;\n",
              "    fill: #D2E3FC;\n",
              "  }\n",
              "\n",
              "  [theme=dark] .colab-df-quickchart:hover {\n",
              "    background-color: #434B5C;\n",
              "    box-shadow: 0px 1px 3px 1px rgba(0, 0, 0, 0.15);\n",
              "    filter: drop-shadow(0px 1px 2px rgba(0, 0, 0, 0.3));\n",
              "    fill: #FFFFFF;\n",
              "  }\n",
              "</style>\n",
              "\n",
              "    <script>\n",
              "      async function quickchart(key) {\n",
              "        const containerElement = document.querySelector('#' + key);\n",
              "        const charts = await google.colab.kernel.invokeFunction(\n",
              "            'suggestCharts', [key], {});\n",
              "      }\n",
              "    </script>\n",
              "\n",
              "      <script>\n",
              "\n",
              "function displayQuickchartButton(domScope) {\n",
              "  let quickchartButtonEl =\n",
              "    domScope.querySelector('#df-94325564-e8c7-436a-a9ce-12987b98c1ac button.colab-df-quickchart');\n",
              "  quickchartButtonEl.style.display =\n",
              "    google.colab.kernel.accessAllowed ? 'block' : 'none';\n",
              "}\n",
              "\n",
              "        displayQuickchartButton(document);\n",
              "      </script>\n",
              "      <style>\n",
              "    .colab-df-container {\n",
              "      display:flex;\n",
              "      flex-wrap:wrap;\n",
              "      gap: 12px;\n",
              "    }\n",
              "\n",
              "    .colab-df-convert {\n",
              "      background-color: #E8F0FE;\n",
              "      border: none;\n",
              "      border-radius: 50%;\n",
              "      cursor: pointer;\n",
              "      display: none;\n",
              "      fill: #1967D2;\n",
              "      height: 32px;\n",
              "      padding: 0 0 0 0;\n",
              "      width: 32px;\n",
              "    }\n",
              "\n",
              "    .colab-df-convert:hover {\n",
              "      background-color: #E2EBFA;\n",
              "      box-shadow: 0px 1px 2px rgba(60, 64, 67, 0.3), 0px 1px 3px 1px rgba(60, 64, 67, 0.15);\n",
              "      fill: #174EA6;\n",
              "    }\n",
              "\n",
              "    [theme=dark] .colab-df-convert {\n",
              "      background-color: #3B4455;\n",
              "      fill: #D2E3FC;\n",
              "    }\n",
              "\n",
              "    [theme=dark] .colab-df-convert:hover {\n",
              "      background-color: #434B5C;\n",
              "      box-shadow: 0px 1px 3px 1px rgba(0, 0, 0, 0.15);\n",
              "      filter: drop-shadow(0px 1px 2px rgba(0, 0, 0, 0.3));\n",
              "      fill: #FFFFFF;\n",
              "    }\n",
              "  </style>\n",
              "\n",
              "      <script>\n",
              "        const buttonEl =\n",
              "          document.querySelector('#df-603ea6fc-f6ff-41dd-b136-b3007be19fc1 button.colab-df-convert');\n",
              "        buttonEl.style.display =\n",
              "          google.colab.kernel.accessAllowed ? 'block' : 'none';\n",
              "\n",
              "        async function convertToInteractive(key) {\n",
              "          const element = document.querySelector('#df-603ea6fc-f6ff-41dd-b136-b3007be19fc1');\n",
              "          const dataTable =\n",
              "            await google.colab.kernel.invokeFunction('convertToInteractive',\n",
              "                                                     [key], {});\n",
              "          if (!dataTable) return;\n",
              "\n",
              "          const docLinkHtml = 'Like what you see? Visit the ' +\n",
              "            '<a target=\"_blank\" href=https://colab.research.google.com/notebooks/data_table.ipynb>data table notebook</a>'\n",
              "            + ' to learn more about interactive tables.';\n",
              "          element.innerHTML = '';\n",
              "          dataTable['output_type'] = 'display_data';\n",
              "          await google.colab.output.renderOutput(dataTable, element);\n",
              "          const docLink = document.createElement('div');\n",
              "          docLink.innerHTML = docLinkHtml;\n",
              "          element.appendChild(docLink);\n",
              "        }\n",
              "      </script>\n",
              "    </div>\n",
              "  </div>\n"
            ]
          },
          "metadata": {},
          "execution_count": 19
        }
      ]
    },
    {
      "cell_type": "code",
      "source": [
        "sns.pairplot(df,\n",
        "             x_vars=['TV', 'Radio', 'Newspaper'],\n",
        "             y_vars='Sales',\n",
        "             kind='scatter')\n",
        "plt.show()"
      ],
      "metadata": {
        "colab": {
          "base_uri": "https://localhost:8080/",
          "height": 268
        },
        "id": "35nrGEjTYBUh",
        "outputId": "cfc7bcc9-5630-4cbd-c91f-6dba75c783f2"
      },
      "execution_count": null,
      "outputs": [
        {
          "output_type": "display_data",
          "data": {
            "text/plain": [
              "<Figure size 750x250 with 3 Axes>"
            ],
            "image/png": "[encoded data removed]"
          },
          "metadata": {}
        }
      ]
    },
    {
      "cell_type": "markdown",
      "source": [
        "Note que podemos assumir que a variável `Sales` está relacionada linearmente com a variável `TV`. O que podemos dizer com relação às variáveis `Radio` e `Newspaper`?"
      ],
      "metadata": {
        "id": "lKXtDk5M0PDp"
      }
    },
    {
      "cell_type": "code",
      "source": [
        "# Correlação linear:\n",
        "\n",
        "df.corr()[[\"Sales\"]]"
      ],
      "metadata": {
        "colab": {
          "base_uri": "https://localhost:8080/",
          "height": 175
        },
        "id": "7jHbzVtqwqDl",
        "outputId": "14898dbb-143c-4661-b093-fb9ba3f2819f"
      },
      "execution_count": null,
      "outputs": [
        {
          "output_type": "execute_result",
          "data": {
            "text/plain": [
              "              Sales\n",
              "TV         0.901208\n",
              "Radio      0.349631\n",
              "Newspaper  0.157960\n",
              "Sales      1.000000"
            ],
            "text/html": [
              "\n",
              "\n",
              "  <div id=\"df-5fbc71c6-6fc6-4ec1-8b96-25239f44d7eb\">\n",
              "    <div class=\"colab-df-container\">\n",
              "      <div>\n",
              "<style scoped>\n",
              "    .dataframe tbody tr th:only-of-type {\n",
              "        vertical-align: middle;\n",
              "    }\n",
              "\n",
              "    .dataframe tbody tr th {\n",
              "        vertical-align: top;\n",
              "    }\n",
              "\n",
              "    .dataframe thead th {\n",
              "        text-align: right;\n",
              "    }\n",
              "</style>\n",
              "<table border=\"1\" class=\"dataframe\">\n",
              "  <thead>\n",
              "    <tr style=\"text-align: right;\">\n",
              "      <th></th>\n",
              "      <th>Sales</th>\n",
              "    </tr>\n",
              "  </thead>\n",
              "  <tbody>\n",
              "    <tr>\n",
              "      <th>TV</th>\n",
              "      <td>0.901208</td>\n",
              "    </tr>\n",
              "    <tr>\n",
              "      <th>Radio</th>\n",
              "      <td>0.349631</td>\n",
              "    </tr>\n",
              "    <tr>\n",
              "      <th>Newspaper</th>\n",
              "      <td>0.157960</td>\n",
              "    </tr>\n",
              "    <tr>\n",
              "      <th>Sales</th>\n",
              "      <td>1.000000</td>\n",
              "    </tr>\n",
              "  </tbody>\n",
              "</table>\n",
              "</div>\n",
              "      <button class=\"colab-df-convert\" onclick=\"convertToInteractive('df-5fbc71c6-6fc6-4ec1-8b96-25239f44d7eb')\"\n",
              "              title=\"Convert this dataframe to an interactive table.\"\n",
              "              style=\"display:none;\">\n",
              "\n",
              "  <svg xmlns=\"http://www.w3.org/2000/svg\" height=\"24px\"viewBox=\"0 0 24 24\"\n",
              "       width=\"24px\">\n",
              "    <path d=\"M0 0h24v24H0V0z\" fill=\"none\"/>\n",
              "    <path d=\"M18.56 5.44l.94 2.06.94-2.06 2.06-.94-2.06-.94-.94-2.06-.94 2.06-2.06.94zm-11 1L8.5 8.5l.94-2.06 2.06-.94-2.06-.94L8.5 2.5l-.94 2.06-2.06.94zm10 10l.94 2.06.94-2.06 2.06-.94-2.06-.94-.94-2.06-.94 2.06-2.06.94z\"/><path d=\"M17.41 7.96l-1.37-1.37c-.4-.4-.92-.59-1.43-.59-.52 0-1.04.2-1.43.59L10.3 9.45l-7.72 7.72c-.78.78-.78 2.05 0 2.83L4 21.41c.39.39.9.59 1.41.59.51 0 1.02-.2 1.41-.59l7.78-7.78 2.81-2.81c.8-.78.8-2.07 0-2.86zM5.41 20L4 18.59l7.72-7.72 1.47 1.35L5.41 20z\"/>\n",
              "  </svg>\n",
              "      </button>\n",
              "\n",
              "\n",
              "\n",
              "    <div id=\"df-a3236571-3b12-43f2-8941-67709fdc0dff\">\n",
              "      <button class=\"colab-df-quickchart\" onclick=\"quickchart('df-a3236571-3b12-43f2-8941-67709fdc0dff')\"\n",
              "              title=\"Suggest charts.\"\n",
              "              style=\"display:none;\">\n",
              "\n",
              "<svg xmlns=\"http://www.w3.org/2000/svg\" height=\"24px\"viewBox=\"0 0 24 24\"\n",
              "     width=\"24px\">\n",
              "    <g>\n",
              "        <path d=\"M19 3H5c-1.1 0-2 .9-2 2v14c0 1.1.9 2 2 2h14c1.1 0 2-.9 2-2V5c0-1.1-.9-2-2-2zM9 17H7v-7h2v7zm4 0h-2V7h2v10zm4 0h-2v-4h2v4z\"/>\n",
              "    </g>\n",
              "</svg>\n",
              "      </button>\n",
              "    </div>\n",
              "\n",
              "<style>\n",
              "  .colab-df-quickchart {\n",
              "    background-color: #E8F0FE;\n",
              "    border: none;\n",
              "    border-radius: 50%;\n",
              "    cursor: pointer;\n",
              "    display: none;\n",
              "    fill: #1967D2;\n",
              "    height: 32px;\n",
              "    padding: 0 0 0 0;\n",
              "    width: 32px;\n",
              "  }\n",
              "\n",
              "  .colab-df-quickchart:hover {\n",
              "    background-color: #E2EBFA;\n",
              "    box-shadow: 0px 1px 2px rgba(60, 64, 67, 0.3), 0px 1px 3px 1px rgba(60, 64, 67, 0.15);\n",
              "    fill: #174EA6;\n",
              "  }\n",
              "\n",
              "  [theme=dark] .colab-df-quickchart {\n",
              "    background-color: #3B4455;\n",
              "    fill: #D2E3FC;\n",
              "  }\n",
              "\n",
              "  [theme=dark] .colab-df-quickchart:hover {\n",
              "    background-color: #434B5C;\n",
              "    box-shadow: 0px 1px 3px 1px rgba(0, 0, 0, 0.15);\n",
              "    filter: drop-shadow(0px 1px 2px rgba(0, 0, 0, 0.3));\n",
              "    fill: #FFFFFF;\n",
              "  }\n",
              "</style>\n",
              "\n",
              "    <script>\n",
              "      async function quickchart(key) {\n",
              "        const containerElement = document.querySelector('#' + key);\n",
              "        const charts = await google.colab.kernel.invokeFunction(\n",
              "            'suggestCharts', [key], {});\n",
              "      }\n",
              "    </script>\n",
              "\n",
              "      <script>\n",
              "\n",
              "function displayQuickchartButton(domScope) {\n",
              "  let quickchartButtonEl =\n",
              "    domScope.querySelector('#df-a3236571-3b12-43f2-8941-67709fdc0dff button.colab-df-quickchart');\n",
              "  quickchartButtonEl.style.display =\n",
              "    google.colab.kernel.accessAllowed ? 'block' : 'none';\n",
              "}\n",
              "\n",
              "        displayQuickchartButton(document);\n",
              "      </script>\n",
              "      <style>\n",
              "    .colab-df-container {\n",
              "      display:flex;\n",
              "      flex-wrap:wrap;\n",
              "      gap: 12px;\n",
              "    }\n",
              "\n",
              "    .colab-df-convert {\n",
              "      background-color: #E8F0FE;\n",
              "      border: none;\n",
              "      border-radius: 50%;\n",
              "      cursor: pointer;\n",
              "      display: none;\n",
              "      fill: #1967D2;\n",
              "      height: 32px;\n",
              "      padding: 0 0 0 0;\n",
              "      width: 32px;\n",
              "    }\n",
              "\n",
              "    .colab-df-convert:hover {\n",
              "      background-color: #E2EBFA;\n",
              "      box-shadow: 0px 1px 2px rgba(60, 64, 67, 0.3), 0px 1px 3px 1px rgba(60, 64, 67, 0.15);\n",
              "      fill: #174EA6;\n",
              "    }\n",
              "\n",
              "    [theme=dark] .colab-df-convert {\n",
              "      background-color: #3B4455;\n",
              "      fill: #D2E3FC;\n",
              "    }\n",
              "\n",
              "    [theme=dark] .colab-df-convert:hover {\n",
              "      background-color: #434B5C;\n",
              "      box-shadow: 0px 1px 3px 1px rgba(0, 0, 0, 0.15);\n",
              "      filter: drop-shadow(0px 1px 2px rgba(0, 0, 0, 0.3));\n",
              "      fill: #FFFFFF;\n",
              "    }\n",
              "  </style>\n",
              "\n",
              "      <script>\n",
              "        const buttonEl =\n",
              "          document.querySelector('#df-5fbc71c6-6fc6-4ec1-8b96-25239f44d7eb button.colab-df-convert');\n",
              "        buttonEl.style.display =\n",
              "          google.colab.kernel.accessAllowed ? 'block' : 'none';\n",
              "\n",
              "        async function convertToInteractive(key) {\n",
              "          const element = document.querySelector('#df-5fbc71c6-6fc6-4ec1-8b96-25239f44d7eb');\n",
              "          const dataTable =\n",
              "            await google.colab.kernel.invokeFunction('convertToInteractive',\n",
              "                                                     [key], {});\n",
              "          if (!dataTable) return;\n",
              "\n",
              "          const docLinkHtml = 'Like what you see? Visit the ' +\n",
              "            '<a target=\"_blank\" href=https://colab.research.google.com/notebooks/data_table.ipynb>data table notebook</a>'\n",
              "            + ' to learn more about interactive tables.';\n",
              "          element.innerHTML = '';\n",
              "          dataTable['output_type'] = 'display_data';\n",
              "          await google.colab.output.renderOutput(dataTable, element);\n",
              "          const docLink = document.createElement('div');\n",
              "          docLink.innerHTML = docLinkHtml;\n",
              "          element.appendChild(docLink);\n",
              "        }\n",
              "      </script>\n",
              "    </div>\n",
              "  </div>\n"
            ]
          },
          "metadata": {},
          "execution_count": 21
        }
      ]
    },
    {
      "cell_type": "markdown",
      "source": [
        "Vamos ajustar um modelo de regressão para analisar as vendas `(Sales)` segundo a variável `TV`."
      ],
      "metadata": {
        "id": "4za3mY7ZzzvO"
      }
    },
    {
      "cell_type": "code",
      "source": [
        "# Fit the resgression line using 'OLS'\n",
        "\n",
        "model = sm.ols(formula='Sales ~ TV', data=df).fit()\n",
        "print(model.summary())"
      ],
      "metadata": {
        "colab": {
          "base_uri": "https://localhost:8080/"
        },
        "id": "Ou_5gDkuYfbq",
        "outputId": "18197df1-6b0b-47c7-8fe8-c9bbc84b6cb5"
      },
      "execution_count": null,
      "outputs": [
        {
          "output_type": "stream",
          "name": "stdout",
          "text": [
            "                            OLS Regression Results                            \n",
            "==============================================================================\n",
            "Dep. Variable:                  Sales   R-squared:                       0.812\n",
            "Model:                            OLS   Adj. R-squared:                  0.811\n",
            "Method:                 Least Squares   F-statistic:                     856.2\n",
            "Date:                Tue, 15 Aug 2023   Prob (F-statistic):           7.93e-74\n",
            "Time:                        13:53:30   Log-Likelihood:                -448.99\n",
            "No. Observations:                 200   AIC:                             902.0\n",
            "Df Residuals:                     198   BIC:                             908.6\n",
            "Df Model:                           1                                         \n",
            "Covariance Type:            nonrobust                                         \n",
            "==============================================================================\n",
            "                 coef    std err          t      P>|t|      [0.025      0.975]\n",
            "------------------------------------------------------------------------------\n",
            "Intercept      6.9748      0.323     21.624      0.000       6.339       7.611\n",
            "TV             0.0555      0.002     29.260      0.000       0.052       0.059\n",
            "==============================================================================\n",
            "Omnibus:                        0.013   Durbin-Watson:                   2.029\n",
            "Prob(Omnibus):                  0.993   Jarque-Bera (JB):                0.043\n",
            "Skew:                          -0.018   Prob(JB):                        0.979\n",
            "Kurtosis:                       2.938   Cond. No.                         338.\n",
            "==============================================================================\n",
            "\n",
            "Notes:\n",
            "[1] Standard Errors assume that the covariance matrix of the errors is correctly specified.\n"
          ]
        }
      ]
    },
    {
      "cell_type": "markdown",
      "source": [
        "$$\\widehat{y} = 6.9748+ 0.055x, $$\n",
        "\n",
        "em que $\\widehat{y}$ é a venda (`Sales`) esperada quando é investido $x$ dinheiro de marketing de TV.\n",
        "\n",
        "- Note que o valor-p (P>|t|) para a variável `TV` é 0.000 ($<$0.05). Indicando que o orçamento destinado à publicidade em TV influência, estatísticamente, nas vendas.\n",
        "\n",
        "- Note que o `R-squared` é de 0.812. O que isso significa?"
      ],
      "metadata": {
        "id": "ak0PkurNZPJZ"
      }
    },
    {
      "cell_type": "markdown",
      "source": [
        "**O coeficiente de determinação $(R^2)$:** é uma medida que indica o quanto a variabilidade da variável dependente é explicada pelas variáveis independentes em um modelo de regressão linear. Varia entre 0 e 1."
      ],
      "metadata": {
        "id": "rx9ePzDgt0Ub"
      }
    },
    {
      "cell_type": "markdown",
      "source": [
        "**Valores previstos pelo modelo de regressão!**\n",
        "\n",
        "Como construir a reta de regressão?\n",
        "Podemos calcular os valores preditos usando o modelo $6.9748+ 0.055x$ substituindo cada valor de $x$ pelo valor observado."
      ],
      "metadata": {
        "id": "N90vHjQzuvrE"
      }
    },
    {
      "cell_type": "code",
      "source": [
        "df['predicted'] = model.predict(df.TV)\n",
        "df.head()"
      ],
      "metadata": {
        "colab": {
          "base_uri": "https://localhost:8080/",
          "height": 206
        },
        "id": "p96FNphGtm2B",
        "outputId": "b228ac77-fa25-4c7b-ecc9-b47572839ae0"
      },
      "execution_count": null,
      "outputs": [
        {
          "output_type": "execute_result",
          "data": {
            "text/plain": [
              "      TV  Radio  Newspaper  Sales  predicted\n",
              "0  230.1   37.8       69.2   22.1  19.737265\n",
              "1   44.5   39.3       45.1   10.4   9.443004\n",
              "2   17.2   45.9       69.3   12.0   7.928816\n",
              "3  151.5   41.3       58.5   16.5  15.377734\n",
              "4  180.8   10.8       58.4   17.9  17.002852"
            ],
            "text/html": [
              "\n",
              "\n",
              "  <div id=\"df-0c33d1be-b67a-4095-a693-6005468052f9\">\n",
              "    <div class=\"colab-df-container\">\n",
              "      <div>\n",
              "<style scoped>\n",
              "    .dataframe tbody tr th:only-of-type {\n",
              "        vertical-align: middle;\n",
              "    }\n",
              "\n",
              "    .dataframe tbody tr th {\n",
              "        vertical-align: top;\n",
              "    }\n",
              "\n",
              "    .dataframe thead th {\n",
              "        text-align: right;\n",
              "    }\n",
              "</style>\n",
              "<table border=\"1\" class=\"dataframe\">\n",
              "  <thead>\n",
              "    <tr style=\"text-align: right;\">\n",
              "      <th></th>\n",
              "      <th>TV</th>\n",
              "      <th>Radio</th>\n",
              "      <th>Newspaper</th>\n",
              "      <th>Sales</th>\n",
              "      <th>predicted</th>\n",
              "    </tr>\n",
              "  </thead>\n",
              "  <tbody>\n",
              "    <tr>\n",
              "      <th>0</th>\n",
              "      <td>230.1</td>\n",
              "      <td>37.8</td>\n",
              "      <td>69.2</td>\n",
              "      <td>22.1</td>\n",
              "      <td>19.737265</td>\n",
              "    </tr>\n",
              "    <tr>\n",
              "      <th>1</th>\n",
              "      <td>44.5</td>\n",
              "      <td>39.3</td>\n",
              "      <td>45.1</td>\n",
              "      <td>10.4</td>\n",
              "      <td>9.443004</td>\n",
              "    </tr>\n",
              "    <tr>\n",
              "      <th>2</th>\n",
              "      <td>17.2</td>\n",
              "      <td>45.9</td>\n",
              "      <td>69.3</td>\n",
              "      <td>12.0</td>\n",
              "      <td>7.928816</td>\n",
              "    </tr>\n",
              "    <tr>\n",
              "      <th>3</th>\n",
              "      <td>151.5</td>\n",
              "      <td>41.3</td>\n",
              "      <td>58.5</td>\n",
              "      <td>16.5</td>\n",
              "      <td>15.377734</td>\n",
              "    </tr>\n",
              "    <tr>\n",
              "      <th>4</th>\n",
              "      <td>180.8</td>\n",
              "      <td>10.8</td>\n",
              "      <td>58.4</td>\n",
              "      <td>17.9</td>\n",
              "      <td>17.002852</td>\n",
              "    </tr>\n",
              "  </tbody>\n",
              "</table>\n",
              "</div>\n",
              "      <button class=\"colab-df-convert\" onclick=\"convertToInteractive('df-0c33d1be-b67a-4095-a693-6005468052f9')\"\n",
              "              title=\"Convert this dataframe to an interactive table.\"\n",
              "              style=\"display:none;\">\n",
              "\n",
              "  <svg xmlns=\"http://www.w3.org/2000/svg\" height=\"24px\"viewBox=\"0 0 24 24\"\n",
              "       width=\"24px\">\n",
              "    <path d=\"M0 0h24v24H0V0z\" fill=\"none\"/>\n",
              "    <path d=\"M18.56 5.44l.94 2.06.94-2.06 2.06-.94-2.06-.94-.94-2.06-.94 2.06-2.06.94zm-11 1L8.5 8.5l.94-2.06 2.06-.94-2.06-.94L8.5 2.5l-.94 2.06-2.06.94zm10 10l.94 2.06.94-2.06 2.06-.94-2.06-.94-.94-2.06-.94 2.06-2.06.94z\"/><path d=\"M17.41 7.96l-1.37-1.37c-.4-.4-.92-.59-1.43-.59-.52 0-1.04.2-1.43.59L10.3 9.45l-7.72 7.72c-.78.78-.78 2.05 0 2.83L4 21.41c.39.39.9.59 1.41.59.51 0 1.02-.2 1.41-.59l7.78-7.78 2.81-2.81c.8-.78.8-2.07 0-2.86zM5.41 20L4 18.59l7.72-7.72 1.47 1.35L5.41 20z\"/>\n",
              "  </svg>\n",
              "      </button>\n",
              "\n",
              "\n",
              "\n",
              "    <div id=\"df-88c2b254-0acc-447f-95aa-de49d6e6976f\">\n",
              "      <button class=\"colab-df-quickchart\" onclick=\"quickchart('df-88c2b254-0acc-447f-95aa-de49d6e6976f')\"\n",
              "              title=\"Suggest charts.\"\n",
              "              style=\"display:none;\">\n",
              "\n",
              "<svg xmlns=\"http://www.w3.org/2000/svg\" height=\"24px\"viewBox=\"0 0 24 24\"\n",
              "     width=\"24px\">\n",
              "    <g>\n",
              "        <path d=\"M19 3H5c-1.1 0-2 .9-2 2v14c0 1.1.9 2 2 2h14c1.1 0 2-.9 2-2V5c0-1.1-.9-2-2-2zM9 17H7v-7h2v7zm4 0h-2V7h2v10zm4 0h-2v-4h2v4z\"/>\n",
              "    </g>\n",
              "</svg>\n",
              "      </button>\n",
              "    </div>\n",
              "\n",
              "<style>\n",
              "  .colab-df-quickchart {\n",
              "    background-color: #E8F0FE;\n",
              "    border: none;\n",
              "    border-radius: 50%;\n",
              "    cursor: pointer;\n",
              "    display: none;\n",
              "    fill: #1967D2;\n",
              "    height: 32px;\n",
              "    padding: 0 0 0 0;\n",
              "    width: 32px;\n",
              "  }\n",
              "\n",
              "  .colab-df-quickchart:hover {\n",
              "    background-color: #E2EBFA;\n",
              "    box-shadow: 0px 1px 2px rgba(60, 64, 67, 0.3), 0px 1px 3px 1px rgba(60, 64, 67, 0.15);\n",
              "    fill: #174EA6;\n",
              "  }\n",
              "\n",
              "  [theme=dark] .colab-df-quickchart {\n",
              "    background-color: #3B4455;\n",
              "    fill: #D2E3FC;\n",
              "  }\n",
              "\n",
              "  [theme=dark] .colab-df-quickchart:hover {\n",
              "    background-color: #434B5C;\n",
              "    box-shadow: 0px 1px 3px 1px rgba(0, 0, 0, 0.15);\n",
              "    filter: drop-shadow(0px 1px 2px rgba(0, 0, 0, 0.3));\n",
              "    fill: #FFFFFF;\n",
              "  }\n",
              "</style>\n",
              "\n",
              "    <script>\n",
              "      async function quickchart(key) {\n",
              "        const containerElement = document.querySelector('#' + key);\n",
              "        const charts = await google.colab.kernel.invokeFunction(\n",
              "            'suggestCharts', [key], {});\n",
              "      }\n",
              "    </script>\n",
              "\n",
              "      <script>\n",
              "\n",
              "function displayQuickchartButton(domScope) {\n",
              "  let quickchartButtonEl =\n",
              "    domScope.querySelector('#df-88c2b254-0acc-447f-95aa-de49d6e6976f button.colab-df-quickchart');\n",
              "  quickchartButtonEl.style.display =\n",
              "    google.colab.kernel.accessAllowed ? 'block' : 'none';\n",
              "}\n",
              "\n",
              "        displayQuickchartButton(document);\n",
              "      </script>\n",
              "      <style>\n",
              "    .colab-df-container {\n",
              "      display:flex;\n",
              "      flex-wrap:wrap;\n",
              "      gap: 12px;\n",
              "    }\n",
              "\n",
              "    .colab-df-convert {\n",
              "      background-color: #E8F0FE;\n",
              "      border: none;\n",
              "      border-radius: 50%;\n",
              "      cursor: pointer;\n",
              "      display: none;\n",
              "      fill: #1967D2;\n",
              "      height: 32px;\n",
              "      padding: 0 0 0 0;\n",
              "      width: 32px;\n",
              "    }\n",
              "\n",
              "    .colab-df-convert:hover {\n",
              "      background-color: #E2EBFA;\n",
              "      box-shadow: 0px 1px 2px rgba(60, 64, 67, 0.3), 0px 1px 3px 1px rgba(60, 64, 67, 0.15);\n",
              "      fill: #174EA6;\n",
              "    }\n",
              "\n",
              "    [theme=dark] .colab-df-convert {\n",
              "      background-color: #3B4455;\n",
              "      fill: #D2E3FC;\n",
              "    }\n",
              "\n",
              "    [theme=dark] .colab-df-convert:hover {\n",
              "      background-color: #434B5C;\n",
              "      box-shadow: 0px 1px 3px 1px rgba(0, 0, 0, 0.15);\n",
              "      filter: drop-shadow(0px 1px 2px rgba(0, 0, 0, 0.3));\n",
              "      fill: #FFFFFF;\n",
              "    }\n",
              "  </style>\n",
              "\n",
              "      <script>\n",
              "        const buttonEl =\n",
              "          document.querySelector('#df-0c33d1be-b67a-4095-a693-6005468052f9 button.colab-df-convert');\n",
              "        buttonEl.style.display =\n",
              "          google.colab.kernel.accessAllowed ? 'block' : 'none';\n",
              "\n",
              "        async function convertToInteractive(key) {\n",
              "          const element = document.querySelector('#df-0c33d1be-b67a-4095-a693-6005468052f9');\n",
              "          const dataTable =\n",
              "            await google.colab.kernel.invokeFunction('convertToInteractive',\n",
              "                                                     [key], {});\n",
              "          if (!dataTable) return;\n",
              "\n",
              "          const docLinkHtml = 'Like what you see? Visit the ' +\n",
              "            '<a target=\"_blank\" href=https://colab.research.google.com/notebooks/data_table.ipynb>data table notebook</a>'\n",
              "            + ' to learn more about interactive tables.';\n",
              "          element.innerHTML = '';\n",
              "          dataTable['output_type'] = 'display_data';\n",
              "          await google.colab.output.renderOutput(dataTable, element);\n",
              "          const docLink = document.createElement('div');\n",
              "          docLink.innerHTML = docLinkHtml;\n",
              "          element.appendChild(docLink);\n",
              "        }\n",
              "      </script>\n",
              "    </div>\n",
              "  </div>\n"
            ]
          },
          "metadata": {},
          "execution_count": 23
        }
      ]
    },
    {
      "cell_type": "code",
      "source": [
        "# Scatterplot com Reta de Regressão\n",
        "\n",
        "plt.scatter(df.TV, df.Sales, color='blue', label='Dados Observados')\n",
        "plt.plot(df.TV, df.predicted, color='red', label='Reta de Regressão')\n",
        "\n",
        "plt.xlabel('TV')\n",
        "plt.ylabel('Sales')\n",
        "plt.title('Scatterplot com Reta de Regressão')\n",
        "plt.legend()\n",
        "plt.show()"
      ],
      "metadata": {
        "colab": {
          "base_uri": "https://localhost:8080/",
          "height": 472
        },
        "id": "j2q7Mn5rvS0e",
        "outputId": "379c0b4a-3082-4ed2-b272-045a61f8eedc"
      },
      "execution_count": null,
      "outputs": [
        {
          "output_type": "display_data",
          "data": {
            "text/plain": [
              "<Figure size 640x480 with 1 Axes>"
            ],
            "image/png": "[encoded data removed]"
          },
          "metadata": {}
        }
      ]
    },
    {
      "cell_type": "markdown",
      "source": [
        "Usando o modelo de regressão linear ajustado. Qual é o valor de vendas (`Sales`) esperado quando o orçamento em TV é de 153?"
      ],
      "metadata": {
        "id": "OmErHgGXyXui"
      }
    },
    {
      "cell_type": "code",
      "source": [
        "# Prevendo para novos valores (não estão na base de dados)\n",
        "\n",
        "new_value=pd.DataFrame({'TV': [153]})\n",
        "\n",
        "model.predict(new_value)"
      ],
      "metadata": {
        "colab": {
          "base_uri": "https://localhost:8080/"
        },
        "id": "PLTcTCTn0Bk6",
        "outputId": "6a4df7e7-c5d3-4199-bcae-012416ba323c"
      },
      "execution_count": null,
      "outputs": [
        {
          "output_type": "execute_result",
          "data": {
            "text/plain": [
              "0    15.460931\n",
              "dtype: float64"
            ]
          },
          "metadata": {},
          "execution_count": 25
        }
      ]
    },
    {
      "cell_type": "code",
      "source": [
        "# Obtendo os intervalos de confiança de 95% para as previsões\n",
        "\n",
        "model.get_prediction(new_value).conf_int()"
      ],
      "metadata": {
        "colab": {
          "base_uri": "https://localhost:8080/"
        },
        "id": "OcbqU8yxWA9c",
        "outputId": "709a8ee1-721e-44ef-e5ea-2019feab0646"
      },
      "execution_count": null,
      "outputs": [
        {
          "output_type": "execute_result",
          "data": {
            "text/plain": [
              "array([[15.14003275, 15.78182999]])"
            ]
          },
          "metadata": {},
          "execution_count": 26
        }
      ]
    },
    {
      "cell_type": "markdown",
      "source": [
        "**Análise de resíduos**\n",
        "\n",
        "Um pressuposto que geralmente deve ser verificado nos modelos de regressão é que os resíduos devem ser aleatórios com média zero e seguir aproximadamente uma distribuição normal. Quando essas suposições são satisfeitas, isso sugere que o modelo de regressão linear é apropriado para descrever a relação entre as variáveis."
      ],
      "metadata": {
        "id": "PNRTfWGpjGUI"
      }
    },
    {
      "cell_type": "code",
      "source": [
        "# Resíduos\n",
        "\n",
        "residuals = model.resid_pearson"
      ],
      "metadata": {
        "id": "xVR1J9AluyEC"
      },
      "execution_count": null,
      "outputs": []
    },
    {
      "cell_type": "code",
      "source": [
        "# Gráfico de dispersão dos resíduos\n",
        "\n",
        "plt.figure(figsize=(10, 3))\n",
        "\n",
        "plt.subplot(1, 2, 1)\n",
        "plt.scatter(df[\"predicted\"], residuals)\n",
        "plt.axhline(y=0, color='r', linestyle='--')\n",
        "plt.xlabel('Valores ajustados')\n",
        "plt.ylabel('Resíduos')\n",
        "plt.title('Gráfico de Dispersão dos Resíduos')\n",
        "\n",
        "plt.subplot(1, 2, 2)\n",
        "plt.hist(residuals)\n",
        "\n",
        "plt.tight_layout()\n",
        "plt.show()"
      ],
      "metadata": {
        "colab": {
          "base_uri": "https://localhost:8080/",
          "height": 307
        },
        "id": "k7PTI7EavNlW",
        "outputId": "04fdb6cd-5989-4e3b-b477-e32d63860978"
      },
      "execution_count": null,
      "outputs": [
        {
          "output_type": "display_data",
          "data": {
            "text/plain": [
              "<Figure size 1000x300 with 2 Axes>"
            ],
            "image/png": "[encoded data removed]"
          },
          "metadata": {}
        }
      ]
    },
    {
      "cell_type": "markdown",
      "source": [
        "Esses gráficos sugerem que os resíduos se desenvolvem aleatóriamente em torno de zero e seguem aproximadamente uma distribuição Normal.  "
      ],
      "metadata": {
        "id": "e4C5p6lPyehE"
      }
    },
    {
      "cell_type": "markdown",
      "source": [
        "## Regressão Linear Múltipla"
      ],
      "metadata": {
        "id": "o1CIMJlP3XYi"
      }
    },
    {
      "cell_type": "markdown",
      "source": [
        "Um modelo de regressão múltipla é uma extensão do modelo de regressão linear simples, onde mais de uma variável independente (preditora) é usada para prever uma variável dependente (resposta)."
      ],
      "metadata": {
        "id": "08Wdn6aIkxkb"
      }
    },
    {
      "cell_type": "markdown",
      "source": [
        "$$y_i=\\beta_0 + \\beta_1 x_{1,i} + \\beta_2 x_{2,i} + ...+ \\beta_r x_{r,i}+ \\epsilon_i,$$\n"
      ],
      "metadata": {
        "id": "aG2xtivRlCmS"
      }
    },
    {
      "cell_type": "markdown",
      "source": [
        "em que $x_{1,i},...,x_{r,i}$ são as variáveis explicativas. Os parâmetros podem ser estimados usando OLS."
      ],
      "metadata": {
        "id": "0zs7Gfa9lXKr"
      }
    },
    {
      "cell_type": "markdown",
      "source": [
        "### Exemplo - Life Expectancy\n",
        "\n",
        "Analisar por meio de um modelo de regressão a expectativa de vida de 200 países, no ano de 2015, usando como variáveis explicativas:\n",
        "\n",
        "- ADs: Mortes por 1.000 pessoas com certa doença autoimune (na escala do log)\n",
        "- Alcohol: Consumo registrado per capita (em litros)\n",
        "- Income: Índice de Desenvolvimento Humano em termos de composição de renda dos recursos (índice variando de 0 a 1)\n",
        "\n",
        "Os dados foram coletados de The Global Health Observatory (GHO) data repository. [Kaggle](https://https://www.kaggle.com/kumarajarshi/life-expectancy-who)"
      ],
      "metadata": {
        "id": "945keymB4n0y"
      }
    },
    {
      "cell_type": "code",
      "source": [
        "df=pd.read_csv(\"http://www.orlandoalbarracin.com.br/phyton/Life_expectancy.csv\")\n",
        "df.head()"
      ],
      "metadata": {
        "colab": {
          "base_uri": "https://localhost:8080/",
          "height": 206
        },
        "id": "t6puraHr3W8_",
        "outputId": "ae781124-4e10-4975-b3c7-2065a04c7dff"
      },
      "execution_count": null,
      "outputs": [
        {
          "output_type": "execute_result",
          "data": {
            "text/plain": [
              "               Country      Continent  Life_expectancy       ADs  Alcohol  \\\n",
              "0          Afghanistan           Asia             65.0 -2.302585     0.01   \n",
              "1              Albania         Europe             77.8 -2.302585     4.60   \n",
              "2              Algeria         Africa             75.6 -2.302585     0.00   \n",
              "3               Angola         Africa             52.4  0.641854     0.00   \n",
              "4  Antigua and Barbuda  North America             76.4 -1.609438     0.00   \n",
              "\n",
              "   Income      Status  \n",
              "0   0.479  Developing  \n",
              "1   0.762  Developing  \n",
              "2   0.743  Developing  \n",
              "3   0.531  Developing  \n",
              "4   0.784  Developing  "
            ],
            "text/html": [
              "\n",
              "\n",
              "  <div id=\"df-7c018d7d-05a1-4beb-b4ea-0e0aa94fa44d\">\n",
              "    <div class=\"colab-df-container\">\n",
              "      <div>\n",
              "<style scoped>\n",
              "    .dataframe tbody tr th:only-of-type {\n",
              "        vertical-align: middle;\n",
              "    }\n",
              "\n",
              "    .dataframe tbody tr th {\n",
              "        vertical-align: top;\n",
              "    }\n",
              "\n",
              "    .dataframe thead th {\n",
              "        text-align: right;\n",
              "    }\n",
              "</style>\n",
              "<table border=\"1\" class=\"dataframe\">\n",
              "  <thead>\n",
              "    <tr style=\"text-align: right;\">\n",
              "      <th></th>\n",
              "      <th>Country</th>\n",
              "      <th>Continent</th>\n",
              "      <th>Life_expectancy</th>\n",
              "      <th>ADs</th>\n",
              "      <th>Alcohol</th>\n",
              "      <th>Income</th>\n",
              "      <th>Status</th>\n",
              "    </tr>\n",
              "  </thead>\n",
              "  <tbody>\n",
              "    <tr>\n",
              "      <th>0</th>\n",
              "      <td>Afghanistan</td>\n",
              "      <td>Asia</td>\n",
              "      <td>65.0</td>\n",
              "      <td>-2.302585</td>\n",
              "      <td>0.01</td>\n",
              "      <td>0.479</td>\n",
              "      <td>Developing</td>\n",
              "    </tr>\n",
              "    <tr>\n",
              "      <th>1</th>\n",
              "      <td>Albania</td>\n",
              "      <td>Europe</td>\n",
              "      <td>77.8</td>\n",
              "      <td>-2.302585</td>\n",
              "      <td>4.60</td>\n",
              "      <td>0.762</td>\n",
              "      <td>Developing</td>\n",
              "    </tr>\n",
              "    <tr>\n",
              "      <th>2</th>\n",
              "      <td>Algeria</td>\n",
              "      <td>Africa</td>\n",
              "      <td>75.6</td>\n",
              "      <td>-2.302585</td>\n",
              "      <td>0.00</td>\n",
              "      <td>0.743</td>\n",
              "      <td>Developing</td>\n",
              "    </tr>\n",
              "    <tr>\n",
              "      <th>3</th>\n",
              "      <td>Angola</td>\n",
              "      <td>Africa</td>\n",
              "      <td>52.4</td>\n",
              "      <td>0.641854</td>\n",
              "      <td>0.00</td>\n",
              "      <td>0.531</td>\n",
              "      <td>Developing</td>\n",
              "    </tr>\n",
              "    <tr>\n",
              "      <th>4</th>\n",
              "      <td>Antigua and Barbuda</td>\n",
              "      <td>North America</td>\n",
              "      <td>76.4</td>\n",
              "      <td>-1.609438</td>\n",
              "      <td>0.00</td>\n",
              "      <td>0.784</td>\n",
              "      <td>Developing</td>\n",
              "    </tr>\n",
              "  </tbody>\n",
              "</table>\n",
              "</div>\n",
              "      <button class=\"colab-df-convert\" onclick=\"convertToInteractive('df-7c018d7d-05a1-4beb-b4ea-0e0aa94fa44d')\"\n",
              "              title=\"Convert this dataframe to an interactive table.\"\n",
              "              style=\"display:none;\">\n",
              "\n",
              "  <svg xmlns=\"http://www.w3.org/2000/svg\" height=\"24px\"viewBox=\"0 0 24 24\"\n",
              "       width=\"24px\">\n",
              "    <path d=\"M0 0h24v24H0V0z\" fill=\"none\"/>\n",
              "    <path d=\"M18.56 5.44l.94 2.06.94-2.06 2.06-.94-2.06-.94-.94-2.06-.94 2.06-2.06.94zm-11 1L8.5 8.5l.94-2.06 2.06-.94-2.06-.94L8.5 2.5l-.94 2.06-2.06.94zm10 10l.94 2.06.94-2.06 2.06-.94-2.06-.94-.94-2.06-.94 2.06-2.06.94z\"/><path d=\"M17.41 7.96l-1.37-1.37c-.4-.4-.92-.59-1.43-.59-.52 0-1.04.2-1.43.59L10.3 9.45l-7.72 7.72c-.78.78-.78 2.05 0 2.83L4 21.41c.39.39.9.59 1.41.59.51 0 1.02-.2 1.41-.59l7.78-7.78 2.81-2.81c.8-.78.8-2.07 0-2.86zM5.41 20L4 18.59l7.72-7.72 1.47 1.35L5.41 20z\"/>\n",
              "  </svg>\n",
              "      </button>\n",
              "\n",
              "\n",
              "\n",
              "    <div id=\"df-b5d66583-6ba5-4bc1-a426-dc2d59b7bd1f\">\n",
              "      <button class=\"colab-df-quickchart\" onclick=\"quickchart('df-b5d66583-6ba5-4bc1-a426-dc2d59b7bd1f')\"\n",
              "              title=\"Suggest charts.\"\n",
              "              style=\"display:none;\">\n",
              "\n",
              "<svg xmlns=\"http://www.w3.org/2000/svg\" height=\"24px\"viewBox=\"0 0 24 24\"\n",
              "     width=\"24px\">\n",
              "    <g>\n",
              "        <path d=\"M19 3H5c-1.1 0-2 .9-2 2v14c0 1.1.9 2 2 2h14c1.1 0 2-.9 2-2V5c0-1.1-.9-2-2-2zM9 17H7v-7h2v7zm4 0h-2V7h2v10zm4 0h-2v-4h2v4z\"/>\n",
              "    </g>\n",
              "</svg>\n",
              "      </button>\n",
              "    </div>\n",
              "\n",
              "<style>\n",
              "  .colab-df-quickchart {\n",
              "    background-color: #E8F0FE;\n",
              "    border: none;\n",
              "    border-radius: 50%;\n",
              "    cursor: pointer;\n",
              "    display: none;\n",
              "    fill: #1967D2;\n",
              "    height: 32px;\n",
              "    padding: 0 0 0 0;\n",
              "    width: 32px;\n",
              "  }\n",
              "\n",
              "  .colab-df-quickchart:hover {\n",
              "    background-color: #E2EBFA;\n",
              "    box-shadow: 0px 1px 2px rgba(60, 64, 67, 0.3), 0px 1px 3px 1px rgba(60, 64, 67, 0.15);\n",
              "    fill: #174EA6;\n",
              "  }\n",
              "\n",
              "  [theme=dark] .colab-df-quickchart {\n",
              "    background-color: #3B4455;\n",
              "    fill: #D2E3FC;\n",
              "  }\n",
              "\n",
              "  [theme=dark] .colab-df-quickchart:hover {\n",
              "    background-color: #434B5C;\n",
              "    box-shadow: 0px 1px 3px 1px rgba(0, 0, 0, 0.15);\n",
              "    filter: drop-shadow(0px 1px 2px rgba(0, 0, 0, 0.3));\n",
              "    fill: #FFFFFF;\n",
              "  }\n",
              "</style>\n",
              "\n",
              "    <script>\n",
              "      async function quickchart(key) {\n",
              "        const containerElement = document.querySelector('#' + key);\n",
              "        const charts = await google.colab.kernel.invokeFunction(\n",
              "            'suggestCharts', [key], {});\n",
              "      }\n",
              "    </script>\n",
              "\n",
              "      <script>\n",
              "\n",
              "function displayQuickchartButton(domScope) {\n",
              "  let quickchartButtonEl =\n",
              "    domScope.querySelector('#df-b5d66583-6ba5-4bc1-a426-dc2d59b7bd1f button.colab-df-quickchart');\n",
              "  quickchartButtonEl.style.display =\n",
              "    google.colab.kernel.accessAllowed ? 'block' : 'none';\n",
              "}\n",
              "\n",
              "        displayQuickchartButton(document);\n",
              "      </script>\n",
              "      <style>\n",
              "    .colab-df-container {\n",
              "      display:flex;\n",
              "      flex-wrap:wrap;\n",
              "      gap: 12px;\n",
              "    }\n",
              "\n",
              "    .colab-df-convert {\n",
              "      background-color: #E8F0FE;\n",
              "      border: none;\n",
              "      border-radius: 50%;\n",
              "      cursor: pointer;\n",
              "      display: none;\n",
              "      fill: #1967D2;\n",
              "      height: 32px;\n",
              "      padding: 0 0 0 0;\n",
              "      width: 32px;\n",
              "    }\n",
              "\n",
              "    .colab-df-convert:hover {\n",
              "      background-color: #E2EBFA;\n",
              "      box-shadow: 0px 1px 2px rgba(60, 64, 67, 0.3), 0px 1px 3px 1px rgba(60, 64, 67, 0.15);\n",
              "      fill: #174EA6;\n",
              "    }\n",
              "\n",
              "    [theme=dark] .colab-df-convert {\n",
              "      background-color: #3B4455;\n",
              "      fill: #D2E3FC;\n",
              "    }\n",
              "\n",
              "    [theme=dark] .colab-df-convert:hover {\n",
              "      background-color: #434B5C;\n",
              "      box-shadow: 0px 1px 3px 1px rgba(0, 0, 0, 0.15);\n",
              "      filter: drop-shadow(0px 1px 2px rgba(0, 0, 0, 0.3));\n",
              "      fill: #FFFFFF;\n",
              "    }\n",
              "  </style>\n",
              "\n",
              "      <script>\n",
              "        const buttonEl =\n",
              "          document.querySelector('#df-7c018d7d-05a1-4beb-b4ea-0e0aa94fa44d button.colab-df-convert');\n",
              "        buttonEl.style.display =\n",
              "          google.colab.kernel.accessAllowed ? 'block' : 'none';\n",
              "\n",
              "        async function convertToInteractive(key) {\n",
              "          const element = document.querySelector('#df-7c018d7d-05a1-4beb-b4ea-0e0aa94fa44d');\n",
              "          const dataTable =\n",
              "            await google.colab.kernel.invokeFunction('convertToInteractive',\n",
              "                                                     [key], {});\n",
              "          if (!dataTable) return;\n",
              "\n",
              "          const docLinkHtml = 'Like what you see? Visit the ' +\n",
              "            '<a target=\"_blank\" href=https://colab.research.google.com/notebooks/data_table.ipynb>data table notebook</a>'\n",
              "            + ' to learn more about interactive tables.';\n",
              "          element.innerHTML = '';\n",
              "          dataTable['output_type'] = 'display_data';\n",
              "          await google.colab.output.renderOutput(dataTable, element);\n",
              "          const docLink = document.createElement('div');\n",
              "          docLink.innerHTML = docLinkHtml;\n",
              "          element.appendChild(docLink);\n",
              "        }\n",
              "      </script>\n",
              "    </div>\n",
              "  </div>\n"
            ]
          },
          "metadata": {},
          "execution_count": 29
        }
      ]
    },
    {
      "cell_type": "code",
      "source": [
        "sns.pairplot(df,\n",
        "             x_vars=['ADs', 'Alcohol', 'Income','Status'],\n",
        "             y_vars='Life_expectancy',\n",
        "             kind='scatter')\n",
        "plt.show()"
      ],
      "metadata": {
        "colab": {
          "base_uri": "https://localhost:8080/",
          "height": 268
        },
        "id": "6Y1mOam74FRK",
        "outputId": "e7a2b5d5-f48e-48e1-8677-201cd27da9aa"
      },
      "execution_count": null,
      "outputs": [
        {
          "output_type": "display_data",
          "data": {
            "text/plain": [
              "<Figure size 1000x250 with 4 Axes>"
            ],
            "image/png": "[encoded data removed]"
          },
          "metadata": {}
        }
      ]
    },
    {
      "cell_type": "markdown",
      "source": [
        "Note que há uma relação linear entre as variáveis `ADs` e `life_Expectancy` e entre as variáveis `Income` e `life_Expectancy`. O que se observa com a variável `Status` e `Alcohol`?"
      ],
      "metadata": {
        "id": "rIbMRD1CXebx"
      }
    },
    {
      "cell_type": "code",
      "source": [
        "# Correlação linear:\n",
        "df.corr()[[\"Life_expectancy\"]]"
      ],
      "metadata": {
        "colab": {
          "base_uri": "https://localhost:8080/",
          "height": 175
        },
        "id": "eTzoOu9GIpnP",
        "outputId": "d0700ea9-42d8-4788-9f2a-54e282f30615"
      },
      "execution_count": null,
      "outputs": [
        {
          "output_type": "execute_result",
          "data": {
            "text/plain": [
              "                 Life_expectancy\n",
              "Life_expectancy         1.000000\n",
              "ADs                    -0.793823\n",
              "Alcohol                 0.164781\n",
              "Income                  0.909354"
            ],
            "text/html": [
              "\n",
              "\n",
              "  <div id=\"df-1831b9d6-0585-4096-b76b-c32882ce9eb0\">\n",
              "    <div class=\"colab-df-container\">\n",
              "      <div>\n",
              "<style scoped>\n",
              "    .dataframe tbody tr th:only-of-type {\n",
              "        vertical-align: middle;\n",
              "    }\n",
              "\n",
              "    .dataframe tbody tr th {\n",
              "        vertical-align: top;\n",
              "    }\n",
              "\n",
              "    .dataframe thead th {\n",
              "        text-align: right;\n",
              "    }\n",
              "</style>\n",
              "<table border=\"1\" class=\"dataframe\">\n",
              "  <thead>\n",
              "    <tr style=\"text-align: right;\">\n",
              "      <th></th>\n",
              "      <th>Life_expectancy</th>\n",
              "    </tr>\n",
              "  </thead>\n",
              "  <tbody>\n",
              "    <tr>\n",
              "      <th>Life_expectancy</th>\n",
              "      <td>1.000000</td>\n",
              "    </tr>\n",
              "    <tr>\n",
              "      <th>ADs</th>\n",
              "      <td>-0.793823</td>\n",
              "    </tr>\n",
              "    <tr>\n",
              "      <th>Alcohol</th>\n",
              "      <td>0.164781</td>\n",
              "    </tr>\n",
              "    <tr>\n",
              "      <th>Income</th>\n",
              "      <td>0.909354</td>\n",
              "    </tr>\n",
              "  </tbody>\n",
              "</table>\n",
              "</div>\n",
              "      <button class=\"colab-df-convert\" onclick=\"convertToInteractive('df-1831b9d6-0585-4096-b76b-c32882ce9eb0')\"\n",
              "              title=\"Convert this dataframe to an interactive table.\"\n",
              "              style=\"display:none;\">\n",
              "\n",
              "  <svg xmlns=\"http://www.w3.org/2000/svg\" height=\"24px\"viewBox=\"0 0 24 24\"\n",
              "       width=\"24px\">\n",
              "    <path d=\"M0 0h24v24H0V0z\" fill=\"none\"/>\n",
              "    <path d=\"M18.56 5.44l.94 2.06.94-2.06 2.06-.94-2.06-.94-.94-2.06-.94 2.06-2.06.94zm-11 1L8.5 8.5l.94-2.06 2.06-.94-2.06-.94L8.5 2.5l-.94 2.06-2.06.94zm10 10l.94 2.06.94-2.06 2.06-.94-2.06-.94-.94-2.06-.94 2.06-2.06.94z\"/><path d=\"M17.41 7.96l-1.37-1.37c-.4-.4-.92-.59-1.43-.59-.52 0-1.04.2-1.43.59L10.3 9.45l-7.72 7.72c-.78.78-.78 2.05 0 2.83L4 21.41c.39.39.9.59 1.41.59.51 0 1.02-.2 1.41-.59l7.78-7.78 2.81-2.81c.8-.78.8-2.07 0-2.86zM5.41 20L4 18.59l7.72-7.72 1.47 1.35L5.41 20z\"/>\n",
              "  </svg>\n",
              "      </button>\n",
              "\n",
              "\n",
              "\n",
              "    <div id=\"df-d23ab5b3-e26d-4e95-822c-2e03d0eaeac4\">\n",
              "      <button class=\"colab-df-quickchart\" onclick=\"quickchart('df-d23ab5b3-e26d-4e95-822c-2e03d0eaeac4')\"\n",
              "              title=\"Suggest charts.\"\n",
              "              style=\"display:none;\">\n",
              "\n",
              "<svg xmlns=\"http://www.w3.org/2000/svg\" height=\"24px\"viewBox=\"0 0 24 24\"\n",
              "     width=\"24px\">\n",
              "    <g>\n",
              "        <path d=\"M19 3H5c-1.1 0-2 .9-2 2v14c0 1.1.9 2 2 2h14c1.1 0 2-.9 2-2V5c0-1.1-.9-2-2-2zM9 17H7v-7h2v7zm4 0h-2V7h2v10zm4 0h-2v-4h2v4z\"/>\n",
              "    </g>\n",
              "</svg>\n",
              "      </button>\n",
              "    </div>\n",
              "\n",
              "<style>\n",
              "  .colab-df-quickchart {\n",
              "    background-color: #E8F0FE;\n",
              "    border: none;\n",
              "    border-radius: 50%;\n",
              "    cursor: pointer;\n",
              "    display: none;\n",
              "    fill: #1967D2;\n",
              "    height: 32px;\n",
              "    padding: 0 0 0 0;\n",
              "    width: 32px;\n",
              "  }\n",
              "\n",
              "  .colab-df-quickchart:hover {\n",
              "    background-color: #E2EBFA;\n",
              "    box-shadow: 0px 1px 2px rgba(60, 64, 67, 0.3), 0px 1px 3px 1px rgba(60, 64, 67, 0.15);\n",
              "    fill: #174EA6;\n",
              "  }\n",
              "\n",
              "  [theme=dark] .colab-df-quickchart {\n",
              "    background-color: #3B4455;\n",
              "    fill: #D2E3FC;\n",
              "  }\n",
              "\n",
              "  [theme=dark] .colab-df-quickchart:hover {\n",
              "    background-color: #434B5C;\n",
              "    box-shadow: 0px 1px 3px 1px rgba(0, 0, 0, 0.15);\n",
              "    filter: drop-shadow(0px 1px 2px rgba(0, 0, 0, 0.3));\n",
              "    fill: #FFFFFF;\n",
              "  }\n",
              "</style>\n",
              "\n",
              "    <script>\n",
              "      async function quickchart(key) {\n",
              "        const containerElement = document.querySelector('#' + key);\n",
              "        const charts = await google.colab.kernel.invokeFunction(\n",
              "            'suggestCharts', [key], {});\n",
              "      }\n",
              "    </script>\n",
              "\n",
              "      <script>\n",
              "\n",
              "function displayQuickchartButton(domScope) {\n",
              "  let quickchartButtonEl =\n",
              "    domScope.querySelector('#df-d23ab5b3-e26d-4e95-822c-2e03d0eaeac4 button.colab-df-quickchart');\n",
              "  quickchartButtonEl.style.display =\n",
              "    google.colab.kernel.accessAllowed ? 'block' : 'none';\n",
              "}\n",
              "\n",
              "        displayQuickchartButton(document);\n",
              "      </script>\n",
              "      <style>\n",
              "    .colab-df-container {\n",
              "      display:flex;\n",
              "      flex-wrap:wrap;\n",
              "      gap: 12px;\n",
              "    }\n",
              "\n",
              "    .colab-df-convert {\n",
              "      background-color: #E8F0FE;\n",
              "      border: none;\n",
              "      border-radius: 50%;\n",
              "      cursor: pointer;\n",
              "      display: none;\n",
              "      fill: #1967D2;\n",
              "      height: 32px;\n",
              "      padding: 0 0 0 0;\n",
              "      width: 32px;\n",
              "    }\n",
              "\n",
              "    .colab-df-convert:hover {\n",
              "      background-color: #E2EBFA;\n",
              "      box-shadow: 0px 1px 2px rgba(60, 64, 67, 0.3), 0px 1px 3px 1px rgba(60, 64, 67, 0.15);\n",
              "      fill: #174EA6;\n",
              "    }\n",
              "\n",
              "    [theme=dark] .colab-df-convert {\n",
              "      background-color: #3B4455;\n",
              "      fill: #D2E3FC;\n",
              "    }\n",
              "\n",
              "    [theme=dark] .colab-df-convert:hover {\n",
              "      background-color: #434B5C;\n",
              "      box-shadow: 0px 1px 3px 1px rgba(0, 0, 0, 0.15);\n",
              "      filter: drop-shadow(0px 1px 2px rgba(0, 0, 0, 0.3));\n",
              "      fill: #FFFFFF;\n",
              "    }\n",
              "  </style>\n",
              "\n",
              "      <script>\n",
              "        const buttonEl =\n",
              "          document.querySelector('#df-1831b9d6-0585-4096-b76b-c32882ce9eb0 button.colab-df-convert');\n",
              "        buttonEl.style.display =\n",
              "          google.colab.kernel.accessAllowed ? 'block' : 'none';\n",
              "\n",
              "        async function convertToInteractive(key) {\n",
              "          const element = document.querySelector('#df-1831b9d6-0585-4096-b76b-c32882ce9eb0');\n",
              "          const dataTable =\n",
              "            await google.colab.kernel.invokeFunction('convertToInteractive',\n",
              "                                                     [key], {});\n",
              "          if (!dataTable) return;\n",
              "\n",
              "          const docLinkHtml = 'Like what you see? Visit the ' +\n",
              "            '<a target=\"_blank\" href=https://colab.research.google.com/notebooks/data_table.ipynb>data table notebook</a>'\n",
              "            + ' to learn more about interactive tables.';\n",
              "          element.innerHTML = '';\n",
              "          dataTable['output_type'] = 'display_data';\n",
              "          await google.colab.output.renderOutput(dataTable, element);\n",
              "          const docLink = document.createElement('div');\n",
              "          docLink.innerHTML = docLinkHtml;\n",
              "          element.appendChild(docLink);\n",
              "        }\n",
              "      </script>\n",
              "    </div>\n",
              "  </div>\n"
            ]
          },
          "metadata": {},
          "execution_count": 31
        }
      ]
    },
    {
      "cell_type": "markdown",
      "source": [
        "Vamos ajustar um modelo de Regressão linear considerando somente uma variável `Income`. Assim,\n",
        "\n",
        "$$\\text{Life_expectancy} = \\beta_0 +\\beta_1 \\text{Income}$$"
      ],
      "metadata": {
        "id": "ePE46zcpXRyv"
      }
    },
    {
      "cell_type": "code",
      "source": [
        "# Fit the resgression line using 'OLS'\n",
        "\n",
        "model = sm.ols(formula='Life_expectancy ~Income', data=df).fit()\n",
        "print(model.summary())"
      ],
      "metadata": {
        "colab": {
          "base_uri": "https://localhost:8080/"
        },
        "id": "f1Bj-IOm4u4U",
        "outputId": "def369ce-9be6-49aa-a83b-7c4fcfa66d53"
      },
      "execution_count": null,
      "outputs": [
        {
          "output_type": "stream",
          "name": "stdout",
          "text": [
            "                            OLS Regression Results                            \n",
            "==============================================================================\n",
            "Dep. Variable:        Life_expectancy   R-squared:                       0.827\n",
            "Model:                            OLS   Adj. R-squared:                  0.826\n",
            "Method:                 Least Squares   F-statistic:                     711.9\n",
            "Date:                Tue, 15 Aug 2023   Prob (F-statistic):           1.27e-58\n",
            "Time:                        13:53:32   Log-Likelihood:                -397.94\n",
            "No. Observations:                 151   AIC:                             799.9\n",
            "Df Residuals:                     149   BIC:                             805.9\n",
            "Df Model:                           1                                         \n",
            "Covariance Type:            nonrobust                                         \n",
            "==============================================================================\n",
            "                 coef    std err          t      P>|t|      [0.025      0.975]\n",
            "------------------------------------------------------------------------------\n",
            "Intercept     38.6012      1.280     30.158      0.000      36.072      41.130\n",
            "Income        47.6251      1.785     26.681      0.000      44.098      51.152\n",
            "==============================================================================\n",
            "Omnibus:                        8.186   Durbin-Watson:                   2.159\n",
            "Prob(Omnibus):                  0.017   Jarque-Bera (JB):                8.051\n",
            "Skew:                          -0.487   Prob(JB):                       0.0179\n",
            "Kurtosis:                       3.574   Cond. No.                         9.67\n",
            "==============================================================================\n",
            "\n",
            "Notes:\n",
            "[1] Standard Errors assume that the covariance matrix of the errors is correctly specified.\n"
          ]
        }
      ]
    },
    {
      "cell_type": "markdown",
      "source": [
        "Obseva-se que a variável `Income` é significativa. Por fim, note que o `R-square` é de 0.827. **Adicionando mais variáveis teremos um melhor ajuste?**\n",
        "\n"
      ],
      "metadata": {
        "id": "Op9SApK4Xcgb"
      }
    },
    {
      "cell_type": "code",
      "source": [
        "# Fit the resgression line using 'OLS'\n",
        "\n",
        "model = sm.ols(formula='Life_expectancy ~Income+ ADs + Alcohol',\n",
        "               data=df).fit()\n",
        "print(model.summary())"
      ],
      "metadata": {
        "colab": {
          "base_uri": "https://localhost:8080/"
        },
        "id": "eOvbmKdOTtOV",
        "outputId": "fba36fe7-8ebe-4729-ab48-5e800870454f"
      },
      "execution_count": null,
      "outputs": [
        {
          "output_type": "stream",
          "name": "stdout",
          "text": [
            "                            OLS Regression Results                            \n",
            "==============================================================================\n",
            "Dep. Variable:        Life_expectancy   R-squared:                       0.876\n",
            "Model:                            OLS   Adj. R-squared:                  0.873\n",
            "Method:                 Least Squares   F-statistic:                     346.2\n",
            "Date:                Tue, 15 Aug 2023   Prob (F-statistic):           2.09e-66\n",
            "Time:                        13:53:32   Log-Likelihood:                -372.75\n",
            "No. Observations:                 151   AIC:                             753.5\n",
            "Df Residuals:                     147   BIC:                             765.6\n",
            "Df Model:                           3                                         \n",
            "Covariance Type:            nonrobust                                         \n",
            "==============================================================================\n",
            "                 coef    std err          t      P>|t|      [0.025      0.975]\n",
            "------------------------------------------------------------------------------\n",
            "Intercept     43.6490      1.286     33.930      0.000      41.107      46.191\n",
            "Income        36.1381      2.160     16.731      0.000      31.870      40.407\n",
            "ADs           -1.9963      0.262     -7.630      0.000      -2.513      -1.479\n",
            "Alcohol        0.0797      0.256      0.312      0.756      -0.426       0.585\n",
            "==============================================================================\n",
            "Omnibus:                        6.651   Durbin-Watson:                   1.951\n",
            "Prob(Omnibus):                  0.036   Jarque-Bera (JB):                9.345\n",
            "Skew:                          -0.209   Prob(JB):                      0.00935\n",
            "Kurtosis:                       4.145   Cond. No.                         23.6\n",
            "==============================================================================\n",
            "\n",
            "Notes:\n",
            "[1] Standard Errors assume that the covariance matrix of the errors is correctly specified.\n"
          ]
        }
      ]
    },
    {
      "cell_type": "markdown",
      "source": [
        "Note que a variável `Alcohol` não é significante (valor-p >0.05) , isso era esperado? Observe que o `R-square` aumentou para 0.876."
      ],
      "metadata": {
        "id": "Sw3NoQ-7YlXQ"
      }
    },
    {
      "cell_type": "markdown",
      "source": [
        "**Adicionando variável categóricas no modelo de regressão**"
      ],
      "metadata": {
        "id": "-v0YshllZYun"
      }
    },
    {
      "cell_type": "code",
      "source": [
        "model = sm.ols(formula='Life_expectancy ~Income+ ADs + Status',\n",
        "               data=df).fit()\n",
        "print(model.summary())"
      ],
      "metadata": {
        "colab": {
          "base_uri": "https://localhost:8080/"
        },
        "id": "6OHLwqsnZrMx",
        "outputId": "36fc1134-4fb0-47d8-ece2-2d83409fb550"
      },
      "execution_count": null,
      "outputs": [
        {
          "output_type": "stream",
          "name": "stdout",
          "text": [
            "                            OLS Regression Results                            \n",
            "==============================================================================\n",
            "Dep. Variable:        Life_expectancy   R-squared:                       0.879\n",
            "Model:                            OLS   Adj. R-squared:                  0.876\n",
            "Method:                 Least Squares   F-statistic:                     355.7\n",
            "Date:                Tue, 15 Aug 2023   Prob (F-statistic):           3.71e-67\n",
            "Time:                        13:53:32   Log-Likelihood:                -370.97\n",
            "No. Observations:                 151   AIC:                             749.9\n",
            "Df Residuals:                     147   BIC:                             762.0\n",
            "Df Model:                           3                                         \n",
            "Covariance Type:            nonrobust                                         \n",
            "========================================================================================\n",
            "                           coef    std err          t      P>|t|      [0.025      0.975]\n",
            "----------------------------------------------------------------------------------------\n",
            "Intercept               46.2947      1.901     24.352      0.000      42.538      50.052\n",
            "Status[T.Developing]    -1.3933      0.734     -1.897      0.060      -2.845       0.058\n",
            "Income                  33.8428      2.458     13.768      0.000      28.985      38.700\n",
            "ADs                     -2.0683      0.261     -7.913      0.000      -2.585      -1.552\n",
            "==============================================================================\n",
            "Omnibus:                        8.557   Durbin-Watson:                   1.992\n",
            "Prob(Omnibus):                  0.014   Jarque-Bera (JB):               13.045\n",
            "Skew:                          -0.272   Prob(JB):                      0.00147\n",
            "Kurtosis:                       4.333   Cond. No.                         30.7\n",
            "==============================================================================\n",
            "\n",
            "Notes:\n",
            "[1] Standard Errors assume that the covariance matrix of the errors is correctly specified.\n"
          ]
        }
      ]
    },
    {
      "cell_type": "markdown",
      "source": [
        "No modelo de regressão é comum deixar uma categoria como referência. Assim, a(s) outra(s) categorias mensuram o efeito de passar da categoria de referência para outra categoria.\n",
        "\n",
        "**Nosso exemplo:**\n",
        "\n",
        "A variável `Status` tem duas categorias: Developing e Developed. Note que a variável que está no modelo é `Status[Developing]`, assim, ela está medindo como se altera a variável `life_expectancy` quando passamos de considerar países `Developed` para `Developing`. Observe que tem sinal negativo, indicando que a expectativa de vida média em países em desenvolvimento é menor quando comparada em países desenvolvidos."
      ],
      "metadata": {
        "id": "leWLa2hLZgmN"
      }
    },
    {
      "cell_type": "markdown",
      "source": [
        "$$\\text{Life_expectancy} = \\beta_0 +\\beta_1 \\text{Income} + \\beta_2 ADs + \\beta_3 \\text{Status[T.Developing]}$$"
      ],
      "metadata": {
        "id": "0lY-zOUQnJt4"
      }
    },
    {
      "cell_type": "markdown",
      "source": [
        "Na prática, quando vamos calcular `life_expectancy` usando o modelo acima, substituimos `Status[T.Developing]` por 1, se o país está em desenvolvimento e zero, caso contrário."
      ],
      "metadata": {
        "id": "kt1tlvG4dNEj"
      }
    },
    {
      "cell_type": "code",
      "source": [
        "# Valores preditos pelo modelo\n",
        "\n",
        "df['predicted'] = model.predict(df[[\"Income\",\"ADs\",\"Status\"]])\n",
        "df.head()"
      ],
      "metadata": {
        "colab": {
          "base_uri": "https://localhost:8080/",
          "height": 206
        },
        "id": "RW1W0pnVpXcc",
        "outputId": "7f81893b-19fd-4e40-f784-9a4a693ea650"
      },
      "execution_count": null,
      "outputs": [
        {
          "output_type": "execute_result",
          "data": {
            "text/plain": [
              "               Country      Continent  Life_expectancy       ADs  Alcohol  \\\n",
              "0          Afghanistan           Asia             65.0 -2.302585     0.01   \n",
              "1              Albania         Europe             77.8 -2.302585     4.60   \n",
              "2              Algeria         Africa             75.6 -2.302585     0.00   \n",
              "3               Angola         Africa             52.4  0.641854     0.00   \n",
              "4  Antigua and Barbuda  North America             76.4 -1.609438     0.00   \n",
              "\n",
              "   Income      Status  predicted  \n",
              "0   0.479  Developing  65.874427  \n",
              "1   0.762  Developing  75.451948  \n",
              "2   0.743  Developing  74.808934  \n",
              "3   0.531  Developing  61.544354  \n",
              "4   0.784  Developing  74.762873  "
            ],
            "text/html": [
              "\n",
              "\n",
              "  <div id=\"df-c6660fac-a946-49ec-9172-d3bbbb8d0b61\">\n",
              "    <div class=\"colab-df-container\">\n",
              "      <div>\n",
              "<style scoped>\n",
              "    .dataframe tbody tr th:only-of-type {\n",
              "        vertical-align: middle;\n",
              "    }\n",
              "\n",
              "    .dataframe tbody tr th {\n",
              "        vertical-align: top;\n",
              "    }\n",
              "\n",
              "    .dataframe thead th {\n",
              "        text-align: right;\n",
              "    }\n",
              "</style>\n",
              "<table border=\"1\" class=\"dataframe\">\n",
              "  <thead>\n",
              "    <tr style=\"text-align: right;\">\n",
              "      <th></th>\n",
              "      <th>Country</th>\n",
              "      <th>Continent</th>\n",
              "      <th>Life_expectancy</th>\n",
              "      <th>ADs</th>\n",
              "      <th>Alcohol</th>\n",
              "      <th>Income</th>\n",
              "      <th>Status</th>\n",
              "      <th>predicted</th>\n",
              "    </tr>\n",
              "  </thead>\n",
              "  <tbody>\n",
              "    <tr>\n",
              "      <th>0</th>\n",
              "      <td>Afghanistan</td>\n",
              "      <td>Asia</td>\n",
              "      <td>65.0</td>\n",
              "      <td>-2.302585</td>\n",
              "      <td>0.01</td>\n",
              "      <td>0.479</td>\n",
              "      <td>Developing</td>\n",
              "      <td>65.874427</td>\n",
              "    </tr>\n",
              "    <tr>\n",
              "      <th>1</th>\n",
              "      <td>Albania</td>\n",
              "      <td>Europe</td>\n",
              "      <td>77.8</td>\n",
              "      <td>-2.302585</td>\n",
              "      <td>4.60</td>\n",
              "      <td>0.762</td>\n",
              "      <td>Developing</td>\n",
              "      <td>75.451948</td>\n",
              "    </tr>\n",
              "    <tr>\n",
              "      <th>2</th>\n",
              "      <td>Algeria</td>\n",
              "      <td>Africa</td>\n",
              "      <td>75.6</td>\n",
              "      <td>-2.302585</td>\n",
              "      <td>0.00</td>\n",
              "      <td>0.743</td>\n",
              "      <td>Developing</td>\n",
              "      <td>74.808934</td>\n",
              "    </tr>\n",
              "    <tr>\n",
              "      <th>3</th>\n",
              "      <td>Angola</td>\n",
              "      <td>Africa</td>\n",
              "      <td>52.4</td>\n",
              "      <td>0.641854</td>\n",
              "      <td>0.00</td>\n",
              "      <td>0.531</td>\n",
              "      <td>Developing</td>\n",
              "      <td>61.544354</td>\n",
              "    </tr>\n",
              "    <tr>\n",
              "      <th>4</th>\n",
              "      <td>Antigua and Barbuda</td>\n",
              "      <td>North America</td>\n",
              "      <td>76.4</td>\n",
              "      <td>-1.609438</td>\n",
              "      <td>0.00</td>\n",
              "      <td>0.784</td>\n",
              "      <td>Developing</td>\n",
              "      <td>74.762873</td>\n",
              "    </tr>\n",
              "  </tbody>\n",
              "</table>\n",
              "</div>\n",
              "      <button class=\"colab-df-convert\" onclick=\"convertToInteractive('df-c6660fac-a946-49ec-9172-d3bbbb8d0b61')\"\n",
              "              title=\"Convert this dataframe to an interactive table.\"\n",
              "              style=\"display:none;\">\n",
              "\n",
              "  <svg xmlns=\"http://www.w3.org/2000/svg\" height=\"24px\"viewBox=\"0 0 24 24\"\n",
              "       width=\"24px\">\n",
              "    <path d=\"M0 0h24v24H0V0z\" fill=\"none\"/>\n",
              "    <path d=\"M18.56 5.44l.94 2.06.94-2.06 2.06-.94-2.06-.94-.94-2.06-.94 2.06-2.06.94zm-11 1L8.5 8.5l.94-2.06 2.06-.94-2.06-.94L8.5 2.5l-.94 2.06-2.06.94zm10 10l.94 2.06.94-2.06 2.06-.94-2.06-.94-.94-2.06-.94 2.06-2.06.94z\"/><path d=\"M17.41 7.96l-1.37-1.37c-.4-.4-.92-.59-1.43-.59-.52 0-1.04.2-1.43.59L10.3 9.45l-7.72 7.72c-.78.78-.78 2.05 0 2.83L4 21.41c.39.39.9.59 1.41.59.51 0 1.02-.2 1.41-.59l7.78-7.78 2.81-2.81c.8-.78.8-2.07 0-2.86zM5.41 20L4 18.59l7.72-7.72 1.47 1.35L5.41 20z\"/>\n",
              "  </svg>\n",
              "      </button>\n",
              "\n",
              "\n",
              "\n",
              "    <div id=\"df-2a91b64e-9d8b-411d-ad26-4e3272d5819c\">\n",
              "      <button class=\"colab-df-quickchart\" onclick=\"quickchart('df-2a91b64e-9d8b-411d-ad26-4e3272d5819c')\"\n",
              "              title=\"Suggest charts.\"\n",
              "              style=\"display:none;\">\n",
              "\n",
              "<svg xmlns=\"http://www.w3.org/2000/svg\" height=\"24px\"viewBox=\"0 0 24 24\"\n",
              "     width=\"24px\">\n",
              "    <g>\n",
              "        <path d=\"M19 3H5c-1.1 0-2 .9-2 2v14c0 1.1.9 2 2 2h14c1.1 0 2-.9 2-2V5c0-1.1-.9-2-2-2zM9 17H7v-7h2v7zm4 0h-2V7h2v10zm4 0h-2v-4h2v4z\"/>\n",
              "    </g>\n",
              "</svg>\n",
              "      </button>\n",
              "    </div>\n",
              "\n",
              "<style>\n",
              "  .colab-df-quickchart {\n",
              "    background-color: #E8F0FE;\n",
              "    border: none;\n",
              "    border-radius: 50%;\n",
              "    cursor: pointer;\n",
              "    display: none;\n",
              "    fill: #1967D2;\n",
              "    height: 32px;\n",
              "    padding: 0 0 0 0;\n",
              "    width: 32px;\n",
              "  }\n",
              "\n",
              "  .colab-df-quickchart:hover {\n",
              "    background-color: #E2EBFA;\n",
              "    box-shadow: 0px 1px 2px rgba(60, 64, 67, 0.3), 0px 1px 3px 1px rgba(60, 64, 67, 0.15);\n",
              "    fill: #174EA6;\n",
              "  }\n",
              "\n",
              "  [theme=dark] .colab-df-quickchart {\n",
              "    background-color: #3B4455;\n",
              "    fill: #D2E3FC;\n",
              "  }\n",
              "\n",
              "  [theme=dark] .colab-df-quickchart:hover {\n",
              "    background-color: #434B5C;\n",
              "    box-shadow: 0px 1px 3px 1px rgba(0, 0, 0, 0.15);\n",
              "    filter: drop-shadow(0px 1px 2px rgba(0, 0, 0, 0.3));\n",
              "    fill: #FFFFFF;\n",
              "  }\n",
              "</style>\n",
              "\n",
              "    <script>\n",
              "      async function quickchart(key) {\n",
              "        const containerElement = document.querySelector('#' + key);\n",
              "        const charts = await google.colab.kernel.invokeFunction(\n",
              "            'suggestCharts', [key], {});\n",
              "      }\n",
              "    </script>\n",
              "\n",
              "      <script>\n",
              "\n",
              "function displayQuickchartButton(domScope) {\n",
              "  let quickchartButtonEl =\n",
              "    domScope.querySelector('#df-2a91b64e-9d8b-411d-ad26-4e3272d5819c button.colab-df-quickchart');\n",
              "  quickchartButtonEl.style.display =\n",
              "    google.colab.kernel.accessAllowed ? 'block' : 'none';\n",
              "}\n",
              "\n",
              "        displayQuickchartButton(document);\n",
              "      </script>\n",
              "      <style>\n",
              "    .colab-df-container {\n",
              "      display:flex;\n",
              "      flex-wrap:wrap;\n",
              "      gap: 12px;\n",
              "    }\n",
              "\n",
              "    .colab-df-convert {\n",
              "      background-color: #E8F0FE;\n",
              "      border: none;\n",
              "      border-radius: 50%;\n",
              "      cursor: pointer;\n",
              "      display: none;\n",
              "      fill: #1967D2;\n",
              "      height: 32px;\n",
              "      padding: 0 0 0 0;\n",
              "      width: 32px;\n",
              "    }\n",
              "\n",
              "    .colab-df-convert:hover {\n",
              "      background-color: #E2EBFA;\n",
              "      box-shadow: 0px 1px 2px rgba(60, 64, 67, 0.3), 0px 1px 3px 1px rgba(60, 64, 67, 0.15);\n",
              "      fill: #174EA6;\n",
              "    }\n",
              "\n",
              "    [theme=dark] .colab-df-convert {\n",
              "      background-color: #3B4455;\n",
              "      fill: #D2E3FC;\n",
              "    }\n",
              "\n",
              "    [theme=dark] .colab-df-convert:hover {\n",
              "      background-color: #434B5C;\n",
              "      box-shadow: 0px 1px 3px 1px rgba(0, 0, 0, 0.15);\n",
              "      filter: drop-shadow(0px 1px 2px rgba(0, 0, 0, 0.3));\n",
              "      fill: #FFFFFF;\n",
              "    }\n",
              "  </style>\n",
              "\n",
              "      <script>\n",
              "        const buttonEl =\n",
              "          document.querySelector('#df-c6660fac-a946-49ec-9172-d3bbbb8d0b61 button.colab-df-convert');\n",
              "        buttonEl.style.display =\n",
              "          google.colab.kernel.accessAllowed ? 'block' : 'none';\n",
              "\n",
              "        async function convertToInteractive(key) {\n",
              "          const element = document.querySelector('#df-c6660fac-a946-49ec-9172-d3bbbb8d0b61');\n",
              "          const dataTable =\n",
              "            await google.colab.kernel.invokeFunction('convertToInteractive',\n",
              "                                                     [key], {});\n",
              "          if (!dataTable) return;\n",
              "\n",
              "          const docLinkHtml = 'Like what you see? Visit the ' +\n",
              "            '<a target=\"_blank\" href=https://colab.research.google.com/notebooks/data_table.ipynb>data table notebook</a>'\n",
              "            + ' to learn more about interactive tables.';\n",
              "          element.innerHTML = '';\n",
              "          dataTable['output_type'] = 'display_data';\n",
              "          await google.colab.output.renderOutput(dataTable, element);\n",
              "          const docLink = document.createElement('div');\n",
              "          docLink.innerHTML = docLinkHtml;\n",
              "          element.appendChild(docLink);\n",
              "        }\n",
              "      </script>\n",
              "    </div>\n",
              "  </div>\n"
            ]
          },
          "metadata": {},
          "execution_count": 35
        }
      ]
    },
    {
      "cell_type": "markdown",
      "source": [
        "Usando o modelo de regressão linear ajustado. Qual é o valor esperado de tempo de vida em países com as seguintes características:\n",
        "- Income: 0.75\n",
        "- ADs: 1.5\n",
        "- Status: Developing"
      ],
      "metadata": {
        "id": "iYyC1dgmpH2M"
      }
    },
    {
      "cell_type": "code",
      "source": [
        "# Prevendo para novos valores (não estão na base de dados)\n",
        "\n",
        "new_value=pd.DataFrame({'Income': [0.75],\n",
        "                        'ADs': 1.5,\n",
        "                        'Status': \"Developing\"})\n",
        "\n",
        "model.predict(new_value)"
      ],
      "metadata": {
        "colab": {
          "base_uri": "https://localhost:8080/"
        },
        "id": "AC1qmEkdqnvF",
        "outputId": "00f32bfa-4ea0-404c-a17f-4f2f333a3b58"
      },
      "execution_count": null,
      "outputs": [
        {
          "output_type": "execute_result",
          "data": {
            "text/plain": [
              "0    67.181055\n",
              "dtype: float64"
            ]
          },
          "metadata": {},
          "execution_count": 36
        }
      ]
    },
    {
      "cell_type": "code",
      "source": [
        "residuals=model.resid"
      ],
      "metadata": {
        "id": "Wdt0Sb9StCMu"
      },
      "execution_count": null,
      "outputs": []
    },
    {
      "cell_type": "code",
      "source": [
        "# Resíduos\n",
        "\n",
        "residuals=model.resid\n",
        "df[\"res\"]=residuals"
      ],
      "metadata": {
        "id": "RCvgp-OnpIB-"
      },
      "execution_count": null,
      "outputs": []
    },
    {
      "cell_type": "code",
      "source": [
        "# Gráfico de dispersão dos resíduos\n",
        "\n",
        "plt.figure(figsize=(10, 3))\n",
        "\n",
        "plt.subplot(1, 2, 1)\n",
        "plt.scatter(df[\"predicted\"], df[\"res\"])\n",
        "plt.axhline(y=0, color='r', linestyle='--')\n",
        "plt.xlabel('Valores ajustados')\n",
        "plt.ylabel('Resíduos')\n",
        "plt.title('Gráfico de Dispersão dos Resíduos')\n",
        "\n",
        "plt.subplot(1, 2, 2)\n",
        "plt.hist(residuals)\n",
        "\n",
        "plt.tight_layout()\n",
        "plt.show()"
      ],
      "metadata": {
        "colab": {
          "base_uri": "https://localhost:8080/",
          "height": 307
        },
        "id": "cL-QBXSfpO1J",
        "outputId": "6dacfc12-13e7-450f-ff8c-9ccdccaa7478"
      },
      "execution_count": null,
      "outputs": [
        {
          "output_type": "display_data",
          "data": {
            "text/plain": [
              "<Figure size 1000x300 with 2 Axes>"
            ],
            "image/png": "[encoded data removed]"
          },
          "metadata": {}
        }
      ]
    },
    {
      "cell_type": "markdown",
      "source": [
        "Esses gráficos sugerem que os resíduos se desenvolvem aleatóriamente em torno de zero e seguem aproximadamente uma distribuição Normal."
      ],
      "metadata": {
        "id": "lEWVJJ07hJPN"
      }
    },
    {
      "cell_type": "code",
      "source": [
        "# Analisando possíveis outliers\n",
        "\n",
        "df[(df.res<-5) | (df.res>5)].sort_values(by=['res'])"
      ],
      "metadata": {
        "colab": {
          "base_uri": "https://localhost:8080/",
          "height": 457
        },
        "id": "Z689he18ex1u",
        "outputId": "fa8edd98-40dc-42c7-f7ae-7389d78c9e16"
      },
      "execution_count": null,
      "outputs": [
        {
          "output_type": "execute_result",
          "data": {
            "text/plain": [
              "          Country      Continent  Life_expectancy       ADs  Alcohol  Income  \\\n",
              "123  Sierra Leone         Africa             51.0 -0.693147      0.0   0.431   \n",
              "3          Angola         Africa             52.4  0.641854      0.0   0.531   \n",
              "143  Turkmenistan           Asia             66.3 -2.302585      0.0   0.688   \n",
              "81      Lithuania         Europe             73.6 -2.302585      0.0   0.846   \n",
              "92       Mongolia           Asia             68.8 -2.302585      0.0   0.733   \n",
              "103       Nigeria         Africa             54.5  1.308333      0.0   0.525   \n",
              "38         Cyprus         Europe             85.0 -2.302585      0.0   0.854   \n",
              "86       Maldives           Asia             78.5 -2.302585      0.0   0.701   \n",
              "70        Jamaica  North America             76.2 -0.693147      0.0   0.729   \n",
              "61       Honduras  North America             74.6 -1.203973      0.0   0.623   \n",
              "31          Chile  South America             85.0 -2.302585      0.0   0.845   \n",
              "125      Slovenia         Europe             88.0 -2.302585      0.0   0.888   \n",
              "151      Zimbabwe         Africa             67.0  1.824549      0.0   0.507   \n",
              "\n",
              "         Status  predicted       res  \n",
              "123  Developing  60.921216 -9.921216  \n",
              "3    Developing  61.544354 -9.144354  \n",
              "143  Developing  72.947578 -6.647578  \n",
              "81    Developed  79.688091 -6.088091  \n",
              "92   Developing  74.470506 -5.670506  \n",
              "103  Developing  59.962837 -5.462837  \n",
              "38    Developed  79.958834  5.041166  \n",
              "86   Developing  73.387535  5.112465  \n",
              "70   Developing  71.006379  5.193621  \n",
              "61   Developing  68.475566  6.124434  \n",
              "31   Developing  78.260903  6.739097  \n",
              "125   Developed  81.109490  6.890510  \n",
              "151  Developing  58.285991  8.714009  "
            ],
            "text/html": [
              "\n",
              "\n",
              "  <div id=\"df-9c0c16c4-fa68-40be-a83e-5c11d473bbb2\">\n",
              "    <div class=\"colab-df-container\">\n",
              "      <div>\n",
              "<style scoped>\n",
              "    .dataframe tbody tr th:only-of-type {\n",
              "        vertical-align: middle;\n",
              "    }\n",
              "\n",
              "    .dataframe tbody tr th {\n",
              "        vertical-align: top;\n",
              "    }\n",
              "\n",
              "    .dataframe thead th {\n",
              "        text-align: right;\n",
              "    }\n",
              "</style>\n",
              "<table border=\"1\" class=\"dataframe\">\n",
              "  <thead>\n",
              "    <tr style=\"text-align: right;\">\n",
              "      <th></th>\n",
              "      <th>Country</th>\n",
              "      <th>Continent</th>\n",
              "      <th>Life_expectancy</th>\n",
              "      <th>ADs</th>\n",
              "      <th>Alcohol</th>\n",
              "      <th>Income</th>\n",
              "      <th>Status</th>\n",
              "      <th>predicted</th>\n",
              "      <th>res</th>\n",
              "    </tr>\n",
              "  </thead>\n",
              "  <tbody>\n",
              "    <tr>\n",
              "      <th>123</th>\n",
              "      <td>Sierra Leone</td>\n",
              "      <td>Africa</td>\n",
              "      <td>51.0</td>\n",
              "      <td>-0.693147</td>\n",
              "      <td>0.0</td>\n",
              "      <td>0.431</td>\n",
              "      <td>Developing</td>\n",
              "      <td>60.921216</td>\n",
              "      <td>-9.921216</td>\n",
              "    </tr>\n",
              "    <tr>\n",
              "      <th>3</th>\n",
              "      <td>Angola</td>\n",
              "      <td>Africa</td>\n",
              "      <td>52.4</td>\n",
              "      <td>0.641854</td>\n",
              "      <td>0.0</td>\n",
              "      <td>0.531</td>\n",
              "      <td>Developing</td>\n",
              "      <td>61.544354</td>\n",
              "      <td>-9.144354</td>\n",
              "    </tr>\n",
              "    <tr>\n",
              "      <th>143</th>\n",
              "      <td>Turkmenistan</td>\n",
              "      <td>Asia</td>\n",
              "      <td>66.3</td>\n",
              "      <td>-2.302585</td>\n",
              "      <td>0.0</td>\n",
              "      <td>0.688</td>\n",
              "      <td>Developing</td>\n",
              "      <td>72.947578</td>\n",
              "      <td>-6.647578</td>\n",
              "    </tr>\n",
              "    <tr>\n",
              "      <th>81</th>\n",
              "      <td>Lithuania</td>\n",
              "      <td>Europe</td>\n",
              "      <td>73.6</td>\n",
              "      <td>-2.302585</td>\n",
              "      <td>0.0</td>\n",
              "      <td>0.846</td>\n",
              "      <td>Developed</td>\n",
              "      <td>79.688091</td>\n",
              "      <td>-6.088091</td>\n",
              "    </tr>\n",
              "    <tr>\n",
              "      <th>92</th>\n",
              "      <td>Mongolia</td>\n",
              "      <td>Asia</td>\n",
              "      <td>68.8</td>\n",
              "      <td>-2.302585</td>\n",
              "      <td>0.0</td>\n",
              "      <td>0.733</td>\n",
              "      <td>Developing</td>\n",
              "      <td>74.470506</td>\n",
              "      <td>-5.670506</td>\n",
              "    </tr>\n",
              "    <tr>\n",
              "      <th>103</th>\n",
              "      <td>Nigeria</td>\n",
              "      <td>Africa</td>\n",
              "      <td>54.5</td>\n",
              "      <td>1.308333</td>\n",
              "      <td>0.0</td>\n",
              "      <td>0.525</td>\n",
              "      <td>Developing</td>\n",
              "      <td>59.962837</td>\n",
              "      <td>-5.462837</td>\n",
              "    </tr>\n",
              "    <tr>\n",
              "      <th>38</th>\n",
              "      <td>Cyprus</td>\n",
              "      <td>Europe</td>\n",
              "      <td>85.0</td>\n",
              "      <td>-2.302585</td>\n",
              "      <td>0.0</td>\n",
              "      <td>0.854</td>\n",
              "      <td>Developed</td>\n",
              "      <td>79.958834</td>\n",
              "      <td>5.041166</td>\n",
              "    </tr>\n",
              "    <tr>\n",
              "      <th>86</th>\n",
              "      <td>Maldives</td>\n",
              "      <td>Asia</td>\n",
              "      <td>78.5</td>\n",
              "      <td>-2.302585</td>\n",
              "      <td>0.0</td>\n",
              "      <td>0.701</td>\n",
              "      <td>Developing</td>\n",
              "      <td>73.387535</td>\n",
              "      <td>5.112465</td>\n",
              "    </tr>\n",
              "    <tr>\n",
              "      <th>70</th>\n",
              "      <td>Jamaica</td>\n",
              "      <td>North America</td>\n",
              "      <td>76.2</td>\n",
              "      <td>-0.693147</td>\n",
              "      <td>0.0</td>\n",
              "      <td>0.729</td>\n",
              "      <td>Developing</td>\n",
              "      <td>71.006379</td>\n",
              "      <td>5.193621</td>\n",
              "    </tr>\n",
              "    <tr>\n",
              "      <th>61</th>\n",
              "      <td>Honduras</td>\n",
              "      <td>North America</td>\n",
              "      <td>74.6</td>\n",
              "      <td>-1.203973</td>\n",
              "      <td>0.0</td>\n",
              "      <td>0.623</td>\n",
              "      <td>Developing</td>\n",
              "      <td>68.475566</td>\n",
              "      <td>6.124434</td>\n",
              "    </tr>\n",
              "    <tr>\n",
              "      <th>31</th>\n",
              "      <td>Chile</td>\n",
              "      <td>South America</td>\n",
              "      <td>85.0</td>\n",
              "      <td>-2.302585</td>\n",
              "      <td>0.0</td>\n",
              "      <td>0.845</td>\n",
              "      <td>Developing</td>\n",
              "      <td>78.260903</td>\n",
              "      <td>6.739097</td>\n",
              "    </tr>\n",
              "    <tr>\n",
              "      <th>125</th>\n",
              "      <td>Slovenia</td>\n",
              "      <td>Europe</td>\n",
              "      <td>88.0</td>\n",
              "      <td>-2.302585</td>\n",
              "      <td>0.0</td>\n",
              "      <td>0.888</td>\n",
              "      <td>Developed</td>\n",
              "      <td>81.109490</td>\n",
              "      <td>6.890510</td>\n",
              "    </tr>\n",
              "    <tr>\n",
              "      <th>151</th>\n",
              "      <td>Zimbabwe</td>\n",
              "      <td>Africa</td>\n",
              "      <td>67.0</td>\n",
              "      <td>1.824549</td>\n",
              "      <td>0.0</td>\n",
              "      <td>0.507</td>\n",
              "      <td>Developing</td>\n",
              "      <td>58.285991</td>\n",
              "      <td>8.714009</td>\n",
              "    </tr>\n",
              "  </tbody>\n",
              "</table>\n",
              "</div>\n",
              "      <button class=\"colab-df-convert\" onclick=\"convertToInteractive('df-9c0c16c4-fa68-40be-a83e-5c11d473bbb2')\"\n",
              "              title=\"Convert this dataframe to an interactive table.\"\n",
              "              style=\"display:none;\">\n",
              "\n",
              "  <svg xmlns=\"http://www.w3.org/2000/svg\" height=\"24px\"viewBox=\"0 0 24 24\"\n",
              "       width=\"24px\">\n",
              "    <path d=\"M0 0h24v24H0V0z\" fill=\"none\"/>\n",
              "    <path d=\"M18.56 5.44l.94 2.06.94-2.06 2.06-.94-2.06-.94-.94-2.06-.94 2.06-2.06.94zm-11 1L8.5 8.5l.94-2.06 2.06-.94-2.06-.94L8.5 2.5l-.94 2.06-2.06.94zm10 10l.94 2.06.94-2.06 2.06-.94-2.06-.94-.94-2.06-.94 2.06-2.06.94z\"/><path d=\"M17.41 7.96l-1.37-1.37c-.4-.4-.92-.59-1.43-.59-.52 0-1.04.2-1.43.59L10.3 9.45l-7.72 7.72c-.78.78-.78 2.05 0 2.83L4 21.41c.39.39.9.59 1.41.59.51 0 1.02-.2 1.41-.59l7.78-7.78 2.81-2.81c.8-.78.8-2.07 0-2.86zM5.41 20L4 18.59l7.72-7.72 1.47 1.35L5.41 20z\"/>\n",
              "  </svg>\n",
              "      </button>\n",
              "\n",
              "\n",
              "\n",
              "    <div id=\"df-e1c905a4-32be-4597-872e-bcf4e52201b5\">\n",
              "      <button class=\"colab-df-quickchart\" onclick=\"quickchart('df-e1c905a4-32be-4597-872e-bcf4e52201b5')\"\n",
              "              title=\"Suggest charts.\"\n",
              "              style=\"display:none;\">\n",
              "\n",
              "<svg xmlns=\"http://www.w3.org/2000/svg\" height=\"24px\"viewBox=\"0 0 24 24\"\n",
              "     width=\"24px\">\n",
              "    <g>\n",
              "        <path d=\"M19 3H5c-1.1 0-2 .9-2 2v14c0 1.1.9 2 2 2h14c1.1 0 2-.9 2-2V5c0-1.1-.9-2-2-2zM9 17H7v-7h2v7zm4 0h-2V7h2v10zm4 0h-2v-4h2v4z\"/>\n",
              "    </g>\n",
              "</svg>\n",
              "      </button>\n",
              "    </div>\n",
              "\n",
              "<style>\n",
              "  .colab-df-quickchart {\n",
              "    background-color: #E8F0FE;\n",
              "    border: none;\n",
              "    border-radius: 50%;\n",
              "    cursor: pointer;\n",
              "    display: none;\n",
              "    fill: #1967D2;\n",
              "    height: 32px;\n",
              "    padding: 0 0 0 0;\n",
              "    width: 32px;\n",
              "  }\n",
              "\n",
              "  .colab-df-quickchart:hover {\n",
              "    background-color: #E2EBFA;\n",
              "    box-shadow: 0px 1px 2px rgba(60, 64, 67, 0.3), 0px 1px 3px 1px rgba(60, 64, 67, 0.15);\n",
              "    fill: #174EA6;\n",
              "  }\n",
              "\n",
              "  [theme=dark] .colab-df-quickchart {\n",
              "    background-color: #3B4455;\n",
              "    fill: #D2E3FC;\n",
              "  }\n",
              "\n",
              "  [theme=dark] .colab-df-quickchart:hover {\n",
              "    background-color: #434B5C;\n",
              "    box-shadow: 0px 1px 3px 1px rgba(0, 0, 0, 0.15);\n",
              "    filter: drop-shadow(0px 1px 2px rgba(0, 0, 0, 0.3));\n",
              "    fill: #FFFFFF;\n",
              "  }\n",
              "</style>\n",
              "\n",
              "    <script>\n",
              "      async function quickchart(key) {\n",
              "        const containerElement = document.querySelector('#' + key);\n",
              "        const charts = await google.colab.kernel.invokeFunction(\n",
              "            'suggestCharts', [key], {});\n",
              "      }\n",
              "    </script>\n",
              "\n",
              "      <script>\n",
              "\n",
              "function displayQuickchartButton(domScope) {\n",
              "  let quickchartButtonEl =\n",
              "    domScope.querySelector('#df-e1c905a4-32be-4597-872e-bcf4e52201b5 button.colab-df-quickchart');\n",
              "  quickchartButtonEl.style.display =\n",
              "    google.colab.kernel.accessAllowed ? 'block' : 'none';\n",
              "}\n",
              "\n",
              "        displayQuickchartButton(document);\n",
              "      </script>\n",
              "      <style>\n",
              "    .colab-df-container {\n",
              "      display:flex;\n",
              "      flex-wrap:wrap;\n",
              "      gap: 12px;\n",
              "    }\n",
              "\n",
              "    .colab-df-convert {\n",
              "      background-color: #E8F0FE;\n",
              "      border: none;\n",
              "      border-radius: 50%;\n",
              "      cursor: pointer;\n",
              "      display: none;\n",
              "      fill: #1967D2;\n",
              "      height: 32px;\n",
              "      padding: 0 0 0 0;\n",
              "      width: 32px;\n",
              "    }\n",
              "\n",
              "    .colab-df-convert:hover {\n",
              "      background-color: #E2EBFA;\n",
              "      box-shadow: 0px 1px 2px rgba(60, 64, 67, 0.3), 0px 1px 3px 1px rgba(60, 64, 67, 0.15);\n",
              "      fill: #174EA6;\n",
              "    }\n",
              "\n",
              "    [theme=dark] .colab-df-convert {\n",
              "      background-color: #3B4455;\n",
              "      fill: #D2E3FC;\n",
              "    }\n",
              "\n",
              "    [theme=dark] .colab-df-convert:hover {\n",
              "      background-color: #434B5C;\n",
              "      box-shadow: 0px 1px 3px 1px rgba(0, 0, 0, 0.15);\n",
              "      filter: drop-shadow(0px 1px 2px rgba(0, 0, 0, 0.3));\n",
              "      fill: #FFFFFF;\n",
              "    }\n",
              "  </style>\n",
              "\n",
              "      <script>\n",
              "        const buttonEl =\n",
              "          document.querySelector('#df-9c0c16c4-fa68-40be-a83e-5c11d473bbb2 button.colab-df-convert');\n",
              "        buttonEl.style.display =\n",
              "          google.colab.kernel.accessAllowed ? 'block' : 'none';\n",
              "\n",
              "        async function convertToInteractive(key) {\n",
              "          const element = document.querySelector('#df-9c0c16c4-fa68-40be-a83e-5c11d473bbb2');\n",
              "          const dataTable =\n",
              "            await google.colab.kernel.invokeFunction('convertToInteractive',\n",
              "                                                     [key], {});\n",
              "          if (!dataTable) return;\n",
              "\n",
              "          const docLinkHtml = 'Like what you see? Visit the ' +\n",
              "            '<a target=\"_blank\" href=https://colab.research.google.com/notebooks/data_table.ipynb>data table notebook</a>'\n",
              "            + ' to learn more about interactive tables.';\n",
              "          element.innerHTML = '';\n",
              "          dataTable['output_type'] = 'display_data';\n",
              "          await google.colab.output.renderOutput(dataTable, element);\n",
              "          const docLink = document.createElement('div');\n",
              "          docLink.innerHTML = docLinkHtml;\n",
              "          element.appendChild(docLink);\n",
              "        }\n",
              "      </script>\n",
              "    </div>\n",
              "  </div>\n"
            ]
          },
          "metadata": {},
          "execution_count": 45
        }
      ]
    }
  ]
}
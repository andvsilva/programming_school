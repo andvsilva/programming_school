{
  "cells": [
    {
      "cell_type": "markdown",
      "metadata": {
        "id": "gglUriLmo1sR"
      },
      "source": [
        "<head>\n",
        "  <meta name=\"author\" content=\"Rogério de Oliveira\">\n",
        "  <meta institution=\"author\" content=\"Universidade Presbiteriana Mackenzie\">\n",
        "</head>\n",
        "\n",
        "<img src=\"http://meusite.mackenzie.br/rogerio/mackenzie_logo/UPM.2_horizontal_vermelho.jpg\" width=300, align=\"left\"></a>\n",
        "<!-- <h1 align=left><font size = 6, style=\"color:rgb(200,0,0)\"> optional title </font></h1> -->"
      ]
    },
    {
      "cell_type": "code",
      "execution_count": 1,
      "metadata": {
        "id": "NYCRqwFdf4Ci"
      },
      "outputs": [],
      "source": [
        "import pandas                  as pd\n",
        "import numpy                   as np\n",
        "import matplotlib.pyplot       as plt\n",
        "import seaborn                 as sns\n",
        "import statsmodels.formula.api as sm\n",
        "\n",
        "import warnings\n",
        "warnings.filterwarnings(\"ignore\")"
      ]
    },
    {
      "cell_type": "markdown",
      "metadata": {
        "id": "Y4i6YMDv6fmX"
      },
      "source": [
        "<font size =5 > Aprendizado Supervisionado e Não Supervisionado </font>"
      ]
    },
    {
      "cell_type": "markdown",
      "metadata": {
        "id": "hFAcA86q5qpY"
      },
      "source": [
        "A aprendizagem de máquina, uma subárea da inteligência artificial, pode ser dividida em duas categorias principais: aprendizagem supervisionada e aprendizagem não supervisionada.\n",
        "\n",
        "\n",
        "Na **aprendizagem supervisionada**, o algoritmo é treinado usando um conjunto de dados que inclue tanto as características (variáveis explicativas) quanto as classes (ou saídas desejadas). Após o treinamento, o modelo pode ser usado para prever classes para novos dados não registrados.\n",
        "\n",
        "Exemplos: detecção de spam de e-mail, reconhecimento de imagem, entre outros.\n",
        "\n",
        "Na **aprendizagem não supervisionada**, o algoritmo é alimentado com um conjunto de dados que não possui rótulos ou saídas conhecidas. O objetivo principal é encontrar estruturas, padrões ou agrupamentos nos dados sem orientação externa.\n",
        "\n"
      ]
    },
    {
      "cell_type": "markdown",
      "metadata": {
        "id": "GpxAuEuifzCj"
      },
      "source": [
        "# Modelo K-Nearest Neighbor (KNN)"
      ]
    },
    {
      "cell_type": "markdown",
      "metadata": {
        "id": "HL7lrcXszfEj"
      },
      "source": [
        "O algoritmo dos k-vizinhos mais próximos (k-NN) é um algoritmo de aprendizado de máquina usado para classificação. O KNN classifica cada valor de um conjunto de dados avaliando sua distância em relação aos k vizinhos mais próximos. Se os k vizinhos mais próximos forem majoritariamente de uma classe, a amostra em questão será classificada nesta categoria. A ideia é a seguinte:\n",
        "\n"
      ]
    },
    {
      "cell_type": "markdown",
      "metadata": {
        "id": "oyimPO4w35X1"
      },
      "source": [
        "<img src=\"http://www.orlandoalbarracin.com.br/phyton/knn.png\" width=850, align=\"left\">"
      ]
    },
    {
      "cell_type": "markdown",
      "metadata": {
        "id": "2Cw6B2oO4RT-"
      },
      "source": [
        "Quando o k é pequeno, a classificação fica mais sensível a regiões bem próximas (podendo ocorrer o problema de overfitting). Com k grande, a classificação fica menos sujeita a ruídos pode ser considerada mais robusta, porém se k for grande demais, pode ser que haja o problema de underfitting.\n",
        "\n",
        "Em nosso exemplo, veja o que acontece se consideramos 5 vizinhos próximos."
      ]
    },
    {
      "cell_type": "markdown",
      "metadata": {
        "id": "y2FlMGkX5Att"
      },
      "source": [
        "<img src=\"http://www.orlandoalbarracin.com.br/phyton/knn2.png\" width=850, align=\"left\">"
      ]
    },
    {
      "cell_type": "markdown",
      "metadata": {
        "id": "b9WYDU0C0Ji-"
      },
      "source": [
        "<font size =5 > Algoritmo KNN </font>\n",
        "\n",
        "1.   Selecione o dado a ser classifica, meça sua distância (euclidiana) em relação a cada um dos outros dados que já estão classificados;\n",
        "1.   Selecione os primeros k dados com menores distâncias;\n",
        "1.   Verifique as classes (ou categorias) dos dados que tiveram as k menores distâncias e conte a quantidade de vezes que cada classe que apareceu;\n",
        "1.   Classifique esse novo dado como pertencente à classe que mais apareceu."
      ]
    },
    {
      "cell_type": "markdown",
      "metadata": {
        "id": "cuVz0Pu063im"
      },
      "source": [
        "<font size =4 > Funções Distância </font>\n",
        "\n",
        "Existem várias funções distância, mas em geral aplicaremos aqui a distância Euclidiana.\n",
        "\n",
        "$$ d(x,y) = \\sqrt{ (x_1 - y_1)^2 + (x_2 - y_2)^2 }$$\n",
        "\n",
        "\n",
        "\n",
        "\n",
        "\n"
      ]
    },
    {
      "cell_type": "markdown",
      "metadata": {
        "id": "rkFktO4Kfa2V"
      },
      "source": [
        "### Prós\n",
        "* É simples de implementar; Treinar é mais fácil; Tem poucos parâmetros.\n",
        "\n",
        "### Limitações\n",
        "* Alto custo de previsão; Não funciona bem com vários recursos; Requer o uso de uma função distância.\n",
        "\n"
      ]
    },
    {
      "cell_type": "markdown",
      "metadata": {
        "id": "1kcj5Z4W7IAt"
      },
      "source": [
        "## Exemplo\n",
        "Utilizaremos um exemplo bastante simples com o objetivo de facilitar a compreensão do modelo. Neste exemplo, a classificação do 'Tipo de Taxa de Empréstimo', que pode ser Padrão ou Não, é determinada com base em apenas dois atributos: a idade do cliente e o valor do empréstimo"
      ]
    },
    {
      "cell_type": "code",
      "execution_count": 2,
      "metadata": {
        "colab": {
          "base_uri": "https://localhost:8080/",
          "height": 394
        },
        "id": "b5FQqQbEf7M8",
        "outputId": "658e4ea4-df4c-43fa-b57b-4515dc4fab61"
      },
      "outputs": [
        {
          "data": {
            "text/html": [
              "<div>\n",
              "<style scoped>\n",
              "    .dataframe tbody tr th:only-of-type {\n",
              "        vertical-align: middle;\n",
              "    }\n",
              "\n",
              "    .dataframe tbody tr th {\n",
              "        vertical-align: top;\n",
              "    }\n",
              "\n",
              "    .dataframe thead th {\n",
              "        text-align: right;\n",
              "    }\n",
              "</style>\n",
              "<table border=\"1\" class=\"dataframe\">\n",
              "  <thead>\n",
              "    <tr style=\"text-align: right;\">\n",
              "      <th></th>\n",
              "      <th>Age</th>\n",
              "      <th>Loan</th>\n",
              "      <th>Type_loan</th>\n",
              "    </tr>\n",
              "  </thead>\n",
              "  <tbody>\n",
              "    <tr>\n",
              "      <th>0</th>\n",
              "      <td>40</td>\n",
              "      <td>100000</td>\n",
              "      <td>1</td>\n",
              "    </tr>\n",
              "    <tr>\n",
              "      <th>1</th>\n",
              "      <td>35</td>\n",
              "      <td>60000</td>\n",
              "      <td>1</td>\n",
              "    </tr>\n",
              "    <tr>\n",
              "      <th>2</th>\n",
              "      <td>45</td>\n",
              "      <td>80000</td>\n",
              "      <td>1</td>\n",
              "    </tr>\n",
              "    <tr>\n",
              "      <th>3</th>\n",
              "      <td>34</td>\n",
              "      <td>40000</td>\n",
              "      <td>1</td>\n",
              "    </tr>\n",
              "    <tr>\n",
              "      <th>4</th>\n",
              "      <td>45</td>\n",
              "      <td>120000</td>\n",
              "      <td>1</td>\n",
              "    </tr>\n",
              "    <tr>\n",
              "      <th>5</th>\n",
              "      <td>48</td>\n",
              "      <td>98000</td>\n",
              "      <td>1</td>\n",
              "    </tr>\n",
              "    <tr>\n",
              "      <th>6</th>\n",
              "      <td>53</td>\n",
              "      <td>95000</td>\n",
              "      <td>0</td>\n",
              "    </tr>\n",
              "    <tr>\n",
              "      <th>7</th>\n",
              "      <td>60</td>\n",
              "      <td>92000</td>\n",
              "      <td>0</td>\n",
              "    </tr>\n",
              "    <tr>\n",
              "      <th>8</th>\n",
              "      <td>50</td>\n",
              "      <td>100000</td>\n",
              "      <td>0</td>\n",
              "    </tr>\n",
              "    <tr>\n",
              "      <th>9</th>\n",
              "      <td>48</td>\n",
              "      <td>170000</td>\n",
              "      <td>0</td>\n",
              "    </tr>\n",
              "    <tr>\n",
              "      <th>10</th>\n",
              "      <td>53</td>\n",
              "      <td>150000</td>\n",
              "      <td>0</td>\n",
              "    </tr>\n",
              "  </tbody>\n",
              "</table>\n",
              "</div>"
            ],
            "text/plain": [
              "    Age    Loan  Type_loan\n",
              "0    40  100000          1\n",
              "1    35   60000          1\n",
              "2    45   80000          1\n",
              "3    34   40000          1\n",
              "4    45  120000          1\n",
              "5    48   98000          1\n",
              "6    53   95000          0\n",
              "7    60   92000          0\n",
              "8    50  100000          0\n",
              "9    48  170000          0\n",
              "10   53  150000          0"
            ]
          },
          "execution_count": 2,
          "metadata": {},
          "output_type": "execute_result"
        }
      ],
      "source": [
        "Loans = pd.DataFrame({'Age':[40,35,45,34,45,48,53,60,50,48,53],\n",
        "                      'Loan':[100000,60000,80000,40000,120000,98000,95000,92000,100000,170000,150000],\n",
        "                      'Type_loan':[1,1,1,1,1,1,0,0,0,0,0] }) # 1=normal 0=especial\n",
        "\n",
        "Loans"
      ]
    },
    {
      "cell_type": "markdown",
      "metadata": {
        "id": "X9fafYYX7wrZ"
      },
      "source": [
        "Qual deve ser o Tipo de Taxa de Empréstimo: Padrão ou Não, para um cliente com 47 anos e um emprestimo de 142.000? Vamos visualizar os dados:"
      ]
    },
    {
      "cell_type": "code",
      "execution_count": 3,
      "metadata": {
        "colab": {
          "base_uri": "https://localhost:8080/",
          "height": 449
        },
        "id": "u7XG2JEKglBu",
        "outputId": "96e860c5-0749-4e12-9cbe-2cd0a92e6fd3"
      },
      "outputs": [
        {
          "data": {
            "image/png": "[encoded data removed]",
            "text/plain": [
              "<Figure size 640x480 with 1 Axes>"
            ]
          },
          "metadata": {},
          "output_type": "display_data"
        }
      ],
      "source": [
        "# Visualizando os dados!\n",
        "\n",
        "sns.scatterplot(data=Loans, x='Age', y='Loan', hue='Type_loan')\n",
        "plt.scatter(47, 142000, c='fuchsia',s=60) # Novo valor a ser classificado\n",
        "plt.show()"
      ]
    },
    {
      "cell_type": "code",
      "execution_count": 4,
      "metadata": {
        "colab": {
          "base_uri": "https://localhost:8080/",
          "height": 394
        },
        "id": "vMrylkymjGEE",
        "outputId": "dfa03fb9-9ea6-450b-f758-b83ae21c9e1c"
      },
      "outputs": [
        {
          "data": {
            "text/html": [
              "<div>\n",
              "<style scoped>\n",
              "    .dataframe tbody tr th:only-of-type {\n",
              "        vertical-align: middle;\n",
              "    }\n",
              "\n",
              "    .dataframe tbody tr th {\n",
              "        vertical-align: top;\n",
              "    }\n",
              "\n",
              "    .dataframe thead th {\n",
              "        text-align: right;\n",
              "    }\n",
              "</style>\n",
              "<table border=\"1\" class=\"dataframe\">\n",
              "  <thead>\n",
              "    <tr style=\"text-align: right;\">\n",
              "      <th></th>\n",
              "      <th>Age</th>\n",
              "      <th>Loan</th>\n",
              "      <th>Type_loan</th>\n",
              "      <th>dist</th>\n",
              "    </tr>\n",
              "  </thead>\n",
              "  <tbody>\n",
              "    <tr>\n",
              "      <th>10</th>\n",
              "      <td>53</td>\n",
              "      <td>150000</td>\n",
              "      <td>0</td>\n",
              "      <td>8000.002250</td>\n",
              "    </tr>\n",
              "    <tr>\n",
              "      <th>4</th>\n",
              "      <td>45</td>\n",
              "      <td>120000</td>\n",
              "      <td>1</td>\n",
              "      <td>22000.000091</td>\n",
              "    </tr>\n",
              "    <tr>\n",
              "      <th>9</th>\n",
              "      <td>48</td>\n",
              "      <td>170000</td>\n",
              "      <td>0</td>\n",
              "      <td>28000.000018</td>\n",
              "    </tr>\n",
              "    <tr>\n",
              "      <th>8</th>\n",
              "      <td>50</td>\n",
              "      <td>100000</td>\n",
              "      <td>0</td>\n",
              "      <td>42000.000107</td>\n",
              "    </tr>\n",
              "    <tr>\n",
              "      <th>0</th>\n",
              "      <td>40</td>\n",
              "      <td>100000</td>\n",
              "      <td>1</td>\n",
              "      <td>42000.000583</td>\n",
              "    </tr>\n",
              "    <tr>\n",
              "      <th>5</th>\n",
              "      <td>48</td>\n",
              "      <td>98000</td>\n",
              "      <td>1</td>\n",
              "      <td>44000.000011</td>\n",
              "    </tr>\n",
              "    <tr>\n",
              "      <th>6</th>\n",
              "      <td>53</td>\n",
              "      <td>95000</td>\n",
              "      <td>0</td>\n",
              "      <td>47000.000383</td>\n",
              "    </tr>\n",
              "    <tr>\n",
              "      <th>7</th>\n",
              "      <td>60</td>\n",
              "      <td>92000</td>\n",
              "      <td>0</td>\n",
              "      <td>50000.001690</td>\n",
              "    </tr>\n",
              "    <tr>\n",
              "      <th>2</th>\n",
              "      <td>45</td>\n",
              "      <td>80000</td>\n",
              "      <td>1</td>\n",
              "      <td>62000.000032</td>\n",
              "    </tr>\n",
              "    <tr>\n",
              "      <th>1</th>\n",
              "      <td>35</td>\n",
              "      <td>60000</td>\n",
              "      <td>1</td>\n",
              "      <td>82000.000878</td>\n",
              "    </tr>\n",
              "    <tr>\n",
              "      <th>3</th>\n",
              "      <td>34</td>\n",
              "      <td>40000</td>\n",
              "      <td>1</td>\n",
              "      <td>102000.000828</td>\n",
              "    </tr>\n",
              "  </tbody>\n",
              "</table>\n",
              "</div>"
            ],
            "text/plain": [
              "    Age    Loan  Type_loan           dist\n",
              "10   53  150000          0    8000.002250\n",
              "4    45  120000          1   22000.000091\n",
              "9    48  170000          0   28000.000018\n",
              "8    50  100000          0   42000.000107\n",
              "0    40  100000          1   42000.000583\n",
              "5    48   98000          1   44000.000011\n",
              "6    53   95000          0   47000.000383\n",
              "7    60   92000          0   50000.001690\n",
              "2    45   80000          1   62000.000032\n",
              "1    35   60000          1   82000.000878\n",
              "3    34   40000          1  102000.000828"
            ]
          },
          "execution_count": 4,
          "metadata": {},
          "output_type": "execute_result"
        }
      ],
      "source": [
        "# Calculando as distâncias\n",
        "\n",
        "dist = []\n",
        "for i in range(11):\n",
        "    d = float( np.sqrt( (Loans.iloc[i].Age - 47)**2 + (Loans.iloc[i].Loan - 142000)**2 ) )\n",
        "    dist.append(d)\n",
        "\n",
        "Loans['dist'] = dist\n",
        "\n",
        "Loans.sort_values('dist')"
      ]
    },
    {
      "cell_type": "markdown",
      "metadata": {
        "id": "PDPeWwAjjxMZ"
      },
      "source": [
        "Considerando k=3 (os três vizinhos mais próximos) a Tipo de Taxa de Empréstimo para esse novo cliente seria: especial ( type_loan =0).\n"
      ]
    },
    {
      "cell_type": "markdown",
      "metadata": {
        "id": "viNpVrtV8sG4"
      },
      "source": [
        "<font size =5> **Cuidado!** Normalizar os dados </font>\n",
        "\n",
        "A distância euclidiana é sensível à escala dos dados, o que significa que variáveis com escalas diferentes podem afetar o resultado. Para evitar esse problema, é comum normalizar ou padronizar os dados antes de calcular a distância euclidiana. Isso garante que todas as variáveis tenham a mesma influência na medida de distância.\n",
        "\n",
        "Portanto, antes de calcular distâncias euclidianas em conjuntos de dados com variáveis de escalas diferentes, é recomendável normalizar ou padronizar os dados para obter resultados mais robustos e significativos."
      ]
    },
    {
      "cell_type": "code",
      "execution_count": 5,
      "metadata": {
        "colab": {
          "base_uri": "https://localhost:8080/"
        },
        "id": "RA2bpKJS90Ne",
        "outputId": "366b1297-65dd-4cae-eafd-62c5cb78cd00"
      },
      "outputs": [
        {
          "name": "stdout",
          "output_type": "stream",
          "text": [
            "idade: 0.7833333333333333\n",
            "Loan: 0.8352941176470589\n"
          ]
        }
      ],
      "source": [
        "# Normalizando o novo dado\n",
        "\n",
        "print(\"idade:\", 47/Loans.Age.max())\n",
        "print(\"Loan:\", 142000/Loans.Loan.max())"
      ]
    },
    {
      "cell_type": "code",
      "execution_count": 6,
      "metadata": {
        "id": "Grxx4iza9iZs"
      },
      "outputs": [],
      "source": [
        "# Normalizando os dados\n",
        "\n",
        "Loans[\"Age\"] = Loans.Age / Loans.Age.max()\n",
        "Loans[\"Loan\"] = Loans.Loan / Loans.Loan.max()"
      ]
    },
    {
      "cell_type": "code",
      "execution_count": 7,
      "metadata": {
        "colab": {
          "base_uri": "https://localhost:8080/",
          "height": 394
        },
        "id": "CmG4SEtO9xh_",
        "outputId": "a336f5c0-8a0c-406b-a5f8-1a945355a83f"
      },
      "outputs": [
        {
          "data": {
            "text/html": [
              "<div>\n",
              "<style scoped>\n",
              "    .dataframe tbody tr th:only-of-type {\n",
              "        vertical-align: middle;\n",
              "    }\n",
              "\n",
              "    .dataframe tbody tr th {\n",
              "        vertical-align: top;\n",
              "    }\n",
              "\n",
              "    .dataframe thead th {\n",
              "        text-align: right;\n",
              "    }\n",
              "</style>\n",
              "<table border=\"1\" class=\"dataframe\">\n",
              "  <thead>\n",
              "    <tr style=\"text-align: right;\">\n",
              "      <th></th>\n",
              "      <th>Age</th>\n",
              "      <th>Loan</th>\n",
              "      <th>Type_loan</th>\n",
              "      <th>dist</th>\n",
              "    </tr>\n",
              "  </thead>\n",
              "  <tbody>\n",
              "    <tr>\n",
              "      <th>10</th>\n",
              "      <td>0.883333</td>\n",
              "      <td>0.882353</td>\n",
              "      <td>0</td>\n",
              "      <td>0.110551</td>\n",
              "    </tr>\n",
              "    <tr>\n",
              "      <th>4</th>\n",
              "      <td>0.750000</td>\n",
              "      <td>0.705882</td>\n",
              "      <td>1</td>\n",
              "      <td>0.133623</td>\n",
              "    </tr>\n",
              "    <tr>\n",
              "      <th>9</th>\n",
              "      <td>0.800000</td>\n",
              "      <td>1.000000</td>\n",
              "      <td>0</td>\n",
              "      <td>0.165554</td>\n",
              "    </tr>\n",
              "    <tr>\n",
              "      <th>8</th>\n",
              "      <td>0.833333</td>\n",
              "      <td>0.588235</td>\n",
              "      <td>0</td>\n",
              "      <td>0.252070</td>\n",
              "    </tr>\n",
              "    <tr>\n",
              "      <th>5</th>\n",
              "      <td>0.800000</td>\n",
              "      <td>0.576471</td>\n",
              "      <td>1</td>\n",
              "      <td>0.259358</td>\n",
              "    </tr>\n",
              "    <tr>\n",
              "      <th>0</th>\n",
              "      <td>0.666667</td>\n",
              "      <td>0.588235</td>\n",
              "      <td>1</td>\n",
              "      <td>0.273202</td>\n",
              "    </tr>\n",
              "    <tr>\n",
              "      <th>6</th>\n",
              "      <td>0.883333</td>\n",
              "      <td>0.558824</td>\n",
              "      <td>0</td>\n",
              "      <td>0.294007</td>\n",
              "    </tr>\n",
              "    <tr>\n",
              "      <th>7</th>\n",
              "      <td>1.000000</td>\n",
              "      <td>0.541176</td>\n",
              "      <td>0</td>\n",
              "      <td>0.365324</td>\n",
              "    </tr>\n",
              "    <tr>\n",
              "      <th>2</th>\n",
              "      <td>0.750000</td>\n",
              "      <td>0.470588</td>\n",
              "      <td>1</td>\n",
              "      <td>0.366219</td>\n",
              "    </tr>\n",
              "    <tr>\n",
              "      <th>1</th>\n",
              "      <td>0.583333</td>\n",
              "      <td>0.352941</td>\n",
              "      <td>1</td>\n",
              "      <td>0.522156</td>\n",
              "    </tr>\n",
              "    <tr>\n",
              "      <th>3</th>\n",
              "      <td>0.566667</td>\n",
              "      <td>0.235294</td>\n",
              "      <td>1</td>\n",
              "      <td>0.637907</td>\n",
              "    </tr>\n",
              "  </tbody>\n",
              "</table>\n",
              "</div>"
            ],
            "text/plain": [
              "         Age      Loan  Type_loan      dist\n",
              "10  0.883333  0.882353          0  0.110551\n",
              "4   0.750000  0.705882          1  0.133623\n",
              "9   0.800000  1.000000          0  0.165554\n",
              "8   0.833333  0.588235          0  0.252070\n",
              "5   0.800000  0.576471          1  0.259358\n",
              "0   0.666667  0.588235          1  0.273202\n",
              "6   0.883333  0.558824          0  0.294007\n",
              "7   1.000000  0.541176          0  0.365324\n",
              "2   0.750000  0.470588          1  0.366219\n",
              "1   0.583333  0.352941          1  0.522156\n",
              "3   0.566667  0.235294          1  0.637907"
            ]
          },
          "execution_count": 7,
          "metadata": {},
          "output_type": "execute_result"
        }
      ],
      "source": [
        "# Calculando as distâncias\n",
        "\n",
        "dist = []\n",
        "for i in range(11):\n",
        "    d = float( np.sqrt( (Loans.iloc[i].Age - 0.7833)**2 + (Loans.iloc[i].Loan - 0.83529)**2 ) )\n",
        "    dist.append(d)\n",
        "\n",
        "Loans['dist'] = dist\n",
        "\n",
        "Loans.sort_values('dist')"
      ]
    },
    {
      "cell_type": "markdown",
      "metadata": {
        "id": "qhvWjErk_FIX"
      },
      "source": [
        "Considerando k=3 (os três vizinhos mais próximos) a Tipo de Taxa de Empréstimo para esse novo cliente seria: especial ( type_loan =0). Cuidado! **o resultado de classificação poderia ser diferente.**\n"
      ]
    },
    {
      "cell_type": "markdown",
      "metadata": {
        "id": "yB65A4g2APNA"
      },
      "source": [
        "## Usando o módulo `neighbors` da biblioteca `sklearn`"
      ]
    },
    {
      "cell_type": "code",
      "execution_count": 8,
      "metadata": {
        "id": "2rhJj4eFBNgY"
      },
      "outputs": [],
      "source": [
        "from sklearn import neighbors"
      ]
    },
    {
      "cell_type": "code",
      "execution_count": 9,
      "metadata": {
        "colab": {
          "base_uri": "https://localhost:8080/",
          "height": 143
        },
        "id": "IzJ7fWzeSW5D",
        "outputId": "6143c530-6da5-4a87-bf02-196bb7e58ab5"
      },
      "outputs": [
        {
          "data": {
            "text/html": [
              "<div>\n",
              "<style scoped>\n",
              "    .dataframe tbody tr th:only-of-type {\n",
              "        vertical-align: middle;\n",
              "    }\n",
              "\n",
              "    .dataframe tbody tr th {\n",
              "        vertical-align: top;\n",
              "    }\n",
              "\n",
              "    .dataframe thead th {\n",
              "        text-align: right;\n",
              "    }\n",
              "</style>\n",
              "<table border=\"1\" class=\"dataframe\">\n",
              "  <thead>\n",
              "    <tr style=\"text-align: right;\">\n",
              "      <th></th>\n",
              "      <th>Age</th>\n",
              "      <th>Loan</th>\n",
              "      <th>Type_loan</th>\n",
              "    </tr>\n",
              "  </thead>\n",
              "  <tbody>\n",
              "    <tr>\n",
              "      <th>0</th>\n",
              "      <td>40</td>\n",
              "      <td>100000</td>\n",
              "      <td>1</td>\n",
              "    </tr>\n",
              "    <tr>\n",
              "      <th>1</th>\n",
              "      <td>35</td>\n",
              "      <td>60000</td>\n",
              "      <td>1</td>\n",
              "    </tr>\n",
              "    <tr>\n",
              "      <th>2</th>\n",
              "      <td>45</td>\n",
              "      <td>80000</td>\n",
              "      <td>1</td>\n",
              "    </tr>\n",
              "  </tbody>\n",
              "</table>\n",
              "</div>"
            ],
            "text/plain": [
              "   Age    Loan  Type_loan\n",
              "0   40  100000          1\n",
              "1   35   60000          1\n",
              "2   45   80000          1"
            ]
          },
          "execution_count": 9,
          "metadata": {},
          "output_type": "execute_result"
        }
      ],
      "source": [
        "Loans = pd.DataFrame({'Age':[40,35,45,34,45,48,53,60,50,48,53],\n",
        "                      'Loan':[100000,60000,80000,40000,120000,98000,95000,92000,100000,170000,150000],\n",
        "                      'Type_loan':[1,1,1,1,1,1,0,0,0,0,0] }) # 1=normal 0=especial\n",
        "Loans.head(3)"
      ]
    },
    {
      "cell_type": "code",
      "execution_count": 10,
      "metadata": {
        "colab": {
          "base_uri": "https://localhost:8080/",
          "height": 81
        },
        "id": "zAQO6EXTSd56",
        "outputId": "1abe5b06-a863-4aa8-8050-55a9723cd84b"
      },
      "outputs": [
        {
          "data": {
            "text/html": [
              "<div>\n",
              "<style scoped>\n",
              "    .dataframe tbody tr th:only-of-type {\n",
              "        vertical-align: middle;\n",
              "    }\n",
              "\n",
              "    .dataframe tbody tr th {\n",
              "        vertical-align: top;\n",
              "    }\n",
              "\n",
              "    .dataframe thead th {\n",
              "        text-align: right;\n",
              "    }\n",
              "</style>\n",
              "<table border=\"1\" class=\"dataframe\">\n",
              "  <thead>\n",
              "    <tr style=\"text-align: right;\">\n",
              "      <th></th>\n",
              "      <th>Age</th>\n",
              "      <th>Loan</th>\n",
              "    </tr>\n",
              "  </thead>\n",
              "  <tbody>\n",
              "    <tr>\n",
              "      <th>0</th>\n",
              "      <td>47</td>\n",
              "      <td>142000</td>\n",
              "    </tr>\n",
              "  </tbody>\n",
              "</table>\n",
              "</div>"
            ],
            "text/plain": [
              "   Age    Loan\n",
              "0   47  142000"
            ]
          },
          "execution_count": 10,
          "metadata": {},
          "output_type": "execute_result"
        }
      ],
      "source": [
        "new_case=pd.DataFrame({'Age':[47],\n",
        "                      'Loan':[142000]}) # 1=normal 0=especial\n",
        "new_case"
      ]
    },
    {
      "cell_type": "code",
      "execution_count": 11,
      "metadata": {
        "colab": {
          "base_uri": "https://localhost:8080/"
        },
        "id": "TBHfAd19ApHJ",
        "outputId": "a29d2dc0-3e3b-4e03-b87b-8fd44dadacca"
      },
      "outputs": [
        {
          "name": "stdout",
          "output_type": "stream",
          "text": [
            "Classificação Knn, k= 3  para o novo empréstimo  é \n",
            "[0]\n"
          ]
        }
      ],
      "source": [
        "# Dados de entrada/saída\n",
        "X = Loans[['Age','Loan']]\n",
        "y = Loans[[\"Type_loan\"]]\n",
        "\n",
        "# padroniza os dados para que a média seja 0 e o desvio padrão seja 1.\n",
        "X_padronizados = (X-X.mean())/X.std()\n",
        "\n",
        "# Definindo ou declarando o modelo\n",
        "k=3\n",
        "clf = neighbors.KNeighborsClassifier(k)\n",
        "\n",
        "# Aprendizado (Emprega o conjunto de treinamento)\n",
        "clf.fit(X_padronizados, y)\n",
        "\n",
        "# Fazendo a predição\n",
        "new_case_padronizado=(new_case-X.mean())/X.std()\n",
        "Loan_type_pred = clf.predict(new_case_padronizado)\n",
        "\n",
        "print('Classificação Knn, k=', k ,' para o novo empréstimo ', 'é ')\n",
        "print(Loan_type_pred)"
      ]
    },
    {
      "cell_type": "markdown",
      "metadata": {
        "id": "9d59LoErVMd0"
      },
      "source": [
        "<font size= 5> Adicionando variáveis categóricas </font>"
      ]
    },
    {
      "cell_type": "code",
      "execution_count": 12,
      "metadata": {
        "colab": {
          "base_uri": "https://localhost:8080/",
          "height": 206
        },
        "id": "jaxAwsgLVUrK",
        "outputId": "dd3ba4a1-3e77-4e6a-829c-b14da7c1871d"
      },
      "outputs": [
        {
          "data": {
            "text/html": [
              "<div>\n",
              "<style scoped>\n",
              "    .dataframe tbody tr th:only-of-type {\n",
              "        vertical-align: middle;\n",
              "    }\n",
              "\n",
              "    .dataframe tbody tr th {\n",
              "        vertical-align: top;\n",
              "    }\n",
              "\n",
              "    .dataframe thead th {\n",
              "        text-align: right;\n",
              "    }\n",
              "</style>\n",
              "<table border=\"1\" class=\"dataframe\">\n",
              "  <thead>\n",
              "    <tr style=\"text-align: right;\">\n",
              "      <th></th>\n",
              "      <th>Age</th>\n",
              "      <th>Loan</th>\n",
              "      <th>Duration</th>\n",
              "      <th>Type_loan</th>\n",
              "    </tr>\n",
              "  </thead>\n",
              "  <tbody>\n",
              "    <tr>\n",
              "      <th>0</th>\n",
              "      <td>40</td>\n",
              "      <td>100000</td>\n",
              "      <td>Short</td>\n",
              "      <td>1</td>\n",
              "    </tr>\n",
              "    <tr>\n",
              "      <th>1</th>\n",
              "      <td>35</td>\n",
              "      <td>60000</td>\n",
              "      <td>Long</td>\n",
              "      <td>1</td>\n",
              "    </tr>\n",
              "    <tr>\n",
              "      <th>2</th>\n",
              "      <td>45</td>\n",
              "      <td>80000</td>\n",
              "      <td>Short</td>\n",
              "      <td>1</td>\n",
              "    </tr>\n",
              "    <tr>\n",
              "      <th>3</th>\n",
              "      <td>34</td>\n",
              "      <td>40000</td>\n",
              "      <td>Undefined</td>\n",
              "      <td>1</td>\n",
              "    </tr>\n",
              "    <tr>\n",
              "      <th>4</th>\n",
              "      <td>45</td>\n",
              "      <td>120000</td>\n",
              "      <td>Long</td>\n",
              "      <td>1</td>\n",
              "    </tr>\n",
              "  </tbody>\n",
              "</table>\n",
              "</div>"
            ],
            "text/plain": [
              "   Age    Loan   Duration  Type_loan\n",
              "0   40  100000      Short          1\n",
              "1   35   60000       Long          1\n",
              "2   45   80000      Short          1\n",
              "3   34   40000  Undefined          1\n",
              "4   45  120000       Long          1"
            ]
          },
          "execution_count": 12,
          "metadata": {},
          "output_type": "execute_result"
        }
      ],
      "source": [
        "Loans = pd.DataFrame({'Age':[40,35,45,34,45,48,53,60,50,48,53],\n",
        "                      'Loan':[100000,60000,80000,40000,120000,98000,95000,92000,100000,170000,150000],\n",
        "                      'Duration':['Short','Long','Short','Undefined','Long','Short','Long','Short','Undefined','Long', 'Short'],\n",
        "                      'Type_loan':[1,1,1,1,1,1,0,0,0,0,0] }) # 1=normal 0=especial\n",
        "Loans.head()"
      ]
    },
    {
      "cell_type": "code",
      "execution_count": 13,
      "metadata": {
        "colab": {
          "base_uri": "https://localhost:8080/",
          "height": 81
        },
        "id": "yTF62FGEVnYO",
        "outputId": "7bd0f00f-e0e4-4af9-ca9a-becee7409417"
      },
      "outputs": [
        {
          "data": {
            "text/html": [
              "<div>\n",
              "<style scoped>\n",
              "    .dataframe tbody tr th:only-of-type {\n",
              "        vertical-align: middle;\n",
              "    }\n",
              "\n",
              "    .dataframe tbody tr th {\n",
              "        vertical-align: top;\n",
              "    }\n",
              "\n",
              "    .dataframe thead th {\n",
              "        text-align: right;\n",
              "    }\n",
              "</style>\n",
              "<table border=\"1\" class=\"dataframe\">\n",
              "  <thead>\n",
              "    <tr style=\"text-align: right;\">\n",
              "      <th></th>\n",
              "      <th>Age</th>\n",
              "      <th>Duration</th>\n",
              "      <th>Loan</th>\n",
              "    </tr>\n",
              "  </thead>\n",
              "  <tbody>\n",
              "    <tr>\n",
              "      <th>0</th>\n",
              "      <td>47</td>\n",
              "      <td>Short</td>\n",
              "      <td>142000</td>\n",
              "    </tr>\n",
              "  </tbody>\n",
              "</table>\n",
              "</div>"
            ],
            "text/plain": [
              "   Age Duration    Loan\n",
              "0   47    Short  142000"
            ]
          },
          "execution_count": 13,
          "metadata": {},
          "output_type": "execute_result"
        }
      ],
      "source": [
        "new_case  = pd.DataFrame({'Age':[47],\n",
        "                      'Duration':['Short'],\n",
        "                      'Loan':[142000]})\n",
        "new_case"
      ]
    },
    {
      "cell_type": "code",
      "execution_count": 14,
      "metadata": {
        "colab": {
          "base_uri": "https://localhost:8080/",
          "height": 206
        },
        "id": "a1HTIgucVqkv",
        "outputId": "361d0c7c-37d5-49bd-f8c6-93bb06ec6932"
      },
      "outputs": [
        {
          "data": {
            "text/html": [
              "<div>\n",
              "<style scoped>\n",
              "    .dataframe tbody tr th:only-of-type {\n",
              "        vertical-align: middle;\n",
              "    }\n",
              "\n",
              "    .dataframe tbody tr th {\n",
              "        vertical-align: top;\n",
              "    }\n",
              "\n",
              "    .dataframe thead th {\n",
              "        text-align: right;\n",
              "    }\n",
              "</style>\n",
              "<table border=\"1\" class=\"dataframe\">\n",
              "  <thead>\n",
              "    <tr style=\"text-align: right;\">\n",
              "      <th></th>\n",
              "      <th>Age</th>\n",
              "      <th>Loan</th>\n",
              "      <th>Duration</th>\n",
              "      <th>Type_loan</th>\n",
              "      <th>Long</th>\n",
              "      <th>Short</th>\n",
              "      <th>Undefined</th>\n",
              "    </tr>\n",
              "  </thead>\n",
              "  <tbody>\n",
              "    <tr>\n",
              "      <th>0</th>\n",
              "      <td>40</td>\n",
              "      <td>100000</td>\n",
              "      <td>Short</td>\n",
              "      <td>1</td>\n",
              "      <td>0</td>\n",
              "      <td>1</td>\n",
              "      <td>0</td>\n",
              "    </tr>\n",
              "    <tr>\n",
              "      <th>1</th>\n",
              "      <td>35</td>\n",
              "      <td>60000</td>\n",
              "      <td>Long</td>\n",
              "      <td>1</td>\n",
              "      <td>1</td>\n",
              "      <td>0</td>\n",
              "      <td>0</td>\n",
              "    </tr>\n",
              "    <tr>\n",
              "      <th>2</th>\n",
              "      <td>45</td>\n",
              "      <td>80000</td>\n",
              "      <td>Short</td>\n",
              "      <td>1</td>\n",
              "      <td>0</td>\n",
              "      <td>1</td>\n",
              "      <td>0</td>\n",
              "    </tr>\n",
              "    <tr>\n",
              "      <th>3</th>\n",
              "      <td>34</td>\n",
              "      <td>40000</td>\n",
              "      <td>Undefined</td>\n",
              "      <td>1</td>\n",
              "      <td>0</td>\n",
              "      <td>0</td>\n",
              "      <td>1</td>\n",
              "    </tr>\n",
              "    <tr>\n",
              "      <th>4</th>\n",
              "      <td>45</td>\n",
              "      <td>120000</td>\n",
              "      <td>Long</td>\n",
              "      <td>1</td>\n",
              "      <td>1</td>\n",
              "      <td>0</td>\n",
              "      <td>0</td>\n",
              "    </tr>\n",
              "  </tbody>\n",
              "</table>\n",
              "</div>"
            ],
            "text/plain": [
              "   Age    Loan   Duration  Type_loan  Long  Short  Undefined\n",
              "0   40  100000      Short          1     0      1          0\n",
              "1   35   60000       Long          1     1      0          0\n",
              "2   45   80000      Short          1     0      1          0\n",
              "3   34   40000  Undefined          1     0      0          1\n",
              "4   45  120000       Long          1     1      0          0"
            ]
          },
          "execution_count": 14,
          "metadata": {},
          "output_type": "execute_result"
        }
      ],
      "source": [
        "# Variáveis dummy (Hot encode)\n",
        "\n",
        "dummies = pd.get_dummies(Loans[\"Duration\"])\n",
        "Loans = pd.concat([Loans, dummies],axis=1)\n",
        "Loans.head()"
      ]
    },
    {
      "cell_type": "code",
      "execution_count": 15,
      "metadata": {
        "colab": {
          "base_uri": "https://localhost:8080/",
          "height": 394
        },
        "id": "Qf2aHzxIWWGg",
        "outputId": "fa30c5a8-a670-487f-9c57-eef097534e93"
      },
      "outputs": [
        {
          "data": {
            "text/html": [
              "<div>\n",
              "<style scoped>\n",
              "    .dataframe tbody tr th:only-of-type {\n",
              "        vertical-align: middle;\n",
              "    }\n",
              "\n",
              "    .dataframe tbody tr th {\n",
              "        vertical-align: top;\n",
              "    }\n",
              "\n",
              "    .dataframe thead th {\n",
              "        text-align: right;\n",
              "    }\n",
              "</style>\n",
              "<table border=\"1\" class=\"dataframe\">\n",
              "  <thead>\n",
              "    <tr style=\"text-align: right;\">\n",
              "      <th></th>\n",
              "      <th>Age</th>\n",
              "      <th>Loan</th>\n",
              "      <th>Type_loan</th>\n",
              "      <th>Long</th>\n",
              "      <th>Short</th>\n",
              "      <th>Undefined</th>\n",
              "    </tr>\n",
              "  </thead>\n",
              "  <tbody>\n",
              "    <tr>\n",
              "      <th>0</th>\n",
              "      <td>40</td>\n",
              "      <td>100000</td>\n",
              "      <td>1</td>\n",
              "      <td>0</td>\n",
              "      <td>1</td>\n",
              "      <td>0</td>\n",
              "    </tr>\n",
              "    <tr>\n",
              "      <th>1</th>\n",
              "      <td>35</td>\n",
              "      <td>60000</td>\n",
              "      <td>1</td>\n",
              "      <td>1</td>\n",
              "      <td>0</td>\n",
              "      <td>0</td>\n",
              "    </tr>\n",
              "    <tr>\n",
              "      <th>2</th>\n",
              "      <td>45</td>\n",
              "      <td>80000</td>\n",
              "      <td>1</td>\n",
              "      <td>0</td>\n",
              "      <td>1</td>\n",
              "      <td>0</td>\n",
              "    </tr>\n",
              "    <tr>\n",
              "      <th>3</th>\n",
              "      <td>34</td>\n",
              "      <td>40000</td>\n",
              "      <td>1</td>\n",
              "      <td>0</td>\n",
              "      <td>0</td>\n",
              "      <td>1</td>\n",
              "    </tr>\n",
              "    <tr>\n",
              "      <th>4</th>\n",
              "      <td>45</td>\n",
              "      <td>120000</td>\n",
              "      <td>1</td>\n",
              "      <td>1</td>\n",
              "      <td>0</td>\n",
              "      <td>0</td>\n",
              "    </tr>\n",
              "    <tr>\n",
              "      <th>5</th>\n",
              "      <td>48</td>\n",
              "      <td>98000</td>\n",
              "      <td>1</td>\n",
              "      <td>0</td>\n",
              "      <td>1</td>\n",
              "      <td>0</td>\n",
              "    </tr>\n",
              "    <tr>\n",
              "      <th>6</th>\n",
              "      <td>53</td>\n",
              "      <td>95000</td>\n",
              "      <td>0</td>\n",
              "      <td>1</td>\n",
              "      <td>0</td>\n",
              "      <td>0</td>\n",
              "    </tr>\n",
              "    <tr>\n",
              "      <th>7</th>\n",
              "      <td>60</td>\n",
              "      <td>92000</td>\n",
              "      <td>0</td>\n",
              "      <td>0</td>\n",
              "      <td>1</td>\n",
              "      <td>0</td>\n",
              "    </tr>\n",
              "    <tr>\n",
              "      <th>8</th>\n",
              "      <td>50</td>\n",
              "      <td>100000</td>\n",
              "      <td>0</td>\n",
              "      <td>0</td>\n",
              "      <td>0</td>\n",
              "      <td>1</td>\n",
              "    </tr>\n",
              "    <tr>\n",
              "      <th>9</th>\n",
              "      <td>48</td>\n",
              "      <td>170000</td>\n",
              "      <td>0</td>\n",
              "      <td>1</td>\n",
              "      <td>0</td>\n",
              "      <td>0</td>\n",
              "    </tr>\n",
              "    <tr>\n",
              "      <th>10</th>\n",
              "      <td>53</td>\n",
              "      <td>150000</td>\n",
              "      <td>0</td>\n",
              "      <td>0</td>\n",
              "      <td>1</td>\n",
              "      <td>0</td>\n",
              "    </tr>\n",
              "  </tbody>\n",
              "</table>\n",
              "</div>"
            ],
            "text/plain": [
              "    Age    Loan  Type_loan  Long  Short  Undefined\n",
              "0    40  100000          1     0      1          0\n",
              "1    35   60000          1     1      0          0\n",
              "2    45   80000          1     0      1          0\n",
              "3    34   40000          1     0      0          1\n",
              "4    45  120000          1     1      0          0\n",
              "5    48   98000          1     0      1          0\n",
              "6    53   95000          0     1      0          0\n",
              "7    60   92000          0     0      1          0\n",
              "8    50  100000          0     0      0          1\n",
              "9    48  170000          0     1      0          0\n",
              "10   53  150000          0     0      1          0"
            ]
          },
          "execution_count": 15,
          "metadata": {},
          "output_type": "execute_result"
        }
      ],
      "source": [
        "# Eliminando a coluna original\n",
        "Loans.drop(columns=['Duration'], inplace=True)\n",
        "Loans"
      ]
    },
    {
      "cell_type": "code",
      "execution_count": 16,
      "metadata": {
        "colab": {
          "base_uri": "https://localhost:8080/",
          "height": 81
        },
        "id": "zmnnzH40ZDux",
        "outputId": "29c826f6-97f2-4c3e-8b9d-210590cadbd4"
      },
      "outputs": [
        {
          "data": {
            "text/html": [
              "<div>\n",
              "<style scoped>\n",
              "    .dataframe tbody tr th:only-of-type {\n",
              "        vertical-align: middle;\n",
              "    }\n",
              "\n",
              "    .dataframe tbody tr th {\n",
              "        vertical-align: top;\n",
              "    }\n",
              "\n",
              "    .dataframe thead th {\n",
              "        text-align: right;\n",
              "    }\n",
              "</style>\n",
              "<table border=\"1\" class=\"dataframe\">\n",
              "  <thead>\n",
              "    <tr style=\"text-align: right;\">\n",
              "      <th></th>\n",
              "      <th>Age</th>\n",
              "      <th>Loan</th>\n",
              "      <th>Short</th>\n",
              "    </tr>\n",
              "  </thead>\n",
              "  <tbody>\n",
              "    <tr>\n",
              "      <th>0</th>\n",
              "      <td>47</td>\n",
              "      <td>142000</td>\n",
              "      <td>1</td>\n",
              "    </tr>\n",
              "  </tbody>\n",
              "</table>\n",
              "</div>"
            ],
            "text/plain": [
              "   Age    Loan  Short\n",
              "0   47  142000      1"
            ]
          },
          "execution_count": 16,
          "metadata": {},
          "output_type": "execute_result"
        }
      ],
      "source": [
        "# New case\n",
        "\n",
        "dummies_new_case = pd.get_dummies(new_case[\"Duration\"])\n",
        "new_case = pd.concat([new_case, dummies_new_case],axis=1)\n",
        "new_case.drop(columns=['Duration'], inplace=True)\n",
        "new_case.head()"
      ]
    },
    {
      "cell_type": "code",
      "execution_count": 17,
      "metadata": {
        "colab": {
          "base_uri": "https://localhost:8080/",
          "height": 81
        },
        "id": "gOEryWFUZcvX",
        "outputId": "796cfad9-abbe-4d72-b8cd-2144dc715951"
      },
      "outputs": [
        {
          "data": {
            "text/html": [
              "<div>\n",
              "<style scoped>\n",
              "    .dataframe tbody tr th:only-of-type {\n",
              "        vertical-align: middle;\n",
              "    }\n",
              "\n",
              "    .dataframe tbody tr th {\n",
              "        vertical-align: top;\n",
              "    }\n",
              "\n",
              "    .dataframe thead th {\n",
              "        text-align: right;\n",
              "    }\n",
              "</style>\n",
              "<table border=\"1\" class=\"dataframe\">\n",
              "  <thead>\n",
              "    <tr style=\"text-align: right;\">\n",
              "      <th></th>\n",
              "      <th>Age</th>\n",
              "      <th>Loan</th>\n",
              "      <th>Short</th>\n",
              "      <th>Long</th>\n",
              "      <th>Undefined</th>\n",
              "    </tr>\n",
              "  </thead>\n",
              "  <tbody>\n",
              "    <tr>\n",
              "      <th>0</th>\n",
              "      <td>47</td>\n",
              "      <td>142000</td>\n",
              "      <td>1</td>\n",
              "      <td>0</td>\n",
              "      <td>0</td>\n",
              "    </tr>\n",
              "  </tbody>\n",
              "</table>\n",
              "</div>"
            ],
            "text/plain": [
              "   Age    Loan  Short  Long  Undefined\n",
              "0   47  142000      1     0          0"
            ]
          },
          "execution_count": 17,
          "metadata": {},
          "output_type": "execute_result"
        }
      ],
      "source": [
        "# Adicionando as colunas que faltam\n",
        "new_case['Long'] = 0\n",
        "new_case['Undefined'] = 0\n",
        "new_case"
      ]
    },
    {
      "cell_type": "code",
      "execution_count": 18,
      "metadata": {
        "colab": {
          "base_uri": "https://localhost:8080/"
        },
        "id": "_FcvqCJtWc99",
        "outputId": "a19ded20-fabe-4b00-9dbe-e04a8bb39ba0"
      },
      "outputs": [
        {
          "name": "stdout",
          "output_type": "stream",
          "text": [
            "Classificação Knn, k= 3  para o novo empréstimo  é \n",
            "[1]\n"
          ]
        }
      ],
      "source": [
        "# Dados de entrada/saída\n",
        "X = Loans[['Age','Loan']]\n",
        "y = Loans[[\"Type_loan\"]]\n",
        "\n",
        "# Normalizando os dados\n",
        "X_padronizados = (X-X.mean())/X.std()\n",
        "X_padronizados = pd.concat([X_padronizados, dummies],axis=1) #adicionando dummies\n",
        "\n",
        "# Definindo ou declarando o modelo\n",
        "k=3\n",
        "clf = neighbors.KNeighborsClassifier(k)\n",
        "\n",
        "# Aprendizado (Emprega o conjunto de treinamento)\n",
        "clf.fit(X_padronizados, y)\n",
        "\n",
        "# Fazendo a predição\n",
        "X_new_case=new_case[['Age','Loan']]\n",
        "X_new_case_padr=(X_new_case-X.mean())/X.std()\n",
        "\n",
        "X_new_case_padr=pd.concat([X_new_case_padr, new_case[[\"Long\",\"Short\",\"Undefined\"]]],axis=1)\n",
        "\n",
        "Loan_type_pred = clf.predict(X_new_case_padr)\n",
        "\n",
        "print('Classificação Knn, k=', k ,' para o novo empréstimo ', 'é ')\n",
        "print(Loan_type_pred)"
      ]
    }
  ],
  "metadata": {
    "anaconda-cloud": {},
    "colab": {
      "collapsed_sections": [
        "bdM7gmxEc6bS"
      ],
      "provenance": []
    },
    "kernelspec": {
      "display_name": "Python 3",
      "language": "python",
      "name": "python3"
    },
    "language_info": {
      "codemirror_mode": {
        "name": "ipython",
        "version": 3
      },
      "file_extension": ".py",
      "mimetype": "text/x-python",
      "name": "python",
      "nbconvert_exporter": "python",
      "pygments_lexer": "ipython3",
      "version": "3.11.4"
    }
  },
  "nbformat": 4,
  "nbformat_minor": 0
}

{
  "nbformat": 4,
  "nbformat_minor": 0,
  "metadata": {
    "colab": {
      "provenance": [],
      "collapsed_sections": [
        "ZGlRoFmy3A3O",
        "DAd4X4w93hEn",
        "UvTiKxgS4mc9",
        "QpInKfRi7TPI",
        "oY0FLeWR9P_i",
        "TYZD31oI5bE7",
        "kmwn1bbmA1di",
        "HyaOvIQtCkjQ",
        "s89C9UV37yeZ",
        "pI0bfIXyFEbM",
        "KWodUZA6Kx5a",
        "KImJzrq7MRg1"
      ]
    },
    "kernelspec": {
      "name": "python3",
      "display_name": "Python 3"
    },
    "language_info": {
      "name": "python"
    }
  },
  "cells": [
    {
      "cell_type": "markdown",
      "source": [
        "<head>\n",
        "  <meta name=\"author\" content=\"Rogério de Oliveira\">\n",
        "  <meta institution=\"author\" content=\"Universidade Presbiteriana Mackenzie\">\n",
        "</head>\n",
        "\n",
        "<img src=\"http://meusite.mackenzie.br/rogerio/mackenzie_logo/UPM.2_horizontal_vermelho.jpg\" width=300, align=\"left\"></a>\n",
        "<!-- <h1 align=left><font size = 6, style=\"color:rgb(200,0,0)\"> optional title </font></h1> -->"
      ],
      "metadata": {
        "id": "fLPhhe2P8XRy"
      }
    },
    {
      "cell_type": "markdown",
      "source": [
        "# **Regressão Linear**\n",
        "\n",
        "Exercícios usando a base de dados **CarPrice_Assignment**"
      ],
      "metadata": {
        "id": "XGdiNdrW8Y2J"
      }
    },
    {
      "cell_type": "markdown",
      "source": [
        "A base de dados \"CarPrice_Assignment\" é um conjunto de dados que contém informações sobre várias características de carros, como preço, tamanho do motor, consumo de combustível, potência, entre outros. Cada linha da base de dados corresponde a um carro, e as colunas representam diferentes atributos ou características desse carro. Isso permite a exploração de como diferentes características estão relacionadas ao preço do carro e como um modelo de regressão pode ser construído para prever o preço com base nessas características."
      ],
      "metadata": {
        "id": "zPxUMzC98lQZ"
      }
    },
    {
      "cell_type": "code",
      "source": [
        "import pandas as pd\n",
        "import seaborn as sns\n",
        "import matplotlib.pyplot as plt\n",
        "import statsmodels.formula.api as sm\n",
        "\n",
        "import warnings\n",
        "warnings.simplefilter('ignore')"
      ],
      "metadata": {
        "id": "Svml1RW4vNuy"
      },
      "execution_count": null,
      "outputs": []
    },
    {
      "cell_type": "code",
      "source": [
        "df=pd.read_csv(\"https://raw.githubusercontent.com/gustavogrds/TIC/master/data/CarPrice.csv\")\n",
        "df.head()"
      ],
      "metadata": {
        "colab": {
          "base_uri": "https://localhost:8080/",
          "height": 206
        },
        "id": "uDs-sG9vUPwx",
        "outputId": "667631ac-e567-44f2-ece6-1c0d2189bee9"
      },
      "execution_count": null,
      "outputs": [
        {
          "output_type": "execute_result",
          "data": {
            "text/plain": [
              "   car_ID                   CarName fueltype  horsepower  enginesize  \\\n",
              "0       1        alfa-romero giulia      gas         111         130   \n",
              "1       2       alfa-romero stelvio      gas         111         130   \n",
              "2       3  alfa-romero Quadrifoglio      gas         154         152   \n",
              "3       4               audi 100 ls      gas         102         109   \n",
              "4       5                audi 100ls      gas         115         136   \n",
              "\n",
              "  doornumber  citympg  highwaympg      carbody    price  \n",
              "0        two       21          27  convertible  13495.0  \n",
              "1        two       21          27  convertible  16500.0  \n",
              "2        two       19          26    hatchback  16500.0  \n",
              "3       four       24          30        sedan  13950.0  \n",
              "4       four       18          22        sedan  17450.0  "
            ],
            "text/html": [
              "\n",
              "  <div id=\"df-ed309f9f-e496-4551-9fd9-983c8b100ba3\" class=\"colab-df-container\">\n",
              "    <div>\n",
              "<style scoped>\n",
              "    .dataframe tbody tr th:only-of-type {\n",
              "        vertical-align: middle;\n",
              "    }\n",
              "\n",
              "    .dataframe tbody tr th {\n",
              "        vertical-align: top;\n",
              "    }\n",
              "\n",
              "    .dataframe thead th {\n",
              "        text-align: right;\n",
              "    }\n",
              "</style>\n",
              "<table border=\"1\" class=\"dataframe\">\n",
              "  <thead>\n",
              "    <tr style=\"text-align: right;\">\n",
              "      <th></th>\n",
              "      <th>car_ID</th>\n",
              "      <th>CarName</th>\n",
              "      <th>fueltype</th>\n",
              "      <th>horsepower</th>\n",
              "      <th>enginesize</th>\n",
              "      <th>doornumber</th>\n",
              "      <th>citympg</th>\n",
              "      <th>highwaympg</th>\n",
              "      <th>carbody</th>\n",
              "      <th>price</th>\n",
              "    </tr>\n",
              "  </thead>\n",
              "  <tbody>\n",
              "    <tr>\n",
              "      <th>0</th>\n",
              "      <td>1</td>\n",
              "      <td>alfa-romero giulia</td>\n",
              "      <td>gas</td>\n",
              "      <td>111</td>\n",
              "      <td>130</td>\n",
              "      <td>two</td>\n",
              "      <td>21</td>\n",
              "      <td>27</td>\n",
              "      <td>convertible</td>\n",
              "      <td>13495.0</td>\n",
              "    </tr>\n",
              "    <tr>\n",
              "      <th>1</th>\n",
              "      <td>2</td>\n",
              "      <td>alfa-romero stelvio</td>\n",
              "      <td>gas</td>\n",
              "      <td>111</td>\n",
              "      <td>130</td>\n",
              "      <td>two</td>\n",
              "      <td>21</td>\n",
              "      <td>27</td>\n",
              "      <td>convertible</td>\n",
              "      <td>16500.0</td>\n",
              "    </tr>\n",
              "    <tr>\n",
              "      <th>2</th>\n",
              "      <td>3</td>\n",
              "      <td>alfa-romero Quadrifoglio</td>\n",
              "      <td>gas</td>\n",
              "      <td>154</td>\n",
              "      <td>152</td>\n",
              "      <td>two</td>\n",
              "      <td>19</td>\n",
              "      <td>26</td>\n",
              "      <td>hatchback</td>\n",
              "      <td>16500.0</td>\n",
              "    </tr>\n",
              "    <tr>\n",
              "      <th>3</th>\n",
              "      <td>4</td>\n",
              "      <td>audi 100 ls</td>\n",
              "      <td>gas</td>\n",
              "      <td>102</td>\n",
              "      <td>109</td>\n",
              "      <td>four</td>\n",
              "      <td>24</td>\n",
              "      <td>30</td>\n",
              "      <td>sedan</td>\n",
              "      <td>13950.0</td>\n",
              "    </tr>\n",
              "    <tr>\n",
              "      <th>4</th>\n",
              "      <td>5</td>\n",
              "      <td>audi 100ls</td>\n",
              "      <td>gas</td>\n",
              "      <td>115</td>\n",
              "      <td>136</td>\n",
              "      <td>four</td>\n",
              "      <td>18</td>\n",
              "      <td>22</td>\n",
              "      <td>sedan</td>\n",
              "      <td>17450.0</td>\n",
              "    </tr>\n",
              "  </tbody>\n",
              "</table>\n",
              "</div>\n",
              "    <div class=\"colab-df-buttons\">\n",
              "\n",
              "  <div class=\"colab-df-container\">\n",
              "    <button class=\"colab-df-convert\" onclick=\"convertToInteractive('df-ed309f9f-e496-4551-9fd9-983c8b100ba3')\"\n",
              "            title=\"Convert this dataframe to an interactive table.\"\n",
              "            style=\"display:none;\">\n",
              "\n",
              "  <svg xmlns=\"http://www.w3.org/2000/svg\" height=\"24px\" viewBox=\"0 -960 960 960\">\n",
              "    <path d=\"M120-120v-720h720v720H120Zm60-500h600v-160H180v160Zm220 220h160v-160H400v160Zm0 220h160v-160H400v160ZM180-400h160v-160H180v160Zm440 0h160v-160H620v160ZM180-180h160v-160H180v160Zm440 0h160v-160H620v160Z\"/>\n",
              "  </svg>\n",
              "    </button>\n",
              "\n",
              "  <style>\n",
              "    .colab-df-container {\n",
              "      display:flex;\n",
              "      gap: 12px;\n",
              "    }\n",
              "\n",
              "    .colab-df-convert {\n",
              "      background-color: #E8F0FE;\n",
              "      border: none;\n",
              "      border-radius: 50%;\n",
              "      cursor: pointer;\n",
              "      display: none;\n",
              "      fill: #1967D2;\n",
              "      height: 32px;\n",
              "      padding: 0 0 0 0;\n",
              "      width: 32px;\n",
              "    }\n",
              "\n",
              "    .colab-df-convert:hover {\n",
              "      background-color: #E2EBFA;\n",
              "      box-shadow: 0px 1px 2px rgba(60, 64, 67, 0.3), 0px 1px 3px 1px rgba(60, 64, 67, 0.15);\n",
              "      fill: #174EA6;\n",
              "    }\n",
              "\n",
              "    .colab-df-buttons div {\n",
              "      margin-bottom: 4px;\n",
              "    }\n",
              "\n",
              "    [theme=dark] .colab-df-convert {\n",
              "      background-color: #3B4455;\n",
              "      fill: #D2E3FC;\n",
              "    }\n",
              "\n",
              "    [theme=dark] .colab-df-convert:hover {\n",
              "      background-color: #434B5C;\n",
              "      box-shadow: 0px 1px 3px 1px rgba(0, 0, 0, 0.15);\n",
              "      filter: drop-shadow(0px 1px 2px rgba(0, 0, 0, 0.3));\n",
              "      fill: #FFFFFF;\n",
              "    }\n",
              "  </style>\n",
              "\n",
              "    <script>\n",
              "      const buttonEl =\n",
              "        document.querySelector('#df-ed309f9f-e496-4551-9fd9-983c8b100ba3 button.colab-df-convert');\n",
              "      buttonEl.style.display =\n",
              "        google.colab.kernel.accessAllowed ? 'block' : 'none';\n",
              "\n",
              "      async function convertToInteractive(key) {\n",
              "        const element = document.querySelector('#df-ed309f9f-e496-4551-9fd9-983c8b100ba3');\n",
              "        const dataTable =\n",
              "          await google.colab.kernel.invokeFunction('convertToInteractive',\n",
              "                                                    [key], {});\n",
              "        if (!dataTable) return;\n",
              "\n",
              "        const docLinkHtml = 'Like what you see? Visit the ' +\n",
              "          '<a target=\"_blank\" href=https://colab.research.google.com/notebooks/data_table.ipynb>data table notebook</a>'\n",
              "          + ' to learn more about interactive tables.';\n",
              "        element.innerHTML = '';\n",
              "        dataTable['output_type'] = 'display_data';\n",
              "        await google.colab.output.renderOutput(dataTable, element);\n",
              "        const docLink = document.createElement('div');\n",
              "        docLink.innerHTML = docLinkHtml;\n",
              "        element.appendChild(docLink);\n",
              "      }\n",
              "    </script>\n",
              "  </div>\n",
              "\n",
              "\n",
              "<div id=\"df-62603faf-0042-4ff8-afc1-325beda22f7a\">\n",
              "  <button class=\"colab-df-quickchart\" onclick=\"quickchart('df-62603faf-0042-4ff8-afc1-325beda22f7a')\"\n",
              "            title=\"Suggest charts.\"\n",
              "            style=\"display:none;\">\n",
              "\n",
              "<svg xmlns=\"http://www.w3.org/2000/svg\" height=\"24px\"viewBox=\"0 0 24 24\"\n",
              "     width=\"24px\">\n",
              "    <g>\n",
              "        <path d=\"M19 3H5c-1.1 0-2 .9-2 2v14c0 1.1.9 2 2 2h14c1.1 0 2-.9 2-2V5c0-1.1-.9-2-2-2zM9 17H7v-7h2v7zm4 0h-2V7h2v10zm4 0h-2v-4h2v4z\"/>\n",
              "    </g>\n",
              "</svg>\n",
              "  </button>\n",
              "\n",
              "<style>\n",
              "  .colab-df-quickchart {\n",
              "    background-color: #E8F0FE;\n",
              "    border: none;\n",
              "    border-radius: 50%;\n",
              "    cursor: pointer;\n",
              "    display: none;\n",
              "    fill: #1967D2;\n",
              "    height: 32px;\n",
              "    padding: 0 0 0 0;\n",
              "    width: 32px;\n",
              "  }\n",
              "\n",
              "  .colab-df-quickchart:hover {\n",
              "    background-color: #E2EBFA;\n",
              "    box-shadow: 0px 1px 2px rgba(60, 64, 67, 0.3), 0px 1px 3px 1px rgba(60, 64, 67, 0.15);\n",
              "    fill: #174EA6;\n",
              "  }\n",
              "\n",
              "  [theme=dark] .colab-df-quickchart {\n",
              "    background-color: #3B4455;\n",
              "    fill: #D2E3FC;\n",
              "  }\n",
              "\n",
              "  [theme=dark] .colab-df-quickchart:hover {\n",
              "    background-color: #434B5C;\n",
              "    box-shadow: 0px 1px 3px 1px rgba(0, 0, 0, 0.15);\n",
              "    filter: drop-shadow(0px 1px 2px rgba(0, 0, 0, 0.3));\n",
              "    fill: #FFFFFF;\n",
              "  }\n",
              "</style>\n",
              "\n",
              "  <script>\n",
              "    async function quickchart(key) {\n",
              "      const charts = await google.colab.kernel.invokeFunction(\n",
              "          'suggestCharts', [key], {});\n",
              "    }\n",
              "    (() => {\n",
              "      let quickchartButtonEl =\n",
              "        document.querySelector('#df-62603faf-0042-4ff8-afc1-325beda22f7a button');\n",
              "      quickchartButtonEl.style.display =\n",
              "        google.colab.kernel.accessAllowed ? 'block' : 'none';\n",
              "    })();\n",
              "  </script>\n",
              "</div>\n",
              "    </div>\n",
              "  </div>\n"
            ]
          },
          "metadata": {},
          "execution_count": 4
        }
      ]
    },
    {
      "cell_type": "markdown",
      "source": [
        "### **Questão 1.**\n",
        "Na base de dados,\n",
        "- Quantos tipos de combustível `fueltype` diferentes há?\n",
        "- Quantos veículos há em cada tipo?\n",
        "- Determinar o preço médio dos veículos segundo o tipo de combustível que usa?"
      ],
      "metadata": {
        "id": "18fRrWcV1yKm"
      }
    },
    {
      "cell_type": "code",
      "source": [
        "# Seu código\n"
      ],
      "metadata": {
        "id": "vVFWPhc-2URI"
      },
      "execution_count": null,
      "outputs": []
    },
    {
      "cell_type": "markdown",
      "source": [
        "### **Questão 2.**\n",
        "\n",
        "- Determinar o preço mínimo, máximo, médio, mediano, Q1 e Q3 dos veículos considerados na base de dados\n",
        "- Quais são as características do veículo mais caro? E o mais barato?\n",
        "\n",
        "Dica: Q1: Ele representa o ponto abaixo do qual 25% dos dados estão localizados.\n"
      ],
      "metadata": {
        "id": "ZGlRoFmy3A3O"
      }
    },
    {
      "cell_type": "code",
      "source": [
        "# Se código\n"
      ],
      "metadata": {
        "id": "Vgcj1hbR3AYu"
      },
      "execution_count": null,
      "outputs": []
    },
    {
      "cell_type": "markdown",
      "source": [
        "### **Questão 3**\n",
        "Estude as distribuições das variáveis `horsepower` e `enginesize` por meio de um boxplot. Há outliers?"
      ],
      "metadata": {
        "id": "DAd4X4w93hEn"
      }
    },
    {
      "cell_type": "code",
      "source": [
        "# Seu código\n"
      ],
      "metadata": {
        "id": "TDUbzr5c3_pY"
      },
      "execution_count": null,
      "outputs": []
    },
    {
      "cell_type": "markdown",
      "source": [
        "### **Questão 4**\n",
        "Determinar o coeficiente de correlação da variável `price` com as demais variáveis numéricas. Com qual variável está linealmente relacionada de forma negativa?"
      ],
      "metadata": {
        "id": "UvTiKxgS4mc9"
      }
    },
    {
      "cell_type": "code",
      "source": [
        "# Seu código\n"
      ],
      "metadata": {
        "id": "zZeDRVOv4nXW"
      },
      "execution_count": null,
      "outputs": []
    },
    {
      "cell_type": "markdown",
      "source": [
        "### **Questão 5**\n",
        "Usando um gráfico de *Scatterplot* avalie a relação linear entre o preço `price` e as variáveis númericas. Qual ou quais variáveis não se relacionam de forma linear com o preço?"
      ],
      "metadata": {
        "id": "QpInKfRi7TPI"
      }
    },
    {
      "cell_type": "code",
      "source": [],
      "metadata": {
        "id": "_8I8JXu27vjm"
      },
      "execution_count": null,
      "outputs": []
    },
    {
      "cell_type": "markdown",
      "source": [
        "### **Questão 6**\n",
        "\n",
        "Faça um scaterplot em que relacione as variáveis `price` e `horsepower`. Nesse gráfico, use cores para representar os veículos segundo o tipo de combustivel `fueltype` que usa.\n",
        "\n",
        "Dica: Use a biblioteca *Seaborn* para gerar o gráfico."
      ],
      "metadata": {
        "id": "oY0FLeWR9P_i"
      }
    },
    {
      "cell_type": "code",
      "source": [],
      "metadata": {
        "id": "bdoEiXd_-17Y"
      },
      "execution_count": null,
      "outputs": []
    },
    {
      "cell_type": "markdown",
      "source": [
        "### **Questão 7**\n",
        "\n",
        "Ajustar um modelo de regressão simples para prever o preço `price` de um veículo usando como variável explicativa cavalo-vapor `horsepower` (potência utilizada para descrever a potência de motores e máquinas).\n",
        "\n",
        "- A variável `horsepower` é significativa ao nível de 0.05?\n",
        "- Qual o valor de R-squared?\n",
        "- Plote os preços em funçao da potência e gráfico no mesmo gráfico a reta ajustada.\n",
        "- Usando essa reta, qual é o preço esperado para veículos com potência 134? Construa um Intervalo de confiança de 95% para esta previsão."
      ],
      "metadata": {
        "id": "TYZD31oI5bE7"
      }
    },
    {
      "cell_type": "code",
      "source": [
        "# Seu código\n"
      ],
      "metadata": {
        "id": "4sSIj1-85aeG"
      },
      "execution_count": null,
      "outputs": []
    },
    {
      "cell_type": "markdown",
      "source": [
        "### **Questão 8**\n",
        "\n",
        "- Calcule os resíduos do modelo ajustado acima usando `model.resid_pearson`. Qual a média?\n",
        "- Faça um gráfico dos resíduos. Aparentemente, os dados seguem uma distribuição Normal?"
      ],
      "metadata": {
        "id": "kmwn1bbmA1di"
      }
    },
    {
      "cell_type": "code",
      "source": [
        "# Seu código\n"
      ],
      "metadata": {
        "id": "_gQ7xgQOBZaw"
      },
      "execution_count": null,
      "outputs": []
    },
    {
      "cell_type": "markdown",
      "source": [
        "### **Questão 9**\n",
        "\n",
        "Crie uma nova variável `fueleconomy` definida como:\n",
        "\n",
        "$$0.55 \\times citympg + 0.45 \\times highwaympg $$\n",
        "\n",
        "Ajustar um modelo de regressão simples para prever o preço price de um veículo usando como variável explicativa `fueleconomy`. Qual modelo de regressão apresenta maior R-square aquele que usa a variável `horsepower` ou `fueleconomy`?"
      ],
      "metadata": {
        "id": "HyaOvIQtCkjQ"
      }
    },
    {
      "cell_type": "code",
      "source": [
        "# Seu código\n"
      ],
      "metadata": {
        "id": "G3xICD4ALz-2"
      },
      "execution_count": null,
      "outputs": []
    },
    {
      "cell_type": "markdown",
      "source": [
        "### **Questão 10**\n",
        "\n",
        "Ajustar um modelo de regressão multipla para prever o preço `price` de um veículo usando como variáveis explicativas:  `horsepower`, `enginesize` ,`doornumber` e `fueleconomy`.\n",
        "\n",
        "- Qual variável (ou variáveis) não são significativas ao nível de 0.05?\n",
        "- Qual o valor de R-squared?\n",
        "- Usando essa reta, qual é o preço esperado para veículos de duas portas, com horsepower de 134, enginesize de 120 e fueleconomy de 20.21 ?"
      ],
      "metadata": {
        "id": "s89C9UV37yeZ"
      }
    },
    {
      "cell_type": "code",
      "source": [
        "# Seu código\n"
      ],
      "metadata": {
        "id": "H-JKMTIP7yMD"
      },
      "execution_count": null,
      "outputs": []
    },
    {
      "cell_type": "markdown",
      "source": [
        "### **Questão 11**\n",
        "\n",
        "- Calcule os resíduos do modelo ajustado acima. Qual a média?\n",
        "- Faça um histograma dos resíduos. Aparentemente, os dados seguem uma distribuição Normal?"
      ],
      "metadata": {
        "id": "pI0bfIXyFEbM"
      }
    },
    {
      "cell_type": "code",
      "source": [
        "# Seu código\n"
      ],
      "metadata": {
        "id": "ByI8xYC27OKI"
      },
      "execution_count": null,
      "outputs": []
    },
    {
      "cell_type": "markdown",
      "source": [
        "### **Questão 12**\n",
        "\n",
        "Você deve ter reparado que no summary(model) uma mensagem de alerta de *multicollinearity* isto acontece quando  quando duas ou mais variáveis independentes (ou variáveis explicativas) estão altamente relacionadas linearmente, o que pode dificultar a separação de seus efeitos individuais sobre a variável dependente.\n",
        "\n",
        "- Determine a correlação linear entre as variáveis `horsepower`, `enginesize` e `fueleconomy`. Comente!"
      ],
      "metadata": {
        "id": "KWodUZA6Kx5a"
      }
    },
    {
      "cell_type": "code",
      "source": [
        "# Seu código\n"
      ],
      "metadata": {
        "id": "J4liXzntLlHe"
      },
      "execution_count": null,
      "outputs": []
    },
    {
      "cell_type": "markdown",
      "source": [
        "### **Questão 13**.\n",
        "\n",
        "Ajuste um modelo de regressão multipla para prever o preço price de um veículo usando como variáveis explicativas:\n",
        "`carbody` e `citympg`.\n",
        "\n",
        "Use como categoria de referência `sedan` para a variável `carbody`. Para isso escrever assim:\n",
        "\n",
        "```\n",
        "formula='price ~C(carbody, Treatment(\"sedan\"))+citympg'\n",
        "```\n",
        "\n",
        "\n",
        "- Qual variável (ou variáveis) não são significativas ao nível de 0.05?\n",
        "- Qual o valor de R-squared?\n",
        "- Usando essa reta, qual é o preço esperado para veículos sedan com citympg de  23.12? Construa um Intervalo de confiança de 95% para esta previsão."
      ],
      "metadata": {
        "id": "KImJzrq7MRg1"
      }
    },
    {
      "cell_type": "code",
      "source": [
        "# Seu código\n",
        "\n"
      ],
      "metadata": {
        "id": "VedttJLuMQx5"
      },
      "execution_count": null,
      "outputs": []
    }
  ]
}
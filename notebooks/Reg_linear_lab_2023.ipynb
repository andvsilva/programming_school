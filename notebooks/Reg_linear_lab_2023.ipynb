{
  "cells": [
    {
      "cell_type": "markdown",
      "metadata": {
        "id": "fLPhhe2P8XRy"
      },
      "source": [
        "<head>\n",
        "  <meta name=\"author\" content=\"Rogério de Oliveira\">\n",
        "  <meta institution=\"author\" content=\"Universidade Presbiteriana Mackenzie\">\n",
        "</head>\n",
        "\n",
        "<img src=\"http://meusite.mackenzie.br/rogerio/mackenzie_logo/UPM.2_horizontal_vermelho.jpg\" width=300, align=\"left\"></a>\n",
        "<!-- <h1 align=left><font size = 6, style=\"color:rgb(200,0,0)\"> optional title </font></h1> -->"
      ]
    },
    {
      "cell_type": "markdown",
      "metadata": {
        "id": "XGdiNdrW8Y2J"
      },
      "source": [
        "# **Regressão Linear**\n",
        "\n",
        "Exercícios usando a base de dados **CarPrice_Assignment**"
      ]
    },
    {
      "cell_type": "markdown",
      "metadata": {
        "id": "zPxUMzC98lQZ"
      },
      "source": [
        "A base de dados \"CarPrice_Assignment\" é um conjunto de dados que contém informações sobre várias características de carros, como preço, tamanho do motor, consumo de combustível, potência, entre outros. Cada linha da base de dados corresponde a um carro, e as colunas representam diferentes atributos ou características desse carro. Isso permite a exploração de como diferentes características estão relacionadas ao preço do carro e como um modelo de regressão pode ser construído para prever o preço com base nessas características."
      ]
    },
    {
      "cell_type": "code",
      "execution_count": 40,
      "metadata": {
        "id": "Svml1RW4vNuy"
      },
      "outputs": [],
      "source": [
        "import pandas as pd\n",
        "import seaborn as sns\n",
        "import matplotlib.pyplot as plt\n",
        "import statsmodels.formula.api as sm\n",
        "\n",
        "import warnings\n",
        "warnings.simplefilter('ignore')"
      ]
    },
    {
      "cell_type": "code",
      "execution_count": 41,
      "metadata": {
        "colab": {
          "base_uri": "https://localhost:8080/",
          "height": 206
        },
        "id": "uDs-sG9vUPwx",
        "outputId": "667631ac-e567-44f2-ece6-1c0d2189bee9"
      },
      "outputs": [
        {
          "data": {
            "text/html": [
              "<div>\n",
              "<style scoped>\n",
              "    .dataframe tbody tr th:only-of-type {\n",
              "        vertical-align: middle;\n",
              "    }\n",
              "\n",
              "    .dataframe tbody tr th {\n",
              "        vertical-align: top;\n",
              "    }\n",
              "\n",
              "    .dataframe thead th {\n",
              "        text-align: right;\n",
              "    }\n",
              "</style>\n",
              "<table border=\"1\" class=\"dataframe\">\n",
              "  <thead>\n",
              "    <tr style=\"text-align: right;\">\n",
              "      <th></th>\n",
              "      <th>car_ID</th>\n",
              "      <th>CarName</th>\n",
              "      <th>fueltype</th>\n",
              "      <th>horsepower</th>\n",
              "      <th>enginesize</th>\n",
              "      <th>doornumber</th>\n",
              "      <th>citympg</th>\n",
              "      <th>highwaympg</th>\n",
              "      <th>carbody</th>\n",
              "      <th>price</th>\n",
              "    </tr>\n",
              "  </thead>\n",
              "  <tbody>\n",
              "    <tr>\n",
              "      <th>0</th>\n",
              "      <td>1</td>\n",
              "      <td>alfa-romero giulia</td>\n",
              "      <td>gas</td>\n",
              "      <td>111</td>\n",
              "      <td>130</td>\n",
              "      <td>two</td>\n",
              "      <td>21</td>\n",
              "      <td>27</td>\n",
              "      <td>convertible</td>\n",
              "      <td>13495.0</td>\n",
              "    </tr>\n",
              "    <tr>\n",
              "      <th>1</th>\n",
              "      <td>2</td>\n",
              "      <td>alfa-romero stelvio</td>\n",
              "      <td>gas</td>\n",
              "      <td>111</td>\n",
              "      <td>130</td>\n",
              "      <td>two</td>\n",
              "      <td>21</td>\n",
              "      <td>27</td>\n",
              "      <td>convertible</td>\n",
              "      <td>16500.0</td>\n",
              "    </tr>\n",
              "    <tr>\n",
              "      <th>2</th>\n",
              "      <td>3</td>\n",
              "      <td>alfa-romero Quadrifoglio</td>\n",
              "      <td>gas</td>\n",
              "      <td>154</td>\n",
              "      <td>152</td>\n",
              "      <td>two</td>\n",
              "      <td>19</td>\n",
              "      <td>26</td>\n",
              "      <td>hatchback</td>\n",
              "      <td>16500.0</td>\n",
              "    </tr>\n",
              "    <tr>\n",
              "      <th>3</th>\n",
              "      <td>4</td>\n",
              "      <td>audi 100 ls</td>\n",
              "      <td>gas</td>\n",
              "      <td>102</td>\n",
              "      <td>109</td>\n",
              "      <td>four</td>\n",
              "      <td>24</td>\n",
              "      <td>30</td>\n",
              "      <td>sedan</td>\n",
              "      <td>13950.0</td>\n",
              "    </tr>\n",
              "    <tr>\n",
              "      <th>4</th>\n",
              "      <td>5</td>\n",
              "      <td>audi 100ls</td>\n",
              "      <td>gas</td>\n",
              "      <td>115</td>\n",
              "      <td>136</td>\n",
              "      <td>four</td>\n",
              "      <td>18</td>\n",
              "      <td>22</td>\n",
              "      <td>sedan</td>\n",
              "      <td>17450.0</td>\n",
              "    </tr>\n",
              "  </tbody>\n",
              "</table>\n",
              "</div>"
            ],
            "text/plain": [
              "   car_ID                   CarName fueltype  horsepower  enginesize  \\\n",
              "0       1        alfa-romero giulia      gas         111         130   \n",
              "1       2       alfa-romero stelvio      gas         111         130   \n",
              "2       3  alfa-romero Quadrifoglio      gas         154         152   \n",
              "3       4               audi 100 ls      gas         102         109   \n",
              "4       5                audi 100ls      gas         115         136   \n",
              "\n",
              "  doornumber  citympg  highwaympg      carbody    price  \n",
              "0        two       21          27  convertible  13495.0  \n",
              "1        two       21          27  convertible  16500.0  \n",
              "2        two       19          26    hatchback  16500.0  \n",
              "3       four       24          30        sedan  13950.0  \n",
              "4       four       18          22        sedan  17450.0  "
            ]
          },
          "execution_count": 41,
          "metadata": {},
          "output_type": "execute_result"
        }
      ],
      "source": [
        "df=pd.read_csv(\"https://raw.githubusercontent.com/gustavogrds/TIC/master/data/CarPrice.csv\")\n",
        "df.head()"
      ]
    },
    {
      "cell_type": "code",
      "execution_count": 42,
      "metadata": {},
      "outputs": [
        {
          "name": "stdout",
          "output_type": "stream",
          "text": [
            "shape dataframe: rows = 205 and columns = 10\n"
          ]
        }
      ],
      "source": [
        "print(f\"shape dataframe: rows = {df.shape[0]} and columns = {df.shape[1]}\")"
      ]
    },
    {
      "cell_type": "markdown",
      "metadata": {
        "id": "18fRrWcV1yKm"
      },
      "source": [
        "### **Questão 1.**\n",
        "Na base de dados,\n",
        "- Quantos tipos de combustível `fueltype` diferentes há?\n",
        "- Quantos veículos há em cada tipo?\n",
        "- Determinar o preço médio dos veículos segundo o tipo de combustível que usa?"
      ]
    },
    {
      "cell_type": "code",
      "execution_count": 43,
      "metadata": {
        "id": "vVFWPhc-2URI"
      },
      "outputs": [
        {
          "name": "stdout",
          "output_type": "stream",
          "text": [
            "Answer: we have 2 of fueltype\n"
          ]
        }
      ],
      "source": [
        "# Seu código\n",
        "\n",
        "# What are the fueltype we have?\n",
        "nfueltype = df['fueltype'].value_counts().count()\n",
        "print(f'Answer: we have {nfueltype} of fueltype')"
      ]
    },
    {
      "cell_type": "code",
      "execution_count": 44,
      "metadata": {},
      "outputs": [
        {
          "data": {
            "text/plain": [
              "gas       185\n",
              "diesel     20\n",
              "Name: fueltype, dtype: int64"
            ]
          },
          "execution_count": 44,
          "metadata": {},
          "output_type": "execute_result"
        }
      ],
      "source": [
        "#df['fueltype'].value_counts(normalize=True).map('{:.2%}'.format)\n",
        "\n",
        "# Counting for each fueltype\n",
        "df['fueltype'].value_counts()"
      ]
    },
    {
      "cell_type": "code",
      "execution_count": 45,
      "metadata": {},
      "outputs": [
        {
          "name": "stdout",
          "output_type": "stream",
          "text": [
            "Average price for the vehicle diesel = 15838.15\n"
          ]
        }
      ],
      "source": [
        "data_vehicle_diesel = df[df.fueltype == 'diesel']\n",
        "average_price_diesel = data_vehicle_diesel['price'].mean()\n",
        "\n",
        "print(f'Average price for the vehicle diesel = {average_price_diesel}')"
      ]
    },
    {
      "cell_type": "code",
      "execution_count": 57,
      "metadata": {},
      "outputs": [
        {
          "name": "stdout",
          "output_type": "stream",
          "text": [
            "Average price for the vehicle gas = 12999.8\n"
          ]
        }
      ],
      "source": [
        "data_vehicle_gas = df[df.fueltype == 'gas']\n",
        "average_price_gas = round(data_vehicle_gas['price'].mean(), 2)\n",
        "\n",
        "print(f'Average price for the vehicle gas = {average_price_gas}')"
      ]
    },
    {
      "cell_type": "markdown",
      "metadata": {
        "id": "ZGlRoFmy3A3O"
      },
      "source": [
        "### **Questão 2.**\n",
        "\n",
        "- Determinar o preço mínimo, máximo, médio, mediano, Q1 e Q3 dos veículos considerados na base de dados\n",
        "- Quais são as características do veículo mais caro? E o mais barato?\n",
        "\n",
        "Dica: Q1: Ele representa o ponto abaixo do qual 25% dos dados estão localizados.\n"
      ]
    },
    {
      "cell_type": "code",
      "execution_count": 47,
      "metadata": {
        "id": "Vgcj1hbR3AYu"
      },
      "outputs": [],
      "source": [
        "# Se código\n"
      ]
    },
    {
      "cell_type": "markdown",
      "metadata": {
        "id": "DAd4X4w93hEn"
      },
      "source": [
        "### **Questão 3**\n",
        "Estude as distribuições das variáveis `horsepower` e `enginesize` por meio de um boxplot. Há outliers?"
      ]
    },
    {
      "cell_type": "code",
      "execution_count": 48,
      "metadata": {
        "id": "TDUbzr5c3_pY"
      },
      "outputs": [],
      "source": [
        "# Seu código\n"
      ]
    },
    {
      "cell_type": "markdown",
      "metadata": {
        "id": "UvTiKxgS4mc9"
      },
      "source": [
        "### **Questão 4**\n",
        "Determinar o coeficiente de correlação da variável `price` com as demais variáveis numéricas. Com qual variável está linealmente relacionada de forma negativa?"
      ]
    },
    {
      "cell_type": "code",
      "execution_count": 49,
      "metadata": {
        "id": "zZeDRVOv4nXW"
      },
      "outputs": [],
      "source": [
        "# Seu código\n"
      ]
    },
    {
      "cell_type": "markdown",
      "metadata": {
        "id": "QpInKfRi7TPI"
      },
      "source": [
        "### **Questão 5**\n",
        "Usando um gráfico de *Scatterplot* avalie a relação linear entre o preço `price` e as variáveis númericas. Qual ou quais variáveis não se relacionam de forma linear com o preço?"
      ]
    },
    {
      "cell_type": "code",
      "execution_count": null,
      "metadata": {
        "id": "_8I8JXu27vjm"
      },
      "outputs": [],
      "source": []
    },
    {
      "cell_type": "markdown",
      "metadata": {
        "id": "oY0FLeWR9P_i"
      },
      "source": [
        "### **Questão 6**\n",
        "\n",
        "Faça um scaterplot em que relacione as variáveis `price` e `horsepower`. Nesse gráfico, use cores para representar os veículos segundo o tipo de combustivel `fueltype` que usa.\n",
        "\n",
        "Dica: Use a biblioteca *Seaborn* para gerar o gráfico."
      ]
    },
    {
      "cell_type": "code",
      "execution_count": null,
      "metadata": {
        "id": "bdoEiXd_-17Y"
      },
      "outputs": [],
      "source": []
    },
    {
      "cell_type": "markdown",
      "metadata": {
        "id": "TYZD31oI5bE7"
      },
      "source": [
        "### **Questão 7**\n",
        "\n",
        "Ajustar um modelo de regressão simples para prever o preço `price` de um veículo usando como variável explicativa cavalo-vapor `horsepower` (potência utilizada para descrever a potência de motores e máquinas).\n",
        "\n",
        "- A variável `horsepower` é significativa ao nível de 0.05?\n",
        "- Qual o valor de R-squared?\n",
        "- Plote os preços em funçao da potência e gráfico no mesmo gráfico a reta ajustada.\n",
        "- Usando essa reta, qual é o preço esperado para veículos com potência 134? Construa um Intervalo de confiança de 95% para esta previsão."
      ]
    },
    {
      "cell_type": "code",
      "execution_count": 50,
      "metadata": {
        "id": "4sSIj1-85aeG"
      },
      "outputs": [],
      "source": [
        "# Seu código\n"
      ]
    },
    {
      "cell_type": "markdown",
      "metadata": {
        "id": "kmwn1bbmA1di"
      },
      "source": [
        "### **Questão 8**\n",
        "\n",
        "- Calcule os resíduos do modelo ajustado acima usando `model.resid_pearson`. Qual a média?\n",
        "- Faça um gráfico dos resíduos. Aparentemente, os dados seguem uma distribuição Normal?"
      ]
    },
    {
      "cell_type": "code",
      "execution_count": 51,
      "metadata": {
        "id": "_gQ7xgQOBZaw"
      },
      "outputs": [],
      "source": [
        "# Seu código\n"
      ]
    },
    {
      "cell_type": "markdown",
      "metadata": {
        "id": "HyaOvIQtCkjQ"
      },
      "source": [
        "### **Questão 9**\n",
        "\n",
        "Crie uma nova variável `fueleconomy` definida como:\n",
        "\n",
        "$$0.55 \\times citympg + 0.45 \\times highwaympg $$\n",
        "\n",
        "Ajustar um modelo de regressão simples para prever o preço price de um veículo usando como variável explicativa `fueleconomy`. Qual modelo de regressão apresenta maior R-square aquele que usa a variável `horsepower` ou `fueleconomy`?"
      ]
    },
    {
      "cell_type": "code",
      "execution_count": 52,
      "metadata": {
        "id": "G3xICD4ALz-2"
      },
      "outputs": [],
      "source": [
        "# Seu código\n"
      ]
    },
    {
      "cell_type": "markdown",
      "metadata": {
        "id": "s89C9UV37yeZ"
      },
      "source": [
        "### **Questão 10**\n",
        "\n",
        "Ajustar um modelo de regressão multipla para prever o preço `price` de um veículo usando como variáveis explicativas:  `horsepower`, `enginesize` ,`doornumber` e `fueleconomy`.\n",
        "\n",
        "- Qual variável (ou variáveis) não são significativas ao nível de 0.05?\n",
        "- Qual o valor de R-squared?\n",
        "- Usando essa reta, qual é o preço esperado para veículos de duas portas, com horsepower de 134, enginesize de 120 e fueleconomy de 20.21 ?"
      ]
    },
    {
      "cell_type": "code",
      "execution_count": 53,
      "metadata": {
        "id": "H-JKMTIP7yMD"
      },
      "outputs": [],
      "source": [
        "# Seu código\n"
      ]
    },
    {
      "cell_type": "markdown",
      "metadata": {
        "id": "pI0bfIXyFEbM"
      },
      "source": [
        "### **Questão 11**\n",
        "\n",
        "- Calcule os resíduos do modelo ajustado acima. Qual a média?\n",
        "- Faça um histograma dos resíduos. Aparentemente, os dados seguem uma distribuição Normal?"
      ]
    },
    {
      "cell_type": "code",
      "execution_count": 54,
      "metadata": {
        "id": "ByI8xYC27OKI"
      },
      "outputs": [],
      "source": [
        "# Seu código\n"
      ]
    },
    {
      "cell_type": "markdown",
      "metadata": {
        "id": "KWodUZA6Kx5a"
      },
      "source": [
        "### **Questão 12**\n",
        "\n",
        "Você deve ter reparado que no summary(model) uma mensagem de alerta de *multicollinearity* isto acontece quando  quando duas ou mais variáveis independentes (ou variáveis explicativas) estão altamente relacionadas linearmente, o que pode dificultar a separação de seus efeitos individuais sobre a variável dependente.\n",
        "\n",
        "- Determine a correlação linear entre as variáveis `horsepower`, `enginesize` e `fueleconomy`. Comente!"
      ]
    },
    {
      "cell_type": "code",
      "execution_count": 55,
      "metadata": {
        "id": "J4liXzntLlHe"
      },
      "outputs": [],
      "source": [
        "# Seu código\n"
      ]
    },
    {
      "cell_type": "markdown",
      "metadata": {
        "id": "KImJzrq7MRg1"
      },
      "source": [
        "### **Questão 13**.\n",
        "\n",
        "Ajuste um modelo de regressão multipla para prever o preço price de um veículo usando como variáveis explicativas:\n",
        "`carbody` e `citympg`.\n",
        "\n",
        "Use como categoria de referência `sedan` para a variável `carbody`. Para isso escrever assim:\n",
        "\n",
        "```\n",
        "formula='price ~C(carbody, Treatment(\"sedan\"))+citympg'\n",
        "```\n",
        "\n",
        "\n",
        "- Qual variável (ou variáveis) não são significativas ao nível de 0.05?\n",
        "- Qual o valor de R-squared?\n",
        "- Usando essa reta, qual é o preço esperado para veículos sedan com citympg de  23.12? Construa um Intervalo de confiança de 95% para esta previsão."
      ]
    },
    {
      "cell_type": "code",
      "execution_count": 56,
      "metadata": {
        "id": "VedttJLuMQx5"
      },
      "outputs": [],
      "source": [
        "# Seu código\n",
        "\n"
      ]
    }
  ],
  "metadata": {
    "colab": {
      "collapsed_sections": [
        "ZGlRoFmy3A3O",
        "DAd4X4w93hEn",
        "UvTiKxgS4mc9",
        "QpInKfRi7TPI",
        "oY0FLeWR9P_i",
        "TYZD31oI5bE7",
        "kmwn1bbmA1di",
        "HyaOvIQtCkjQ",
        "s89C9UV37yeZ",
        "pI0bfIXyFEbM",
        "KWodUZA6Kx5a",
        "KImJzrq7MRg1"
      ],
      "provenance": []
    },
    "kernelspec": {
      "display_name": "Python 3",
      "name": "python3"
    },
    "language_info": {
      "codemirror_mode": {
        "name": "ipython",
        "version": 3
      },
      "file_extension": ".py",
      "mimetype": "text/x-python",
      "name": "python",
      "nbconvert_exporter": "python",
      "pygments_lexer": "ipython3",
      "version": "3.8.10"
    }
  },
  "nbformat": 4,
  "nbformat_minor": 0
}

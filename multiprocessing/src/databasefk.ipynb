{
 "cells": [
  {
   "cell_type": "code",
   "execution_count": 1,
   "metadata": {},
   "outputs": [],
   "source": [
    "import pandas as pd\n",
    "import glob"
   ]
  },
  {
   "cell_type": "code",
   "execution_count": 2,
   "metadata": {},
   "outputs": [
    {
     "data": {
      "text/html": [
       "<div>\n",
       "<style scoped>\n",
       "    .dataframe tbody tr th:only-of-type {\n",
       "        vertical-align: middle;\n",
       "    }\n",
       "\n",
       "    .dataframe tbody tr th {\n",
       "        vertical-align: top;\n",
       "    }\n",
       "\n",
       "    .dataframe thead th {\n",
       "        text-align: right;\n",
       "    }\n",
       "</style>\n",
       "<table border=\"1\" class=\"dataframe\">\n",
       "  <thead>\n",
       "    <tr style=\"text-align: right;\">\n",
       "      <th></th>\n",
       "      <th>id</th>\n",
       "      <th>client_name</th>\n",
       "      <th>date</th>\n",
       "      <th>date_register</th>\n",
       "      <th>value</th>\n",
       "    </tr>\n",
       "  </thead>\n",
       "  <tbody>\n",
       "    <tr>\n",
       "      <th>0</th>\n",
       "      <td>4935</td>\n",
       "      <td>Joseph Kennedy</td>\n",
       "      <td>2022-02-20</td>\n",
       "      <td>2019-05-06</td>\n",
       "      <td>38.235971</td>\n",
       "    </tr>\n",
       "    <tr>\n",
       "      <th>1</th>\n",
       "      <td>8790</td>\n",
       "      <td>Kaitlin Rivera</td>\n",
       "      <td>2022-03-01</td>\n",
       "      <td>2019-04-08</td>\n",
       "      <td>81.064145</td>\n",
       "    </tr>\n",
       "    <tr>\n",
       "      <th>2</th>\n",
       "      <td>8067</td>\n",
       "      <td>Robin Cooper</td>\n",
       "      <td>2022-01-21</td>\n",
       "      <td>2022-02-24</td>\n",
       "      <td>70.124324</td>\n",
       "    </tr>\n",
       "    <tr>\n",
       "      <th>3</th>\n",
       "      <td>6997</td>\n",
       "      <td>Christopher Summers</td>\n",
       "      <td>2022-01-15</td>\n",
       "      <td>2021-08-23</td>\n",
       "      <td>78.179993</td>\n",
       "    </tr>\n",
       "    <tr>\n",
       "      <th>4</th>\n",
       "      <td>7023</td>\n",
       "      <td>Colleen Hernandez</td>\n",
       "      <td>2022-03-06</td>\n",
       "      <td>2019-06-14</td>\n",
       "      <td>14.145921</td>\n",
       "    </tr>\n",
       "    <tr>\n",
       "      <th>...</th>\n",
       "      <td>...</td>\n",
       "      <td>...</td>\n",
       "      <td>...</td>\n",
       "      <td>...</td>\n",
       "      <td>...</td>\n",
       "    </tr>\n",
       "    <tr>\n",
       "      <th>10099995</th>\n",
       "      <td>9938</td>\n",
       "      <td>Juan Martinez</td>\n",
       "      <td>2022-03-20</td>\n",
       "      <td>2021-04-01</td>\n",
       "      <td>30.280489</td>\n",
       "    </tr>\n",
       "    <tr>\n",
       "      <th>10099996</th>\n",
       "      <td>1134</td>\n",
       "      <td>Suzanne Romero</td>\n",
       "      <td>2022-03-27</td>\n",
       "      <td>2022-01-14</td>\n",
       "      <td>90.839451</td>\n",
       "    </tr>\n",
       "    <tr>\n",
       "      <th>10099997</th>\n",
       "      <td>6288</td>\n",
       "      <td>Bradley Wagner</td>\n",
       "      <td>2022-03-22</td>\n",
       "      <td>2020-01-09</td>\n",
       "      <td>29.865724</td>\n",
       "    </tr>\n",
       "    <tr>\n",
       "      <th>10099998</th>\n",
       "      <td>7188</td>\n",
       "      <td>Carolyn Wolfe</td>\n",
       "      <td>2022-03-28</td>\n",
       "      <td>2021-02-10</td>\n",
       "      <td>65.973682</td>\n",
       "    </tr>\n",
       "    <tr>\n",
       "      <th>10099999</th>\n",
       "      <td>9905</td>\n",
       "      <td>Dr. Scott Ponce</td>\n",
       "      <td>2022-03-01</td>\n",
       "      <td>2019-04-12</td>\n",
       "      <td>72.693461</td>\n",
       "    </tr>\n",
       "  </tbody>\n",
       "</table>\n",
       "<p>10100000 rows × 5 columns</p>\n",
       "</div>"
      ],
      "text/plain": [
       "            id          client_name        date date_register      value\n",
       "0         4935       Joseph Kennedy  2022-02-20    2019-05-06  38.235971\n",
       "1         8790       Kaitlin Rivera  2022-03-01    2019-04-08  81.064145\n",
       "2         8067         Robin Cooper  2022-01-21    2022-02-24  70.124324\n",
       "3         6997  Christopher Summers  2022-01-15    2021-08-23  78.179993\n",
       "4         7023    Colleen Hernandez  2022-03-06    2019-06-14  14.145921\n",
       "...        ...                  ...         ...           ...        ...\n",
       "10099995  9938        Juan Martinez  2022-03-20    2021-04-01  30.280489\n",
       "10099996  1134       Suzanne Romero  2022-03-27    2022-01-14  90.839451\n",
       "10099997  6288       Bradley Wagner  2022-03-22    2020-01-09  29.865724\n",
       "10099998  7188        Carolyn Wolfe  2022-03-28    2021-02-10  65.973682\n",
       "10099999  9905      Dr. Scott Ponce  2022-03-01    2019-04-12  72.693461\n",
       "\n",
       "[10100000 rows x 5 columns]"
      ]
     },
     "execution_count": 2,
     "metadata": {},
     "output_type": "execute_result"
    }
   ],
   "source": [
    "df_mergeall = pd.read_csv('dataset/fakeDatabase_all.csv')\n",
    "df_mergeall"
   ]
  },
  {
   "cell_type": "code",
   "execution_count": 3,
   "metadata": {},
   "outputs": [
    {
     "data": {
      "text/plain": [
       "(10100000, 6)"
      ]
     },
     "execution_count": 3,
     "metadata": {},
     "output_type": "execute_result"
    }
   ],
   "source": [
    "df = pd.read_feather('dataset/fakeDatabase.ftr')\n",
    "df.shape"
   ]
  },
  {
   "cell_type": "code",
   "execution_count": null,
   "metadata": {},
   "outputs": [],
   "source": []
  }
 ],
 "metadata": {
  "interpreter": {
   "hash": "e9fdd6a906b0a436d5024ede8a58cdb85cf91b189ffbb474863b8f211ce55112"
  },
  "kernelspec": {
   "display_name": "Python 3.9.12 ('base')",
   "language": "python",
   "name": "python3"
  },
  "language_info": {
   "codemirror_mode": {
    "name": "ipython",
    "version": 3
   },
   "file_extension": ".py",
   "mimetype": "text/x-python",
   "name": "python",
   "nbconvert_exporter": "python",
   "pygments_lexer": "ipython3",
   "version": "3.7.6"
  },
  "orig_nbformat": 4
 },
 "nbformat": 4,
 "nbformat_minor": 2
}
